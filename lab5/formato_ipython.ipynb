{
 "cells": [
  {
   "cell_type": "markdown",
   "metadata": {},
   "source": [
    "# Laboratorio N°5 - Computación Científica II - ILI286"
   ]
  },
  {
   "cell_type": "markdown",
   "metadata": {},
   "source": [
    "**Autores**:\n",
    "+ Gonzalo Moya - 201173016-k \n",
    "+ Ariel Sanhueza     - 201173005-4"
   ]
  },
  {
   "cell_type": "markdown",
   "metadata": {},
   "source": [
    "## Introducción"
   ]
  },
  {
   "cell_type": "markdown",
   "metadata": {},
   "source": [
    "Lorem ipsum dolor sit amet, consectetur adipiscing elit. Morbi venenatis dui felis. Donec ante libero, vestibulum nec faucibus sit amet, congue vel erat. Aliquam aliquet dolor mauris. Quisque egestas tincidunt aliquet. Integer tempor tellus quis commodo porttitor. Donec accumsan tellus sed leo sodales, ac malesuada lacus dignissim. Aliquam erat volutpat. Nunc laoreet vitae felis nec varius. Maecenas sed sem non quam faucibus tristique. Nullam scelerisque ante arcu, id faucibus orci tincidunt nec. Aliquam eu leo vehicula leo maximus vulputate. Donec eget nibh dolor. Aliquam eget ullamcorper erat. Nulla sodales, metus finibus venenatis tristique, elit neque pretium mi, eu maximus nibh turpis vulputate lectus. Phasellus vitae pharetra nisi. "
   ]
  },
  {
   "cell_type": "markdown",
   "metadata": {},
   "source": [
    "## Desarrollo"
   ]
  },
  {
   "cell_type": "markdown",
   "metadata": {},
   "source": [
    "### Parte 2:  Diferencias finitas en 2D"
   ]
  },
  {
   "cell_type": "markdown",
   "metadata": {},
   "source": [
    "### a)  Discretizacion forward\n",
    "\n",
    "Para la discretizacion con un esquema forward, primero se presentan los elemenos que incluyen la derivación númerica para despues ser reemplazados en los sistemas correspondientes:\n",
    "\\begin{equation*}\n",
    "{\\Delta} u = \\frac{u_{i-1,j,n}-2u_{i,j,n}+u_{i+1,j,n}}{{\\Delta x}^2} + \\frac{u_{i,j-1,n}-2u_{i,j,n}+u_{i,j+1,n}}{{\\Delta y}^2}  \\\\\n",
    "{\\Delta} v = \\frac{v_{i-1,j,n}-2v_{i,j,n}+v_{i+1,j,n}}{{\\Delta x}^2} + \\frac{v_{i,j-1,n}-2v_{i,j,n}+v_{i,j+1,n}}{{\\Delta y}^2}  \\\\\n",
    "\\partial_t u = \\frac{u_{i,j,n+1} - u_{i,j,n}}{\\Delta t} \\\\\n",
    "\\partial_t v = \\frac{u_{i,j,n+1} - v_{i,j,n}}{\\Delta t}.\n",
    "\\end{equation*}\n",
    "Luego al ser utilizadas estas discretizaciones en el sistema que fue presentado y ademas discretizar el resto de los elemenos que dependan de $u$ y $v$, el restultado es:\n",
    "\\begin{align*}\n",
    "\\frac{u_{i,j,n+1} - u_{i,j,n}}{\\Delta t}  = \n",
    "D_{u} \\frac{u_{i-1,j,n}-2u_{i,j,n}+u_{i+1,j,n}}{{\\Delta x}^2} + D_u \\frac{u_{i,j-1,n}-2u_{i,j,n}+u_{i,j+1,n}}{{\\Delta y}^2} +\n",
    "\\lambda u_{i,j,n} - {u_{i,j,n}}^3 - \\sigma v_{i,j,n} \\\\\n",
    "\\tau \\frac{v_{i,j,n+1} - v_{i,j,n}}{\\Delta t}  = \n",
    "D_{v} \\frac{v_{i-1,j,n}-2v_{i,j,n}+v_{i+1,j,n}}{{\\Delta x}^2} + D_v \\frac{v_{i,j-1,n}-2v_{i,j,n}+v_{i,j+1,n}}{{\\Delta y}^2} + u_{i,j,n}  - v_{i,j,n}.\n",
    "\\end{align*}\n",
    "Finalmente se opera para re-agrupar términos semejantes y dejar ordenado el sistema:\n",
    "\\begin{align*}\n",
    "u_{i,j,n+1} = \\frac{\\Delta t D_u}{\\Delta x^2}u_{i+1,j,n} + \\frac{\\Delta t D_u}{\\Delta x^2}u_{i-1,j,n} + \n",
    "\\big( 1 - 2\\frac{\\Delta t D_u}{\\Delta x^2} - 2\\frac{\\Delta t D_u}{\\Delta y^2} + \\Delta t \\lambda \\big)u_{i,j,n} + \\Delta t {u_{i,j,k}}^3 \\frac{\\Delta t D_u}{\\Delta y^2}u_{i,j+1,n} + \\frac{\\Delta t D_u}{\\Delta y^2}u_{i,j-1,n} - \\sigma v_{i,j,n} \\\\\n",
    "\\tau v_{i,j,n+1} = \\frac{\\Delta t D_v}{\\Delta x^2}v_{i+1,j,n} + \\frac{\\Delta t D_v}{\\Delta x^2}v_{i-1,j,n} + \n",
    "\\big( \\tau - 2\\frac{\\Delta t D_u}{\\Delta x^2} - 2\\frac{\\Delta t D_u}{\\Delta y^2} - \\Delta t \\big)v_{i,j,n} +  \\frac{\\Delta t D_v}{\\Delta y^2}v_{i,j+1,n} + \\frac{\\Delta t D_v}{\\Delta y^2}v_{i,j-1,n} + u_{i,j,n} \\\\ \n",
    "\\end{align*}\n"
   ]
  },
  {
   "cell_type": "markdown",
   "metadata": {},
   "source": [
    "### b)"
   ]
  },
  {
   "cell_type": "code",
   "execution_count": 22,
   "metadata": {
    "collapsed": false
   },
   "outputs": [],
   "source": [
    "def solve_forward(u0, v0, N, Tmax, Du, Dv, l, tau, sigma, k):\n",
    "    Nx = N\n",
    "    Ny = N\n",
    "    dx = dy = 1./(N-1)\n",
    "    dt = dx**2 - 0.00001\n",
    "    Nt = Tmax/dt\n",
    "    \n",
    "    print dx, dt\n",
    "    \n",
    "    # Puntos\n",
    "    x = np.linspace(0, 1, Nx)\n",
    "    y = np.linspace(0, 1, Ny)\n",
    "    t = np.linspace(0, Tmax, Nt)\n",
    "    print len(x),len(y),len(t)\n",
    "    \n",
    "    # Soluciones\n",
    "    sol_u = np.zeros((Nt, Nx, Ny))\n",
    "    sol_v = np.zeros((Nt, Nx, Ny))\n",
    "    \n",
    "    # Valores constantes\n",
    "    a_u = dt*Du/(dx**2)\n",
    "    b_u = dt*Du/(dy**2)\n",
    "    a_v = dt*Dv/(dx**2)\n",
    "    b_v = dt*Dv/(dy**2)\n",
    "    \n",
    "    # condiciones iniciales u/v\n",
    "    sol_u[0,:,:] = u0\n",
    "    sol_v[0,:,:] = v0\n",
    "    \n",
    "    for n in xrange(1, len(t)):\n",
    "        # Resto de casos\n",
    "        Cu = np.zeros((sol_u.shape[1]+2, sol_u.shape[2]+2))\n",
    "        Cu[1:-1,1:-1] = sol_u[n-1,:,:]\n",
    "        Cu[-1,1:-1] = sol_u[n-1,1,:]\n",
    "        Cu[0,1:-1] = sol_u[n-1,-2,:]\n",
    "        Cu[1:-1,0] = sol_u[n-1,:,-2]\n",
    "        Cu[1:-1,-1] = sol_u[n-1,:,1]\n",
    "\n",
    "        Cv = np.zeros((sol_u.shape[1]+2, sol_u.shape[2]+2))\n",
    "        Cv[1:-1,1:-1] = sol_v[n-1,:,:]\n",
    "        Cv[-1,1:-1] = sol_v[n-1,1,:]\n",
    "        Cv[0,1:-1] = sol_v[n-1,-2,:]\n",
    "        Cv[1:-1,0] = sol_v[n-1,:,-2]\n",
    "        Cv[1:-1,-1] = sol_v[n-1,:,1]\n",
    "\n",
    "        for i in xrange(0, len(x)):\n",
    "            for j in xrange(0, len(y)):\n",
    "                sol_u[n,i,j] = a_u*Cu[i+1,j]+a_u*Cu[i-1,j]+(1-2*a_u-2*b_u+dt*l)*Cu[i,j]+b_u*Cu[i,j+1]+b_u*Cu[i,j-1]-dt*sigma*Cv[i,j]-dt*k-dt*(Cu[i,j]**3)\n",
    "                sol_v[n,i,j] = a_v*Cv[i+1,j]+a_v*Cv[i-1,j]+(tau-2*a_v-2*b_v-dt)*Cv[i,j]+b_v*Cv[i,j+1]+b_v*Cv[i,j-1]+dt*Cu[i,j]\n",
    "                sol_v[n,i,j] = sol_v[n,i,j]/tau\n",
    "                if math.isnan(sol_u[n,i,j]):\n",
    "                    print n,i,j\n",
    "                    return sol_u\n",
    "    \n",
    "    return sol_u"
   ]
  },
  {
   "cell_type": "markdown",
   "metadata": {},
   "source": [
    "### c)"
   ]
  },
  {
   "cell_type": "code",
   "execution_count": null,
   "metadata": {
    "collapsed": true
   },
   "outputs": [],
   "source": []
  },
  {
   "cell_type": "markdown",
   "metadata": {},
   "source": [
    "### d)"
   ]
  },
  {
   "cell_type": "code",
   "execution_count": null,
   "metadata": {
    "collapsed": true
   },
   "outputs": [],
   "source": []
  },
  {
   "cell_type": "markdown",
   "metadata": {},
   "source": [
    "# Parte 4: Simulación"
   ]
  },
  {
   "cell_type": "code",
   "execution_count": 23,
   "metadata": {
    "collapsed": false,
    "scrolled": false
   },
   "outputs": [
    {
     "name": "stdout",
     "output_type": "stream",
     "text": [
      "0.02 0.00039\n",
      "51 51 25641\n",
      "[[[  4.09896505e-01   3.04157353e-01   9.37435924e-02 ...,   7.18895599e-01\n",
      "     3.47762559e-01   5.05067218e-01]\n",
      "  [  8.71608956e-01   7.21559806e-01   3.70302187e-01 ...,   2.20252535e-01\n",
      "     1.69807230e-01   8.71608956e-01]\n",
      "  [  6.53086890e-01   7.56133469e-01   1.57068457e-01 ...,   7.06206311e-01\n",
      "     7.78680715e-01   6.53086890e-01]\n",
      "  ..., \n",
      "  [  1.38593662e-01   8.45807043e-01   4.26787555e-01 ...,   9.38279952e-01\n",
      "     5.04830967e-01   1.38593662e-01]\n",
      "  [  4.33523877e-01   6.75462330e-01   8.01074554e-01 ...,   1.13570653e-01\n",
      "     4.12435984e-02   4.33523877e-01]\n",
      "  [  4.09896505e-01   3.04157353e-01   9.37435924e-02 ...,   7.18895599e-01\n",
      "     3.47762559e-01   5.05067218e-01]]\n",
      "\n",
      " [[  2.30086283e-04   4.33715464e-01   6.75402690e-01 ...,   8.12631744e-02\n",
      "     1.13439422e-01   4.12037070e-02]\n",
      "  [  3.47707910e-01   4.09923141e-01   3.04277981e-01 ...,   7.50757951e-01\n",
      "     7.18296683e-01   3.47869122e-01]\n",
      "  [  1.70263032e-01   8.70857161e-01   7.21482384e-01 ...,   6.70057302e-01\n",
      "     2.20728375e-01   1.70116400e-01]\n",
      "  ..., \n",
      "  [  6.21287536e-01   4.96523731e-01   4.54472994e-01 ...,   8.89532543e-01\n",
      "     7.53913680e-01   6.21375223e-01]\n",
      "  [  5.04830471e-01   1.39149836e-01   8.45257464e-01 ...,   7.33477417e-01\n",
      "     9.37840434e-01   5.04857519e-01]\n",
      "  [  4.14660547e-02   4.33513121e-01   6.75439032e-01 ...,   8.12818140e-02\n",
      "     1.13649445e-01   4.13017014e-02]]\n",
      "\n",
      " [[  1.82403944e-04   5.04481422e-01   1.39673907e-01 ...,   4.65666642e-01\n",
      "     7.33119446e-01   9.37372721e-01]\n",
      "  [  1.13343989e-01   6.40106034e-04   4.33680411e-01 ...,   4.11532653e-02\n",
      "     8.13596698e-02   1.13527200e-01]\n",
      "  [  7.17608434e-01   3.47764929e-01   4.09953352e-01 ...,   1.85416209e-01\n",
      "     7.50131716e-01   7.17708176e-01]\n",
      "  ..., \n",
      "  [  4.75543318e-03   6.90322785e-01   7.54036070e-01 ...,   7.54691274e-02\n",
      "     8.82616903e-01   4.79304821e-03]\n",
      "  [  7.53552430e-01   6.21287151e-01   4.96542898e-01 ...,   3.53134119e-01\n",
      "     8.89345854e-01   7.53667411e-01]\n",
      "  [  9.37209352e-01   5.04847824e-01   1.39699178e-01 ...,   4.65715699e-01\n",
      "     7.33160043e-01   9.37383201e-01]]\n",
      "\n",
      " ..., \n",
      " [[  1.24575557e-04   2.12720967e-01   4.00341670e-01 ...,   4.26518608e-01\n",
      "     2.17747121e-01   9.91891458e-03]\n",
      "  [  2.07707833e-01   3.64266209e-04   2.08067135e-01 ...,   5.50560539e-01\n",
      "     4.08092102e-01   2.07771936e-01]\n",
      "  [  3.97718466e-01   2.04406817e-01   5.94974696e-04 ...,   6.13417234e-01\n",
      "     5.35197348e-01   3.97874921e-01]\n",
      "  ..., \n",
      "  [  4.14088731e-01   5.33304019e-01   5.82553150e-01 ...,   1.04513228e-02\n",
      "     2.21378652e-01   4.13983075e-01]\n",
      "  [  2.18023450e-01   4.07604610e-01   5.26382271e-01 ...,   2.32010019e-01\n",
      "     1.01749500e-02   2.17872375e-01]\n",
      "  [  9.91976490e-03   2.12786001e-01   4.00495549e-01 ...,   4.26407030e-01\n",
      "     2.17593468e-01   9.86622211e-03]]\n",
      "\n",
      " [[  1.29022892e-04   2.17951322e-01   4.07447965e-01 ...,   4.47608219e-01\n",
      "     2.32168259e-01   1.04115844e-02]\n",
      "  [  2.17677554e-01   3.73370813e-04   2.12712353e-01 ...,   5.70688654e-01\n",
      "     4.26525090e-01   2.17745931e-01]\n",
      "  [  4.07936710e-01   2.07703026e-01   6.00182518e-04 ...,   6.28851074e-01\n",
      "     5.50568687e-01   4.08097662e-01]\n",
      "  ..., \n",
      "  [  4.16885973e-01   5.38983724e-01   5.89609159e-01 ...,   1.07486309e-02\n",
      "     2.21599424e-01   4.16778318e-01]\n",
      "  [  2.21526649e-01   4.14087885e-01   5.33305349e-01 ...,   2.46278107e-01\n",
      "     1.06431444e-02   2.21373684e-01]\n",
      "  [  1.04083313e-02   2.18017529e-01   4.07603869e-01 ...,   4.47496302e-01\n",
      "     2.32010244e-01   1.03569257e-02]]\n",
      "\n",
      " [[  1.34265761e-04   2.21456312e-01   4.13929389e-01 ...,   4.64637596e-01\n",
      "     2.46441986e-01   1.08944142e-02]\n",
      "  [  2.32094245e-01   3.87518994e-04   2.17942495e-01 ...,   5.89008033e-01\n",
      "     4.47614779e-01   2.32167540e-01]\n",
      "  [  4.26364653e-01   2.17673410e-01   6.16087875e-04 ...,   6.43493150e-01\n",
      "     5.70697161e-01   4.26531490e-01]\n",
      "  ..., \n",
      "  [  4.14702964e-01   5.40330331e-01   5.96166803e-01 ...,   1.08072654e-02\n",
      "     2.18587952e-01   4.14592508e-01]\n",
      "  [  2.21748906e-01   4.16884914e-01   5.38984774e-01 ...,   2.56001027e-01\n",
      "     1.09464263e-02   2.21594366e-01]\n",
      "  [  1.08835563e-02   2.21520700e-01   4.14086952e-01 ...,   4.64524241e-01\n",
      "     2.46278171e-01   1.08344272e-02]]]\n"
     ]
    }
   ],
   "source": [
    "N = 51\n",
    "u0 = np.random.rand(N,N)\n",
    "u0[:,0] = u0[:,-1] = np.random.rand(N)\n",
    "u0[0,:] = u0[-1,:] = np.random.rand(N)\n",
    "\n",
    "v0 = np.random.rand(N,N)\n",
    "v0[:,0] = v0[:,-1] = np.random.rand(N)\n",
    "v0[0,:] = v0[-1,:] = np.random.rand(N)\n",
    "\n",
    "Du = 3e-4\n",
    "Dv = 4e-3\n",
    "l = 1.0\n",
    "tau = 0.2\n",
    "sigma = 1.0\n",
    "k = -0.004\n",
    "\n",
    "sol = solve_forward(u0, v0, N, 10, Du, Dv, l, tau, sigma, k)\n",
    "print sol"
   ]
  },
  {
   "cell_type": "code",
   "execution_count": 27,
   "metadata": {
    "collapsed": false
   },
   "outputs": [],
   "source": [
    "animate_pattern(sol)"
   ]
  },
  {
   "cell_type": "markdown",
   "metadata": {},
   "source": [
    "## Conclusiones"
   ]
  },
  {
   "cell_type": "markdown",
   "metadata": {},
   "source": [
    "+ Nullam tincidunt commodo arcu et consectetur. Duis iaculis, risus vel scelerisque interdum, ante nunc varius urna, nec accumsan ex purus vitae turpis. Etiam ut egestas ligula, id lacinia nunc. \n",
    "+ Praesent sodales ligula eu lorem placerat convallis. Maecenas elementum venenatis maximus. Class aptent taciti sociosqu ad litora torquent per conubia nostra, per inceptos himenaeos. Proin vitae finibus nulla, vel auctor orci. Ut et sodales lectus, nec sodales nunc. \n",
    "+ Quisque laoreet feugiat diam, a lacinia felis pharetra eu. Donec feugiat elit sapien, a cursus diam hendrerit in.\n",
    "+ Etiam porta ipsum a aliquet hendrerit. Pellentesque fringilla dolor pulvinar lorem ullamcorper, non vestibulum nulla volutpat. Sed ac diam fringilla tortor iaculis tincidunt. \n",
    "+ Integer sapien augue, accumsan nec sagittis at, sagittis quis quam. Maecenas consectetur metus non tellus laoreet, nec efficitur lacus venenatis. Nullam ac dolor quis orci pretium commodo. \n",
    "+ Maecenas eget ex in lectus tincidunt lobortis. Donec non gravida nisl. Fusce sagittis sagittis neque consectetur cursus. Duis commodo mauris ligula, eu aliquam purus porta quis. \n",
    "+ Suspendisse euismod mi lorem, in ultricies neque interdum sit amet. Vivamus ut ullamcorper tortor, vel faucibus risus. Curabitur malesuada lorem diam. Nam ornare nisi id sapien viverra, semper commodo dolor eleifend. "
   ]
  },
  {
   "cell_type": "markdown",
   "metadata": {},
   "source": [
    "## Anexos"
   ]
  },
  {
   "cell_type": "markdown",
   "metadata": {},
   "source": [
    "En la siguiente sección se encuentra todo el código necesario para reproducir cada uno de los resultados mostrados anteriormente. Para poder ejecutar el código en el informe, se debe en primer lugar ejecutar las celdas de código presentes en este anexo."
   ]
  },
  {
   "cell_type": "markdown",
   "metadata": {},
   "source": [
    "### Configuración del notebook"
   ]
  },
  {
   "cell_type": "code",
   "execution_count": 68,
   "metadata": {
    "collapsed": false
   },
   "outputs": [],
   "source": [
    "#notebook settings\n",
    "#%matplotlib inline\n",
    "#%matplotlib qt\n",
    "\n",
    "#import some useful libraries and utilities\n",
    "import numpy as np\n",
    "import matplotlib.pyplot as plt\n",
    "import matplotlib.animation as animation\n",
    "import math"
   ]
  },
  {
   "cell_type": "code",
   "execution_count": 69,
   "metadata": {
    "collapsed": true
   },
   "outputs": [],
   "source": [
    "\"\"\"\n",
    "> sol must be a 3D numpy array, with dimensions (Nt,Nx,Ny)\n",
    "> time_step:  miliseconds to update canvas\n",
    "> frame_step: Jump step for frames to show\n",
    "\"\"\"\n",
    "def animate_pattern(sol, time_step=10, frame_step=20):\n",
    "    #time index\n",
    "    t_ind = 0\n",
    "    fig = plt.figure()\n",
    "    im = plt.imshow(sol[t_ind], cmap=plt.cm.winter)\n",
    "    plt.xticks([]); plt.yticks([])\n",
    "\n",
    "    #setting the number of frames\n",
    "    frames = int(sol.shape[0]/frame_step)\n",
    "    \n",
    "    #update function\n",
    "    def updatefig(t_ind):\n",
    "        im = plt.imshow(sol[t_ind*frame_step], cmap=plt.cm.winter)\n",
    "        return im,\n",
    "    \n",
    "    #animate it!\n",
    "    ani = animation.FuncAnimation(fig, updatefig, frames=frames, \n",
    "                    interval=time_step, blit=True, repeat=True)\n",
    "    plt.show()"
   ]
  },
  {
   "cell_type": "code",
   "execution_count": 73,
   "metadata": {
    "collapsed": false
   },
   "outputs": [
    {
     "name": "stdout",
     "output_type": "stream",
     "text": [
      "(125000, 50, 50)\n"
     ]
    }
   ],
   "source": [
    "X = 50\n",
    "#A = np.random.rand(X**3,X,X)\n",
    "print A.shape\n",
    "B = np.random.random((27777,50,50))"
   ]
  },
  {
   "cell_type": "code",
   "execution_count": 74,
   "metadata": {
    "collapsed": false
   },
   "outputs": [],
   "source": [
    "animate_pattern(A)"
   ]
  },
  {
   "cell_type": "code",
   "execution_count": null,
   "metadata": {
    "collapsed": true
   },
   "outputs": [],
   "source": []
  }
 ],
 "metadata": {
  "kernelspec": {
   "display_name": "Python 2",
   "language": "python",
   "name": "python2"
  },
  "language_info": {
   "codemirror_mode": {
    "name": "ipython",
    "version": 2
   },
   "file_extension": ".py",
   "mimetype": "text/x-python",
   "name": "python",
   "nbconvert_exporter": "python",
   "pygments_lexer": "ipython2",
   "version": "2.7.10"
  }
 },
 "nbformat": 4,
 "nbformat_minor": 0
}
