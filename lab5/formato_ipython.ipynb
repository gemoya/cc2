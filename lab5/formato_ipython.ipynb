{
 "cells": [
  {
   "cell_type": "markdown",
   "metadata": {},
   "source": [
    "# Laboratorio N°5 - Computación Científica II - ILI286"
   ]
  },
  {
   "cell_type": "markdown",
   "metadata": {},
   "source": [
    "**Autores**:\n",
    "+ Gonzalo Moya - 201173016-k \n",
    "+ Ariel Sanhueza     - 201173005-4"
   ]
  },
  {
   "cell_type": "markdown",
   "metadata": {},
   "source": [
    "## Introducción"
   ]
  },
  {
   "cell_type": "markdown",
   "metadata": {},
   "source": [
    "Lorem ipsum dolor sit amet, consectetur adipiscing elit. Morbi venenatis dui felis. Donec ante libero, vestibulum nec faucibus sit amet, congue vel erat. Aliquam aliquet dolor mauris. Quisque egestas tincidunt aliquet. Integer tempor tellus quis commodo porttitor. Donec accumsan tellus sed leo sodales, ac malesuada lacus dignissim. Aliquam erat volutpat. Nunc laoreet vitae felis nec varius. Maecenas sed sem non quam faucibus tristique. Nullam scelerisque ante arcu, id faucibus orci tincidunt nec. Aliquam eu leo vehicula leo maximus vulputate. Donec eget nibh dolor. Aliquam eget ullamcorper erat. Nulla sodales, metus finibus venenatis tristique, elit neque pretium mi, eu maximus nibh turpis vulputate lectus. Phasellus vitae pharetra nisi. "
   ]
  },
  {
   "cell_type": "markdown",
   "metadata": {},
   "source": [
    "## Desarrollo"
   ]
  },
  {
   "cell_type": "markdown",
   "metadata": {},
   "source": [
    "### Parte 2:  Diferencias finitas en 2D"
   ]
  },
  {
   "cell_type": "markdown",
   "metadata": {},
   "source": [
    "### a)  Discretizacion forward\n",
    "\n",
    "Para la discretizacion con un esquema forward, primero se presentan los elemenos que incluyen la derivación númerica para despues ser reemplazados en los sistemas correspondientes:\n",
    "\\begin{equation*}\n",
    "{\\Delta} u = \\frac{u_{i-1,j,n}-2u_{i,j,n}+u_{i+1,j,n}}{{\\Delta x}^2} + \\frac{u_{i,j-1,n}-2u_{i,j,n}+u_{i,j+1,n}}{{\\Delta y}^2}  \\\\\n",
    "{\\Delta} v = \\frac{v_{i-1,j,n}-2v_{i,j,n}+v_{i+1,j,n}}{{\\Delta x}^2} + \\frac{v_{i,j-1,n}-2v_{i,j,n}+v_{i,j+1,n}}{{\\Delta y}^2}  \\\\\n",
    "\\partial_t u = \\frac{u_{i,j,n+1} - u_{i,j,n}}{\\Delta t} \\\\\n",
    "\\partial_t v = \\frac{u_{i,j,n+1} - v_{i,j,n}}{\\Delta t}.\n",
    "\\end{equation*}\n",
    "Luego al ser utilizadas estas discretizaciones en el sistema que fue presentado y ademas discretizar el resto de los elemenos que dependan de $u$ y $v$, el restultado es:\n",
    "\\begin{align*}\n",
    "\\frac{u_{i,j,n+1} - u_{i,j,n}}{\\Delta t}  = \n",
    "D_{u} \\frac{u_{i-1,j,n}-2u_{i,j,n}+u_{i+1,j,n}}{{\\Delta x}^2} + D_u \\frac{u_{i,j-1,n}-2u_{i,j,n}+u_{i,j+1,n}}{{\\Delta y}^2} +\n",
    "\\lambda u_{i,j,n} - {u_{i,j,n}}^3 - \\sigma v_{i,j,n} \\\\\n",
    "\\tau \\frac{v_{i,j,n+1} - v_{i,j,n}}{\\Delta t}  = \n",
    "D_{v} \\frac{v_{i-1,j,n}-2v_{i,j,n}+v_{i+1,j,n}}{{\\Delta x}^2} + D_v \\frac{v_{i,j-1,n}-2v_{i,j,n}+v_{i,j+1,n}}{{\\Delta y}^2} + u_{i,j,n}  - v_{i,j,n}.\n",
    "\\end{align*}\n",
    "Finalmente se opera para re-agrupar términos semejantes y dejar ordenado el sistema:\n",
    "\\begin{align*}\n",
    "u_{i,j,n+1} = \\frac{\\Delta t D_u}{\\Delta x^2}u_{i+1,j,n} + \\frac{\\Delta t D_u}{\\Delta x^2}u_{i-1,j,n} + \n",
    "\\big( 1 - 2\\frac{\\Delta t D_u}{\\Delta x^2} - 2\\frac{\\Delta t D_u}{\\Delta y^2} + \\Delta t \\lambda \\big)u_{i,j,n} + \\Delta t {u_{i,j,k}}^3 \\frac{\\Delta t D_u}{\\Delta y^2}u_{i,j+1,n} + \\frac{\\Delta t D_u}{\\Delta y^2}u_{i,j-1,n} - \\sigma v_{i,j,n} \\\\\n",
    "\\tau v_{i,j,n+1} = \\frac{\\Delta t D_v}{\\Delta x^2}v_{i+1,j,n} + \\frac{\\Delta t D_v}{\\Delta x^2}v_{i-1,j,n} + \n",
    "\\big( \\tau - 2\\frac{\\Delta t D_u}{\\Delta x^2} - 2\\frac{\\Delta t D_u}{\\Delta y^2} - \\Delta t \\big)v_{i,j,n} +  \\frac{\\Delta t D_v}{\\Delta y^2}v_{i,j+1,n} + \\frac{\\Delta t D_v}{\\Delta y^2}v_{i,j-1,n} + u_{i,j,n} \\\\ \n",
    "\\end{align*}\n"
   ]
  },
  {
   "cell_type": "markdown",
   "metadata": {},
   "source": [
    "### b)"
   ]
  },
  {
   "cell_type": "code",
   "execution_count": 27,
   "metadata": {
    "collapsed": false
   },
   "outputs": [],
   "source": [
    "def solve_forward(u0, v0, dx, dy, dt, Tmax, Du, Dv, l, tau, sigma, k):\n",
    "    Nx = 21\n",
    "    Ny = 21\n",
    "    Nt = Tmax/dt\n",
    "    \n",
    "    # Puntos\n",
    "    x = np.linspace(0, 1, Nx)\n",
    "    y = np.linspace(0, 1, Ny)\n",
    "    t = np.linspace(0, Tmax, Nt)\n",
    "    print len(x),len(y),len(t)\n",
    "    \n",
    "    # Soluciones\n",
    "    sol_u = np.zeros((Nt, Nx, Ny))\n",
    "    sol_v = np.zeros((Nt, Nx, Ny))\n",
    "    \n",
    "    # Valores constantes\n",
    "    a_u = dt*Du/(dx**2)\n",
    "    b_u = dt*Du/(dy**2)\n",
    "    a_v = dt*Dv/(dx**2)\n",
    "    b_v = dt*Dv/(dy**2)\n",
    "    \n",
    "    # condiciones iniciales u/v\n",
    "    sol_u[0,:,:] = u0\n",
    "    sol_v[0,:,:] = v0\n",
    "    \n",
    "    for n in xrange(1, len(t)):\n",
    "        # Resto de casos\n",
    "        Cu = np.zeros((sol_u.shape[1]+2, sol_u.shape[2]+2))\n",
    "        Cu[1:-1,1:-1] = sol_u[n-1,:,:]\n",
    "        Cu[-1,1:-1] = sol_u[n-1,1,:]\n",
    "        Cu[0,1:-1] = sol_u[n-1,-2,:]\n",
    "        Cu[1:-1,0] = sol_u[n-1,:,-2]\n",
    "        Cu[1:-1,-1] = sol_u[n-1,:,1]\n",
    "\n",
    "        Cv = np.zeros((sol_u.shape[1]+2, sol_u.shape[2]+2))\n",
    "        Cv[1:-1,1:-1] = sol_v[n-1,:,:]\n",
    "        Cv[-1,1:-1] = sol_v[n-1,1,:]\n",
    "        Cv[0,1:-1] = sol_v[n-1,-2,:]\n",
    "        Cv[1:-1,0] = sol_v[n-1,:,-2]\n",
    "        Cv[1:-1,-1] = sol_v[n-1,:,1]\n",
    "\n",
    "        for i in xrange(0, len(x)):\n",
    "            for j in xrange(0, len(y)):\n",
    "                sol_u[n,i,j] = a_u*Cu[i+1,j]+a_u*Cu[i-1,j]+(1-2*a_u-2*b_u+dt*l)*Cu[i,j]+b_u*Cu[i,j+1]+b_u*Cu[i,j-1]-dt*sigma*Cv[i,j]-dt*k-dt*(Cu[i,j]**3)\n",
    "                sol_v[n,i,j] = a_v*Cv[i+1,j]+a_v*Cv[i-1,j]+(tau-2*a_v-2*b_v-dt)*Cv[i,j]+b_v*Cv[i,j+1]+b_v*Cv[i,j-1]+dt*Cu[i,j]\n",
    "                sol_v[n,i,j] = sol_v[n,i,j]/tau\n",
    "                if math.isnan(sol_u[n,i,j]):\n",
    "                    print n,i,j\n",
    "                    return sol_u\n",
    "    \n",
    "    return sol_u"
   ]
  },
  {
   "cell_type": "markdown",
   "metadata": {},
   "source": [
    "### c)"
   ]
  },
  {
   "cell_type": "code",
   "execution_count": null,
   "metadata": {
    "collapsed": true
   },
   "outputs": [],
   "source": []
  },
  {
   "cell_type": "markdown",
   "metadata": {},
   "source": [
    "### d)"
   ]
  },
  {
   "cell_type": "code",
   "execution_count": null,
   "metadata": {
    "collapsed": true
   },
   "outputs": [],
   "source": []
  },
  {
   "cell_type": "markdown",
   "metadata": {},
   "source": [
    "# Parte 4: Simulación"
   ]
  },
  {
   "cell_type": "code",
   "execution_count": 56,
   "metadata": {
    "collapsed": false,
    "scrolled": false
   },
   "outputs": [
    {
     "name": "stdout",
     "output_type": "stream",
     "text": [
      "21 21 10000\n",
      "9 0 3\n",
      "[[[  2.59026321e-01   9.79129698e-01   5.46836029e-01 ...,   2.58542610e-01\n",
      "     7.71826347e-01   9.48865619e-01]\n",
      "  [  8.66804658e-01   7.37743370e-01   3.67650815e-01 ...,   8.10419801e-01\n",
      "     8.51545399e-01   8.66804658e-01]\n",
      "  [  6.79377069e-01   3.10709243e-01   2.70316581e-01 ...,   3.84945363e-01\n",
      "     9.37060953e-01   6.79377069e-01]\n",
      "  ..., \n",
      "  [  5.30102366e-02   2.26862404e-01   3.29143985e-01 ...,   4.17896798e-01\n",
      "     8.51023357e-01   5.30102366e-02]\n",
      "  [  3.53186401e-01   3.52644659e-01   9.06480814e-01 ...,   1.87327822e-01\n",
      "     6.65919668e-01   3.53186401e-01]\n",
      "  [  2.59026321e-01   9.79129698e-01   5.46836029e-01 ...,   2.58542610e-01\n",
      "     7.71826347e-01   9.48865619e-01]]\n",
      "\n",
      " [[  4.67425454e+00   6.26238796e-01   6.85896942e+00 ...,   7.29810367e+00\n",
      "     4.92083722e+00  -1.41066650e+00]\n",
      "  [ -3.37307089e+00   8.29794265e+00  -7.41477656e+00 ...,  -7.97658835e-01\n",
      "     5.68093769e+00  -7.34029878e-01]\n",
      "  [  4.66213963e-01  -3.03681312e+00  -1.03509780e+00 ...,  -7.04191220e+00\n",
      "    -2.40059942e+00   7.68173305e-01]\n",
      "  ..., \n",
      "  [ -8.43674972e+00   6.63050260e+00   1.15427361e+00 ...,  -1.45561695e+00\n",
      "    -6.49460608e-01  -6.76082288e+00]\n",
      "  [ -5.43132707e+00   5.77858747e+00   1.12841234e+00 ...,   9.38444829e-01\n",
      "     2.51088197e+00  -4.63760868e+00]\n",
      "  [ -7.25969591e-01   1.18420449e-02   4.73633795e+00 ...,   4.68117107e+00\n",
      "     3.28996479e+00  -1.41283551e+00]]\n",
      "\n",
      " [[ -2.12100607e+00   1.14258866e+02  -7.10770030e+01 ...,  -1.46753790e+01\n",
      "     2.83836317e+01  -1.05353957e+01]\n",
      "  [ -3.12496009e+01  -8.65569295e+01   9.66287224e+01 ...,   1.00304507e+02\n",
      "    -1.08351346e+02  -1.83786133e+01]\n",
      "  [ -5.78127787e+01   1.32129065e+02  -1.84497303e+02 ...,   5.94809814e+01\n",
      "     2.90285250e+01  -8.46387899e+01]\n",
      "  ..., \n",
      "  [  6.84591239e+01  -2.68425311e+02   6.46186642e+01 ...,  -2.21502181e+01\n",
      "     1.14339197e+02   5.61630947e+01]\n",
      "  [  6.11385787e+00   1.86635978e+02  -1.24087410e+02 ...,  -1.29392760e+02\n",
      "     2.62740523e+01  -2.05195024e+01]\n",
      "  [ -2.68009779e+01   8.12152923e+01  -8.05576824e+01 ...,   1.86258520e+01\n",
      "     1.47769668e+01  -4.36132454e+01]]\n",
      "\n",
      " ..., \n",
      " [[  0.00000000e+00   0.00000000e+00   0.00000000e+00 ...,   0.00000000e+00\n",
      "     0.00000000e+00   0.00000000e+00]\n",
      "  [  0.00000000e+00   0.00000000e+00   0.00000000e+00 ...,   0.00000000e+00\n",
      "     0.00000000e+00   0.00000000e+00]\n",
      "  [  0.00000000e+00   0.00000000e+00   0.00000000e+00 ...,   0.00000000e+00\n",
      "     0.00000000e+00   0.00000000e+00]\n",
      "  ..., \n",
      "  [  0.00000000e+00   0.00000000e+00   0.00000000e+00 ...,   0.00000000e+00\n",
      "     0.00000000e+00   0.00000000e+00]\n",
      "  [  0.00000000e+00   0.00000000e+00   0.00000000e+00 ...,   0.00000000e+00\n",
      "     0.00000000e+00   0.00000000e+00]\n",
      "  [  0.00000000e+00   0.00000000e+00   0.00000000e+00 ...,   0.00000000e+00\n",
      "     0.00000000e+00   0.00000000e+00]]\n",
      "\n",
      " [[  0.00000000e+00   0.00000000e+00   0.00000000e+00 ...,   0.00000000e+00\n",
      "     0.00000000e+00   0.00000000e+00]\n",
      "  [  0.00000000e+00   0.00000000e+00   0.00000000e+00 ...,   0.00000000e+00\n",
      "     0.00000000e+00   0.00000000e+00]\n",
      "  [  0.00000000e+00   0.00000000e+00   0.00000000e+00 ...,   0.00000000e+00\n",
      "     0.00000000e+00   0.00000000e+00]\n",
      "  ..., \n",
      "  [  0.00000000e+00   0.00000000e+00   0.00000000e+00 ...,   0.00000000e+00\n",
      "     0.00000000e+00   0.00000000e+00]\n",
      "  [  0.00000000e+00   0.00000000e+00   0.00000000e+00 ...,   0.00000000e+00\n",
      "     0.00000000e+00   0.00000000e+00]\n",
      "  [  0.00000000e+00   0.00000000e+00   0.00000000e+00 ...,   0.00000000e+00\n",
      "     0.00000000e+00   0.00000000e+00]]\n",
      "\n",
      " [[  0.00000000e+00   0.00000000e+00   0.00000000e+00 ...,   0.00000000e+00\n",
      "     0.00000000e+00   0.00000000e+00]\n",
      "  [  0.00000000e+00   0.00000000e+00   0.00000000e+00 ...,   0.00000000e+00\n",
      "     0.00000000e+00   0.00000000e+00]\n",
      "  [  0.00000000e+00   0.00000000e+00   0.00000000e+00 ...,   0.00000000e+00\n",
      "     0.00000000e+00   0.00000000e+00]\n",
      "  ..., \n",
      "  [  0.00000000e+00   0.00000000e+00   0.00000000e+00 ...,   0.00000000e+00\n",
      "     0.00000000e+00   0.00000000e+00]\n",
      "  [  0.00000000e+00   0.00000000e+00   0.00000000e+00 ...,   0.00000000e+00\n",
      "     0.00000000e+00   0.00000000e+00]\n",
      "  [  0.00000000e+00   0.00000000e+00   0.00000000e+00 ...,   0.00000000e+00\n",
      "     0.00000000e+00   0.00000000e+00]]]\n"
     ]
    },
    {
     "name": "stderr",
     "output_type": "stream",
     "text": [
      "/Users/asanhuez/.miniconda2/lib/python2.7/site-packages/ipykernel/__main__.py:13: DeprecationWarning: using a non-integer number instead of an integer will result in an error in the future\n",
      "/Users/asanhuez/.miniconda2/lib/python2.7/site-packages/ipykernel/__main__.py:14: DeprecationWarning: using a non-integer number instead of an integer will result in an error in the future\n",
      "/Users/asanhuez/.miniconda2/lib/python2.7/site-packages/ipykernel/__main__.py:44: RuntimeWarning: overflow encountered in double_scalars\n",
      "/Users/asanhuez/.miniconda2/lib/python2.7/site-packages/ipykernel/__main__.py:44: RuntimeWarning: invalid value encountered in double_scalars\n"
     ]
    }
   ],
   "source": [
    "dt = 0.0001\n",
    "dx = dy = 0.01\n",
    "u0 = np.random.rand(21,21)\n",
    "u0[:,0] = u0[:,-1] = np.random.rand(21)\n",
    "u0[0,:] = u0[-1,:] = np.random.rand(21)\n",
    "\n",
    "v0 = np.random.rand(21,21)\n",
    "v0[:,0] = v0[:,-1] = np.random.rand(21)\n",
    "v0[0,:] = v0[-1,:] = np.random.rand(21)\n",
    "Du = 3*np.e - 4\n",
    "Dv = 4*np.e - 3\n",
    "l = 1.0\n",
    "tau = 0.2\n",
    "sigma = 1.0\n",
    "k = -0.004\n",
    "sol = solve_forward(u0, v0, dx, dy, dt, 1, Du, Dv, l, tau, sigma, k)\n",
    "print sol\n",
    "animate.animate_pattern(sol)"
   ]
  },
  {
   "cell_type": "markdown",
   "metadata": {},
   "source": [
    "## Conclusiones"
   ]
  },
  {
   "cell_type": "markdown",
   "metadata": {},
   "source": [
    "+ Nullam tincidunt commodo arcu et consectetur. Duis iaculis, risus vel scelerisque interdum, ante nunc varius urna, nec accumsan ex purus vitae turpis. Etiam ut egestas ligula, id lacinia nunc. \n",
    "+ Praesent sodales ligula eu lorem placerat convallis. Maecenas elementum venenatis maximus. Class aptent taciti sociosqu ad litora torquent per conubia nostra, per inceptos himenaeos. Proin vitae finibus nulla, vel auctor orci. Ut et sodales lectus, nec sodales nunc. \n",
    "+ Quisque laoreet feugiat diam, a lacinia felis pharetra eu. Donec feugiat elit sapien, a cursus diam hendrerit in.\n",
    "+ Etiam porta ipsum a aliquet hendrerit. Pellentesque fringilla dolor pulvinar lorem ullamcorper, non vestibulum nulla volutpat. Sed ac diam fringilla tortor iaculis tincidunt. \n",
    "+ Integer sapien augue, accumsan nec sagittis at, sagittis quis quam. Maecenas consectetur metus non tellus laoreet, nec efficitur lacus venenatis. Nullam ac dolor quis orci pretium commodo. \n",
    "+ Maecenas eget ex in lectus tincidunt lobortis. Donec non gravida nisl. Fusce sagittis sagittis neque consectetur cursus. Duis commodo mauris ligula, eu aliquam purus porta quis. \n",
    "+ Suspendisse euismod mi lorem, in ultricies neque interdum sit amet. Vivamus ut ullamcorper tortor, vel faucibus risus. Curabitur malesuada lorem diam. Nam ornare nisi id sapien viverra, semper commodo dolor eleifend. "
   ]
  },
  {
   "cell_type": "markdown",
   "metadata": {},
   "source": [
    "## Anexos"
   ]
  },
  {
   "cell_type": "markdown",
   "metadata": {},
   "source": [
    "En la siguiente sección se encuentra todo el código necesario para reproducir cada uno de los resultados mostrados anteriormente. Para poder ejecutar el código en el informe, se debe en primer lugar ejecutar las celdas de código presentes en este anexo."
   ]
  },
  {
   "cell_type": "markdown",
   "metadata": {},
   "source": [
    "### Configuración del notebook"
   ]
  },
  {
   "cell_type": "code",
   "execution_count": 1,
   "metadata": {
    "collapsed": false
   },
   "outputs": [],
   "source": [
    "#notebook settings\n",
    "#%matplotlib inline\n",
    "%matplotlib qt\n",
    "\n",
    "#import some useful libraries and utilities\n",
    "import numpy as np\n",
    "import matplotlib.pyplot as plt\n",
    "import animate\n",
    "import math"
   ]
  },
  {
   "cell_type": "code",
   "execution_count": null,
   "metadata": {
    "collapsed": true
   },
   "outputs": [],
   "source": []
  }
 ],
 "metadata": {
  "kernelspec": {
   "display_name": "Python 2",
   "language": "python",
   "name": "python2"
  },
  "language_info": {
   "codemirror_mode": {
    "name": "ipython",
    "version": 2
   },
   "file_extension": ".py",
   "mimetype": "text/x-python",
   "name": "python",
   "nbconvert_exporter": "python",
   "pygments_lexer": "ipython2",
   "version": "2.7.11"
  }
 },
 "nbformat": 4,
 "nbformat_minor": 0
}
