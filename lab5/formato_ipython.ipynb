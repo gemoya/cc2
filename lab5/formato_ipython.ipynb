{
 "cells": [
  {
   "cell_type": "markdown",
   "metadata": {},
   "source": [
    "# Laboratorio N°5 - Computación Científica II - ILI286"
   ]
  },
  {
   "cell_type": "markdown",
   "metadata": {},
   "source": [
    "**Autores**:\n",
    "+ Gonzalo Moya - 201173016-k \n",
    "+ Ariel Sanhueza     - 201173005-4"
   ]
  },
  {
   "cell_type": "markdown",
   "metadata": {},
   "source": [
    "## Introducción"
   ]
  },
  {
   "cell_type": "markdown",
   "metadata": {},
   "source": [
    "Lorem ipsum dolor sit amet, consectetur adipiscing elit. Morbi venenatis dui felis. Donec ante libero, vestibulum nec faucibus sit amet, congue vel erat. Aliquam aliquet dolor mauris. Quisque egestas tincidunt aliquet. Integer tempor tellus quis commodo porttitor. Donec accumsan tellus sed leo sodales, ac malesuada lacus dignissim. Aliquam erat volutpat. Nunc laoreet vitae felis nec varius. Maecenas sed sem non quam faucibus tristique. Nullam scelerisque ante arcu, id faucibus orci tincidunt nec. Aliquam eu leo vehicula leo maximus vulputate. Donec eget nibh dolor. Aliquam eget ullamcorper erat. Nulla sodales, metus finibus venenatis tristique, elit neque pretium mi, eu maximus nibh turpis vulputate lectus. Phasellus vitae pharetra nisi. "
   ]
  },
  {
   "cell_type": "markdown",
   "metadata": {},
   "source": [
    "## Desarrollo"
   ]
  },
  {
   "cell_type": "markdown",
   "metadata": {},
   "source": [
    "### Parte 2:  Diferencias finitas en 2D"
   ]
  },
  {
   "cell_type": "markdown",
   "metadata": {},
   "source": [
    "### a)  Discretizacion forward\n",
    "\n",
    "Para la discretizacion con un esquema forward, primero se presentan los elemenos que incluyen la derivación númerica para despues ser reemplazados en los sistemas correspondientes:\n",
    "\\begin{equation*}\n",
    "{\\Delta} u = \\frac{u_{i-1,j,n}-2u_{i,j,n}+u_{i+1,j,n}}{{\\Delta x}^2} + \\frac{u_{i,j-1,n}-2u_{i,j,n}+u_{i,j+1,n}}{{\\Delta y}^2}  \\\\\n",
    "{\\Delta} v = \\frac{v_{i-1,j,n}-2v_{i,j,n}+v_{i+1,j,n}}{{\\Delta x}^2} + \\frac{v_{i,j-1,n}-2v_{i,j,n}+v_{i,j+1,n}}{{\\Delta y}^2}  \\\\\n",
    "\\partial_t u = \\frac{u_{i,j,n+1} - u_{i,j,n}}{\\Delta t} \\\\\n",
    "\\partial_t v = \\frac{u_{i,j,n+1} - v_{i,j,n}}{\\Delta t}.\n",
    "\\end{equation*}\n",
    "Luego al ser utilizadas estas discretizaciones en el sistema que fue presentado y ademas discretizar el resto de los elemenos que dependan de $u$ y $v$, el restultado es:\n",
    "\\begin{align*}\n",
    "\\frac{u_{i,j,n+1} - u_{i,j,n}}{\\Delta t}  = \n",
    "D_{u} \\frac{u_{i-1,j,n}-2u_{i,j,n}+u_{i+1,j,n}}{{\\Delta x}^2} + D_u \\frac{u_{i,j-1,n}-2u_{i,j,n}+u_{i,j+1,n}}{{\\Delta y}^2} +\n",
    "\\lambda u_{i,j,n} - {u_{i,j,n}}^3 - \\sigma v_{i,j,n} \\\\\n",
    "\\tau \\frac{v_{i,j,n+1} - v_{i,j,n}}{\\Delta t}  = \n",
    "D_{v} \\frac{v_{i-1,j,n}-2v_{i,j,n}+v_{i+1,j,n}}{{\\Delta x}^2} + D_v \\frac{v_{i,j-1,n}-2v_{i,j,n}+v_{i,j+1,n}}{{\\Delta y}^2} + u_{i,j,n}  - v_{i,j,n}.\n",
    "\\end{align*}\n",
    "Finalmente se opera para re-agrupar términos semejantes y dejar ordenado el sistema:\n",
    "\\begin{align*}\n",
    "u_{i,j,n+1} = \\frac{\\Delta t D_u}{\\Delta x^2}u_{i+1,j,n} + \\frac{\\Delta t D_u}{\\Delta x^2}u_{i-1,j,n} + \n",
    "\\big( 1 - 2\\frac{\\Delta t D_u}{\\Delta x^2} - 2\\frac{\\Delta t D_u}{\\Delta y^2} + \\Delta t \\lambda \\big)u_{i,j,n} + \\Delta t {u_{i,j,k}}^3 \\frac{\\Delta t D_u}{\\Delta y^2}u_{i,j+1,n} + \\frac{\\Delta t D_u}{\\Delta y^2}u_{i,j-1,n} - \\sigma v_{i,j,n} \\\\\n",
    "\\tau v_{i,j,n+1} = \\frac{\\Delta t D_v}{\\Delta x^2}v_{i+1,j,n} + \\frac{\\Delta t D_v}{\\Delta x^2}v_{i-1,j,n} + \n",
    "\\big( \\tau - 2\\frac{\\Delta t D_u}{\\Delta x^2} - 2\\frac{\\Delta t D_u}{\\Delta y^2} - \\Delta t \\big)v_{i,j,n} +  \\frac{\\Delta t D_v}{\\Delta y^2}v_{i,j+1,n} + \\frac{\\Delta t D_v}{\\Delta y^2}v_{i,j-1,n} + u_{i,j,n} \\\\ \n",
    "\\end{align*}\n"
   ]
  },
  {
   "cell_type": "markdown",
   "metadata": {},
   "source": [
    "### b)"
   ]
  },
  {
   "cell_type": "code",
   "execution_count": 43,
   "metadata": {
    "collapsed": false
   },
   "outputs": [],
   "source": [
    "def solve_forward(u0, v0, dx, dy, dt, Tmax, Du, Dv, l, tau, sigma, k):\n",
    "    Nx = 50\n",
    "    Ny = 50\n",
    "    Nt = Tmax/dt\n",
    "    \n",
    "    # Puntos\n",
    "    x = np.linspace(0, 1, Nx)\n",
    "    y = np.linspace(0, 1, Ny)\n",
    "    t = np.linspace(0, Tmax, Nt)\n",
    "    print len(x),len(y),len(t)\n",
    "    \n",
    "    # Soluciones\n",
    "    sol_u = np.zeros((Nt, Nx, Ny))\n",
    "    sol_v = np.zeros((Nt, Nx, Ny))\n",
    "    \n",
    "    # Valores constantes\n",
    "    a_u = dt*Du/(dx**2)\n",
    "    b_u = dt*Du/(dy**2)\n",
    "    a_v = dt*Dv/(dx**2)\n",
    "    b_v = dt*Dv/(dy**2)\n",
    "    \n",
    "    # condiciones iniciales u/v\n",
    "    sol_u[0,:,:] = u0\n",
    "    sol_v[0,:,:] = v0\n",
    "    \n",
    "    for n in xrange(1, len(t)):\n",
    "        # Resto de casos\n",
    "        Cu = np.zeros((sol_u.shape[1]+2, sol_u.shape[2]+2))\n",
    "        Cu[1:-1,1:-1] = sol_u[n-1,:,:]\n",
    "        Cu[-1,1:-1] = sol_u[n-1,1,:]\n",
    "        Cu[0,1:-1] = sol_u[n-1,-2,:]\n",
    "        Cu[1:-1,0] = sol_u[n-1,:,-2]\n",
    "        Cu[1:-1,-1] = sol_u[n-1,:,1]\n",
    "\n",
    "        Cv = np.zeros((sol_u.shape[1]+2, sol_u.shape[2]+2))\n",
    "        Cv[1:-1,1:-1] = sol_v[n-1,:,:]\n",
    "        Cv[-1,1:-1] = sol_v[n-1,1,:]\n",
    "        Cv[0,1:-1] = sol_v[n-1,-2,:]\n",
    "        Cv[1:-1,0] = sol_v[n-1,:,-2]\n",
    "        Cv[1:-1,-1] = sol_v[n-1,:,1]\n",
    "\n",
    "        for i in xrange(0, len(x)):\n",
    "            for j in xrange(0, len(y)):\n",
    "                sol_u[n,i,j] = a_u*Cu[i+1,j]+a_u*Cu[i-1,j]+(1-2*a_u-2*b_u+dt*l)*Cu[i,j]+b_u*Cu[i,j+1]+b_u*Cu[i,j-1]-dt*sigma*Cv[i,j]-dt*k-dt*(Cu[i,j]**3)\n",
    "                sol_v[n,i,j] = a_v*Cv[i+1,j]+a_v*Cv[i-1,j]+(tau-2*a_v-2*b_v-dt)*Cv[i,j]+b_v*Cv[i,j+1]+b_v*Cv[i,j-1]+dt*Cu[i,j]\n",
    "                sol_v[n,i,j] = sol_v[n,i,j]/tau\n",
    "                if math.isnan(sol_u[n,i,j]):\n",
    "                    print n,i,j\n",
    "                    return sol_u\n",
    "    \n",
    "    return sol_u"
   ]
  },
  {
   "cell_type": "markdown",
   "metadata": {},
   "source": [
    "### c)"
   ]
  },
  {
   "cell_type": "code",
   "execution_count": null,
   "metadata": {
    "collapsed": true
   },
   "outputs": [],
   "source": []
  },
  {
   "cell_type": "markdown",
   "metadata": {},
   "source": [
    "### d)"
   ]
  },
  {
   "cell_type": "code",
   "execution_count": null,
   "metadata": {
    "collapsed": true
   },
   "outputs": [],
   "source": []
  },
  {
   "cell_type": "markdown",
   "metadata": {},
   "source": [
    "# Parte 4: Simulación"
   ]
  },
  {
   "cell_type": "code",
   "execution_count": 56,
   "metadata": {
    "collapsed": false,
    "scrolled": false
   },
   "outputs": [
    {
     "name": "stdout",
     "output_type": "stream",
     "text": [
      "50 50 20000\n",
      "11 0 4\n",
      "[[[ 0.47133797  0.65953225  0.4055382  ...,  0.53024652  0.05103274\n",
      "    0.68755688]\n",
      "  [ 0.50676999  0.14145396  0.46478258 ...,  0.56008323  0.62452656\n",
      "    0.50676999]\n",
      "  [ 0.19962618  0.34569011  0.97509837 ...,  0.38331036  0.15912303\n",
      "    0.19962618]\n",
      "  ..., \n",
      "  [ 0.98718208  0.06660571  0.29708668 ...,  0.20204351  0.90052994\n",
      "    0.98718208]\n",
      "  [ 0.42564581  0.4443282   0.32284233 ...,  0.48200134  0.83355156\n",
      "    0.42564581]\n",
      "  [ 0.47133797  0.65953225  0.4055382  ...,  0.53024652  0.05103274\n",
      "    0.68755688]]\n",
      "\n",
      " [[ 0.39610715  0.19265844  0.25500941 ...,  1.20094531  0.69631644\n",
      "   -0.62174375]\n",
      "  [ 1.33993381  0.26975831 -0.31733713 ..., -0.16694306  0.1683617\n",
      "    2.10482818]\n",
      "  [-0.73807307  0.01653907  1.31360513 ...,  0.66800048  0.34746731\n",
      "   -0.39020508]\n",
      "  ..., \n",
      "  [ 0.53668297  0.52134011  0.86984786 ..., -1.03552569  2.00638695\n",
      "    0.24424191]\n",
      "  [-0.00903702 -0.66064319  1.67849223 ...,  0.62028136  1.13649419\n",
      "    0.10350762]\n",
      "  [-0.42369869  1.28452163  0.19281283 ...,  1.18253899  0.3987965\n",
      "   -0.39239347]]\n",
      "\n",
      " [[ 0.57110996  0.90590797  3.31385058 ..., -1.02756723  1.36004466\n",
      "   -1.32465369]\n",
      "  [-0.99279358  0.91997633 -0.22458992 ...,  4.01205232 -1.81595001\n",
      "   -0.05634945]\n",
      "  [ 1.81892245 -3.0358211   0.40105293 ..., -3.61919071  3.5066947\n",
      "    2.09164069]\n",
      "  ..., \n",
      "  [ 6.80278116  0.16423629 -5.56413234 ...,  0.32386674 -6.12381935\n",
      "    7.10322416]\n",
      "  [-3.67605547  1.56443368  1.11893205 ...,  1.07601486  6.62328263\n",
      "   -5.21277233]\n",
      "  [-1.20247121  0.50158959  4.43021185 ..., -2.48178051  0.62298426\n",
      "   -0.04454139]]\n",
      "\n",
      " ..., \n",
      " [[ 0.          0.          0.         ...,  0.          0.          0.        ]\n",
      "  [ 0.          0.          0.         ...,  0.          0.          0.        ]\n",
      "  [ 0.          0.          0.         ...,  0.          0.          0.        ]\n",
      "  ..., \n",
      "  [ 0.          0.          0.         ...,  0.          0.          0.        ]\n",
      "  [ 0.          0.          0.         ...,  0.          0.          0.        ]\n",
      "  [ 0.          0.          0.         ...,  0.          0.          0.        ]]\n",
      "\n",
      " [[ 0.          0.          0.         ...,  0.          0.          0.        ]\n",
      "  [ 0.          0.          0.         ...,  0.          0.          0.        ]\n",
      "  [ 0.          0.          0.         ...,  0.          0.          0.        ]\n",
      "  ..., \n",
      "  [ 0.          0.          0.         ...,  0.          0.          0.        ]\n",
      "  [ 0.          0.          0.         ...,  0.          0.          0.        ]\n",
      "  [ 0.          0.          0.         ...,  0.          0.          0.        ]]\n",
      "\n",
      " [[ 0.          0.          0.         ...,  0.          0.          0.        ]\n",
      "  [ 0.          0.          0.         ...,  0.          0.          0.        ]\n",
      "  [ 0.          0.          0.         ...,  0.          0.          0.        ]\n",
      "  ..., \n",
      "  [ 0.          0.          0.         ...,  0.          0.          0.        ]\n",
      "  [ 0.          0.          0.         ...,  0.          0.          0.        ]\n",
      "  [ 0.          0.          0.         ...,  0.          0.          0.        ]]]\n"
     ]
    },
    {
     "name": "stderr",
     "output_type": "stream",
     "text": [
      "/usr/lib/python2.7/site-packages/IPython/kernel/__main__.py:44: RuntimeWarning: overflow encountered in double_scalars\n",
      "/usr/lib/python2.7/site-packages/IPython/kernel/__main__.py:44: RuntimeWarning: invalid value encountered in double_scalars\n"
     ]
    }
   ],
   "source": [
    "dt = 0.0005\n",
    "dx = dy = 0.05\n",
    "u0 = np.random.rand(50,50)\n",
    "u0[:,0] = u0[:,-1] = np.random.rand(50)\n",
    "u0[0,:] = u0[-1,:] = np.random.rand(50)\n",
    "\n",
    "v0 = np.random.rand(50,50)\n",
    "v0[:,0] = v0[:,-1] = np.random.rand(50)\n",
    "v0[0,:] = v0[-1,:] = np.random.rand(50)\n",
    "Du = 3*np.e - 4\n",
    "Dv = 4*np.e - 3\n",
    "l = 1.0\n",
    "tau = 0.2\n",
    "sigma = 1.0\n",
    "k = -0.004\n",
    "sol = solve_forward(u0, v0, dx, dy, dt, 10, Du, Dv, l, tau, sigma, k)\n",
    "print sol\n",
    "#animate.animate_pattern(sol)"
   ]
  },
  {
   "cell_type": "code",
   "execution_count": 53,
   "metadata": {
    "collapsed": false
   },
   "outputs": [
    {
     "name": "stdout",
     "output_type": "stream",
     "text": [
      "True\n"
     ]
    }
   ],
   "source": [
    "animate.animate_pattern(sol, time_step=5)"
   ]
  },
  {
   "cell_type": "markdown",
   "metadata": {},
   "source": [
    "## Conclusiones"
   ]
  },
  {
   "cell_type": "markdown",
   "metadata": {},
   "source": [
    "+ Nullam tincidunt commodo arcu et consectetur. Duis iaculis, risus vel scelerisque interdum, ante nunc varius urna, nec accumsan ex purus vitae turpis. Etiam ut egestas ligula, id lacinia nunc. \n",
    "+ Praesent sodales ligula eu lorem placerat convallis. Maecenas elementum venenatis maximus. Class aptent taciti sociosqu ad litora torquent per conubia nostra, per inceptos himenaeos. Proin vitae finibus nulla, vel auctor orci. Ut et sodales lectus, nec sodales nunc. \n",
    "+ Quisque laoreet feugiat diam, a lacinia felis pharetra eu. Donec feugiat elit sapien, a cursus diam hendrerit in.\n",
    "+ Etiam porta ipsum a aliquet hendrerit. Pellentesque fringilla dolor pulvinar lorem ullamcorper, non vestibulum nulla volutpat. Sed ac diam fringilla tortor iaculis tincidunt. \n",
    "+ Integer sapien augue, accumsan nec sagittis at, sagittis quis quam. Maecenas consectetur metus non tellus laoreet, nec efficitur lacus venenatis. Nullam ac dolor quis orci pretium commodo. \n",
    "+ Maecenas eget ex in lectus tincidunt lobortis. Donec non gravida nisl. Fusce sagittis sagittis neque consectetur cursus. Duis commodo mauris ligula, eu aliquam purus porta quis. \n",
    "+ Suspendisse euismod mi lorem, in ultricies neque interdum sit amet. Vivamus ut ullamcorper tortor, vel faucibus risus. Curabitur malesuada lorem diam. Nam ornare nisi id sapien viverra, semper commodo dolor eleifend. "
   ]
  },
  {
   "cell_type": "markdown",
   "metadata": {},
   "source": [
    "## Anexos"
   ]
  },
  {
   "cell_type": "markdown",
   "metadata": {},
   "source": [
    "En la siguiente sección se encuentra todo el código necesario para reproducir cada uno de los resultados mostrados anteriormente. Para poder ejecutar el código en el informe, se debe en primer lugar ejecutar las celdas de código presentes en este anexo."
   ]
  },
  {
   "cell_type": "markdown",
   "metadata": {},
   "source": [
    "### Configuración del notebook"
   ]
  },
  {
   "cell_type": "code",
   "execution_count": 29,
   "metadata": {
    "collapsed": false
   },
   "outputs": [],
   "source": [
    "#notebook settings\n",
    "#%matplotlib inline\n",
    "%matplotlib qt\n",
    "\n",
    "#import some useful libraries and utilities\n",
    "import numpy as np\n",
    "import matplotlib.pyplot as plt\n",
    "import animate\n",
    "import math"
   ]
  },
  {
   "cell_type": "code",
   "execution_count": null,
   "metadata": {
    "collapsed": true
   },
   "outputs": [],
   "source": []
  },
  {
   "cell_type": "code",
   "execution_count": null,
   "metadata": {
    "collapsed": true
   },
   "outputs": [],
   "source": []
  }
 ],
 "metadata": {
  "kernelspec": {
   "display_name": "Python 2",
   "language": "python",
   "name": "python2"
  },
  "language_info": {
   "codemirror_mode": {
    "name": "ipython",
    "version": 2
   },
   "file_extension": ".py",
   "mimetype": "text/x-python",
   "name": "python",
   "nbconvert_exporter": "python",
   "pygments_lexer": "ipython2",
   "version": "2.7.10"
  }
 },
 "nbformat": 4,
 "nbformat_minor": 0
}
