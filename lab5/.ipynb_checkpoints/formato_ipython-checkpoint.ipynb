{
 "cells": [
  {
   "cell_type": "markdown",
   "metadata": {},
   "source": [
    "# Laboratorio N°5 - Computación Científica II - ILI286"
   ]
  },
  {
   "cell_type": "markdown",
   "metadata": {},
   "source": [
    "**Autores**:\n",
    "+ Gonzalo Moya - 201173016-k \n",
    "+ Ariel Sanhueza     - 201173005-4"
   ]
  },
  {
   "cell_type": "markdown",
   "metadata": {},
   "source": [
    "## Introducción"
   ]
  },
  {
   "cell_type": "markdown",
   "metadata": {},
   "source": [
    "Lorem ipsum dolor sit amet, consectetur adipiscing elit. Morbi venenatis dui felis. Donec ante libero, vestibulum nec faucibus sit amet, congue vel erat. Aliquam aliquet dolor mauris. Quisque egestas tincidunt aliquet. Integer tempor tellus quis commodo porttitor. Donec accumsan tellus sed leo sodales, ac malesuada lacus dignissim. Aliquam erat volutpat. Nunc laoreet vitae felis nec varius. Maecenas sed sem non quam faucibus tristique. Nullam scelerisque ante arcu, id faucibus orci tincidunt nec. Aliquam eu leo vehicula leo maximus vulputate. Donec eget nibh dolor. Aliquam eget ullamcorper erat. Nulla sodales, metus finibus venenatis tristique, elit neque pretium mi, eu maximus nibh turpis vulputate lectus. Phasellus vitae pharetra nisi. "
   ]
  },
  {
   "cell_type": "markdown",
   "metadata": {},
   "source": [
    "## Desarrollo"
   ]
  },
  {
   "cell_type": "markdown",
   "metadata": {},
   "source": [
    "### Parte 2:  Diferencias finitas en 2D"
   ]
  },
  {
   "cell_type": "markdown",
   "metadata": {},
   "source": [
    "### a)  Discretizacion forward\n",
    "\n",
    "Para la discretizacion con un esquema forward, primero se presentan los elemenos que incluyen la derivación númerica para despues ser reemplazados en los sistemas correspondientes:\n",
    "\\begin{equation*}\n",
    "{\\Delta} u = \\frac{u_{i-1,j,n}-2u_{i,j,n}+u_{i+1,j,n}}{{\\Delta x}^2} + \\frac{u_{i,j-1,n}-2u_{i,j,n}+u_{i,j+1,n}}{{\\Delta y}^2}  \\\\\n",
    "{\\Delta} v = \\frac{v_{i-1,j,n}-2v_{i,j,n}+v_{i+1,j,n}}{{\\Delta x}^2} + \\frac{v_{i,j-1,n}-2v_{i,j,n}+v_{i,j+1,n}}{{\\Delta y}^2}  \\\\\n",
    "\\partial_t u = \\frac{u_{i,j,n+1} - u_{i,j,n}}{\\Delta t} \\\\\n",
    "\\partial_t v = \\frac{u_{i,j,n+1} - v_{i,j,n}}{\\Delta t}.\n",
    "\\end{equation*}\n",
    "Luego al ser utilizadas estas discretizaciones en el sistema que fue presentado y ademas discretizar el resto de los elemenos que dependan de $u$ y $v$, el restultado es:\n",
    "\\begin{align*}\n",
    "\\frac{u_{i,j,n+1} - u_{i,j,n}}{\\Delta t}  = \n",
    "D_{u} \\frac{u_{i-1,j,n}-2u_{i,j,n}+u_{i+1,j,n}}{{\\Delta x}^2} + D_u \\frac{u_{i,j-1,n}-2u_{i,j,n}+u_{i,j+1,n}}{{\\Delta y}^2} +\n",
    "\\lambda u_{i,j,n} - {u_{i,j,n}}^3 - \\sigma v_{i,j,n} \\\\\n",
    "\\tau \\frac{v_{i,j,n+1} - v_{i,j,n}}{\\Delta t}  = \n",
    "D_{v} \\frac{v_{i-1,j,n}-2v_{i,j,n}+v_{i+1,j,n}}{{\\Delta x}^2} + D_v \\frac{v_{i,j-1,n}-2v_{i,j,n}+v_{i,j+1,n}}{{\\Delta y}^2} + u_{i,j,n}  - v_{i,j,n}.\n",
    "\\end{align*}\n",
    "Finalmente se opera para re-agrupar términos semejantes y dejar ordenado el sistema:\n",
    "\\begin{align*}\n",
    "u_{i,j,n+1} = \\frac{\\Delta t D_u}{\\Delta x^2}u_{i+1,j,n} + \\frac{\\Delta t D_u}{\\Delta x^2}u_{i-1,j,n} + \n",
    "\\big( 1 - 2\\frac{\\Delta t D_u}{\\Delta x^2} - 2\\frac{\\Delta t D_u}{\\Delta y^2} + \\Delta t \\lambda \\big)u_{i,j,n} + \\Delta t {u_{i,j,k}}^3 \\frac{\\Delta t D_u}{\\Delta y^2}u_{i,j+1,n} + \\frac{\\Delta t D_u}{\\Delta y^2}u_{i,j-1,n} - \\sigma v_{i,j,n} \\\\\n",
    "\\tau v_{i,j,n+1} = \\frac{\\Delta t D_v}{\\Delta x^2}v_{i+1,j,n} + \\frac{\\Delta t D_v}{\\Delta x^2}v_{i-1,j,n} + \n",
    "\\big( \\tau - 2\\frac{\\Delta t D_u}{\\Delta x^2} - 2\\frac{\\Delta t D_u}{\\Delta y^2} - \\Delta t \\big)v_{i,j,n} +  \\frac{\\Delta t D_v}{\\Delta y^2}v_{i,j+1,n} + \\frac{\\Delta t D_v}{\\Delta y^2}v_{i,j-1,n} + u_{i,j,n} \\\\ \n",
    "\\end{align*}\n"
   ]
  },
  {
   "cell_type": "markdown",
   "metadata": {},
   "source": [
    "### b)"
   ]
  },
  {
   "cell_type": "code",
   "execution_count": 36,
   "metadata": {
    "collapsed": false
   },
   "outputs": [],
   "source": [
    "def solve_forward(u0, v0, dx, dy, dt, Tmax, Du, Dv, l, tau, sigma, k):\n",
    "    Nx = 50\n",
    "    Ny = 50\n",
    "    Nt = Tmax/dt + 1\n",
    "    \n",
    "    # Puntos\n",
    "    x = np.linspace(0, 1, Nx)\n",
    "    y = np.linspace(0, 1, Ny)\n",
    "    t = np.linspace(0, Tmax, Nt)\n",
    "    \n",
    "    # Soluciones\n",
    "    sol_u = np.zeros((Nt, Nx, Ny))\n",
    "    sol_v = np.zeros((Nt, Nx, Ny))\n",
    "    \n",
    "    # Valores constantes\n",
    "    a_u = dt*Du/(dx**2)\n",
    "    b_u = dt*Du/(dy**2)\n",
    "    a_v = dt*Dv/(dx**2)\n",
    "    b_v = dt*Dv/(dy**2)\n",
    "    \n",
    "    # condiciones iniciales u/v\n",
    "    sol_u[0,:,:] = u0\n",
    "    sol_v[0,:,:] = v0\n",
    "    \n",
    "    for n in xrange(1, len(t)):\n",
    "        # Resto de casos\n",
    "        Cu = np.zeros((sol_u.shape[1]+2, sol_u.shape[2]+2))\n",
    "        Cu[1:-1,1:-1] = sol_u[n-1,:,:]\n",
    "        Cu[-1,1:-1] = sol_u[n-1,1,:]\n",
    "        Cu[0,1:-1] = sol_u[n-1,-2,:]\n",
    "        Cu[1:-1,0] = sol_u[n-1,:,-2]\n",
    "        Cu[1:-1,-1] = sol_u[n-1,:,1]\n",
    "\n",
    "        Cv = np.zeros((sol_u.shape[1]+2, sol_u.shape[2]+2))\n",
    "        Cv[1:-1,1:-1] = sol_v[n-1,:,:]\n",
    "        Cv[-1,1:-1] = sol_v[n-1,1,:]\n",
    "        Cv[0,1:-1] = sol_v[n-1,-2,:]\n",
    "        Cv[1:-1,0] = sol_v[n-1,:,-2]\n",
    "        Cv[1:-1,-1] = sol_v[n-1,:,1]\n",
    "\n",
    "        for i in xrange(0, len(x)):\n",
    "            for j in xrange(0, len(y)):\n",
    "                sol_u[n,i,j] = a_u*Cu[i+1,j]+a_u*Cu[i-1,j]+(1-2*a_u-2*b_u+dt*l)*Cu[i,j]+dt*Cu[i,j]**3+b_u*Cu[i,j+1]+b_u*Cv[i,j-1]-sigma*Cv[i,j]\n",
    "                sol_v[n,i,j] = a_v*Cv[i+1,j]+a_v*Cv[i-1,j]+(tau-2*a_v-2*b_v-dt)*Cv[i,j]+b_v*Cv[i,j+1]+b_v*Cv[i,j-1]+Cu[i,j]\n",
    "                sol_v[n,i,j] = sol_v[n,i,j]/tau\n",
    "                if math.isnan(sol_u[n,i,j]):\n",
    "                    print n,i,j\n",
    "                    return sol_u\n",
    "    \n",
    "    return sol_u"
   ]
  },
  {
   "cell_type": "markdown",
   "metadata": {},
   "source": [
    "### c)"
   ]
  },
  {
   "cell_type": "code",
   "execution_count": null,
   "metadata": {
    "collapsed": true
   },
   "outputs": [],
   "source": []
  },
  {
   "cell_type": "markdown",
   "metadata": {},
   "source": [
    "### d)"
   ]
  },
  {
   "cell_type": "code",
   "execution_count": null,
   "metadata": {
    "collapsed": true
   },
   "outputs": [],
   "source": []
  },
  {
   "cell_type": "markdown",
   "metadata": {},
   "source": [
    "# Parte 4: Simulación"
   ]
  },
  {
   "cell_type": "code",
   "execution_count": 37,
   "metadata": {
    "collapsed": false,
    "scrolled": false
   },
   "outputs": [
    {
     "name": "stderr",
     "output_type": "stream",
     "text": [
      "/Users/asanhuez/.miniconda2/lib/python2.7/site-packages/ipykernel/__main__.py:12: DeprecationWarning: using a non-integer number instead of an integer will result in an error in the future\n",
      "/Users/asanhuez/.miniconda2/lib/python2.7/site-packages/ipykernel/__main__.py:13: DeprecationWarning: using a non-integer number instead of an integer will result in an error in the future\n",
      "/Users/asanhuez/.miniconda2/lib/python2.7/site-packages/ipykernel/__main__.py:43: RuntimeWarning: overflow encountered in double_scalars\n"
     ]
    },
    {
     "name": "stdout",
     "output_type": "stream",
     "text": [
      "9 0 1\n",
      "[[[  2.92731463e-01   3.35864971e-01   6.46593781e-02 ...,   9.75759121e-01\n",
      "     1.36168626e-01   5.28638179e-01]\n",
      "  [  9.67862333e-01   8.85663282e-01   4.33019266e-01 ...,   1.58754218e-01\n",
      "     6.65670584e-01   7.49217297e-01]\n",
      "  [  7.74164717e-01   1.65130311e-01   4.11254351e-01 ...,   3.44815566e-01\n",
      "     5.14267675e-01   7.37517876e-01]\n",
      "  ..., \n",
      "  [  3.86339733e-01   2.15420086e-01   8.09236605e-02 ...,   7.47636178e-01\n",
      "     1.67428302e-01   8.86562739e-01]\n",
      "  [  3.40339545e-02   5.73661944e-01   2.96645390e-01 ...,   4.55407031e-01\n",
      "     1.14335359e-02   8.85285924e-01]\n",
      "  [  1.66237929e-01   1.50826208e-02   2.66749185e-01 ...,   7.16341854e-01\n",
      "     4.03658178e-02   2.54192096e-01]]\n",
      "\n",
      " [[  7.07165421e-01   6.95118547e+00  -2.89191995e+00 ...,  -5.76493007e+00\n",
      "    -3.00863074e+00   9.50795310e+00]\n",
      "  [  3.41466634e+00   2.83503072e+00   4.42291696e+00 ...,   1.36600574e+01\n",
      "    -1.17788429e+01   3.11118876e+00]\n",
      "  [ -1.75053227e+00  -5.39375029e+00  -8.88015883e+00 ...,  -6.68126646e+00\n",
      "     5.72377811e+00  -3.44245679e+00]\n",
      "  ..., \n",
      "  [  2.35989562e+00  -1.84001654e-01  -1.30302262e+00 ...,   3.16300300e+00\n",
      "    -9.91237374e+00  -8.57982136e-01]\n",
      "  [  2.64051472e+00  -1.91876878e+00   3.27893686e+00 ...,  -2.27040248e+00\n",
      "    -1.97349881e+00   3.55363886e+00]\n",
      "  [  3.57092251e+00   6.66293061e+00  -7.00947797e+00 ...,  -2.17270499e+00\n",
      "    -1.63975585e+00   7.03978754e+00]]\n",
      "\n",
      " [[ -1.52946518e+00  -3.89499529e+01   1.79995897e+02 ...,   2.36463509e+02\n",
      "     2.48922039e+01  -3.56061664e+02]\n",
      "  [  3.34670136e+02  -2.88872914e+02  -4.74723819e+01 ...,  -1.74446862e+02\n",
      "     9.55766376e+01   3.40348928e+02]\n",
      "  [ -1.55834702e+02   1.87051680e+02  -5.66665416e+01 ...,   4.11322352e+02\n",
      "    -7.43514278e+02   2.89501512e+02]\n",
      "  ..., \n",
      "  [ -1.89579905e+02   1.02356980e+02   3.67720166e+01 ...,   1.35734352e+02\n",
      "    -7.53958938e+01  -1.92164660e+02]\n",
      "  [  5.70785804e+02  -7.80309420e+01   1.83285121e+01 ...,   4.50317146e+01\n",
      "    -3.22621950e+02   5.85275228e+02]\n",
      "  [ -3.20398096e+02   1.13793070e+02   1.66254630e+02 ...,   2.79418715e+02\n",
      "    -3.79629504e+00  -3.42619310e+02]]\n",
      "\n",
      " ..., \n",
      " [[  0.00000000e+00   0.00000000e+00   0.00000000e+00 ...,   0.00000000e+00\n",
      "     0.00000000e+00   0.00000000e+00]\n",
      "  [  0.00000000e+00   0.00000000e+00   0.00000000e+00 ...,   0.00000000e+00\n",
      "     0.00000000e+00   0.00000000e+00]\n",
      "  [  0.00000000e+00   0.00000000e+00   0.00000000e+00 ...,   0.00000000e+00\n",
      "     0.00000000e+00   0.00000000e+00]\n",
      "  ..., \n",
      "  [  0.00000000e+00   0.00000000e+00   0.00000000e+00 ...,   0.00000000e+00\n",
      "     0.00000000e+00   0.00000000e+00]\n",
      "  [  0.00000000e+00   0.00000000e+00   0.00000000e+00 ...,   0.00000000e+00\n",
      "     0.00000000e+00   0.00000000e+00]\n",
      "  [  0.00000000e+00   0.00000000e+00   0.00000000e+00 ...,   0.00000000e+00\n",
      "     0.00000000e+00   0.00000000e+00]]\n",
      "\n",
      " [[  0.00000000e+00   0.00000000e+00   0.00000000e+00 ...,   0.00000000e+00\n",
      "     0.00000000e+00   0.00000000e+00]\n",
      "  [  0.00000000e+00   0.00000000e+00   0.00000000e+00 ...,   0.00000000e+00\n",
      "     0.00000000e+00   0.00000000e+00]\n",
      "  [  0.00000000e+00   0.00000000e+00   0.00000000e+00 ...,   0.00000000e+00\n",
      "     0.00000000e+00   0.00000000e+00]\n",
      "  ..., \n",
      "  [  0.00000000e+00   0.00000000e+00   0.00000000e+00 ...,   0.00000000e+00\n",
      "     0.00000000e+00   0.00000000e+00]\n",
      "  [  0.00000000e+00   0.00000000e+00   0.00000000e+00 ...,   0.00000000e+00\n",
      "     0.00000000e+00   0.00000000e+00]\n",
      "  [  0.00000000e+00   0.00000000e+00   0.00000000e+00 ...,   0.00000000e+00\n",
      "     0.00000000e+00   0.00000000e+00]]\n",
      "\n",
      " [[  0.00000000e+00   0.00000000e+00   0.00000000e+00 ...,   0.00000000e+00\n",
      "     0.00000000e+00   0.00000000e+00]\n",
      "  [  0.00000000e+00   0.00000000e+00   0.00000000e+00 ...,   0.00000000e+00\n",
      "     0.00000000e+00   0.00000000e+00]\n",
      "  [  0.00000000e+00   0.00000000e+00   0.00000000e+00 ...,   0.00000000e+00\n",
      "     0.00000000e+00   0.00000000e+00]\n",
      "  ..., \n",
      "  [  0.00000000e+00   0.00000000e+00   0.00000000e+00 ...,   0.00000000e+00\n",
      "     0.00000000e+00   0.00000000e+00]\n",
      "  [  0.00000000e+00   0.00000000e+00   0.00000000e+00 ...,   0.00000000e+00\n",
      "     0.00000000e+00   0.00000000e+00]\n",
      "  [  0.00000000e+00   0.00000000e+00   0.00000000e+00 ...,   0.00000000e+00\n",
      "     0.00000000e+00   0.00000000e+00]]]\n"
     ]
    },
    {
     "name": "stderr",
     "output_type": "stream",
     "text": [
      "/Users/asanhuez/.miniconda2/lib/python2.7/site-packages/ipykernel/__main__.py:43: RuntimeWarning: invalid value encountered in double_scalars\n"
     ]
    }
   ],
   "source": [
    "dt = 0.0004\n",
    "dx = dy = 0.02\n",
    "u0 = np.random.rand(50,50)\n",
    "v0 = np.random.rand(50,50)\n",
    "Du = 3*np.e - 4\n",
    "Dv = 4*np.e - 3\n",
    "l = 1.0\n",
    "tau = 0.2\n",
    "sigma = 1.0\n",
    "k = -0.004\n",
    "sol = solve_forward(u0, v0, dx, dy, dt, 10, Du, Dv, l, tau, sigma, k)\n",
    "print sol\n",
    "#animate.animate_pattern(sol,time_step=100)"
   ]
  },
  {
   "cell_type": "markdown",
   "metadata": {},
   "source": [
    "## Conclusiones"
   ]
  },
  {
   "cell_type": "markdown",
   "metadata": {},
   "source": [
    "+ Nullam tincidunt commodo arcu et consectetur. Duis iaculis, risus vel scelerisque interdum, ante nunc varius urna, nec accumsan ex purus vitae turpis. Etiam ut egestas ligula, id lacinia nunc. \n",
    "+ Praesent sodales ligula eu lorem placerat convallis. Maecenas elementum venenatis maximus. Class aptent taciti sociosqu ad litora torquent per conubia nostra, per inceptos himenaeos. Proin vitae finibus nulla, vel auctor orci. Ut et sodales lectus, nec sodales nunc. \n",
    "+ Quisque laoreet feugiat diam, a lacinia felis pharetra eu. Donec feugiat elit sapien, a cursus diam hendrerit in.\n",
    "+ Etiam porta ipsum a aliquet hendrerit. Pellentesque fringilla dolor pulvinar lorem ullamcorper, non vestibulum nulla volutpat. Sed ac diam fringilla tortor iaculis tincidunt. \n",
    "+ Integer sapien augue, accumsan nec sagittis at, sagittis quis quam. Maecenas consectetur metus non tellus laoreet, nec efficitur lacus venenatis. Nullam ac dolor quis orci pretium commodo. \n",
    "+ Maecenas eget ex in lectus tincidunt lobortis. Donec non gravida nisl. Fusce sagittis sagittis neque consectetur cursus. Duis commodo mauris ligula, eu aliquam purus porta quis. \n",
    "+ Suspendisse euismod mi lorem, in ultricies neque interdum sit amet. Vivamus ut ullamcorper tortor, vel faucibus risus. Curabitur malesuada lorem diam. Nam ornare nisi id sapien viverra, semper commodo dolor eleifend. "
   ]
  },
  {
   "cell_type": "markdown",
   "metadata": {},
   "source": [
    "## Anexos"
   ]
  },
  {
   "cell_type": "markdown",
   "metadata": {},
   "source": [
    "En la siguiente sección se encuentra todo el código necesario para reproducir cada uno de los resultados mostrados anteriormente. Para poder ejecutar el código en el informe, se debe en primer lugar ejecutar las celdas de código presentes en este anexo."
   ]
  },
  {
   "cell_type": "markdown",
   "metadata": {},
   "source": [
    "### Configuración del notebook"
   ]
  },
  {
   "cell_type": "code",
   "execution_count": 3,
   "metadata": {
    "collapsed": false
   },
   "outputs": [],
   "source": [
    "#notebook settings\n",
    "#%matplotlib inline\n",
    "%matplotlib qt\n",
    "\n",
    "#import some useful libraries and utilities\n",
    "import numpy as np\n",
    "import matplotlib.pyplot as plt\n",
    "import animate\n",
    "import math"
   ]
  },
  {
   "cell_type": "code",
   "execution_count": null,
   "metadata": {
    "collapsed": true
   },
   "outputs": [],
   "source": []
  }
 ],
 "metadata": {
  "kernelspec": {
   "display_name": "Python 2",
   "language": "python",
   "name": "python2"
  },
  "language_info": {
   "codemirror_mode": {
    "name": "ipython",
    "version": 2
   },
   "file_extension": ".py",
   "mimetype": "text/x-python",
   "name": "python",
   "nbconvert_exporter": "python",
   "pygments_lexer": "ipython2",
   "version": "2.7.11"
  }
 },
 "nbformat": 4,
 "nbformat_minor": 0
}
