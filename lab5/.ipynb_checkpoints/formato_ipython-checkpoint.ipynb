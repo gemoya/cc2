{
 "cells": [
  {
   "cell_type": "markdown",
   "metadata": {},
   "source": [
    "# Laboratorio N°5 - Computación Científica II - ILI286"
   ]
  },
  {
   "cell_type": "markdown",
   "metadata": {},
   "source": [
    "**Autores**:\n",
    "+ Gonzalo Moya - 201173016-k \n",
    "+ Ariel Sanhueza     - 201173005-4"
   ]
  },
  {
   "cell_type": "markdown",
   "metadata": {},
   "source": [
    "## Introducción"
   ]
  },
  {
   "cell_type": "markdown",
   "metadata": {},
   "source": [
    "Lorem ipsum dolor sit amet, consectetur adipiscing elit. Morbi venenatis dui felis. Donec ante libero, vestibulum nec faucibus sit amet, congue vel erat. Aliquam aliquet dolor mauris. Quisque egestas tincidunt aliquet. Integer tempor tellus quis commodo porttitor. Donec accumsan tellus sed leo sodales, ac malesuada lacus dignissim. Aliquam erat volutpat. Nunc laoreet vitae felis nec varius. Maecenas sed sem non quam faucibus tristique. Nullam scelerisque ante arcu, id faucibus orci tincidunt nec. Aliquam eu leo vehicula leo maximus vulputate. Donec eget nibh dolor. Aliquam eget ullamcorper erat. Nulla sodales, metus finibus venenatis tristique, elit neque pretium mi, eu maximus nibh turpis vulputate lectus. Phasellus vitae pharetra nisi. "
   ]
  },
  {
   "cell_type": "markdown",
   "metadata": {},
   "source": [
    "## Desarrollo"
   ]
  },
  {
   "cell_type": "markdown",
   "metadata": {},
   "source": [
    "### Parte 2:  Diferencias finitas en 2D"
   ]
  },
  {
   "cell_type": "markdown",
   "metadata": {},
   "source": [
    "### a)  Discretizacion forward\n",
    "\n",
    "Para la discretizacion con un esquema forward, primero se presentan los elemenos que incluyen la derivación númerica para despues ser reemplazados en los sistemas correspondientes:\n",
    "\\begin{equation*}\n",
    "{\\Delta} u = \\frac{u_{i-1,j,n}-2u_{i,j,n}+u_{i+1,j,n}}{{\\Delta x}^2} + \\frac{u_{i,j-1,n}-2u_{i,j,n}+u_{i,j+1,n}}{{\\Delta y}^2}  \\\\\n",
    "{\\Delta} v = \\frac{v_{i-1,j,n}-2v_{i,j,n}+v_{i+1,j,n}}{{\\Delta x}^2} + \\frac{v_{i,j-1,n}-2v_{i,j,n}+v_{i,j+1,n}}{{\\Delta y}^2}  \\\\\n",
    "\\partial_t u = \\frac{u_{i,j,n+1} - u_{i,j,n}}{\\Delta t} \\\\\n",
    "\\partial_t v = \\frac{u_{i,j,n+1} - v_{i,j,n}}{\\Delta t}.\n",
    "\\end{equation*}\n",
    "Luego al ser utilizadas estas discretizaciones en el sistema que fue presentado y ademas discretizar el resto de los elemenos que dependan de $u$ y $v$, el restultado es:\n",
    "\\begin{align*}\n",
    "\\frac{u_{i,j,n+1} - u_{i,j,n}}{\\Delta t}  = \n",
    "D_{u} \\frac{u_{i-1,j,n}-2u_{i,j,n}+u_{i+1,j,n}}{{\\Delta x}^2} + D_u \\frac{u_{i,j-1,n}-2u_{i,j,n}+u_{i,j+1,n}}{{\\Delta y}^2} +\n",
    "\\lambda u_{i,j,n} - {u_{i,j,n}}^3 - \\sigma v_{i,j,n} \\\\\n",
    "\\tau \\frac{v_{i,j,n+1} - v_{i,j,n}}{\\Delta t}  = \n",
    "D_{v} \\frac{v_{i-1,j,n}-2v_{i,j,n}+v_{i+1,j,n}}{{\\Delta x}^2} + D_v \\frac{v_{i,j-1,n}-2v_{i,j,n}+v_{i,j+1,n}}{{\\Delta y}^2} + u_{i,j,n}  - v_{i,j,n}.\n",
    "\\end{align*}\n",
    "Finalmente se opera para re-agrupar términos semejantes y dejar ordenado el sistema:\n",
    "\\begin{align*}\n",
    "u_{i,j,n+1} = \\frac{\\Delta t D_u}{\\Delta x^2}u_{i+1,j,n} + \\frac{\\Delta t D_u}{\\Delta x^2}u_{i-1,j,n} + \n",
    "\\big( 1 - 2\\frac{\\Delta t D_u}{\\Delta x^2} - 2\\frac{\\Delta t D_u}{\\Delta y^2} + \\Delta t \\lambda \\big)u_{i,j,n} + \\Delta t {u_{i,j,k}}^3 \\frac{\\Delta t D_u}{\\Delta y^2}u_{i,j+1,n} + \\frac{\\Delta t D_u}{\\Delta y^2}u_{i,j-1,n} - \\sigma v_{i,j,n} \\\\\n",
    "\\tau v_{i,j,n+1} = \\frac{\\Delta t D_v}{\\Delta x^2}v_{i+1,j,n} + \\frac{\\Delta t D_v}{\\Delta x^2}v_{i-1,j,n} + \n",
    "\\big( \\tau - 2\\frac{\\Delta t D_u}{\\Delta x^2} - 2\\frac{\\Delta t D_u}{\\Delta y^2} - \\Delta t \\big)v_{i,j,n} +  \\frac{\\Delta t D_v}{\\Delta y^2}v_{i,j+1,n} + \\frac{\\Delta t D_v}{\\Delta y^2}v_{i,j-1,n} + u_{i,j,n} \\\\ \n",
    "\\end{align*}\n"
   ]
  },
  {
   "cell_type": "markdown",
   "metadata": {},
   "source": [
    "### b)"
   ]
  },
  {
   "cell_type": "code",
   "execution_count": 73,
   "metadata": {
    "collapsed": false
   },
   "outputs": [],
   "source": [
    "def solve_forward(u0, v0, N, Tmax, Du, Dv, l, tau, sigma, k):\n",
    "    Nx = N\n",
    "    Ny = N\n",
    "    dx = dy = 1./(N-1)\n",
    "    dt = dx**2\n",
    "    Nt = Tmax/dt\n",
    "    \n",
    "    print dx, dt\n",
    "    \n",
    "    # Puntos\n",
    "    x = np.linspace(0, 1, Nx)\n",
    "    y = np.linspace(0, 1, Ny)\n",
    "    t = np.linspace(0, Tmax, Nt)\n",
    "    print len(x),len(y),len(t)\n",
    "    \n",
    "    # Soluciones\n",
    "    sol_u = np.zeros((Nt, Nx, Ny))\n",
    "    sol_v = np.zeros((Nt, Nx, Ny))\n",
    "    \n",
    "    # Valores constantes\n",
    "    a_u = dt*Du/(dx**2)\n",
    "    b_u = dt*Du/(dy**2)\n",
    "    a_v = dt*Dv/(dx**2)\n",
    "    b_v = dt*Dv/(dy**2)\n",
    "    \n",
    "    # condiciones iniciales u/v\n",
    "    sol_u[0,:,:] = u0\n",
    "    sol_v[0,:,:] = v0\n",
    "    \n",
    "    for n in xrange(1, len(t)):\n",
    "        # Resto de casos\n",
    "        Cu = np.zeros((sol_u.shape[1]+2, sol_u.shape[2]+2))\n",
    "        Cu[1:-1,1:-1] = sol_u[n-1,:,:]\n",
    "        Cu[-1,1:-1] = sol_u[n-1,1,:]\n",
    "        Cu[0,1:-1] = sol_u[n-1,-2,:]\n",
    "        Cu[1:-1,0] = sol_u[n-1,:,-2]\n",
    "        Cu[1:-1,-1] = sol_u[n-1,:,1]\n",
    "\n",
    "        Cv = np.zeros((sol_u.shape[1]+2, sol_u.shape[2]+2))\n",
    "        Cv[1:-1,1:-1] = sol_v[n-1,:,:]\n",
    "        Cv[-1,1:-1] = sol_v[n-1,1,:]\n",
    "        Cv[0,1:-1] = sol_v[n-1,-2,:]\n",
    "        Cv[1:-1,0] = sol_v[n-1,:,-2]\n",
    "        Cv[1:-1,-1] = sol_v[n-1,:,1]\n",
    "\n",
    "        for i in xrange(0, len(x)):\n",
    "            for j in xrange(0, len(y)):\n",
    "                sol_u[n,i,j] = a_u*Cu[i+1,j]+a_u*Cu[i-1,j]+(1-2*a_u-2*b_u+dt*l)*Cu[i,j]+b_u*Cu[i,j+1]+b_u*Cu[i,j-1]-dt*sigma*Cv[i,j]-dt*k-dt*(Cu[i,j]**3)\n",
    "                sol_v[n,i,j] = a_v*Cv[i+1,j]+a_v*Cv[i-1,j]+(tau-2*a_v-2*b_v-dt)*Cv[i,j]+b_v*Cv[i,j+1]+b_v*Cv[i,j-1]+dt*Cu[i,j]\n",
    "                sol_v[n,i,j] = sol_v[n,i,j]/tau\n",
    "                if math.isnan(sol_u[n,i,j]):\n",
    "                    print n,i,j\n",
    "                    return sol_u\n",
    "    \n",
    "    return sol_u"
   ]
  },
  {
   "cell_type": "markdown",
   "metadata": {},
   "source": [
    "### c)"
   ]
  },
  {
   "cell_type": "code",
   "execution_count": null,
   "metadata": {
    "collapsed": true
   },
   "outputs": [],
   "source": []
  },
  {
   "cell_type": "markdown",
   "metadata": {},
   "source": [
    "### d)"
   ]
  },
  {
   "cell_type": "code",
   "execution_count": null,
   "metadata": {
    "collapsed": true
   },
   "outputs": [],
   "source": []
  },
  {
   "cell_type": "markdown",
   "metadata": {},
   "source": [
    "# Parte 4: Simulación"
   ]
  },
  {
   "cell_type": "code",
   "execution_count": 75,
   "metadata": {
    "collapsed": false,
    "scrolled": false
   },
   "outputs": [
    {
     "name": "stdout",
     "output_type": "stream",
     "text": [
      "0.05 0.0025\n",
      "21 21 3999\n",
      "[[[  9.50596426e-01   9.77398819e-01   5.59445260e-01 ...,   8.24399734e-01\n",
      "     6.62030510e-01   6.23566524e-01]\n",
      "  [  7.79082310e-01   3.81560979e-01   2.94979028e-01 ...,   7.62636739e-01\n",
      "     2.06461357e-01   7.79082310e-01]\n",
      "  [  7.41109835e-01   5.42315740e-01   1.84813623e-01 ...,   7.57890470e-01\n",
      "     5.64213085e-01   7.41109835e-01]\n",
      "  ..., \n",
      "  [  4.80445231e-01   5.81336401e-01   5.08742126e-01 ...,   8.94544749e-01\n",
      "     2.24392919e-01   4.80445231e-01]\n",
      "  [  5.79600527e-01   7.72270598e-01   8.42244859e-01 ...,   5.61865909e-01\n",
      "     3.25374332e-01   5.79600527e-01]\n",
      "  [  9.50596426e-01   9.77398819e-01   5.59445260e-01 ...,   8.24399734e-01\n",
      "     6.62030510e-01   6.23566524e-01]]\n",
      "\n",
      " [[  3.82489311e-04   5.78514999e-01   7.72225253e-01 ...,   7.26958497e-01\n",
      "     5.60541660e-01   3.24173900e-01]\n",
      "  [  6.60966111e-01   9.49288436e-01   9.76965026e-01 ...,   4.88102842e-02\n",
      "     8.24373976e-01   6.60919715e-01]\n",
      "  [  2.05318480e-01   7.78078297e-01   3.82467360e-01 ...,   7.85007577e-01\n",
      "     7.62995081e-01   2.05432802e-01]\n",
      "  ..., \n",
      "  [  7.65529847e-01   3.70386723e-01   6.56213553e-01 ...,   5.59215094e-02\n",
      "     1.96209385e-02   7.65339080e-01]\n",
      "  [  2.23651474e-01   4.79825037e-01   5.81751622e-01 ...,   1.87866467e-01\n",
      "     8.93786212e-01   2.23745436e-01]\n",
      "  [  3.24242401e-01   5.78523020e-01   7.72285186e-01 ...,   7.26778814e-01\n",
      "     5.60581233e-01   3.24179279e-01]]\n",
      "\n",
      " [[  2.45257940e-04   2.22648915e-01   4.79377455e-01 ...,   3.63694292e-01\n",
      "     1.88459919e-01   8.93184585e-01]\n",
      "  [  5.58990091e-01   9.20832783e-04   5.77446518e-01 ...,   2.64160443e-01\n",
      "     7.26771117e-01   5.59399897e-01]\n",
      "  [  8.24522852e-01   6.59935722e-01   9.47964183e-01 ...,   6.72370249e-01\n",
      "     4.93810809e-02   8.24252695e-01]\n",
      "  ..., \n",
      "  [  6.99487931e-01   3.11117284e-02   8.33332479e-01 ...,   7.18730541e-01\n",
      "     8.77050566e-01   6.99501365e-01]\n",
      "  [  1.97118618e-02   7.64615298e-01   3.69773992e-01 ...,   4.28111149e-01\n",
      "     5.51690386e-02   1.96174651e-02]\n",
      "  [  8.93030730e-01   2.23045578e-01   4.79203787e-01 ...,   3.63620610e-01\n",
      "     1.88461998e-01   8.92943171e-01]]\n",
      "\n",
      " ..., \n",
      " [[  3.16081576e-04   5.76130537e-01   6.54031717e-01 ...,   5.31561520e-01\n",
      "    -6.37334809e-01   1.58763607e-03]\n",
      "  [  4.44035341e-01   8.86194109e-04   5.94409964e-01 ...,   6.67544271e-01\n",
      "     4.15264229e-01   4.43984413e-01]\n",
      "  [ -5.89791335e-01   3.73833835e-01   1.61766116e-03 ...,   3.16077853e-01\n",
      "    -5.54766955e-01  -5.89958123e-01]\n",
      "  ..., \n",
      "  [  6.44856252e-01   6.24647106e-01   4.57195882e-01 ...,   6.67033264e-03\n",
      "     5.45136526e-01   6.44882649e-01]\n",
      "  [  5.68381795e-01   6.45182387e-01   6.33001503e-01 ...,   5.65149554e-01\n",
      "     1.53694174e-03   5.68192380e-01]\n",
      "  [  2.32245485e-03   5.76214745e-01   6.54221305e-01 ...,   5.31636240e-01\n",
      "    -6.37168069e-01   1.93500684e-03]]\n",
      "\n",
      " [[ -1.06859041e-05   5.68301995e-01   6.45016571e-01 ...,   6.27528122e-01\n",
      "     5.65322901e-01   1.43614607e-03]\n",
      "  [ -6.37338269e-01   5.90553573e-04   5.76137719e-01 ...,   6.24132226e-01\n",
      "     5.31589353e-01  -6.37350797e-01]\n",
      "  [  4.14988960e-01   4.43977140e-01   1.43254213e-03 ...,   5.36936851e-01\n",
      "     6.67551328e-01   4.15188942e-01]\n",
      "  ..., \n",
      "  [  6.32929618e-01   6.41816796e-01   4.60538957e-01 ...,   5.99411030e-03\n",
      "     5.18914568e-01   6.32947268e-01]\n",
      "  [  5.45317289e-01   6.44871608e-01   6.24668886e-01 ...,   5.24656772e-01\n",
      "     6.84174306e-03   5.45131904e-01]\n",
      "  [  1.49922445e-03   5.68363304e-01   6.45203725e-01 ...,   6.27524575e-01\n",
      "     5.65124661e-01   1.47515778e-03]]\n",
      "\n",
      " [[  3.43192057e-04   5.44916931e-01   6.44693482e-01 ...,   5.92011106e-01\n",
      "     5.24809107e-01   7.00619799e-03]\n",
      "  [  5.65269501e-01   2.95258358e-04   5.68303778e-01 ...,   5.93903286e-01\n",
      "     6.27533715e-01   5.65289755e-01]\n",
      "  [  5.31428646e-01  -6.37345321e-01   8.30011560e-04 ...,   6.02147015e-01\n",
      "     6.24183944e-01   5.31615705e-01]\n",
      "  ..., \n",
      "  [  6.17171010e-01   6.43182643e-01   6.29963225e-01 ...,   6.06815455e-03\n",
      "     5.25630577e-01   6.17139761e-01]\n",
      "  [  5.19092742e-01   6.32945696e-01   6.41859728e-01 ...,   5.04129519e-01\n",
      "     6.12249424e-03   5.18902000e-01]\n",
      "  [  7.03845614e-03   5.45300516e-01   6.44885868e-01 ...,   5.91981721e-01\n",
      "     5.24623665e-01   7.00233608e-03]]]\n"
     ]
    }
   ],
   "source": [
    "N = 21\n",
    "u0 = np.random.rand(N,N)\n",
    "u0[:,0] = u0[:,-1] = np.random.rand(N)\n",
    "u0[0,:] = u0[-1,:] = np.random.rand(N)\n",
    "\n",
    "v0 = np.random.rand(N,N)\n",
    "v0[:,0] = v0[:,-1] = np.random.rand(N)\n",
    "v0[0,:] = v0[-1,:] = np.random.rand(N)\n",
    "\n",
    "Du = 3e-4\n",
    "Dv = 4e-3\n",
    "l = 1.0\n",
    "tau = 0.2\n",
    "sigma = 1.0\n",
    "k = -0.004\n",
    "\n",
    "sol = solve_forward(u0, v0, N, 10, Du, Dv, l, tau, sigma, k)\n",
    "print sol"
   ]
  },
  {
   "cell_type": "code",
   "execution_count": 81,
   "metadata": {
    "collapsed": false
   },
   "outputs": [],
   "source": [
    "animate.animate_pattern(sol, time_step=5)"
   ]
  },
  {
   "cell_type": "markdown",
   "metadata": {},
   "source": [
    "## Conclusiones"
   ]
  },
  {
   "cell_type": "markdown",
   "metadata": {},
   "source": [
    "+ Nullam tincidunt commodo arcu et consectetur. Duis iaculis, risus vel scelerisque interdum, ante nunc varius urna, nec accumsan ex purus vitae turpis. Etiam ut egestas ligula, id lacinia nunc. \n",
    "+ Praesent sodales ligula eu lorem placerat convallis. Maecenas elementum venenatis maximus. Class aptent taciti sociosqu ad litora torquent per conubia nostra, per inceptos himenaeos. Proin vitae finibus nulla, vel auctor orci. Ut et sodales lectus, nec sodales nunc. \n",
    "+ Quisque laoreet feugiat diam, a lacinia felis pharetra eu. Donec feugiat elit sapien, a cursus diam hendrerit in.\n",
    "+ Etiam porta ipsum a aliquet hendrerit. Pellentesque fringilla dolor pulvinar lorem ullamcorper, non vestibulum nulla volutpat. Sed ac diam fringilla tortor iaculis tincidunt. \n",
    "+ Integer sapien augue, accumsan nec sagittis at, sagittis quis quam. Maecenas consectetur metus non tellus laoreet, nec efficitur lacus venenatis. Nullam ac dolor quis orci pretium commodo. \n",
    "+ Maecenas eget ex in lectus tincidunt lobortis. Donec non gravida nisl. Fusce sagittis sagittis neque consectetur cursus. Duis commodo mauris ligula, eu aliquam purus porta quis. \n",
    "+ Suspendisse euismod mi lorem, in ultricies neque interdum sit amet. Vivamus ut ullamcorper tortor, vel faucibus risus. Curabitur malesuada lorem diam. Nam ornare nisi id sapien viverra, semper commodo dolor eleifend. "
   ]
  },
  {
   "cell_type": "markdown",
   "metadata": {},
   "source": [
    "## Anexos"
   ]
  },
  {
   "cell_type": "markdown",
   "metadata": {},
   "source": [
    "En la siguiente sección se encuentra todo el código necesario para reproducir cada uno de los resultados mostrados anteriormente. Para poder ejecutar el código en el informe, se debe en primer lugar ejecutar las celdas de código presentes en este anexo."
   ]
  },
  {
   "cell_type": "markdown",
   "metadata": {},
   "source": [
    "### Configuración del notebook"
   ]
  },
  {
   "cell_type": "code",
   "execution_count": 78,
   "metadata": {
    "collapsed": false
   },
   "outputs": [],
   "source": [
    "#notebook settings\n",
    "#%matplotlib inline\n",
    "%matplotlib qt\n",
    "\n",
    "#import some useful libraries and utilities\n",
    "import numpy as np\n",
    "import matplotlib.pyplot as plt\n",
    "import math"
   ]
  },
  {
   "cell_type": "code",
   "execution_count": 79,
   "metadata": {
    "collapsed": true
   },
   "outputs": [],
   "source": [
    "def animate_pattern(sol, time_step=10, frame_step=20):\n",
    "    t_ind = 0\n",
    "    fig = plt.figure()\n",
    "    im = plt.imshow(sol[t_ind], cmap=plt.cm.winter)\n",
    "    plt.xticks([]); plt.yticks([])\n",
    "\n",
    "    #setting the number of frames\n",
    "    frames = int(sol.shape[0]/frame_step)\n",
    "    \n",
    "    #update function\n",
    "    def updatefig(t_ind):\n",
    "        im = plt.imshow(sol[t_ind*frame_step], cmap=plt.cm.winter)\n",
    "        return im,\n",
    "    \n",
    "    #animate it!\n",
    "    ani = animation.FuncAnimation(fig, updatefig, frames=frames, \n",
    "                    interval=time_step, blit=True, repeat=True)\n",
    "    plt.show()"
   ]
  },
  {
   "cell_type": "code",
   "execution_count": null,
   "metadata": {
    "collapsed": true
   },
   "outputs": [],
   "source": []
  }
 ],
 "metadata": {
  "kernelspec": {
   "display_name": "Python 2",
   "language": "python",
   "name": "python2"
  },
  "language_info": {
   "codemirror_mode": {
    "name": "ipython",
    "version": 2
   },
   "file_extension": ".py",
   "mimetype": "text/x-python",
   "name": "python",
   "nbconvert_exporter": "python",
   "pygments_lexer": "ipython2",
   "version": "2.7.10"
  }
 },
 "nbformat": 4,
 "nbformat_minor": 0
}
