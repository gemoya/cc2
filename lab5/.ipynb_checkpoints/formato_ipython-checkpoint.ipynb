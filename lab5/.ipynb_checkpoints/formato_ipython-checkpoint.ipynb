{
 "cells": [
  {
   "cell_type": "markdown",
   "metadata": {},
   "source": [
    "# Laboratorio N°5 - Computación Científica II - ILI286"
   ]
  },
  {
   "cell_type": "markdown",
   "metadata": {},
   "source": [
    "**Autores**:\n",
    "+ Gonzalo Moya - 201173016-k \n",
    "+ Ariel Sanhueza     - 201173005-4"
   ]
  },
  {
   "cell_type": "markdown",
   "metadata": {},
   "source": [
    "## Introducción"
   ]
  },
  {
   "cell_type": "markdown",
   "metadata": {},
   "source": [
    "Lorem ipsum dolor sit amet, consectetur adipiscing elit. Morbi venenatis dui felis. Donec ante libero, vestibulum nec faucibus sit amet, congue vel erat. Aliquam aliquet dolor mauris. Quisque egestas tincidunt aliquet. Integer tempor tellus quis commodo porttitor. Donec accumsan tellus sed leo sodales, ac malesuada lacus dignissim. Aliquam erat volutpat. Nunc laoreet vitae felis nec varius. Maecenas sed sem non quam faucibus tristique. Nullam scelerisque ante arcu, id faucibus orci tincidunt nec. Aliquam eu leo vehicula leo maximus vulputate. Donec eget nibh dolor. Aliquam eget ullamcorper erat. Nulla sodales, metus finibus venenatis tristique, elit neque pretium mi, eu maximus nibh turpis vulputate lectus. Phasellus vitae pharetra nisi. "
   ]
  },
  {
   "cell_type": "markdown",
   "metadata": {},
   "source": [
    "## Desarrollo"
   ]
  },
  {
   "cell_type": "markdown",
   "metadata": {},
   "source": [
    "### Parte 2:  Diferencias finitas en 2D"
   ]
  },
  {
   "cell_type": "markdown",
   "metadata": {},
   "source": [
    "### a)  Discretizacion forward\n",
    "\n",
    "Para la discretizacion con un esquema forward, primero se presentan los elemenos que incluyen la derivación númerica para despues ser reemplazados en los sistemas correspondientes:\n",
    "\\begin{equation*}\n",
    "{\\Delta} u = \\frac{u_{i-1,j,n}-2u_{i,j,n}+u_{i+1,j,n}}{{\\Delta x}^2} + \\frac{u_{i,j-1,n}-2u_{i,j,n}+u_{i,j+1,n}}{{\\Delta y}^2}  \\\\\n",
    "{\\Delta} v = \\frac{v_{i-1,j,n}-2v_{i,j,n}+v_{i+1,j,n}}{{\\Delta x}^2} + \\frac{v_{i,j-1,n}-2v_{i,j,n}+v_{i,j+1,n}}{{\\Delta y}^2}  \\\\\n",
    "\\partial_t u = \\frac{u_{i,j,n+1} - u_{i,j,n}}{\\Delta t} \\\\\n",
    "\\partial_t v = \\frac{u_{i,j,n+1} - v_{i,j,n}}{\\Delta t}.\n",
    "\\end{equation*}\n",
    "Luego al ser utilizadas estas discretizaciones en el sistema que fue presentado y ademas discretizar el resto de los elemenos que dependan de $u$ y $v$, el restultado es:\n",
    "\\begin{align*}\n",
    "\\frac{u_{i,j,n+1} - u_{i,j,n}}{\\Delta t}  = \n",
    "D_{u} \\frac{u_{i-1,j,n}-2u_{i,j,n}+u_{i+1,j,n}}{{\\Delta x}^2} + D_u \\frac{u_{i,j-1,n}-2u_{i,j,n}+u_{i,j+1,n}}{{\\Delta y}^2} +\n",
    "\\lambda u_{i,j,n} - {u_{i,j,n}}^3 - \\sigma v_{i,j,n} \\\\\n",
    "\\tau \\frac{v_{i,j,n+1} - v_{i,j,n}}{\\Delta t}  = \n",
    "D_{v} \\frac{v_{i-1,j,n}-2v_{i,j,n}+v_{i+1,j,n}}{{\\Delta x}^2} + D_v \\frac{v_{i,j-1,n}-2v_{i,j,n}+v_{i,j+1,n}}{{\\Delta y}^2} + u_{i,j,n}  - v_{i,j,n}.\n",
    "\\end{align*}\n",
    "\n",
    "Sea $\\alpha_u = \\frac{D_u\\Delta t}{\\Delta x^2}$, $\\beta_u = \\frac{D_u\\Delta t}{\\Delta y^2}$, $\\alpha_v = \\frac{D_v\\Delta t}{\\Delta x^2}$ y $\\beta_v = \\frac{D_v\\Delta t}{\\Delta y^2}$ Finalmente se opera para re-agrupar términos semejantes y dejar ordenado el sistema:\n",
    "\n",
    "\\begin{align*}\n",
    "u_{i,j,n+1} &= \\alpha_u(u_{i+1,j,n} + u_{i-1,j,n}) + \\beta_u(u_{i,j+1,n} + u_{i,j-1,n}) + (1 - 2\\alpha_u - 2\\beta_u - \\lambda\\Delta t)u_{i,j,n} - \\Delta t(u_{i,j,n})^3 - k\\Delta t - \\Delta t \\tau v_{i,j,n} \\\\\n",
    "v_{i,j,n+1} &= \\alpha_v(v_{i+1,j,n} + v_{i-1,j,n}) + \\beta_v(v_{i,j+1,n} + v_{i,j-1,n}) + (\\tau - 2\\alpha_v - 2\\beta_v - \\Delta t)v_{i,j,n} + \\Delta t u_{i,j,n}\n",
    "\\end{align*}"
   ]
  },
  {
   "cell_type": "markdown",
   "metadata": {},
   "source": [
    "### b)"
   ]
  },
  {
   "cell_type": "code",
   "execution_count": 196,
   "metadata": {
    "collapsed": false
   },
   "outputs": [],
   "source": [
    "def solve_forward(u0, v0, N, Tmax, Du, Dv, l, tau, sigma, k):\n",
    "    Nx = N\n",
    "    Ny = N\n",
    "    dx = dy = 1./(N-1)\n",
    "    dt = dx**2 - 1e-9\n",
    "    Nt = Tmax/dt\n",
    "    \n",
    "    print dx, dt\n",
    "    \n",
    "    # Puntos\n",
    "    x = np.linspace(0, 1, Nx)\n",
    "    y = np.linspace(0, 1, Ny)\n",
    "    t = np.linspace(0, Tmax, Nt)\n",
    "    print len(x),len(y),len(t)\n",
    "    \n",
    "    # Soluciones\n",
    "    sol_u = np.zeros((Nt, Nx, Ny))\n",
    "    sol_v = np.zeros((Nt, Nx, Ny))\n",
    "    \n",
    "    # Valores constantes\n",
    "    a_u = dt*Du/(dx**2)\n",
    "    b_u = dt*Du/(dy**2)\n",
    "    a_v = dt*Dv/(dx**2)\n",
    "    b_v = dt*Dv/(dy**2)\n",
    "    \n",
    "    # condiciones iniciales u/v\n",
    "    sol_u[0,:,:] = u0\n",
    "    sol_v[0,:,:] = v0\n",
    "    \n",
    "    # Matriz de coeficientes\n",
    "    A = np.diag(a_u*np.ones(Nx-1), -1) + (1 - 2*a_u - 2*b_u + l*dt)*np.identity(Nx) + np.diag(a_u*np.ones(Nx-1), 1)\n",
    "    B = np.diag(a_v*np.ones(Nx-1), -1) + (tau - 2*a_v - 2*b_v - dt)*np.identity(Nx) + np.diag(a_v*np.ones(Nx-1), 1)\n",
    "    \n",
    "    C = np.diag(b_u*np.ones(Nx-1), -1) + np.diag(b_u*np.ones(Nx-1), 1)\n",
    "    D = np.diag(b_v*np.ones(Nx-1), -1) + np.diag(b_v*np.ones(Nx-1), 1)\n",
    "    \n",
    "    for n in xrange(1, len(t)):\n",
    "        for j in xrange(len(y)):\n",
    "            # u(x,y,t)\n",
    "            bordes = np.zeros(Nx)\n",
    "            bordes[0] = a_u*sol_u[n-1,-2,j]\n",
    "            bordes[-1] = a_u*sol_u[n-1,1,j]\n",
    "            sol_u[n,:,j] = np.dot(A, sol_u[n-1,:,j]) - dt*(sol_u[n-1,:,j]**3) - k*dt*np.ones(Nx) - sigma*dt*sol_v[n-1,:,j] + bordes\n",
    "            \n",
    "            # v(x,y,t)\n",
    "            bordes = np.zeros(Nx)\n",
    "            bordes[0] = a_v*sol_v[n-1,-2,j]\n",
    "            bordes[-1] = a_v*sol_v[n-1,1,j]\n",
    "            sol_v[n,:,j] = (np.dot(B, sol_v[n-1,:,j]) + dt*sol_u[n-1,:,j] + bordes)/tau\n",
    "            \n",
    "        # Esta parte está mal\n",
    "        for i in xrange(len(x)):\n",
    "            # u(x,y,t)\n",
    "            bordes = np.zeros(Nx)\n",
    "            bordes[0] = b_u*sol_u[n-1,i,-2]\n",
    "            bordes[-1] = b_u*sol_u[n-1,i,1]\n",
    "            sol_u[n,:,i] += np.dot(C, sol_u[n-1,i,:]) + bordes\n",
    "            \n",
    "            # v(x,y,t)\n",
    "            bordes = np.zeros(Nx)\n",
    "            bordes[0] = b_v*sol_v[n-1,i,-2]\n",
    "            bordes[-1] = b_v*sol_v[n-1,i,1]\n",
    "            sol_v[n,:,i] += (np.dot(D, sol_v[n-1,i,:]) + bordes)/tau\n",
    "    \n",
    "    return sol_u"
   ]
  },
  {
   "cell_type": "code",
   "execution_count": null,
   "metadata": {
    "collapsed": true
   },
   "outputs": [],
   "source": []
  },
  {
   "cell_type": "markdown",
   "metadata": {},
   "source": [
    "### c)"
   ]
  },
  {
   "cell_type": "code",
   "execution_count": null,
   "metadata": {
    "collapsed": true
   },
   "outputs": [],
   "source": []
  },
  {
   "cell_type": "markdown",
   "metadata": {},
   "source": [
    "### d)"
   ]
  },
  {
   "cell_type": "code",
   "execution_count": null,
   "metadata": {
    "collapsed": true
   },
   "outputs": [],
   "source": []
  },
  {
   "cell_type": "markdown",
   "metadata": {},
   "source": [
    "# Parte 4: Simulación"
   ]
  },
  {
   "cell_type": "code",
   "execution_count": 200,
   "metadata": {
    "collapsed": false,
    "scrolled": false
   },
   "outputs": [],
   "source": [
    "N = 51\n",
    "u0 = np.random.random((N,N))\n",
    "u0[:,0] = u0[:,-1] = np.random.random(N)\n",
    "u0[0,:] = u0[-1,:] = np.random.random(N)\n",
    "u0[0,0] = u0[-1,0] = u0[0,-1] = u0[-1,-1]\n",
    "\n",
    "v0 = np.random.random((N,N))\n",
    "v0[:,0] = v0[:,-1] = np.random.random(N)\n",
    "v0[0,:] = v0[-1,:] = np.random.random(N)\n",
    "v0[0,0] = v0[-1,0] = v0[0,-1] = v0[-1,-1]\n",
    "\n",
    "Du = 3e-4\n",
    "Dv = 4e-3\n",
    "l = 1.0\n",
    "tau = 0.2\n",
    "sigma = 1.0\n",
    "k = -0.004"
   ]
  },
  {
   "cell_type": "code",
   "execution_count": 201,
   "metadata": {
    "collapsed": false
   },
   "outputs": [
    {
     "name": "stdout",
     "output_type": "stream",
     "text": [
      "0.02 0.000399999\n",
      "51 51 25000\n"
     ]
    }
   ],
   "source": [
    "sol = solve_forward(u0, v0, N, 10, Du, Dv, l, tau, sigma, k)"
   ]
  },
  {
   "cell_type": "code",
   "execution_count": 202,
   "metadata": {
    "collapsed": false
   },
   "outputs": [],
   "source": [
    "animate_pattern(sol)"
   ]
  },
  {
   "cell_type": "code",
   "execution_count": 187,
   "metadata": {
    "collapsed": false
   },
   "outputs": [
    {
     "name": "stdout",
     "output_type": "stream",
     "text": [
      "[[[ 0.29356084  0.96461376  0.60300925 ...,  0.00185533  0.98433912\n",
      "    0.29356084]\n",
      "  [ 0.54603314  0.40413209  0.1564959  ...,  0.69446672  0.14632059\n",
      "    0.54603314]\n",
      "  [ 0.15578143  0.94113522  0.40217423 ...,  0.67374053  0.00801547\n",
      "    0.15578143]\n",
      "  ..., \n",
      "  [ 0.53650914  0.91332732  0.13084049 ...,  0.68037251  0.19520019\n",
      "    0.53650914]\n",
      "  [ 0.4301647   0.77508918  0.80925819 ...,  0.30304916  0.76255684\n",
      "    0.4301647 ]\n",
      "  [ 0.29356084  0.96461376  0.60300925 ...,  0.00185533  0.98433912\n",
      "    0.29356084]]\n",
      "\n",
      " [[ 0.29404323  0.96369795  0.60300768 ...,  0.00219209  0.98350776\n",
      "    0.29404323]\n",
      "  [ 0.54581761  0.40425103  0.15658286 ...,  0.69394023  0.14652554\n",
      "    0.54581761]\n",
      "  [ 0.15591451  0.94024165  0.40256745 ...,  0.67353728  0.00850024\n",
      "    0.15591451]\n",
      "  ..., \n",
      "  [ 0.53676474  0.91253392  0.13109337 ...,  0.6798778   0.19579764\n",
      "    0.53676474]\n",
      "  [ 0.43003146  0.77503307  0.8087811  ...,  0.30307444  0.76211774\n",
      "    0.43003146]\n",
      "  [ 0.29404323  0.96369795  0.60300768 ...,  0.00219209  0.98350776\n",
      "    0.29404323]]\n",
      "\n",
      " [[ 0.29451839  0.96278499  0.60298969 ...,  0.00253258  0.98268989\n",
      "    0.29451839]\n",
      "  [ 0.54559883  0.40437414  0.15668354 ...,  0.69341963  0.14674441\n",
      "    0.54559883]\n",
      "  [ 0.15605717  0.93936259  0.40294438 ...,  0.67333885  0.0089761\n",
      "    0.15605717]\n",
      "  ..., \n",
      "  [ 0.53699598  0.91176005  0.13134205 ...,  0.67939977  0.19638556\n",
      "    0.53699598]\n",
      "  [ 0.42989409  0.77497011  0.80829628 ...,  0.30310198  0.76167975\n",
      "    0.42989409]\n",
      "  [ 0.29451839  0.96278499  0.60298969 ...,  0.00253258  0.98268989\n",
      "    0.29451839]]\n",
      "\n",
      " ..., \n",
      " [[ 0.59178075  0.58150428  0.52673757 ...,  0.57895054  0.58735137\n",
      "    0.59178075]\n",
      "  [ 0.56137237  0.57418385  0.55521211 ...,  0.53149243  0.54553325\n",
      "    0.56137237]\n",
      "  [ 0.47049494  0.52362806  0.56075101 ...,  0.42914223  0.44008927\n",
      "    0.47049494]\n",
      "  ..., \n",
      "  [ 0.59005324  0.55109242  0.44823966 ...,  0.59341487  0.59745539\n",
      "    0.59005324]\n",
      "  [ 0.59645901  0.5720277   0.49329344 ...,  0.59333335  0.59842672\n",
      "    0.59645901]\n",
      "  [ 0.59178075  0.58150428  0.52673757 ...,  0.57895054  0.58735137\n",
      "    0.59178075]]\n",
      "\n",
      " [[ 0.59180044  0.58152741  0.52676424 ...,  0.57896678  0.5873689\n",
      "    0.59180044]\n",
      "  [ 0.56139507  0.57420845  0.55523872 ...,  0.5315123   0.54555474\n",
      "    0.56139507]\n",
      "  [ 0.47051803  0.52365242  0.56077669 ...,  0.4291627   0.44011183\n",
      "    0.47051803]\n",
      "  ..., \n",
      "  [ 0.59006917  0.5511122   0.44826105 ...,  0.59342614  0.59746821\n",
      "    0.59006917]\n",
      "  [ 0.59647634  0.57204941  0.49331913 ...,  0.59334633  0.5984411\n",
      "    0.59647634]\n",
      "  [ 0.59180044  0.58152741  0.52676424 ...,  0.57896678  0.5873689\n",
      "    0.59180044]]\n",
      "\n",
      " [[ 0.59182014  0.58155054  0.52679091 ...,  0.57898303  0.58738643\n",
      "    0.59182014]\n",
      "  [ 0.56141777  0.57423304  0.55526532 ...,  0.53153217  0.54557623\n",
      "    0.56141777]\n",
      "  [ 0.47054112  0.52367679  0.56080237 ...,  0.42918316  0.44013439\n",
      "    0.47054112]\n",
      "  ..., \n",
      "  [ 0.5900851   0.55113198  0.44828245 ...,  0.59343741  0.59748103\n",
      "    0.5900851 ]\n",
      "  [ 0.59649366  0.57207111  0.49334482 ...,  0.59335932  0.59845548\n",
      "    0.59649366]\n",
      "  [ 0.59182014  0.58155054  0.52679091 ...,  0.57898303  0.58738643\n",
      "    0.59182014]]]\n"
     ]
    }
   ],
   "source": [
    "print sol"
   ]
  },
  {
   "cell_type": "markdown",
   "metadata": {},
   "source": [
    "## Conclusiones"
   ]
  },
  {
   "cell_type": "markdown",
   "metadata": {},
   "source": [
    "+ Nullam tincidunt commodo arcu et consectetur. Duis iaculis, risus vel scelerisque interdum, ante nunc varius urna, nec accumsan ex purus vitae turpis. Etiam ut egestas ligula, id lacinia nunc. \n",
    "+ Praesent sodales ligula eu lorem placerat convallis. Maecenas elementum venenatis maximus. Class aptent taciti sociosqu ad litora torquent per conubia nostra, per inceptos himenaeos. Proin vitae finibus nulla, vel auctor orci. Ut et sodales lectus, nec sodales nunc. \n",
    "+ Quisque laoreet feugiat diam, a lacinia felis pharetra eu. Donec feugiat elit sapien, a cursus diam hendrerit in.\n",
    "+ Etiam porta ipsum a aliquet hendrerit. Pellentesque fringilla dolor pulvinar lorem ullamcorper, non vestibulum nulla volutpat. Sed ac diam fringilla tortor iaculis tincidunt. \n",
    "+ Integer sapien augue, accumsan nec sagittis at, sagittis quis quam. Maecenas consectetur metus non tellus laoreet, nec efficitur lacus venenatis. Nullam ac dolor quis orci pretium commodo. \n",
    "+ Maecenas eget ex in lectus tincidunt lobortis. Donec non gravida nisl. Fusce sagittis sagittis neque consectetur cursus. Duis commodo mauris ligula, eu aliquam purus porta quis. \n",
    "+ Suspendisse euismod mi lorem, in ultricies neque interdum sit amet. Vivamus ut ullamcorper tortor, vel faucibus risus. Curabitur malesuada lorem diam. Nam ornare nisi id sapien viverra, semper commodo dolor eleifend. "
   ]
  },
  {
   "cell_type": "markdown",
   "metadata": {},
   "source": [
    "## Anexos"
   ]
  },
  {
   "cell_type": "markdown",
   "metadata": {},
   "source": [
    "En la siguiente sección se encuentra todo el código necesario para reproducir cada uno de los resultados mostrados anteriormente. Para poder ejecutar el código en el informe, se debe en primer lugar ejecutar las celdas de código presentes en este anexo."
   ]
  },
  {
   "cell_type": "markdown",
   "metadata": {},
   "source": [
    "### Configuración del notebook"
   ]
  },
  {
   "cell_type": "code",
   "execution_count": 4,
   "metadata": {
    "collapsed": false
   },
   "outputs": [],
   "source": [
    "#notebook settings\n",
    "#%matplotlib inline\n",
    "#%matplotlib qt\n",
    "\n",
    "#import some useful libraries and utilities\n",
    "import numpy as np\n",
    "import matplotlib.pyplot as plt\n",
    "import matplotlib.animation as animation\n",
    "import math"
   ]
  },
  {
   "cell_type": "code",
   "execution_count": 81,
   "metadata": {
    "collapsed": true
   },
   "outputs": [],
   "source": [
    "\"\"\"\n",
    "> sol must be a 3D numpy array, with dimensions (Nt,Nx,Ny)\n",
    "> time_step:  miliseconds to update canvas\n",
    "> frame_step: Jump step for frames to show\n",
    "\"\"\"\n",
    "def animate_pattern(sol, time_step=10, frame_step=20):\n",
    "    #time index\n",
    "    t_ind = 0\n",
    "    fig = plt.figure()\n",
    "    im = plt.imshow(sol[t_ind], cmap=plt.cm.winter)\n",
    "    plt.xticks([]); plt.yticks([])\n",
    "\n",
    "    #setting the number of frames\n",
    "    frames = int(sol.shape[0]/frame_step)\n",
    "    \n",
    "    #update function\n",
    "    def updatefig(t_ind):\n",
    "        im = plt.imshow(sol[t_ind*frame_step], cmap=plt.cm.winter)\n",
    "        return im,\n",
    "    \n",
    "    #animate it!\n",
    "    ani = animation.FuncAnimation(fig, updatefig, frames=frames, \n",
    "                    interval=time_step, blit=True, repeat=False)\n",
    "    plt.show()"
   ]
  },
  {
   "cell_type": "code",
   "execution_count": 3,
   "metadata": {
    "collapsed": false
   },
   "outputs": [
    {
     "name": "stdout",
     "output_type": "stream",
     "text": [
      "(27777, 50, 50)\n"
     ]
    }
   ],
   "source": []
  },
  {
   "cell_type": "code",
   "execution_count": 4,
   "metadata": {
    "collapsed": false
   },
   "outputs": [],
   "source": []
  },
  {
   "cell_type": "code",
   "execution_count": null,
   "metadata": {
    "collapsed": true
   },
   "outputs": [],
   "source": []
  }
 ],
 "metadata": {
  "kernelspec": {
   "display_name": "Python 2",
   "language": "python",
   "name": "python2"
  },
  "language_info": {
   "codemirror_mode": {
    "name": "ipython",
    "version": 2
   },
   "file_extension": ".py",
   "mimetype": "text/x-python",
   "name": "python",
   "nbconvert_exporter": "python",
   "pygments_lexer": "ipython2",
   "version": "2.7.10"
  }
 },
 "nbformat": 4,
 "nbformat_minor": 0
}
