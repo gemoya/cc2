{
 "metadata": {
  "kernelspec": {
   "display_name": "Python 2",
   "language": "python",
   "name": "python2"
  },
  "language_info": {
   "codemirror_mode": {
    "name": "ipython",
    "version": 2
   },
   "file_extension": ".py",
   "mimetype": "text/x-python",
   "name": "python",
   "nbconvert_exporter": "python",
   "pygments_lexer": "ipython2",
   "version": "2.7.10"
  },
  "name": "",
  "signature": "sha256:06a46f2ea7249c5eaedc9c15a3e71242ba43f4ae85e732273ffabe3fbdfcdf6e"
 },
 "nbformat": 3,
 "nbformat_minor": 0,
 "worksheets": [
  {
   "cells": [
    {
     "cell_type": "markdown",
     "metadata": {},
     "source": [
      "# <center> Laboratorio 1 </center>\n",
      "## <center> Computaci\u00f3n cient\u00edfica II </center>\n",
      "## <center> Ariel Sanhueza Rom\u00e1n - Gonzalo Moya Rodr\u00edguez </center>\n",
      "\n"
     ]
    },
    {
     "cell_type": "markdown",
     "metadata": {},
     "source": [
      "# Previo\n",
      "Primero, importaremos las bibliotecas previas:"
     ]
    },
    {
     "cell_type": "code",
     "collapsed": true,
     "input": [
      "import numpy as np\n",
      "from scipy import linalg\n",
      "%matplotlib inline\n",
      "from matplotlib import pyplot as plt\n",
      "from numpy.linalg import norm, solve"
     ],
     "language": "python",
     "metadata": {},
     "outputs": [],
     "prompt_number": 2
    },
    {
     "cell_type": "markdown",
     "metadata": {
      "collapsed": true
     },
     "source": [
      "# Desarrollo\n",
      "\n",
      "## Pregunta 1\n",
      "Primero, implementaremos los algoritmos de $\\textbf{Power Iteration}$ y $\\textbf{Rayleigh Quotient Iteration}$"
     ]
    },
    {
     "cell_type": "heading",
     "level": 3,
     "metadata": {},
     "source": [
      "Power Iteration"
     ]
    },
    {
     "cell_type": "code",
     "collapsed": false,
     "input": [
      "# Adaptaci\u00f3n del algoritmo publicado en el ipython de clases\n",
      "def powerit(A, x, k):\n",
      "  \"\"\"\n",
      "  Program 12.1 Power iteration\n",
      "  Computes dominant eigenvector of square matrix\n",
      "  Input: matrix A, initial (nonzero) vector x, number of steps k\n",
      "  Output: dominant eigenvalue lam, eigenvector u\n",
      "  \"\"\"\n",
      "  for j in range(k):\n",
      "    u = np.divide(x, linalg.norm(x))\n",
      "    x = np.dot(A, u)\n",
      "    lam = float(np.dot(u.T, x))\n",
      "  u = np.divide(x, linalg.norm(x))\n",
      "  return lam, u"
     ],
     "language": "python",
     "metadata": {},
     "outputs": [],
     "prompt_number": 6
    },
    {
     "cell_type": "markdown",
     "metadata": {},
     "source": [
      "Dentro de todo el algoritmo, las l\u00edneas m\u00e1s costosas son (con sus respectivas complejidades):\n",
      "* np.dot(A,U) $\\rightarrow O(n^2)$, pues es un producto matriz vector.\n",
      "* np.dot(u.T, x) $\\rightarrow O(n)$, pues es un producto vector vector.\n",
      "* El loop for, que depende de k.\n",
      "\n",
      "Por lo que la complejidad de este algoritmo es de orden $O(kn^2)$"
     ]
    },
    {
     "cell_type": "heading",
     "level": 3,
     "metadata": {},
     "source": [
      "Rayleigh Quotient Iteration"
     ]
    },
    {
     "cell_type": "code",
     "collapsed": true,
     "input": [
      "# Adaptaci\u00f3n del algoritmo publicando en el ipython de clases\n",
      "def rqi(A, x, k):\n",
      "  \"\"\"\n",
      "  Program 12.3 Rayleigh Quotient Iteration\n",
      "  Input: matrix A, initial (nonzero) vector x, number of steps k\n",
      "  Output: eigenvalue lam, eigenvector of inv(A-sI)\n",
      "  \"\"\"\n",
      "  for j in range(k):\n",
      "    u = np.divide(x, linalg.norm(x))\n",
      "    lam = float(np.dot(u.T, np.dot(A, u)))\n",
      "    x = solve(A -lam*np.eye(*A.shape), u)\n",
      "  u = np.divide(x, linalg.norm(x))\n",
      "  lam = float(np.dot(u.T, np.dot(A, u)))\n",
      "  return lam, u"
     ],
     "language": "python",
     "metadata": {},
     "outputs": [],
     "prompt_number": 12
    },
    {
     "cell_type": "markdown",
     "metadata": {},
     "source": [
      "Dentro de todo el algoritmo, las l\u00edneas m\u00e1s costosas son (con sus respectivas complejidades):\n",
      "* np.dot(u.T, np.dot(A, u)) $\\rightarrow O(n^2)$, pues est\u00e1 compuesto por dos productos puntos, por lo que la l\u00ednea completa son aproximadamente $n^2 + n$ operaciones, lo que asint\u00f3ticamente es $O(n^2)$\n",
      "* El loop for, que depende de k\n",
      "Por lo que la complejidad de este algoritmo es de orden $O(kn^2)$"
     ]
    },
    {
     "cell_type": "markdown",
     "metadata": {},
     "source": [
      "## Pregunta 2\n",
      "\n",
      "### Parte a)\n",
      "Primero, como $A$ es sim\u00e9trica, tenemos que sus valores propios son reales y sus vectores propios son ortogonales entre s\u00ed.\n",
      "\n",
      "Tomemos $B = A - \\lambda_iv_iv^T_i$. Entonces:\n",
      "\n",
      "\\begin{align*}\n",
      "    Bv_k &= \\lambda_kv_k \\\\\n",
      "    (A - \\lambda_iv_iv^T_i)v_k &= \\lambda_kv_k \\\\\n",
      "    Av_k - \\lambda_iv_iv^T_iv_k &= \\lambda_kv_k,\\texttt{ pero }v^T_iv_k = 0\u00a0\\\\\n",
      "    Av_k &= \\lambda_kv_k\n",
      "\\end{align*}\n",
      "\n",
      "Entonces vemos que los vectores y valores propios son los mismos en A y en B.\n",
      "\n",
      "Ahora supongamos que $v_1$ es el vector propio dominante y $\\lambda_1$ es el valor propio dominante de A (encontrado en la primera iteraci\u00f3n, pues el valor y vector propio inicial son cero). \n",
      "\n",
      "\\begin{align*}\n",
      "    Bv_i &= \\lambda_iv_i \\\\\n",
      "    (A - \\lambda_1v_1v^T_1)v_i &= \\lambda_iv_i \\\\\n",
      "    Av_i - \\lambda_1v_1v^T_1v_i &= \\lambda_iv_i, \\texttt{ pero para } i \\neq 1 \\rightarrow v^T_1v_i = 0 \\\\\n",
      "    Av_i &= \\lambda_iv_i\n",
      "\\end{align*}\n",
      "\n",
      "Entonces, se tienen que si aplicamos power iteration en B, encontraremos su valor/vector propio dominante. Pero como los vectores son los mismos en A y en B y $v_1$ y $\\lambda_1$ no son dominantes en B, entonces los dominantes en B son los segundos m\u00e1s grandes en A. Si aplicamos esto $k$ veces, obtenemos los $k$ vectores y valores propios dominantes de A\n",
      "\n",
      "### Parte b)\n",
      "La complejidad de Power iteration vimos que era $O(pn^2)$ (en el caso del algoritmo propuesto, en power iteration $k = p$). Como el power iteration es ejecutado $k$ veces, entonces la complejidad total es $O(kpn^2)$.\n",
      "\n",
      "### Parte c)"
     ]
    },
    {
     "cell_type": "code",
     "collapsed": true,
     "input": [
      "def k_eigen_finder(A, p, k):\n",
      "    v = np.zeros((A.shape[0], 1))\n",
      "    l = 0\n",
      "    lambdas = []\n",
      "    vectors = []\n",
      "    for i in range(k):\n",
      "        A = A - l*np.dot(v, np.transpose(v))\n",
      "        l, v = powerit(A, np.ones((A.shape[0],1)), p)\n",
      "        lambdas.append(l)\n",
      "        vectors.append(v)\n",
      "    return lambdas, vectors"
     ],
     "language": "python",
     "metadata": {},
     "outputs": [],
     "prompt_number": 29
    },
    {
     "cell_type": "code",
     "collapsed": false,
     "input": [
      "a = np.array([[3,0,0],[0,6,0],[0,0,2]])\n",
      "l, v = k_eigen_finder(a, 100, 3)\n",
      "print l, v"
     ],
     "language": "python",
     "metadata": {},
     "outputs": [
      {
       "output_type": "stream",
       "stream": "stdout",
       "text": [
        "[6.0, 3.0, 2.0] [array([[  7.88860905e-31],\n",
        "       [  1.00000000e+00],\n",
        "       [  1.94032522e-48]]), array([[  1.00000000e+00],\n",
        "       [ -1.57772181e-30],\n",
        "       [  2.45965443e-18]]), array([[ -3.68948164e-18],\n",
        "       [  0.00000000e+00],\n",
        "       [  1.00000000e+00]])]\n"
       ]
      }
     ],
     "prompt_number": 31
    },
    {
     "cell_type": "markdown",
     "metadata": {},
     "source": [
      "## Pregunta 3\n",
      "### Parte a)\n",
      "### Parte b)\n",
      "### Parte c)\n"
     ]
    },
    {
     "cell_type": "code",
     "collapsed": true,
     "input": [
      "def k_eigen_finder_plus(A, p, k):\n",
      "    A = np.linalg.matrix_power(A, p)\n",
      "    l = 0\n",
      "    v = np.zeros((A.shape[0], 1))\n",
      "    x = np.random.normal(size=A.shape[0])\n",
      "    lambdas = []\n",
      "    vectors = []\n",
      "    for i in range(k):\n",
      "        B = A - (l**p)*np.dot(v, np.transpose(v))\n",
      "        v = np.dot(A,x)\n",
      "        v = np.divide(v, linalg.norm(v))\n",
      "        l = float(np.dot(u.T, np.dot(A, u)))\n",
      "    return lambdas, vectors\n"
     ],
     "language": "python",
     "metadata": {},
     "outputs": [],
     "prompt_number": 1
    },
    {
     "cell_type": "code",
     "collapsed": false,
     "input": [],
     "language": "python",
     "metadata": {},
     "outputs": []
    },
    {
     "cell_type": "markdown",
     "metadata": {},
     "source": [
      "## Pregunta 4\n",
      "## parte a)\n",
      "## parte b)\n",
      "## parte c)\n"
     ]
    },
    {
     "cell_type": "code",
     "collapsed": false,
     "input": [],
     "language": "python",
     "metadata": {},
     "outputs": []
    },
    {
     "cell_type": "markdown",
     "metadata": {},
     "source": [
      "## Pregunta 5"
     ]
    },
    {
     "cell_type": "code",
     "collapsed": false,
     "input": [
      "# pregunta 5 \n",
      "cov_x = np.load('arcene.npy')\n",
      "cov_x = np.dot(np.transpose(cov_x),cov_x)\n",
      "cov_x = np.divide(cov_x,(cov_x.shape[1] - 1))\n",
      "i_guess  = np.random.normal(size=cov_x.shape[0])\n",
      "print cov_x.shape\n",
      "powerit(cov_x,i_guess,10)\n"
     ],
     "language": "python",
     "metadata": {},
     "outputs": [
      {
       "output_type": "stream",
       "stream": "stdout",
       "text": [
        "(2500, 2500)\n"
       ]
      },
      {
       "metadata": {},
       "output_type": "pyout",
       "prompt_number": 14,
       "text": [
        "(10321769.521105962,\n",
        " array([ -6.86682076e-03,  -6.72328724e-03,  -1.21454657e-02, ...,\n",
        "         -4.03455662e-02,  -8.50883779e-03,  -8.60790877e-05]))"
       ]
      }
     ],
     "prompt_number": 14
    },
    {
     "cell_type": "code",
     "collapsed": false,
     "input": [],
     "language": "python",
     "metadata": {},
     "outputs": []
    },
    {
     "cell_type": "code",
     "collapsed": false,
     "input": [],
     "language": "python",
     "metadata": {},
     "outputs": []
    }
   ],
   "metadata": {}
  }
 ]
}