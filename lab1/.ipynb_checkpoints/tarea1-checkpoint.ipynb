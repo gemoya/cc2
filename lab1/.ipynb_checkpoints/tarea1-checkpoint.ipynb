{
 "cells": [
  {
   "cell_type": "markdown",
   "metadata": {},
   "source": [
    "# <center> Laboratorio 1 </center>\n",
    "## <center> Computación científica II </center>\n",
    "## <center> Ariel Sanhueza Román - Gonzalo Moya Rodríguez </center>\n",
    "\n"
   ]
  },
  {
   "cell_type": "markdown",
   "metadata": {},
   "source": [
    "# Previo\n",
    "Primero, importaremos las bibliotecas previas:"
   ]
  },
  {
   "cell_type": "code",
   "execution_count": 3,
   "metadata": {
    "collapsed": true
   },
   "outputs": [],
   "source": [
    "import numpy as np\n",
    "from scipy import linalg\n",
    "%matplotlib inline\n",
    "from matplotlib import pyplot as plt\n",
    "from numpy.linalg import norm, solve"
   ]
  },
  {
   "cell_type": "markdown",
   "metadata": {},
   "source": [
    "Ahora, cargaremos los datos entregados y generamos el vector inicial:"
   ]
  },
  {
   "cell_type": "code",
   "execution_count": 57,
   "metadata": {
    "collapsed": false
   },
   "outputs": [],
   "source": [
    "cov_x = np.load('arcene.npy')\n",
    "cov_x -= cov_x.mean(axis=0)\n",
    "cov_x = np.dot(np.transpose(cov_x),cov_x)\n",
    "n = cov_x.shape[1]\n",
    "i_guess  = np.ones((cov_x.shape[0], 1))\n",
    "A = np.array([[8,2,3],[4,12,6],[8,8,9]])"
   ]
  },
  {
   "cell_type": "markdown",
   "metadata": {
    "collapsed": true
   },
   "source": [
    "# Desarrollo\n",
    "\n",
    "## Pregunta 1\n",
    "Primero, implementaremos los algoritmos de $\\textbf{Power Iteration}$ y $\\textbf{Rayleigh Quotient Iteration}$"
   ]
  },
  {
   "cell_type": "markdown",
   "metadata": {},
   "source": [
    "### Power Iteration"
   ]
  },
  {
   "cell_type": "code",
   "execution_count": 64,
   "metadata": {
    "collapsed": false
   },
   "outputs": [],
   "source": [
    "# Adaptación del algoritmo publicado en el ipython de clases\n",
    "def powerit(A, x, k):\n",
    "  \"\"\"\n",
    "  Program 12.1 Power iteration\n",
    "  Computes dominant eigenvector of square matrix\n",
    "  Input: matrix A, initial (nonzero) vector x, number of steps k\n",
    "  Output: dominant eigenvalue lam, eigenvector u\n",
    "  \"\"\"\n",
    "  for j in range(k):\n",
    "    u = np.divide(x, linalg.norm(x))\n",
    "    x = np.dot(A, u)\n",
    "    lam = float(np.dot(u.T, x))\n",
    "  u = np.divide(x, linalg.norm(x))\n",
    "  return lam, u\n",
    "l,u = powerit(A, np.array([1,1]), 10)"
   ]
  },
  {
   "cell_type": "markdown",
   "metadata": {},
   "source": [
    "Dentro de todo el algoritmo, las líneas más costosas son (con sus respectivas complejidades):\n",
    "* np.dot(A,U) $\\rightarrow O(n^2)$, pues es un producto matriz vector.\n",
    "* np.dot(u.T, x) $\\rightarrow O(n)$, pues es un producto vector vector.\n",
    "* El loop for, que depende de k.\n",
    "\n",
    "Por lo que la complejidad de este algoritmo es de orden $O(kn^2)$"
   ]
  },
  {
   "cell_type": "markdown",
   "metadata": {},
   "source": [
    "### Rayleigh Quotient Iteration"
   ]
  },
  {
   "cell_type": "code",
   "execution_count": 63,
   "metadata": {
    "collapsed": false
   },
   "outputs": [],
   "source": [
    "# Adaptación del algoritmo publicando en el ipython de clases\n",
    "def rqi(A, x, k):\n",
    "  \"\"\"\n",
    "  Program 12.3 Rayleigh Quotient Iteration\n",
    "  Input: matrix A, initial (nonzero) vector x, number of steps k\n",
    "  Output: eigenvalue lam, eigenvector of inv(A-sI)\n",
    "  \"\"\"\n",
    "  for j in range(k):\n",
    "    u = np.divide(x, linalg.norm(x))\n",
    "    lam = float(np.dot(u.T, np.dot(A, u)))\n",
    "    x = np.linalg.solve(A -lam*np.eye(*A.shape), u)\n",
    "  u = np.divide(x, linalg.norm(x))\n",
    "  lam = float(np.dot(u.T, np.dot(A, u)))\n",
    "  return lam, u"
   ]
  },
  {
   "cell_type": "markdown",
   "metadata": {},
   "source": [
    "Dentro de todo el algoritmo, las líneas más costosas son (con sus respectivas complejidades):\n",
    "* np.dot(u.T, np.dot(A, u)) $\\rightarrow O(n^2)$, pues está compuesto por dos productos puntos, por lo que la línea completa son aproximadamente $n^2 + n$ operaciones, lo que asintóticamente es $O(n^2)$\n",
    "* El loop for, que depende de k\n",
    "Por lo que la complejidad de este algoritmo es de orden $O(kn^2)$"
   ]
  },
  {
   "cell_type": "markdown",
   "metadata": {},
   "source": [
    "## Pregunta 2\n",
    "\n",
    "### Parte a)\n",
    "Primero, como $A$ es simétrica, tenemos que sus valores propios son reales y sus vectores propios son ortogonales entre sí.\n",
    "\n",
    "Tomemos $B = A - \\lambda_iv_iv^T_i$. Entonces:\n",
    "\n",
    "\\begin{align*}\n",
    "    Bv_k &= \\lambda_kv_k \\\\\n",
    "    (A - \\lambda_iv_iv^T_i)v_k &= \\lambda_kv_k \\\\\n",
    "    Av_k - \\lambda_iv_iv^T_iv_k &= \\lambda_kv_k,\\texttt{ pero }v^T_iv_k = 0 \\\\\n",
    "    Av_k &= \\lambda_kv_k\n",
    "\\end{align*}\n",
    "\n",
    "Entonces vemos que los vectores y valores propios son los mismos en A y en B.\n",
    "\n",
    "Ahora supongamos que $v_1$ es el vector propio dominante y $\\lambda_1$ es el valor propio dominante de A (encontrado en la primera iteración, pues el valor y vector propio inicial son cero). \n",
    "\n",
    "\\begin{align*}\n",
    "    Bv_i &= \\lambda_iv_i \\\\\n",
    "    (A - \\lambda_1v_1v^T_1)v_i &= \\lambda_iv_i \\\\\n",
    "    Av_i - \\lambda_1v_1v^T_1v_i &= \\lambda_iv_i, \\texttt{ pero para } i \\neq 1 \\rightarrow v^T_1v_i = 0 \\\\\n",
    "    Av_i &= \\lambda_iv_i\n",
    "\\end{align*}\n",
    "\n",
    "Entonces, se tienen que si aplicamos power iteration en B, encontraremos su valor/vector propio dominante. Pero como los vectores son los mismos en A y en B y $v_1$ y $\\lambda_1$ no son dominantes en B, entonces los dominantes en B son los segundos más grandes en A. Si aplicamos esto $k$ veces, obtenemos los $k$ vectores y valores propios dominantes de A\n",
    "\n",
    "### Parte b)\n",
    "La complejidad de Power iteration vimos que era $O(pn^2)$ (en el caso del algoritmo propuesto, en power iteration $k = p$). Como el power iteration es ejecutado $k$ veces, entonces la complejidad total es $O(kpn^2)$.\n",
    "\n",
    "### Parte c)"
   ]
  },
  {
   "cell_type": "code",
   "execution_count": 7,
   "metadata": {
    "collapsed": false
   },
   "outputs": [],
   "source": [
    "def k_eigen_finder(A, p, k, v_0):\n",
    "    v = v_0\n",
    "    l = 0\n",
    "    lambdas = []\n",
    "    vectors = []\n",
    "    for i in range(k):\n",
    "        A = A - l*np.dot(v, np.transpose(v))\n",
    "        l, v = powerit(A, np.ones((A.shape[0],1)), p)\n",
    "        lambdas.append(l)\n",
    "        vectors.append(v)\n",
    "    return lambdas, vectors"
   ]
  },
  {
   "cell_type": "markdown",
   "metadata": {},
   "source": [
    "## Pregunta 3\n",
    "### Parte a)\n",
    "\n",
    "### Parte b)\n",
    "\n",
    "### Parte c)"
   ]
  },
  {
   "cell_type": "code",
   "execution_count": 8,
   "metadata": {
    "collapsed": true
   },
   "outputs": [],
   "source": [
    "def k_eigen_finder_plus(A, p, k, v_0):\n",
    "    A_p = np.linalg.matrix_power(A, p)\n",
    "    l = 0\n",
    "    v = np.zeros((A.shape[0], 1))\n",
    "    x = v_0\n",
    "    lambdas = []\n",
    "    vectors = []\n",
    "    for i in range(k):\n",
    "        A_p = A_p - (l**p)*np.dot(v, np.transpose(v))\n",
    "        v = np.dot(A_p,x)\n",
    "        v = np.divide(v, linalg.norm(v))\n",
    "        l = float(np.dot(v.T, np.dot(A, v)))\n",
    "        lambdas.append(l)\n",
    "        vectors.append(v)\n",
    "    return lambdas, vectors"
   ]
  },
  {
   "cell_type": "markdown",
   "metadata": {},
   "source": [
    "## Pregunta 4\n",
    "### Parte a)\n",
    "Las modificaciones son pocas y simples:\n",
    "* Si nuestra mariz es de dimensiones $nxn$, nuestro Q_0 inicial es cualquier matriz de dimensiones $nxk$, donde $k$ es la cantidad de eigen values que queremos encontrar.\n",
    "* Al realizar la descomposición QR, usaremos su versión reducida.\n",
    "\n",
    "### Parte b)\n",
    "La complejidad de este nuevo algoritmo está determinada por:\n",
    "* La factorización QR, que es de complejidad $O(n^3)$.\n",
    "* La cantidad de iteraciones realizadas por el Unshifted QR (llamémoslo $m$).\n",
    "Por lo tanto, la complejidad total es de $O(mn^3)$.\n",
    "\n",
    "### Parte c)\n",
    "La implementación es la siguiente forma:"
   ]
  },
  {
   "cell_type": "code",
   "execution_count": 44,
   "metadata": {
    "collapsed": false
   },
   "outputs": [],
   "source": [
    "def unshifted_qr_k(A, m, k):\n",
    "    # The intial value of Q\n",
    "    Q = np.dot(A, np.ones((A.shape[0], k)))\n",
    "    for i in range(m):\n",
    "        Q,_ = np.linalg.qr(np.dot(A,Q), mode='reduced')\n",
    "    return np.diagonal(np.dot(np.dot(Q.T, A), Q))"
   ]
  },
  {
   "cell_type": "markdown",
   "metadata": {},
   "source": [
    "## Pregunta 5"
   ]
  },
  {
   "cell_type": "code",
   "execution_count": 56,
   "metadata": {
    "collapsed": false
   },
   "outputs": [
    {
     "name": "stdout",
     "output_type": "stream",
     "text": [
      "4593289438.34\n",
      "[[  7.71841822e-03]\n",
      " [ -1.03578356e-04]\n",
      " [ -4.59169459e-04]\n",
      " ..., \n",
      " [  1.11927747e-02]\n",
      " [ -2.37802795e-02]\n",
      " [  4.56950843e-05]]\n"
     ]
    }
   ],
   "source": [
    "lam, u = powerit(cov_x, i_guess, 10)\n",
    "print lam\n",
    "print u"
   ]
  },
  {
   "cell_type": "code",
   "execution_count": 55,
   "metadata": {
    "collapsed": false
   },
   "outputs": [
    {
     "name": "stdout",
     "output_type": "stream",
     "text": [
      "171761089.087\n",
      "[[-0.02622331]\n",
      " [ 0.0001071 ]\n",
      " [ 0.00196006]\n",
      " ..., \n",
      " [ 0.03266163]\n",
      " [-0.04099445]\n",
      " [-0.00015506]]\n"
     ]
    }
   ],
   "source": [
    "lam, u = rqi(cov_x, i_guess, 10)\n",
    "print lam\n",
    "print u"
   ]
  },
  {
   "cell_type": "code",
   "execution_count": 33,
   "metadata": {
    "collapsed": false
   },
   "outputs": [
    {
     "name": "stdout",
     "output_type": "stream",
     "text": [
      "100 loops, best of 3: 3.79 ms per loop\n"
     ]
    }
   ],
   "source": [
    "timeit powerit(cov_x, i_guess, 1)"
   ]
  },
  {
   "cell_type": "code",
   "execution_count": 46,
   "metadata": {
    "collapsed": false
   },
   "outputs": [
    {
     "name": "stdout",
     "output_type": "stream",
     "text": [
      "1 loops, best of 3: 7.19 s per loop\n"
     ]
    }
   ],
   "source": [
    "timeit rqi(cov_x, i_guess, 1)"
   ]
  },
  {
   "cell_type": "code",
   "execution_count": null,
   "metadata": {
    "collapsed": false
   },
   "outputs": [],
   "source": []
  }
 ],
 "metadata": {
  "kernelspec": {
   "display_name": "Python 2",
   "language": "python",
   "name": "python2"
  },
  "language_info": {
   "codemirror_mode": {
    "name": "ipython",
    "version": 2
   },
   "file_extension": ".py",
   "mimetype": "text/x-python",
   "name": "python",
   "nbconvert_exporter": "python",
   "pygments_lexer": "ipython2",
   "version": "2.7.10"
  }
 },
 "nbformat": 4,
 "nbformat_minor": 0
}
