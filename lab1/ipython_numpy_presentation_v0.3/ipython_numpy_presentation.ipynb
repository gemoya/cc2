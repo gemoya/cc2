{
 "cells": [
  {
   "cell_type": "markdown",
   "metadata": {},
   "source": [
    "# IPython Notebooks y Programación Científica con NumPy\n",
    "### by Martín Villanueva, martin.villanueva@alumnos.usm.cl"
   ]
  },
  {
   "cell_type": "markdown",
   "metadata": {},
   "source": [
    "## Introduction to IPython Notebooks"
   ]
  },
  {
   "cell_type": "markdown",
   "metadata": {},
   "source": [
    "* In-browser editing for code, with automatic syntax highlighting, indentation, and tab completion/introspection.\n",
    "* The ability to execute code from the browser, with the results of computations attached to the code which generated them. **It follows the cells paradigm, equals as Mathematica does.**\n",
    "* Displaying the result of computation using rich media representations, such as HTML, LaTeX, PNG, SVG, etc. For example, publication-quality figures rendered by the **matplotlib** library, can be included inline.\n",
    "* The ability to easily include mathematical notation within markdown cells using LaTeX, and rendered natively by MathJax.\n"
   ]
  },
  {
   "cell_type": "markdown",
   "metadata": {},
   "source": [
    "### LaTeX integration"
   ]
  },
  {
   "cell_type": "markdown",
   "metadata": {},
   "source": [
    "LaTeX has native suport in notebooks through *mathjax* extension. So you can write math LaTeX code inside a *'markdown cell'* as usual:\n",
    "$$\n",
    "\\min_{u} \\mathcal{J}(u) = \\min_{u} \\int_{\\Omega} (u-f)^2 + \\alpha \\cdot \\Phi_1(|\\nabla u|^2) \\ d\\Omega\n",
    "$$"
   ]
  },
  {
   "cell_type": "markdown",
   "metadata": {},
   "source": [
    "### Matplotlib integration"
   ]
  },
  {
   "cell_type": "code",
   "execution_count": 1,
   "metadata": {
    "collapsed": false
   },
   "outputs": [
    {
     "data": {
      "image/png": "[encoded data removed]",
      "text/plain": [
       "<matplotlib.figure.Figure at 0x7f80d264a5d0>"
      ]
     },
     "metadata": {},
     "output_type": "display_data"
    }
   ],
   "source": [
    "#Magic to plot matplotlib graphs in output cell (inside notebook)\n",
    "%matplotlib inline\n",
    "import matplotlib.pyplot as plt\n",
    "import numpy as np\n",
    "\n",
    "t = np.arange(0., 15., 0.2)\n",
    "f = np.cos(t)\n",
    "plt.plot(t, f, 'b--')\n",
    "plt.show()"
   ]
  },
  {
   "cell_type": "markdown",
   "metadata": {},
   "source": [
    "### Useful magic built-in functions for profiling"
   ]
  },
  {
   "cell_type": "code",
   "execution_count": 2,
   "metadata": {
    "collapsed": false
   },
   "outputs": [],
   "source": [
    "# install it with your favorite package manager, or with pip (if packages are not in a repository) \n",
    "# 'pip install line-profiler' and 'pip install memory_profiler'\n",
    "%load_ext memory_profiler\n",
    "%load_ext line_profiler"
   ]
  },
  {
   "cell_type": "markdown",
   "metadata": {},
   "source": [
    "* **time**: See how long it takes a code to run."
   ]
  },
  {
   "cell_type": "code",
   "execution_count": 3,
   "metadata": {
    "collapsed": false
   },
   "outputs": [
    {
     "name": "stdout",
     "output_type": "stream",
     "text": [
      "CPU times: user 829 µs, sys: 0 ns, total: 829 µs\n",
      "Wall time: 831 µs\n"
     ]
    },
    {
     "data": {
      "text/plain": [
       "{3}"
      ]
     },
     "execution_count": 3,
     "metadata": {},
     "output_type": "execute_result"
    }
   ],
   "source": [
    "%time {1+2 for i in range(10000)}"
   ]
  },
  {
   "cell_type": "markdown",
   "metadata": {},
   "source": [
    "\n",
    "* **timeit**: See how long a code takes to run averaged over multiple runs.  It will limit the number of runs depending on how long the script takes to execute.  Provide an accurate time calculation by reducing the impact of startup or shutdown costs on the time calculation by executing the code repeatedly."
   ]
  },
  {
   "cell_type": "code",
   "execution_count": 4,
   "metadata": {
    "collapsed": false
   },
   "outputs": [
    {
     "name": "stdout",
     "output_type": "stream",
     "text": [
      "1000 loops, best of 3: 590 µs per loop\n"
     ]
    }
   ],
   "source": [
    "%timeit {1+2 for i in range(10000)}"
   ]
  },
  {
   "cell_type": "code",
   "execution_count": 5,
   "metadata": {
    "collapsed": false
   },
   "outputs": [
    {
     "name": "stdout",
     "output_type": "stream",
     "text": [
      "100 loops, best of 3: 577 µs per loop\n"
     ]
    }
   ],
   "source": [
    "%timeit -n 100 {1+2 for i in range(10000)}"
   ]
  },
  {
   "cell_type": "markdown",
   "metadata": {},
   "source": [
    "* **prun**: See how long it took each function in a script to run."
   ]
  },
  {
   "cell_type": "code",
   "execution_count": 6,
   "metadata": {
    "collapsed": false
   },
   "outputs": [],
   "source": [
    "from time import sleep\n",
    "\n",
    "def foo(): sleep(1)\n",
    "    \n",
    "def bar(): sleep(2)\n",
    "    \n",
    "def baz(): foo(),bar()"
   ]
  },
  {
   "cell_type": "code",
   "execution_count": 7,
   "metadata": {
    "collapsed": false
   },
   "outputs": [
    {
     "name": "stdout",
     "output_type": "stream",
     "text": [
      " "
     ]
    }
   ],
   "source": [
    "%prun baz()"
   ]
  },
  {
   "cell_type": "markdown",
   "metadata": {},
   "source": [
    "* **lprun**: See how long it took each line in a function to run."
   ]
  },
  {
   "cell_type": "code",
   "execution_count": 8,
   "metadata": {
    "collapsed": false
   },
   "outputs": [],
   "source": [
    "def test_func(n):\n",
    "    a = np.random.random(n)\n",
    "    b = np.random.random(n)\n",
    "    c = np.dot(a,b)\n",
    "    c.sum()\n",
    "    return c\n",
    "\n",
    "import test"
   ]
  },
  {
   "cell_type": "code",
   "execution_count": 9,
   "metadata": {
    "collapsed": false
   },
   "outputs": [],
   "source": [
    "%lprun -f test_func test_func(1000)"
   ]
  },
  {
   "cell_type": "markdown",
   "metadata": {},
   "source": [
    "* **memit**: See how much memory a code uses overall. %memit works a lot like %timeit except that the number of iterations is set with -r instead of -n."
   ]
  },
  {
   "cell_type": "code",
   "execution_count": 10,
   "metadata": {
    "collapsed": false
   },
   "outputs": [
    {
     "name": "stdout",
     "output_type": "stream",
     "text": [
      "peak memory: 61.45 MiB, increment: 0.35 MiB\n"
     ]
    }
   ],
   "source": [
    "%memit -r 5 test.func1(10000)"
   ]
  },
  {
   "cell_type": "markdown",
   "metadata": {},
   "source": [
    "## Introduction to NumPy"
   ]
  },
  {
   "cell_type": "markdown",
   "metadata": {},
   "source": [
    "### Why Python is so slow?"
   ]
  },
  {
   "cell_type": "markdown",
   "metadata": {},
   "source": [
    "* ** Python is Dynamically Typed rather than Statically Typed.** What this means is that at the time the program executes, the interpreter doesn't know the type of the variables that are defined. <img src='cint_vs_pyint.png' style=\"width: 300px;\">\n",
    "* **Python is interpreted rather than compiled.** A smart compiler can look ahead and optimize for repeated or unneeded operations, which can result in speed-ups. \n",
    "* **Python's object model can lead to inefficient memory access.** A NumPy array in its simplest form is a Python object build around a C array. That is, it has a pointer to a contiguous data buffer of values. A Python list, on the other hand, has a pointer to a contiguous buffer of pointers, each of which points to a Python object which in turn has references to its data (in this case, integers). <img src='array_vs_list.png' style=\"width: 500px;\">"
   ]
  },
  {
   "cell_type": "markdown",
   "metadata": {},
   "source": [
    "### Why Numpy is so fast?"
   ]
  },
  {
   "cell_type": "markdown",
   "metadata": {},
   "source": [
    "* Computations follow the **Single Instruction Multiple Data** (SIMD) paradigm. So that NumPy can take advantage of vectorized instructions on modern CPUs, like Intel's SSE and AVX, AMD's XOP.\n",
    "<img src='devectorized.png' style=\"width: 350px;\", caption='asdf'>\n",
    "<img src='vectorized.png' style=\"width: 350px;\">\n",
    "* A NumPy array is described by metadata (number of dimensions, shape, data type, strides, and so on) and the data (which is stored in a **homogeneous and contiguous** blocks of memory).\n",
    "* **Array computations** can be written very efficiently in a low-level language like C (and a large part of NumPy is actually written in C). Aditionally many internal methods and functions are linked to highly optimized linear algebra libraries like **BLAS** (Basic Linear Algebra Subprograms) and **LAPACK** (Linear Algebra PACKage).\n",
    "* **Spatial locality** in memory access patterns results in significant performance gains, notably thanks to the CPU cache.  Indeed, the cache loads bytes in chunks from RAM to the CPU registers."
   ]
  },
  {
   "cell_type": "markdown",
   "metadata": {},
   "source": [
    "## Lets see the problem..."
   ]
  },
  {
   "cell_type": "markdown",
   "metadata": {},
   "source": [
    "Consider the problem of calculating the squared norm of a vector with the following 4 implementations."
   ]
  },
  {
   "cell_type": "code",
   "execution_count": 11,
   "metadata": {
    "collapsed": false
   },
   "outputs": [],
   "source": [
    "#Python Lists implementation\n",
    "def norm_square_list(vector):\n",
    "    norm = 0\n",
    "    for v in vector:\n",
    "        norm += v*v\n",
    "    return norm\n",
    "\n",
    "#Naive NumPy implementation\n",
    "def norm_square_array(vector):\n",
    "    norm = 0\n",
    "    for v in vector:\n",
    "        norm += v*v\n",
    "    return norm\n",
    "\n",
    "#Vectorized NumPy implementation\n",
    "def norm_square_numpy(vector):\n",
    "    return np.sum(vector * vector)\n",
    "\n",
    "#Clever NumPy implementation\n",
    "def norm_square_dot(vector):\n",
    "    return np.dot(vector, vector)\n",
    "\n",
    "#Vector to use - dimension 10^6\n",
    "vector = range(1000000)\n",
    "npvector = np.array(vector)"
   ]
  },
  {
   "cell_type": "code",
   "execution_count": 12,
   "metadata": {
    "collapsed": false
   },
   "outputs": [
    {
     "name": "stdout",
     "output_type": "stream",
     "text": [
      "10 loops, best of 3: 91 ms per loop\n"
     ]
    }
   ],
   "source": [
    "#Timing the list implementation\n",
    "%timeit norm_square_list(vector)"
   ]
  },
  {
   "cell_type": "code",
   "execution_count": 13,
   "metadata": {
    "collapsed": false
   },
   "outputs": [
    {
     "name": "stdout",
     "output_type": "stream",
     "text": [
      "1 loops, best of 3: 1.02 s per loop\n"
     ]
    }
   ],
   "source": [
    "#Timing the naive array implementation\n",
    "%timeit norm_square_array(npvector)"
   ]
  },
  {
   "cell_type": "code",
   "execution_count": 14,
   "metadata": {
    "collapsed": false
   },
   "outputs": [
    {
     "name": "stdout",
     "output_type": "stream",
     "text": [
      "100 loops, best of 3: 5.47 ms per loop\n"
     ]
    }
   ],
   "source": [
    "#Timing the NumPy-vectorized implementation\n",
    "%timeit norm_square_numpy(npvector)"
   ]
  },
  {
   "cell_type": "code",
   "execution_count": 15,
   "metadata": {
    "collapsed": false
   },
   "outputs": [
    {
     "name": "stdout",
     "output_type": "stream",
     "text": [
      "1000 loops, best of 3: 1.46 ms per loop\n"
     ]
    }
   ],
   "source": [
    "#Timing the clever NumPy-vectorized implementation\n",
    "%timeit norm_square_dot(npvector)"
   ]
  },
  {
   "cell_type": "markdown",
   "metadata": {},
   "source": [
    "As you can see, some interesting things have happened:\n",
    "* The naive array implementation, which iterates over data is actually slower than simply using a list. This is because the *array* stores a  very low-level representation of the numbers it stores , and this **must be converted** into Python-compatible version before being returned to user, causing this extra overhead each time you index an *array*.\n",
    "* *norm_square_numpy* is slower than the clever NumPy implementation because two reasons: 1) There is time spend in allocating memory for storing the temporary result *(vector x vector)* and 2) This creates two **implied loops**, one to do the multiplication and one to do the sum.\n",
    "* The clever implementation uses *np.dot()* NumPy function which has no need to store intermediate results, and iterates just one time (but at C speed)."
   ]
  },
  {
   "cell_type": "markdown",
   "metadata": {},
   "source": [
    "## Eficient programming with NumPy"
   ]
  },
  {
   "cell_type": "markdown",
   "metadata": {},
   "source": [
    "### In-place and implicit copy operations"
   ]
  },
  {
   "cell_type": "markdown",
   "metadata": {},
   "source": [
    "Prefer in-place over implicit-copy operations whenever possible. This will save memory (less work to garbage collector) and performs faster."
   ]
  },
  {
   "cell_type": "code",
   "execution_count": 16,
   "metadata": {
    "collapsed": false
   },
   "outputs": [],
   "source": [
    "def id(x):\n",
    "    # This function returns the memory\n",
    "    # block address of an array.\n",
    "    return x.__array_interface__['data'][0]"
   ]
  },
  {
   "cell_type": "markdown",
   "metadata": {},
   "source": [
    "Array computations can involve **in-place** operations (first example below: the array is modified) or **implicit-copy** operations (second example: a new array is created)."
   ]
  },
  {
   "cell_type": "code",
   "execution_count": 17,
   "metadata": {
    "collapsed": false
   },
   "outputs": [],
   "source": [
    "a = np.zeros(10); aid = id(a)"
   ]
  },
  {
   "cell_type": "code",
   "execution_count": 18,
   "metadata": {
    "collapsed": false
   },
   "outputs": [
    {
     "data": {
      "text/plain": [
       "True"
      ]
     },
     "execution_count": 18,
     "metadata": {},
     "output_type": "execute_result"
    }
   ],
   "source": [
    "# in-place operation\n",
    "a *= 2; id(a) == aid"
   ]
  },
  {
   "cell_type": "code",
   "execution_count": 19,
   "metadata": {
    "collapsed": false
   },
   "outputs": [
    {
     "data": {
      "text/plain": [
       "False"
      ]
     },
     "execution_count": 19,
     "metadata": {},
     "output_type": "execute_result"
    }
   ],
   "source": [
    "# implicit-copy operation\n",
    "a = a * 2; id(a) == aid"
   ]
  },
  {
   "cell_type": "markdown",
   "metadata": {},
   "source": [
    "Be sure to choose the type of operation you actually need. Implicit-copy operations are **slower!**"
   ]
  },
  {
   "cell_type": "code",
   "execution_count": 20,
   "metadata": {
    "collapsed": false
   },
   "outputs": [
    {
     "name": "stdout",
     "output_type": "stream",
     "text": [
      "1 loops, best of 3: 751 ms per loop\n"
     ]
    }
   ],
   "source": [
    "%%timeit \n",
    "a = np.ones(100000000)\n",
    "a *= 2"
   ]
  },
  {
   "cell_type": "code",
   "execution_count": 21,
   "metadata": {
    "collapsed": false
   },
   "outputs": [
    {
     "name": "stdout",
     "output_type": "stream",
     "text": [
      "1 loops, best of 3: 962 ms per loop\n"
     ]
    }
   ],
   "source": [
    "%%timeit\n",
    "a = np.ones(100000000)\n",
    "b = a * 2"
   ]
  },
  {
   "cell_type": "markdown",
   "metadata": {},
   "source": [
    "### Efficient memory access"
   ]
  },
  {
   "cell_type": "markdown",
   "metadata": {},
   "source": [
    "Use **array slicing**, **masks** and **fancy indexing** (in this order) to eliminate loops. If you find yourself looping over indices to select items on which operation is performed, it can probably be done more efficiently with one of these techniques."
   ]
  },
  {
   "cell_type": "code",
   "execution_count": 22,
   "metadata": {
    "collapsed": false
   },
   "outputs": [],
   "source": [
    "m, n = 1000000, 100\n",
    "a = np.random.random_sample((m, n))\n",
    "index = np.arange(0, m, 10)"
   ]
  },
  {
   "cell_type": "code",
   "execution_count": 23,
   "metadata": {
    "collapsed": false
   },
   "outputs": [
    {
     "name": "stdout",
     "output_type": "stream",
     "text": [
      "1 loops, best of 3: 228 ms per loop\n"
     ]
    }
   ],
   "source": [
    "#fancy indexing - indexing with lists\n",
    "%timeit a[index]"
   ]
  },
  {
   "cell_type": "code",
   "execution_count": 24,
   "metadata": {
    "collapsed": false
   },
   "outputs": [
    {
     "name": "stdout",
     "output_type": "stream",
     "text": [
      "1000000 loops, best of 3: 1.45 µs per loop\n"
     ]
    }
   ],
   "source": [
    "#memory slice - memory views\n",
    "%timeit a[::10]"
   ]
  },
  {
   "cell_type": "markdown",
   "metadata": {},
   "source": [
    "*  Array slices are implemented as memory views, i.e, refer to the original data buffer of an array, but with different offsets, shapes and strides.\n",
    "* Array views should be used whenever possible, but one needs to be careful about the fact that views refer to the original data buffer.\n",
    "* Fancy indexing is several orders of magnitude slower as it involves copying a large array.\n",
    "\n",
    "Another useful indexing technique is mask of booleans. Lets suppose we want to get all the elements on array with value less than 0.5"
   ]
  },
  {
   "cell_type": "code",
   "execution_count": 25,
   "metadata": {
    "collapsed": false
   },
   "outputs": [
    {
     "data": {
      "text/plain": [
       "array([ True,  True, False, ..., False, False,  True], dtype=bool)"
      ]
     },
     "execution_count": 25,
     "metadata": {},
     "output_type": "execute_result"
    }
   ],
   "source": [
    "def naive_indexing(vect):\n",
    "    ret = list()\n",
    "    for val in vect:\n",
    "        if val < 0.5: ret.append(val)\n",
    "    return np.array(ret)\n",
    "\n",
    "#data to occupy and mask of booleans\n",
    "vect = np.random.random_sample(1000000)\n",
    "mask = vect < 0.5\n",
    "mask"
   ]
  },
  {
   "cell_type": "code",
   "execution_count": 26,
   "metadata": {
    "collapsed": false
   },
   "outputs": [
    {
     "name": "stdout",
     "output_type": "stream",
     "text": [
      "1 loops, best of 3: 369 ms per loop\n"
     ]
    }
   ],
   "source": [
    "#naive indexing\n",
    "%timeit naive_indexing(vect)"
   ]
  },
  {
   "cell_type": "code",
   "execution_count": 27,
   "metadata": {
    "collapsed": false
   },
   "outputs": [
    {
     "name": "stdout",
     "output_type": "stream",
     "text": [
      "100 loops, best of 3: 9.35 ms per loop\n"
     ]
    }
   ],
   "source": [
    "#mask indexing\n",
    "%timeit vect[mask]"
   ]
  },
  {
   "cell_type": "code",
   "execution_count": 28,
   "metadata": {
    "collapsed": false
   },
   "outputs": [
    {
     "name": "stdout",
     "output_type": "stream",
     "text": [
      "100 loops, best of 3: 11.5 ms per loop\n"
     ]
    }
   ],
   "source": [
    "#'improved' mask indexing\n",
    "%timeit np.compress(mask, vect, axis=0)"
   ]
  },
  {
   "cell_type": "markdown",
   "metadata": {},
   "source": [
    "### Universal Functions"
   ]
  },
  {
   "cell_type": "markdown",
   "metadata": {},
   "source": [
    "A powerful feature of Numpy is the concept of *ufunc* short for \"universal function.\" These functions operate on every value of an array **without need of loops**. This must be used instead for iterating over the array (eliminate loops!) and computing over each single data element. "
   ]
  },
  {
   "cell_type": "code",
   "execution_count": 29,
   "metadata": {
    "collapsed": false
   },
   "outputs": [
    {
     "data": {
      "text/plain": [
       "array([ 0,  1,  4,  9, 16, 25, 36, 49, 64, 81])"
      ]
     },
     "execution_count": 29,
     "metadata": {},
     "output_type": "execute_result"
    }
   ],
   "source": [
    "# Arithmetic operations like +,-,*,/ are implemented as binary ufuncs\n",
    "x = np.arange(10)\n",
    "x*x #multiply each element of x by itself"
   ]
  },
  {
   "cell_type": "code",
   "execution_count": 30,
   "metadata": {
    "collapsed": false
   },
   "outputs": [
    {
     "data": {
      "text/plain": [
       "array([ 0.        ,  0.84147098,  0.90929743,  0.14112001, -0.7568025 ,\n",
       "       -0.95892427, -0.2794155 ,  0.6569866 ,  0.98935825,  0.41211849])"
      ]
     },
     "execution_count": 30,
     "metadata": {},
     "output_type": "execute_result"
    }
   ],
   "source": [
    "# NumPy provides a lot of standar unary ufuncs\n",
    "# np.sin, np.cos, np.tan, np.exp, np.log, np.sinh, np.cosh and so on.\n",
    "np.sin(x) #take the sine of each element"
   ]
  },
  {
   "cell_type": "markdown",
   "metadata": {},
   "source": [
    "### Broadcasting"
   ]
  },
  {
   "cell_type": "markdown",
   "metadata": {},
   "source": [
    "There is no need to always reshape arrays before operate on them. This useful feature implemented in NumPy arrays is called **Broadcasting rules.** In the visualization below, the extra memory indicated by the dotted boxes is never allocated, but it can be convenient to think about the operations as if it is.\n",
    "<img src='broadcasting.png' style=\"width: 400px;\">\n"
   ]
  },
  {
   "cell_type": "code",
   "execution_count": 31,
   "metadata": {
    "collapsed": false
   },
   "outputs": [
    {
     "data": {
      "text/plain": [
       "array([5, 6, 7])"
      ]
     },
     "execution_count": 31,
     "metadata": {},
     "output_type": "execute_result"
    }
   ],
   "source": [
    "# array([0,1,2]) + 5\n",
    "np.arange(3) + 5"
   ]
  },
  {
   "cell_type": "code",
   "execution_count": 32,
   "metadata": {
    "collapsed": false
   },
   "outputs": [
    {
     "data": {
      "text/plain": [
       "array([[ 1.,  2.,  3.],\n",
       "       [ 1.,  2.,  3.],\n",
       "       [ 1.,  2.,  3.]])"
      ]
     },
     "execution_count": 32,
     "metadata": {},
     "output_type": "execute_result"
    }
   ],
   "source": [
    "# array([[1, 1 ,1], [1, 1, 1], [1, 1, 1]]) + array([0, 1, 2])\n",
    "np.ones((3,3)) + np.arange(3)"
   ]
  },
  {
   "cell_type": "code",
   "execution_count": 33,
   "metadata": {
    "collapsed": false
   },
   "outputs": [
    {
     "data": {
      "text/plain": [
       "array([[0, 1, 2],\n",
       "       [1, 2, 3],\n",
       "       [2, 3, 4]])"
      ]
     },
     "execution_count": 33,
     "metadata": {},
     "output_type": "execute_result"
    }
   ],
   "source": [
    "# array([[0], [1], [2]]) + array([0, 1 ,2])\n",
    "np.arange(3).reshape((3,1)) + np.arange(3)"
   ]
  },
  {
   "cell_type": "markdown",
   "metadata": {},
   "source": [
    "## Vectorized Algorithms with NumPy"
   ]
  },
  {
   "cell_type": "markdown",
   "metadata": {},
   "source": [
    "**Vectorization:** *The process of converting a scalar implementation, which processes a single pair of operands at a time, to a vector implementation, which processes one operation on multiple pairs of operands at once.*"
   ]
  },
  {
   "cell_type": "markdown",
   "metadata": {},
   "source": [
    "### Example: Gram-Shmidt Orthogonalization"
   ]
  },
  {
   "cell_type": "markdown",
   "metadata": {},
   "source": [
    "**The problem**: Given a matrix $Q_{m\\times n}$ with ($m>n$), find a vector $v$ orthogonal to the column space of $Q$. \n",
    "<img src='orthogonalization.jpg' style=\"width: 400px;\">"
   ]
  },
  {
   "cell_type": "code",
   "execution_count": 34,
   "metadata": {
    "collapsed": false
   },
   "outputs": [],
   "source": [
    "def naive_orth(Q,v):\n",
    "    m,n = Q.shape\n",
    "    for j in range(n):\n",
    "        v -= np.dot(Q[:,j],v)*Q[:,j]\n",
    "    return v\n",
    "    \n",
    "def vectorized_orth(Q,v):\n",
    "    proy = np.dot(Q.transpose(),v)\n",
    "    # v -= (proy*Q).sum(axis=1)\n",
    "    v -= np.dot(Q,proy)\n",
    "    return v"
   ]
  },
  {
   "cell_type": "code",
   "execution_count": 35,
   "metadata": {
    "collapsed": false
   },
   "outputs": [],
   "source": [
    "# Let's generate a random unitary matrix\n",
    "# Q unitary matrix, dimensions 100000 x1000\n",
    "m,n = 10000,100\n",
    "A = 10 * np.random.random((m,n))\n",
    "Q,R = np.linalg.qr(A, mode='reduced')\n",
    "del R\n",
    "\n",
    "# v will be the starting vector for orthogonalization\n",
    "v = np.random.random(m)\n",
    "v1 = v.copy()\n",
    "v2 = v.copy()"
   ]
  },
  {
   "cell_type": "code",
   "execution_count": 36,
   "metadata": {
    "collapsed": false
   },
   "outputs": [
    {
     "name": "stdout",
     "output_type": "stream",
     "text": [
      "100 loops, best of 3: 8.82 ms per loop\n"
     ]
    }
   ],
   "source": [
    "%timeit naive_orth(Q,v1)"
   ]
  },
  {
   "cell_type": "code",
   "execution_count": 37,
   "metadata": {
    "collapsed": false
   },
   "outputs": [
    {
     "name": "stdout",
     "output_type": "stream",
     "text": [
      "100 loops, best of 3: 2.73 ms per loop\n"
     ]
    }
   ],
   "source": [
    "%timeit vectorized_orth(Q,v2)"
   ]
  },
  {
   "cell_type": "markdown",
   "metadata": {},
   "source": [
    "## The Limits of Vectorized Algorithms"
   ]
  },
  {
   "cell_type": "markdown",
   "metadata": {},
   "source": [
    "Lets suppose we want to evaluate the complicated function $f(x,y) = e^{(x-y)^2 + (x+y)^2}\\cdot(\\cos{(x\\ y)} + \\sin{(x\\ y)}- \\cos{(x)}\\sin{(y)})$ on a set of data points $\\mathbf{x}=[x_0,\\ldots,x_n]$ and $\\mathbf{y}=[y_0,\\ldots,y_n]$ in a vectorized way. The question is, ** what is the problem with vectorized algorithms?**\n",
    "* It takes time to **allocate memory** for the temporary arrays (and many unnecessary temporaries are created).\n",
    "* It takes time to reclaim the memory of these arrays during **garbage collection**.\n",
    "* It takes time to **traverse the memory** – generally, computation on large arrays is often memory-bound – the run-time performance largely depends on how many times you have to scan the arrays."
   ]
  },
  {
   "cell_type": "code",
   "execution_count": 38,
   "metadata": {
    "collapsed": false
   },
   "outputs": [],
   "source": [
    "def vec_func(x,y):\n",
    "    return np.exp(np.sqrt((x-y)**2 + (x+y)**2))*(np.cos(x*y) + np.sin(x*y) - np.cos(x)*np.cos(y))\n",
    "\n",
    "#devec is a dynamic module, written in Cython\n",
    "import devec"
   ]
  },
  {
   "cell_type": "markdown",
   "metadata": {},
   "source": [
    "A devectorized version of vec_func() was implemented with Cython as follows\n",
    "<img src='devec_code.png' style=\"width: 700px;\">"
   ]
  },
  {
   "cell_type": "code",
   "execution_count": 39,
   "metadata": {
    "collapsed": false
   },
   "outputs": [],
   "source": [
    "#random data to be used\n",
    "x0 = 10 * np.random.random(10000000)\n",
    "y0 = 10 * np.random.random(10000000)"
   ]
  },
  {
   "cell_type": "code",
   "execution_count": 40,
   "metadata": {
    "collapsed": false
   },
   "outputs": [
    {
     "name": "stdout",
     "output_type": "stream",
     "text": [
      "1 loops, best of 3: 4.33 s per loop\n"
     ]
    }
   ],
   "source": [
    "#time of vectorized function\n",
    "%timeit vec_func(x0,y0)"
   ]
  },
  {
   "cell_type": "code",
   "execution_count": 41,
   "metadata": {
    "collapsed": false
   },
   "outputs": [
    {
     "name": "stdout",
     "output_type": "stream",
     "text": [
      "peak memory: 1417.88 MiB, increment: 362.96 MiB\n"
     ]
    }
   ],
   "source": [
    "#memory of vectorized function\n",
    "%memit vec_func(x0,y0)"
   ]
  },
  {
   "cell_type": "code",
   "execution_count": 42,
   "metadata": {
    "collapsed": false
   },
   "outputs": [
    {
     "name": "stdout",
     "output_type": "stream",
     "text": [
      "1 loops, best of 3: 3.3 s per loop\n"
     ]
    }
   ],
   "source": [
    "#time of devectorized function\n",
    "%timeit devec.func(x0,y0)"
   ]
  },
  {
   "cell_type": "code",
   "execution_count": 43,
   "metadata": {
    "collapsed": false
   },
   "outputs": [
    {
     "name": "stdout",
     "output_type": "stream",
     "text": [
      "peak memory: 1130.54 MiB, increment: 75.52 MiB\n"
     ]
    }
   ],
   "source": [
    "#memory of devectorized function\n",
    "%memit devec.func(x0,y0)"
   ]
  },
  {
   "cell_type": "markdown",
   "metadata": {},
   "source": [
    "** Warning :** By default, timeit() temporarily turns off garbage collection during the timing. The advantage of this approach is that it makes independent timings more comparable. This disadvantage is that GC may be an important component of the performance of the function being measured."
   ]
  },
  {
   "cell_type": "markdown",
   "metadata": {},
   "source": [
    "## Bonus: Useful libraries based in NumPy"
   ]
  },
  {
   "cell_type": "markdown",
   "metadata": {},
   "source": [
    "### numpy.linalg (Numpy's submodule)"
   ]
  },
  {
   "cell_type": "code",
   "execution_count": 44,
   "metadata": {
    "collapsed": false
   },
   "outputs": [],
   "source": [
    "A = np.random.random((100,100))\n",
    "b = np.random.random(100)\n",
    "c = np.random.random(100)\n",
    "\n",
    "### Matrix power ###\n",
    "np.linalg.matrix_power(A,3)\n",
    "\n",
    "### Cholesky decomposition ###\n",
    "#np.linalg.cholesky(A) #A must be positive definite\n",
    "\n",
    "### QR decomposition ###\n",
    "np.linalg.qr(A, mode='reduced')\n",
    "\n",
    "### SVD decomposition ###\n",
    "np.linalg.svd(A, full_matrices=False)\n",
    "\n",
    "### Eigenvectors ###\n",
    "np.linalg.eig(A)\n",
    "\n",
    "### Eigevalues ###\n",
    "np.linalg.eigvals(A)\n",
    "\n",
    "### Matrix or vector norm ###\n",
    "np.linalg.norm(A, ord='fro')\n",
    "\n",
    "### Condition number ###\n",
    "np.linalg.cond(A, p=np.inf)\n",
    "\n",
    "### Determinant ###\n",
    "np.linalg.det(A)\n",
    "\n",
    "### Linear solver Ax=b ###\n",
    "np.linalg.solve(A,b)\n",
    "\n",
    "### Least Squares Ax=b (over-determined) ###\n",
    "np.linalg.lstsq(A,b)\n",
    "\n",
    "### Inverse ###\n",
    "np.linalg.inv(A)\n",
    "\n",
    "### Pseudo-Inverse ###\n",
    "np.linalg.pinv(A)\n",
    "\n",
    "### and many more...\n",
    "del A,b,c"
   ]
  },
  {
   "cell_type": "markdown",
   "metadata": {},
   "source": [
    "### scipy.optimize(SciPy's submodule)"
   ]
  },
  {
   "cell_type": "markdown",
   "metadata": {},
   "source": [
    "* bisect(f, a, b[, args, xtol, rtol, maxiter, ...]) -  \tFind root of a function within an interval.\n",
    "* newton(func, x0[, fprime, args, tol, ...]) -\tFind a zero using the Newton-Raphson or secant method.\n",
    "* fixed_point(func, x0[, args, xtol, maxiter]) -\tFind a fixed point of the function.\n",
    "* root(fun, x0[, args, method, jac, tol, ...]) -\tFind a root of a vector function.\n",
    "* fsolve(func, x0[, args, fprime, ...]) -\tFind the roots of a function."
   ]
  },
  {
   "cell_type": "markdown",
   "metadata": {},
   "source": [
    "### scipy.integrate (Scipy's submodule)"
   ]
  },
  {
   "cell_type": "markdown",
   "metadata": {},
   "source": [
    "* cumtrapz(y[, x, dx, axis, initial]) -\tCumulatively integrate y(x) using the composite trapezoidal rule.\n",
    "* simps(y[, x, dx, axis, even]) -\tIntegrate y(x) using samples along the given axis and the composite Simpson’s rule.\n",
    "* fixed_quad(func, a, b[, args, n]) -\tCompute a definite integral using fixed-order Gaussian quadrature.\n",
    "* quadrature(func, a, b[, args, tol, rtol, ...]) -\tCompute a definite integral using fixed-tolerance Gaussian quadrature.\n",
    "* odeint(func, y0, t[, args, Dfun, col_deriv, ...]) -\tIntegrate a system of ordinary differential equations."
   ]
  },
  {
   "cell_type": "markdown",
   "metadata": {},
   "source": [
    "## References"
   ]
  },
  {
   "cell_type": "markdown",
   "metadata": {},
   "source": [
    "* [*IPython notebook oficial documentation*](http://ipython.readthedocs.org/en/stable/)\n",
    "* [*Time and memory Profiling in IPython*](http://pynash.org/2013/03/06/timing-and-profiling.html)\n",
    "* [*Getting the best performance out of NumPy*](http://ipython-books.github.io/featured-01/)\n",
    "* [*Why Python is slow*](https://jakevdp.github.io/blog/2014/05/09/why-python-is-slow/)\n",
    "* [*High Performance Python: Practical Performant Programming for Humans*](https://books.google.cl/books?id=bIZaBAAAQBAJ&pg=PA115&lpg=PA115&dq#v=onepage&q&f=false)"
   ]
  }
 ],
 "metadata": {
  "kernelspec": {
   "display_name": "Python 2",
   "language": "python",
   "name": "python2"
  },
  "language_info": {
   "codemirror_mode": {
    "name": "ipython",
    "version": 2
   },
   "file_extension": ".py",
   "mimetype": "text/x-python",
   "name": "python",
   "nbconvert_exporter": "python",
   "pygments_lexer": "ipython2",
   "version": "2.7.10"
  }
 },
 "nbformat": 4,
 "nbformat_minor": 0
}
