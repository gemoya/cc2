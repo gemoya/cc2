{
 "metadata": {
  "kernelspec": {
   "display_name": "Python 2",
   "language": "python",
   "name": "python2"
  },
  "language_info": {
   "codemirror_mode": {
    "name": "ipython",
    "version": 2
   },
   "file_extension": ".py",
   "mimetype": "text/x-python",
   "name": "python",
   "nbconvert_exporter": "python",
   "pygments_lexer": "ipython2",
   "version": "2.7.10"
  },
  "name": "",
  "signature": "sha256:d4541c54f57a0491cc3a9e9df32cf662f9b9bf0403d24a5e420088e4dfcb4dea"
 },
 "nbformat": 3,
 "nbformat_minor": 0,
 "worksheets": [
  {
   "cells": [
    {
     "cell_type": "markdown",
     "metadata": {},
     "source": [
      "# <center> Laboratorio 1 </center>\n",
      "## <center> Computaci\u00f3n cient\u00edfica II </center>\n",
      "## <center> Ariel Sanhueza Rom\u00e1n - asanhuez@alumnos.inf.utfsm.cl - 201173005-4 </center>\n",
      "## <center> Gonzalo Moya Rodr\u00edguez - gemoya@alumnos.inf.utfsm.cl - 201173016-k </center>"
     ]
    },
    {
     "cell_type": "markdown",
     "metadata": {},
     "source": [
      "# Introducci\u00f3n\n",
      "bla bla"
     ]
    },
    {
     "cell_type": "markdown",
     "metadata": {},
     "source": [
      "# Previo\n",
      "Primero, importaremos las bibliotecas previas:"
     ]
    },
    {
     "cell_type": "code",
     "collapsed": false,
     "input": [
      "import numpy as np\n",
      "from scipy import linalg\n",
      "%matplotlib inline\n",
      "from matplotlib import pyplot as plt\n",
      "from mpl_toolkits.mplot3d import Axes3D as axes3d\n",
      "from numpy.linalg import norm, solve\n",
      "#%load_ext memory_profiler"
     ],
     "language": "python",
     "metadata": {},
     "outputs": [],
     "prompt_number": 16
    },
    {
     "cell_type": "markdown",
     "metadata": {},
     "source": [
      "Ahora, cargaremos los datos entregados y generamos el vector inicial:"
     ]
    },
    {
     "cell_type": "code",
     "collapsed": false,
     "input": [
      "X = np.load('arcene.npy')\n",
      "cov_x = X\n",
      "cov_x -= cov_x.mean(axis=0)\n",
      "cov_x = np.dot(np.transpose(cov_x),cov_x)\n",
      "n = cov_x.shape[1]\n",
      "cov_x = np.divide(cov_x,n-1)\n",
      "i_guess  = np.ones(cov_x.shape[0])"
     ],
     "language": "python",
     "metadata": {},
     "outputs": [],
     "prompt_number": 3
    },
    {
     "cell_type": "markdown",
     "metadata": {
      "collapsed": true
     },
     "source": [
      "# Desarrollo\n",
      "\n",
      "## Pregunta 1\n",
      "Primero, implementaremos los algoritmos de $\\textbf{Power Iteration}$ y $\\textbf{Rayleigh Quotient Iteration}$"
     ]
    },
    {
     "cell_type": "heading",
     "level": 3,
     "metadata": {},
     "source": [
      "Power Iteration"
     ]
    },
    {
     "cell_type": "code",
     "collapsed": false,
     "input": [
      "# Adaptaci\u00f3n del algoritmo publicado en el ipython de clases\n",
      "def powerit(A, x, k):\n",
      "  \"\"\"\n",
      "  Program 12.1 Power iteration\n",
      "  Computes dominant eigenvector of square matrix\n",
      "  Input: matrix A, initial (nonzero) vector x, number of steps k\n",
      "  Output: dominant eigenvalue lam, eigenvector u\n",
      "  \"\"\"\n",
      "  for j in range(k):\n",
      "    u = np.divide(x, linalg.norm(x))\n",
      "    x = np.dot(A, u)\n",
      "    lam = float(np.dot(u.T, x))\n",
      "  u = np.divide(x, linalg.norm(x))\n",
      "  return lam, u"
     ],
     "language": "python",
     "metadata": {},
     "outputs": [],
     "prompt_number": 5
    },
    {
     "cell_type": "markdown",
     "metadata": {},
     "source": [
      "Dentro de todo el algoritmo, las l\u00edneas m\u00e1s costosas son (con sus respectivas complejidades):\n",
      "* np.dot(A,U) $\\rightarrow O(n^2)$, pues es un producto matriz vector.\n",
      "* np.dot(u.T, x) $\\rightarrow O(n)$, pues es un producto vector vector.\n",
      "* El loop for, que depende de k.\n",
      "\n",
      "Por lo que la complejidad de este algoritmo es de orden $O(kn^2)$"
     ]
    },
    {
     "cell_type": "heading",
     "level": 3,
     "metadata": {},
     "source": [
      "Rayleigh Quotient Iteration"
     ]
    },
    {
     "cell_type": "code",
     "collapsed": false,
     "input": [
      "# Adaptaci\u00f3n del algoritmo publicando en el ipython de clases\n",
      "def rqi(A, x, k):\n",
      "  \"\"\"\n",
      "  Program 12.3 Rayleigh Quotient Iteration\n",
      "  Input: matrix A, initial (nonzero) vector x, number of steps k\n",
      "  Output: eigenvalue lam, eigenvector of inv(A-sI)\n",
      "  \"\"\"\n",
      "  for j in range(k):\n",
      "    u = np.divide(x, linalg.norm(x))\n",
      "    lam = float(np.dot(u.T, np.dot(A, u)))\n",
      "    x = np.linalg.solve(A -lam*np.eye(*A.shape), u)\n",
      "  u = np.divide(x, linalg.norm(x))\n",
      "  lam = float(np.dot(u.T, np.dot(A, u)))\n",
      "  return lam, u"
     ],
     "language": "python",
     "metadata": {},
     "outputs": [],
     "prompt_number": 40
    },
    {
     "cell_type": "markdown",
     "metadata": {},
     "source": [
      "Dentro de todo el algoritmo, las l\u00edneas m\u00e1s costosas son (con sus respectivas complejidades):\n",
      "* np.dot(u.T, np.dot(A, u)) $\\rightarrow O(n^2)$, pues est\u00e1 compuesto por dos productos puntos, por lo que la l\u00ednea completa son aproximadamente $n^2 + n$ operaciones, lo que asint\u00f3ticamente es $O(n^2)$\n",
      "* El loop for, que depende de k\n",
      "Por lo que la complejidad de este algoritmo es de orden $O(kn^2)$"
     ]
    },
    {
     "cell_type": "markdown",
     "metadata": {},
     "source": [
      "## Pregunta 2\n",
      "\n",
      "### Parte a)\n",
      "Primero, como $A$ es sim\u00e9trica, tenemos que sus valores propios son reales y sus vectores propios son ortogonales entre s\u00ed.\n",
      "\n",
      "Tomemos $B = A - \\lambda_iv_iv^T_i$. Entonces:\n",
      "\n",
      "\\begin{align*}\n",
      "    Bv_k &= \\lambda_kv_k \\\\\n",
      "    (A - \\lambda_iv_iv^T_i)v_k &= \\lambda_kv_k \\\\\n",
      "    Av_k - \\lambda_iv_iv^T_iv_k &= \\lambda_kv_k,\\texttt{ pero }v^T_iv_k = 0\u00a0\\\\\n",
      "    Av_k &= \\lambda_kv_k\n",
      "\\end{align*}\n",
      "\n",
      "Entonces vemos que los vectores y valores propios son los mismos en A y en B.\n",
      "\n",
      "Ahora supongamos que $v_1$ es el vector propio dominante y $\\lambda_1$ es el valor propio dominante de A (encontrado en la primera iteraci\u00f3n, pues el valor y vector propio inicial son cero). \n",
      "\n",
      "\\begin{align*}\n",
      "    Bv_i &= \\lambda_iv_i \\\\\n",
      "    (A - \\lambda_1v_1v^T_1)v_i &= \\lambda_iv_i \\\\\n",
      "    Av_i - \\lambda_1v_1v^T_1v_i &= \\lambda_iv_i, \\texttt{ pero para } i \\neq 1 \\rightarrow v^T_1v_i = 0 \\\\\n",
      "    Av_i &= \\lambda_iv_i\n",
      "\\end{align*}\n",
      "\n",
      "Entonces, se tienen que si aplicamos power iteration en B, encontraremos su valor/vector propio dominante. Pero como los vectores son los mismos en A y en B y $v_1$ y $\\lambda_1$ no son dominantes en B, entonces los dominantes en B son los segundos m\u00e1s grandes en A. Si aplicamos esto $k$ veces, obtenemos los $k$ vectores y valores propios dominantes de A\n",
      "\n",
      "### Parte b)\n",
      "La complejidad de Power iteration vimos que era $O(pn^2)$ (en el caso del algoritmo propuesto, en power iteration $k = p$). Como el power iteration es ejecutado $k$ veces, entonces la complejidad total es $O(kpn^2)$.\n",
      "\n",
      "### Parte c)"
     ]
    },
    {
     "cell_type": "code",
     "collapsed": false,
     "input": [
      "def k_eigen_finder(A, p, k, v_0):\n",
      "    v = v_0\n",
      "    l = 0\n",
      "    lambdas = []\n",
      "    vectors = []\n",
      "    for i in range(k):\n",
      "        A = A - l*np.dot(v, np.transpose(v))\n",
      "        l, v = powerit(A, np.ones((A.shape[0],1)), p)\n",
      "        lambdas.append(l)\n",
      "        vectors.append(v)\n",
      "    return lambdas, vectors"
     ],
     "language": "python",
     "metadata": {},
     "outputs": [],
     "prompt_number": 7
    },
    {
     "cell_type": "markdown",
     "metadata": {},
     "source": [
      "## Pregunta 3\n",
      "### Parte a)\n",
      "\n",
      "### Parte b) \n",
      "\n",
      "Tomando en cuenta que calcular la potencia p de una matriz es equivalente a computar el producto matriz,matriz p veces, esto nos entrega una complejidad de $O(2pn^3)$, con $2n$ para el prodcuto y $n^2$ para la matriz.\n",
      "Luego dentro del algoritmo detectamos instrucciones relevantes como el producto matriz vector de complejidad de $2n^2$ y posteriormente el producto matriz vector con $2n^2$ m\u00e1s el producto vector vector de complejidad $2n$.Estas instrucciones se realiza $k$ veces por lo que para obtener la complejidad general se construye dependiendo del numero de ciclos, es decir si $k<8np$ entonces la complejidad ser\u00e1 $O(2pn^3)$, de lo contrario es $O(4kn^2)$. \n",
      "\n",
      "### Parte c)"
     ]
    },
    {
     "cell_type": "code",
     "collapsed": false,
     "input": [
      "def k_eigen_finder_plus(A, p, k, v_0):\n",
      "    #A = np.dot(A.T,A)\n",
      "    A_p = np.linalg.matrix_power(A, 2*p)\n",
      "    #A_p = A**p\n",
      "    l = 0\n",
      "    v = np.zeros((A.shape[0], 1))\n",
      "    x = v_0\n",
      "    lambdas = []\n",
      "    vectors = []\n",
      "    for i in range(k):\n",
      "        A_p = A_p - (l**p)*np.dot(v, np.transpose(v))\n",
      "        v = np.dot(A_p,x)\n",
      "        v = np.divide(v, np.linalg.norm(v))\n",
      "        l = np.dot(v.T, np.dot(A, v))\n",
      "        lambdas.append(l)\n",
      "        vectors.append(v)\n",
      "    return lambdas, vectors\n"
     ],
     "language": "python",
     "metadata": {},
     "outputs": [],
     "prompt_number": 6
    },
    {
     "cell_type": "markdown",
     "metadata": {},
     "source": [
      "## Pregunta 4\n",
      "### Parte a)\n",
      "Las modificaciones son pocas y simples:\n",
      "* Si nuestra mariz es de dimensiones $nxn$, nuestro Q_0 inicial es cualquier matriz de dimensiones $nxk$, donde $k$ es la cantidad de eigen values que queremos encontrar.\n",
      "* Al realizar la descomposici\u00f3n QR, usaremos su versi\u00f3n reducida.\n",
      "\n",
      "### Parte b)\n",
      "La complejidad de este nuevo algoritmo est\u00e1 determinada por:\n",
      "* La factorizaci\u00f3n QR, que es de complejidad $O(n^3)$.\n",
      "* La cantidad de iteraciones realizadas por el Unshifted QR (llam\u00e9moslo $m$).\n",
      "Por lo tanto, la complejidad total es de $O(mn^3)$.\n",
      "\n",
      "### Parte c)\n",
      "La implementaci\u00f3n es la siguiente forma:"
     ]
    },
    {
     "cell_type": "code",
     "collapsed": false,
     "input": [
      "def unshifted_qr_k(A, m, k):\n",
      "    # The intial value of Q\n",
      "    Q = np.dot(A, np.ones((A.shape[0], k)))\n",
      "    for i in range(m):\n",
      "        Q,_ = np.linalg.qr(np.dot(A,Q), mode='reduced')\n",
      "    return np.diagonal(np.dot(np.dot(Q.T, A), Q))"
     ],
     "language": "python",
     "metadata": {},
     "outputs": [],
     "prompt_number": 43
    },
    {
     "cell_type": "heading",
     "level": 2,
     "metadata": {},
     "source": [
      "Pregunta 5"
     ]
    },
    {
     "cell_type": "code",
     "collapsed": false,
     "input": [
      "lam, u = powerit(cov_x, i_guess, 27)\n",
      "print lam\n",
      "print u"
     ],
     "language": "python",
     "metadata": {},
     "outputs": [
      {
       "output_type": "stream",
       "stream": "stdout",
       "text": [
        "1838214.89054\n",
        "[  7.92615633e-03  -1.03486901e-04  -1.64245597e-04 ...,   1.10023573e-02\n",
        "  -2.38882889e-02   4.63108496e-05]\n"
       ]
      }
     ],
     "prompt_number": 44
    },
    {
     "cell_type": "code",
     "collapsed": false,
     "input": [
      "lam, u = rqi(cov_x, i_guess, 3)\n",
      "print lam\n",
      "print u"
     ],
     "language": "python",
     "metadata": {},
     "outputs": [
      {
       "output_type": "stream",
       "stream": "stdout",
       "text": [
        "68521.5351152\n",
        "[-0.02358317 -0.00066283 -0.0007175  ...,  0.03846556 -0.05225003\n",
        " -0.00013062]\n"
       ]
      }
     ],
     "prompt_number": 45
    },
    {
     "cell_type": "code",
     "collapsed": false,
     "input": [
      "timeit powerit(cov_x, i_guess, 27)"
     ],
     "language": "python",
     "metadata": {},
     "outputs": [
      {
       "output_type": "stream",
       "stream": "stdout",
       "text": [
        "1 loops, best of 3: 227 ms per loop\n"
       ]
      }
     ],
     "prompt_number": 46
    },
    {
     "cell_type": "code",
     "collapsed": false,
     "input": [
      "timeit rqi(cov_x, i_guess, 3)"
     ],
     "language": "python",
     "metadata": {},
     "outputs": [
      {
       "output_type": "stream",
       "stream": "stdout",
       "text": [
        "1 loops, best of 3: 4.52 s per loop\n"
       ]
      }
     ],
     "prompt_number": 47
    },
    {
     "cell_type": "code",
     "collapsed": false,
     "input": [
      "memit powerit(cov_x, i_guess, 27)"
     ],
     "language": "python",
     "metadata": {},
     "outputs": [
      {
       "output_type": "stream",
       "stream": "stdout",
       "text": [
        "peak memory: 138.20 MiB, increment: 0.00 MiB\n"
       ]
      }
     ],
     "prompt_number": 48
    },
    {
     "cell_type": "code",
     "collapsed": false,
     "input": [
      "memit rqi(cov_x, i_guess, 3)"
     ],
     "language": "python",
     "metadata": {},
     "outputs": [
      {
       "output_type": "stream",
       "stream": "stdout",
       "text": [
        "peak memory: 233.61 MiB, increment: 95.39 MiB\n"
       ]
      }
     ],
     "prompt_number": 49
    },
    {
     "cell_type": "markdown",
     "metadata": {},
     "source": [
      "Con los resultados anteriores podemos concluir que ..."
     ]
    },
    {
     "cell_type": "heading",
     "level": 2,
     "metadata": {},
     "source": [
      "Pregunta 6"
     ]
    },
    {
     "cell_type": "code",
     "collapsed": false,
     "input": [
      "l,u = k_eigen_finder(cov_x, 10, 10, i_guess)\n",
      "print l"
     ],
     "language": "python",
     "metadata": {},
     "outputs": [
      {
       "output_type": "stream",
       "stream": "stdout",
       "text": [
        "[1838050.995732637, 1195903.0584144755, 213920.88258184306, 154187.9455181963, 102028.30433202887, 68374.27226384028, 53875.61950935819, 42465.99574260609, 46424.82150974384, 43154.7019382914]\n"
       ]
      }
     ],
     "prompt_number": 50
    },
    {
     "cell_type": "code",
     "collapsed": false,
     "input": [
      "l,u = k_eigen_finder_plus(cov_x, 10, 10, i_guess)\n",
      "print l,u"
     ],
     "language": "python",
     "metadata": {},
     "outputs": [
      {
       "output_type": "stream",
       "stream": "stdout",
       "text": [
        "[172989.63264310587, 73382.582780293116, 73382.582780291894, 73382.582780291967, 73382.58278029284, 73382.582780292054, 73382.582780292869, 73382.582780291821, 73382.582780292243, 73382.582780293407] [array([  4.25958082e-10,   1.56880730e-20,   9.07458474e-10, ...,\n",
        "         6.74155890e-11,   2.72139805e-08,   3.96982327e-34]), array([-0.02, -0.02, -0.02, ..., -0.02, -0.02, -0.02]), array([-0.02, -0.02, -0.02, ..., -0.02, -0.02, -0.02]), array([-0.02, -0.02, -0.02, ..., -0.02, -0.02, -0.02]), array([-0.02, -0.02, -0.02, ..., -0.02, -0.02, -0.02]), array([-0.02, -0.02, -0.02, ..., -0.02, -0.02, -0.02]), array([-0.02, -0.02, -0.02, ..., -0.02, -0.02, -0.02]), array([-0.02, -0.02, -0.02, ..., -0.02, -0.02, -0.02]), array([-0.02, -0.02, -0.02, ..., -0.02, -0.02, -0.02]), array([-0.02, -0.02, -0.02, ..., -0.02, -0.02, -0.02])]\n"
       ]
      }
     ],
     "prompt_number": 100
    },
    {
     "cell_type": "code",
     "collapsed": false,
     "input": [
      "unshifted_qr_k(cov_x, 100, 10)"
     ],
     "language": "python",
     "metadata": {},
     "outputs": [
      {
       "metadata": {},
       "output_type": "pyout",
       "prompt_number": 52,
       "text": [
        "array([ 1838214.89061456,  1195796.43014677,   214003.16585597,\n",
        "         154145.5921766 ,   102040.01804763,    68731.92840622,\n",
        "          53790.19770729,    49679.85760233,    49428.86792734,\n",
        "          39916.3129266 ])"
       ]
      }
     ],
     "prompt_number": 52
    },
    {
     "cell_type": "markdown",
     "metadata": {},
     "source": [
      "Como podemos ver, una prueba con los algoritmos para encontrar los 10 primeros valores propios, nos retornan valores similares."
     ]
    },
    {
     "cell_type": "code",
     "collapsed": false,
     "input": [
      "timeit k_eigen_finder(cov_x,10,10,i_guess)"
     ],
     "language": "python",
     "metadata": {},
     "outputs": [
      {
       "output_type": "stream",
       "stream": "stdout",
       "text": [
        "1 loops, best of 3: 2.81 s per loop\n"
       ]
      }
     ],
     "prompt_number": 53
    },
    {
     "cell_type": "code",
     "collapsed": false,
     "input": [
      "timeit k_eigen_finder(cov_x,10,100,i_guess)"
     ],
     "language": "python",
     "metadata": {},
     "outputs": [
      {
       "output_type": "stream",
       "stream": "stdout",
       "text": [
        "1 loops, best of 3: 23.1 s per loop\n"
       ]
      }
     ],
     "prompt_number": 54
    },
    {
     "cell_type": "code",
     "collapsed": false,
     "input": [
      "timeit k_eigen_finder(cov_x,10,1000,i_guess)"
     ],
     "language": "python",
     "metadata": {},
     "outputs": [
      {
       "output_type": "stream",
       "stream": "stdout",
       "text": [
        "1 loops, best of 3: 3min 44s per loop\n"
       ]
      }
     ],
     "prompt_number": 55
    },
    {
     "cell_type": "code",
     "collapsed": false,
     "input": [
      "timeit k_eigen_finder_plus(cov_x, 10, 10, i_guess)"
     ],
     "language": "python",
     "metadata": {},
     "outputs": [
      {
       "output_type": "stream",
       "stream": "stdout",
       "text": [
        "1 loops, best of 3: 17.6 s per loop\n"
       ]
      }
     ],
     "prompt_number": 57
    },
    {
     "cell_type": "code",
     "collapsed": false,
     "input": [
      "timeit k_eigen_finder_plus(cov_x, 10, 100, i_guess)"
     ],
     "language": "python",
     "metadata": {},
     "outputs": [
      {
       "output_type": "stream",
       "stream": "stdout",
       "text": [
        "1 loops, best of 3: 23.5 s per loop\n"
       ]
      }
     ],
     "prompt_number": 68
    },
    {
     "cell_type": "code",
     "collapsed": false,
     "input": [
      "timeit k_eigen_finder_plus(cov_x, 10, 1000, i_guess)"
     ],
     "language": "python",
     "metadata": {},
     "outputs": [
      {
       "output_type": "stream",
       "stream": "stdout",
       "text": [
        "1 loops, best of 3: 1min 14s per loop\n"
       ]
      }
     ],
     "prompt_number": 69
    },
    {
     "cell_type": "code",
     "collapsed": false,
     "input": [
      "timeit unshifted_qr_k(cov_x, 100, 10)"
     ],
     "language": "python",
     "metadata": {},
     "outputs": [
      {
       "output_type": "stream",
       "stream": "stdout",
       "text": [
        "1 loops, best of 3: 2.99 s per loop\n"
       ]
      }
     ],
     "prompt_number": 58
    },
    {
     "cell_type": "code",
     "collapsed": false,
     "input": [
      "timeit unshifted_qr_k(cov_x, 100, 100)"
     ],
     "language": "python",
     "metadata": {},
     "outputs": [
      {
       "output_type": "stream",
       "stream": "stdout",
       "text": [
        "1 loops, best of 3: 17.6 s per loop\n"
       ]
      }
     ],
     "prompt_number": 59
    },
    {
     "cell_type": "code",
     "collapsed": false,
     "input": [
      "timeit unshifted_qr_k(cov_x, 100, 1000)"
     ],
     "language": "python",
     "metadata": {},
     "outputs": [
      {
       "output_type": "stream",
       "stream": "stdout",
       "text": [
        "1 loops, best of 3: 4min 23s per loop\n"
       ]
      }
     ],
     "prompt_number": 60
    },
    {
     "cell_type": "code",
     "collapsed": false,
     "input": [
      "memit k_eigen_finder(cov_x,10,10,i_guess)"
     ],
     "language": "python",
     "metadata": {},
     "outputs": [
      {
       "output_type": "stream",
       "stream": "stdout",
       "text": [
        "peak memory: 298.99 MiB, increment: 134.25 MiB\n"
       ]
      }
     ],
     "prompt_number": 61
    },
    {
     "cell_type": "code",
     "collapsed": false,
     "input": [
      "memit k_eigen_finder(cov_x,10,100,i_guess)"
     ],
     "language": "python",
     "metadata": {},
     "outputs": [
      {
       "output_type": "stream",
       "stream": "stdout",
       "text": [
        "peak memory: 307.96 MiB, increment: 143.16 MiB\n"
       ]
      }
     ],
     "prompt_number": 62
    },
    {
     "cell_type": "code",
     "collapsed": false,
     "input": [
      "memit k_eigen_finder(cov_x,10,1000,i_guess)"
     ],
     "language": "python",
     "metadata": {},
     "outputs": [
      {
       "output_type": "stream",
       "stream": "stdout",
       "text": [
        "peak memory: 325.50 MiB, increment: 141.91 MiB\n"
       ]
      }
     ],
     "prompt_number": 70
    },
    {
     "cell_type": "code",
     "collapsed": false,
     "input": [
      "memit k_eigen_finder_plus(cov_x, 10, 10, i_guess)"
     ],
     "language": "python",
     "metadata": {},
     "outputs": [
      {
       "output_type": "stream",
       "stream": "stdout",
       "text": [
        "peak memory: 316.90 MiB, increment: 150.44 MiB\n"
       ]
      }
     ],
     "prompt_number": 63
    },
    {
     "cell_type": "code",
     "collapsed": false,
     "input": [
      "memit k_eigen_finder_plus(cov_x, 10, 100, i_guess)"
     ],
     "language": "python",
     "metadata": {},
     "outputs": [
      {
       "output_type": "stream",
       "stream": "stdout",
       "text": [
        "peak memory: 318.90 MiB, increment: 142.81 MiB\n"
       ]
      }
     ],
     "prompt_number": 66
    },
    {
     "cell_type": "code",
     "collapsed": false,
     "input": [
      "memit k_eigen_finder_plus(cov_x, 10, 1000, i_guess)"
     ],
     "language": "python",
     "metadata": {},
     "outputs": [
      {
       "output_type": "stream",
       "stream": "stdout",
       "text": [
        "peak memory: 321.10 MiB, increment: 142.64 MiB\n"
       ]
      }
     ],
     "prompt_number": 71
    },
    {
     "cell_type": "code",
     "collapsed": false,
     "input": [
      "memit unshifted_qr_k(cov_x, 100, 10)"
     ],
     "language": "python",
     "metadata": {},
     "outputs": [
      {
       "output_type": "stream",
       "stream": "stdout",
       "text": [
        "peak memory: 173.94 MiB, increment: 0.00 MiB\n"
       ]
      }
     ],
     "prompt_number": 64
    },
    {
     "cell_type": "code",
     "collapsed": false,
     "input": [
      "memit unshifted_qr_k(cov_x, 100, 100)"
     ],
     "language": "python",
     "metadata": {},
     "outputs": [
      {
       "output_type": "stream",
       "stream": "stdout",
       "text": [
        "peak memory: 176.01 MiB, increment: 2.07 MiB\n"
       ]
      }
     ],
     "prompt_number": 65
    },
    {
     "cell_type": "code",
     "collapsed": false,
     "input": [
      "memit unshifted_qr_k(cov_x, 100, 1000)"
     ],
     "language": "python",
     "metadata": {},
     "outputs": [
      {
       "output_type": "stream",
       "stream": "stdout",
       "text": [
        "peak memory: 279.46 MiB, increment: 103.38 MiB\n"
       ]
      }
     ],
     "prompt_number": 67
    },
    {
     "cell_type": "markdown",
     "metadata": {},
     "source": [
      "Con los resultados anteriores podemos concluir que ..."
     ]
    },
    {
     "cell_type": "markdown",
     "metadata": {},
     "source": [
      "## Pregunta 7\n",
      "\n",
      "### Parte a)\n",
      "\n",
      "Para encontrar la proyecci\u00f3n de las componentes principales basta encontrar una matriz formada por los dos primeros vectores propios asociados a los valores propios mas dominantes de la matriz de covarianza. Para luego multiplicar la matriz de covarianza por esta matriz formada descrita anteriormente."
     ]
    },
    {
     "cell_type": "code",
     "collapsed": false,
     "input": [
      "l,u = k_eigen_finder(cov_x, 10, 2, i_guess)\n",
      "base_2 = np.dot(X,u)\n",
      "#print base_2\n",
      "explained_cov = np.divide(np.sum(l), cov_x.sum())\n",
      "#print explained_cov\n",
      "#print base_2[:,0]\n",
      "plt.plot(base_2[:,0], base_2[:,1], 'ro')\n",
      "plt.show()"
     ],
     "language": "python",
     "metadata": {},
     "outputs": [
      {
       "output_type": "stream",
       "stream": "stdout",
       "text": [
        "[[  858.22748131]\n",
        " [ 3502.0451065 ]\n",
        " [-1062.09507087]\n",
        " [-3434.78078271]\n",
        " [ 2634.9105695 ]\n",
        " [ 2982.73046898]\n",
        " [ 1417.21364948]\n",
        " [  470.13905256]\n",
        " [ 1806.70751763]\n",
        " [-3385.08165883]\n",
        " [ 1008.30974685]\n",
        " [  835.72203395]\n",
        " [-3482.37556924]\n",
        " [-3354.66127679]\n",
        " [  685.81902227]\n",
        " [  266.70867633]\n",
        " [-3279.47737632]\n",
        " [ 1083.37510787]\n",
        " [ 3010.45922028]\n",
        " [ 1195.11736761]\n",
        " [-3367.15940225]\n",
        " [-2523.30249001]\n",
        " [  737.77812428]\n",
        " [ 2064.51489422]\n",
        " [-3464.42860562]\n",
        " [  420.94667945]\n",
        " [-3089.36079028]\n",
        " [ 1140.37116372]\n",
        " [ 2741.87362079]\n",
        " [ 1163.93947281]\n",
        " [-3494.37610009]\n",
        " [ 2917.91353584]\n",
        " [ 2314.45074678]\n",
        " [  771.08697434]\n",
        " [-3346.371834  ]\n",
        " [-3212.56224254]\n",
        " [-3427.96992855]\n",
        " [ 2651.5272106 ]\n",
        " [ 3246.3151798 ]\n",
        " [ 1231.68110109]\n",
        " [-3354.38908567]\n",
        " [ 3328.66683253]\n",
        " [-3087.47117166]\n",
        " [  841.92206355]\n",
        " [-1879.12680692]\n",
        " [-3573.58700605]\n",
        " [ 2155.70393795]\n",
        " [-3272.05180801]\n",
        " [ 1518.12848181]\n",
        " [-3544.19588976]\n",
        " [-2729.47952753]\n",
        " [ 3509.08276614]\n",
        " [-3055.83447874]\n",
        " [ 1531.40924831]\n",
        " [-2950.09629711]\n",
        " [-2497.24927865]\n",
        " [ 2337.78379998]\n",
        " [  341.29716739]\n",
        " [ 2767.9903729 ]\n",
        " [-3367.8181385 ]\n",
        " [ 3537.09769063]\n",
        " [ 2991.0358233 ]\n",
        " [  877.60407694]\n",
        " [ 3268.18728151]\n",
        " [ 1604.88959324]\n",
        " [  586.37442773]\n",
        " [ 1733.44150005]\n",
        " [-3207.77284141]\n",
        " [-3483.92147564]\n",
        " [ 1302.01643923]\n",
        " [ 3052.73507895]\n",
        " [-3176.26411936]\n",
        " [-3100.43344366]\n",
        " [  459.34194572]\n",
        " [ 2865.34488763]\n",
        " [-3355.51254402]\n",
        " [ 1109.82492011]\n",
        " [-2798.05513423]\n",
        " [  771.41733817]\n",
        " [ 2761.16410869]\n",
        " [ 1565.02267488]\n",
        " [ 1773.19071872]\n",
        " [-3215.77059302]\n",
        " [ 1413.00843137]\n",
        " [ 1208.08861792]\n",
        " [-3392.26826492]\n",
        " [ 2522.41309792]\n",
        " [  345.89297091]\n",
        " [-3046.01436271]\n",
        " [ 1349.09609706]\n",
        " [ 1378.57539874]\n",
        " [ 2013.20439691]\n",
        " [-3020.92098723]\n",
        " [ 1540.92683011]\n",
        " [-3599.84757037]\n",
        " [ 3466.7916279 ]\n",
        " [-3443.60436771]\n",
        " [  407.86993628]\n",
        " [ 3064.80645901]\n",
        " [-2920.40462904]\n",
        " [ 1067.79787595]\n",
        " [  991.96860425]\n",
        " [ 1013.43282713]\n",
        " [ 1367.6387462 ]\n",
        " [-3249.64164463]\n",
        " [-3202.47363663]\n",
        " [ 3155.0091301 ]\n",
        " [ 1316.33851363]\n",
        " [ 2826.36671429]\n",
        " [-2307.07900232]\n",
        " [-3560.25734674]\n",
        " [ 1762.30535257]\n",
        " [ 3865.91648638]\n",
        " [ 1944.53665303]\n",
        " [  819.37380852]\n",
        " [-2501.90558252]\n",
        " [ 3721.81129269]\n",
        " [-3417.62740931]\n",
        " [ 1183.53064114]\n",
        " [ 2830.8022892 ]\n",
        " [-3136.09827606]\n",
        " [ 1859.37283925]\n",
        " [  907.68975057]\n",
        " [ 2858.45946859]\n",
        " [-3276.88937404]\n",
        " [ 1089.420188  ]\n",
        " [-3112.83746484]\n",
        " [ 2312.02161944]\n",
        " [  654.14967894]\n",
        " [-2808.30551359]\n",
        " [  809.87561892]\n",
        " [ 3210.43691898]\n",
        " [-3467.03816304]\n",
        " [ 2826.68865872]\n",
        " [ 2032.0096642 ]\n",
        " [   41.25795542]\n",
        " [  377.403597  ]\n",
        " [ 1040.00724975]\n",
        " [-3488.05935057]\n",
        " [-2589.95260013]\n",
        " [  857.43514655]\n",
        " [-3458.92471519]\n",
        " [  331.24381828]\n",
        " [ 3311.6385667 ]\n",
        " [ 2262.95338356]\n",
        " [-3264.74577486]\n",
        " [  802.61283632]\n",
        " [-3602.13281684]\n",
        " [ 1246.01336389]\n",
        " [-3532.77033372]\n",
        " [ 3170.67728517]\n",
        " [ 3200.57344304]\n",
        " [-3072.60886857]\n",
        " [  851.55811115]\n",
        " [-3231.76623323]\n",
        " [-3197.44928168]\n",
        " [-2881.46817331]\n",
        " [-3423.07383467]\n",
        " [-3327.87976536]\n",
        " [-3295.63635369]\n",
        " [ 1634.51283555]\n",
        " [  278.28741775]\n",
        " [-3475.87273016]\n",
        " [-3494.34290451]\n",
        " [-3218.36203238]\n",
        " [-3103.25019048]\n",
        " [ 2143.56532546]\n",
        " [ 1559.24958225]\n",
        " [-3284.02792615]\n",
        " [-3198.28188436]\n",
        " [ 1683.30045344]\n",
        " [ 3128.56915947]\n",
        " [ 3303.78430752]\n",
        " [ 3110.2834252 ]\n",
        " [  973.20574194]\n",
        " [  479.42190001]\n",
        " [ 2460.44493297]\n",
        " [ 1871.32735337]\n",
        " [ 2845.89366893]\n",
        " [ 1174.37055409]\n",
        " [ 1477.45267223]\n",
        " [-3100.17916678]\n",
        " [-2917.24944754]\n",
        " [ 2312.97331701]\n",
        " [ 1397.53863042]\n",
        " [  914.71949536]\n",
        " [ 1111.50734381]\n",
        " [ 1637.35395905]\n",
        " [-3604.57199618]\n",
        " [  889.4396393 ]\n",
        " [  470.61800941]\n",
        " [  773.38438559]\n",
        " [ 1454.56929695]\n",
        " [-3282.78775779]\n",
        " [ 1112.90925086]\n",
        " [ 1267.21448146]\n",
        " [  758.98641168]\n",
        " [ 3504.87595021]\n",
        " [ 3575.47556733]\n",
        " [-3192.10664109]\n",
        " [ 2904.29494387]\n",
        " [-3442.26963458]\n",
        " [  324.59159494]\n",
        " [-2877.33598501]\n",
        " [ 3658.05987731]\n",
        " [-3657.42425077]\n",
        " [-2693.20485271]\n",
        " [ 2807.71054868]\n",
        " [-2944.4480809 ]\n",
        " [ 3718.5830643 ]\n",
        " [-3241.83550478]\n",
        " [-3486.45642896]\n",
        " [ 3031.0836848 ]\n",
        " [ 1521.26429857]\n",
        " [-2913.27956717]\n",
        " [-3452.13010347]\n",
        " [-2714.13455565]\n",
        " [ 2365.13320149]\n",
        " [-2983.74551535]\n",
        " [ 2340.24875974]\n",
        " [  463.12138457]\n",
        " [ 2021.25818918]\n",
        " [ 1631.01505649]\n",
        " [-3295.08264454]\n",
        " [-3384.35316705]\n",
        " [ 1241.03272262]\n",
        " [ 1146.89178761]\n",
        " [-2920.14274767]\n",
        " [ 1241.63993403]\n",
        " [-3285.66561332]\n",
        " [-3468.86560994]\n",
        " [ 3194.49272266]\n",
        " [ 2780.98475913]\n",
        " [ 1820.37965929]\n",
        " [-3444.42944205]\n",
        " [  889.09344791]\n",
        " [ 2863.16951189]\n",
        " [-2564.68292862]\n",
        " [ 2184.40751838]\n",
        " [ 1706.94992895]\n",
        " [ 1554.10759668]\n",
        " [ 2969.58632859]\n",
        " [ 2892.06747158]\n",
        " [ 2549.75716449]\n",
        " [ 3162.85290742]\n",
        " [ 1878.17982614]\n",
        " [-3265.38542828]\n",
        " [-3229.16780616]\n",
        " [-3303.63704334]\n",
        " [-3166.90373434]\n",
        " [ 1305.09599194]\n",
        " [ 3146.43698462]\n",
        " [ 2312.79878905]\n",
        " [  962.18964513]\n",
        " [ 2189.23567004]\n",
        " [ 2732.32203839]\n",
        " [-3003.20486082]\n",
        " [  286.2241831 ]\n",
        " [ 1102.82536821]\n",
        " [-2958.5067238 ]\n",
        " [-3184.20666066]\n",
        " [  879.40291718]\n",
        " [  604.21883525]\n",
        " [ 1147.38516661]\n",
        " [-3690.679124  ]\n",
        " [ 2580.17124105]\n",
        " [ 1030.58537496]\n",
        " [-2397.15197852]\n",
        " [ 2595.43952086]\n",
        " [ 3061.67934107]\n",
        " [ 3102.84201764]\n",
        " [ 1030.34152567]\n",
        " [  518.68934141]\n",
        " [ 1750.31776957]\n",
        " [ 1449.42561829]\n",
        " [  644.90600649]\n",
        " [-3542.6709157 ]\n",
        " [ 3963.67484004]\n",
        " [ 2924.61592423]\n",
        " [ 2824.028067  ]\n",
        " [ 1374.1475553 ]\n",
        " [ 3335.34641023]\n",
        " [-2870.60844428]\n",
        " [-3578.34199043]\n",
        " [ 1144.58372138]\n",
        " [-3373.39709994]\n",
        " [-2698.86888898]\n",
        " [-2859.72128086]\n",
        " [  796.75426377]\n",
        " [ 1514.85407581]\n",
        " [ 3189.15430824]\n",
        " [  509.17388211]\n",
        " [  167.30076352]\n",
        " [ 1135.48415523]\n",
        " [-3210.91147729]\n",
        " [-3329.39626201]\n",
        " [-2813.60226425]\n",
        " [ 3121.6768297 ]\n",
        " [-2884.90537809]\n",
        " [-2846.39095515]\n",
        " [  341.02570971]\n",
        " [ 2388.079123  ]\n",
        " [ 3798.68230205]\n",
        " [ 1283.68222186]\n",
        " [-3040.13714738]\n",
        " [-3410.40702931]\n",
        " [ 2776.43577271]\n",
        " [  735.08849946]\n",
        " [ 3607.05078245]\n",
        " [ 1366.84118483]\n",
        " [-3379.84606721]\n",
        " [ 2000.45691486]\n",
        " [  822.34694073]\n",
        " [ 3136.24101878]\n",
        " [-3482.23207959]\n",
        " [ 1150.75333946]\n",
        " [ 1369.28666058]\n",
        " [-2979.28514368]\n",
        " [ 2428.61679496]\n",
        " [  348.00220696]\n",
        " [-3280.00623721]\n",
        " [  941.35766704]\n",
        " [ 1500.34655796]\n",
        " [ 2750.02899834]\n",
        " [  832.61679008]\n",
        " [ 3553.95901722]\n",
        " [ 1690.96263604]\n",
        " [ 1674.50767825]\n",
        " [-3310.4405116 ]\n",
        " [  587.16541918]\n",
        " [-2969.3892997 ]\n",
        " [ 2622.30877896]\n",
        " [-2767.51372218]\n",
        " [  993.40920415]\n",
        " [-3084.62236621]\n",
        " [ 1597.83637402]\n",
        " [-3063.43951693]\n",
        " [ 3147.75381747]\n",
        " [-2842.29317417]\n",
        " [ 1376.72452015]\n",
        " [  732.36002115]\n",
        " [ 1285.14150184]\n",
        " [-2938.22207109]\n",
        " [ 2217.75353086]\n",
        " [ 2621.79711386]\n",
        " [ 3400.43302019]\n",
        " [ 3386.55885461]\n",
        " [ 1034.98320773]\n",
        " [ 3181.27052952]\n",
        " [ 2363.38219347]\n",
        " [ 1230.6354003 ]\n",
        " [  991.19889166]\n",
        " [-3107.39946225]\n",
        " [ 2930.73997011]\n",
        " [ 2957.16912615]\n",
        " [  956.57519433]\n",
        " [ 1145.33360266]\n",
        " [ 1891.27133358]\n",
        " [ 3157.1682489 ]\n",
        " [ 1187.99918104]\n",
        " [ 3814.72363373]\n",
        " [-2497.89153638]\n",
        " [  722.92245789]\n",
        " [  140.68861486]\n",
        " [-3493.59872241]\n",
        " [-2790.91649899]\n",
        " [-3130.18123589]\n",
        " [ 2586.70061025]\n",
        " [-2886.36029664]\n",
        " [ 3070.56472375]\n",
        " [  617.97024056]\n",
        " [-3290.22783389]\n",
        " [-3249.0343939 ]\n",
        " [ 2562.5727436 ]\n",
        " [-3181.21681417]\n",
        " [-3498.03392706]\n",
        " [ 1423.52125362]\n",
        " [-3430.30417616]\n",
        " [ 3016.53803204]\n",
        " [-2645.57972256]\n",
        " [-3417.58793327]\n",
        " [  579.44139376]\n",
        " [-3435.18551349]\n",
        " [-3310.7915134 ]\n",
        " [ 1353.25701941]\n",
        " [  758.19454087]\n",
        " [-3370.73111408]\n",
        " [-2966.67109929]\n",
        " [  439.57944389]\n",
        " [-3207.78264819]\n",
        " [-2872.0484327 ]\n",
        " [-3141.42150692]\n",
        " [-3277.82118824]\n",
        " [-3027.27418066]\n",
        " [-2734.91691611]\n",
        " [  922.55520617]\n",
        " [-3616.44058174]\n",
        " [  755.82126908]\n",
        " [-3190.33455124]\n",
        " [-3560.44185351]\n",
        " [-3398.41405508]\n",
        " [    5.80148454]\n",
        " [-3526.8561844 ]\n",
        " [ 1220.32572423]\n",
        " [ 3020.70415507]\n",
        " [-3150.22333499]\n",
        " [-3251.40494229]\n",
        " [ 2070.84619702]\n",
        " [ 2637.98526262]\n",
        " [ 3337.15094283]\n",
        " [ 1590.95755935]\n",
        " [-2946.91454022]\n",
        " [-3231.26850115]\n",
        " [-3155.30892849]\n",
        " [ 2495.99278705]\n",
        " [ 2861.28418409]\n",
        " [ 2736.08434822]\n",
        " [  713.21658539]\n",
        " [ 1501.57680768]\n",
        " [-3479.03411933]\n",
        " [ 2355.79950684]\n",
        " [ 3060.84349873]\n",
        " [-3319.72107983]\n",
        " [-2675.35548573]\n",
        " [  870.96607955]\n",
        " [ 1645.60090929]\n",
        " [ 1348.63163264]\n",
        " [-2075.56114112]\n",
        " [ 3592.35193293]\n",
        " [ 2423.96992931]\n",
        " [ 2907.16112609]\n",
        " [ 2723.31246582]\n",
        " [  292.85079806]\n",
        " [ 3139.55651366]\n",
        " [-2619.30198328]\n",
        " [-2994.3039847 ]\n",
        " [ 1294.67965885]\n",
        " [-2955.50426395]\n",
        " [ 3620.53736044]\n",
        " [-3259.40426359]\n",
        " [-3412.23226383]\n",
        " [ 1008.52437678]\n",
        " [ 2967.7837342 ]\n",
        " [-2645.05971687]\n",
        " [ 3352.12603296]\n",
        " [-3532.10559861]\n",
        " [-2849.59201679]\n",
        " [  180.35905027]\n",
        " [-3280.63619763]\n",
        " [  760.49859606]\n",
        " [-3625.77714668]\n",
        " [ 1016.22904982]\n",
        " [ 1472.6003006 ]\n",
        " [-3133.98420163]\n",
        " [ 2289.01715362]\n",
        " [-3259.73636012]\n",
        " [ 1258.66454428]\n",
        " [ 3162.6283497 ]\n",
        " [  634.90505331]\n",
        " [  927.32998297]\n",
        " [-3502.22989139]\n",
        " [  308.27518361]\n",
        " [ 1500.96478309]\n",
        " [ 2492.89603261]\n",
        " [  805.06366825]\n",
        " [ 2730.01952794]\n",
        " [  743.88390443]\n",
        " [-3529.91882152]\n",
        " [  730.79500741]\n",
        " [ 1490.01224697]\n",
        " [-3408.99516379]\n",
        " [  683.84559784]\n",
        " [ 3107.61268104]\n",
        " [  963.0873723 ]\n",
        " [  721.93036964]\n",
        " [  932.32275325]\n",
        " [ 1746.31976637]\n",
        " [  680.77707566]\n",
        " [  892.67675571]\n",
        " [-2804.98953755]\n",
        " [ 3462.33132736]\n",
        " [-3312.58720075]\n",
        " [-2633.58436288]\n",
        " [  272.15542858]\n",
        " [ 3742.49657117]\n",
        " [  395.14549383]\n",
        " [  827.18108861]\n",
        " [ 1666.46894751]\n",
        " [ 3055.65026608]\n",
        " [-3359.02022873]\n",
        " [ 1382.35276312]\n",
        " [-2593.40618258]\n",
        " [-3387.95366682]\n",
        " [-3195.02732214]\n",
        " [ 3690.37655154]\n",
        " [ 1657.04989709]\n",
        " [  976.12120412]\n",
        " [ 2218.78888071]\n",
        " [ 2129.3898716 ]\n",
        " [-3595.4224813 ]\n",
        " [ 1315.77305216]\n",
        " [-3499.2090563 ]\n",
        " [-3195.71670677]\n",
        " [-3441.00333586]\n",
        " [ 3613.9733528 ]\n",
        " [ 1753.87349558]\n",
        " [ 3160.09060449]\n",
        " [-2920.25668401]\n",
        " [ 3739.02042945]\n",
        " [ 3376.85562079]\n",
        " [ 1705.67286131]\n",
        " [-3261.59083527]\n",
        " [ 2206.42827619]\n",
        " [-2718.51745228]\n",
        " [-3468.76054587]\n",
        " [  642.07750471]\n",
        " [ 3509.44428462]\n",
        " [ 2722.3452044 ]\n",
        " [  749.90062997]\n",
        " [ 1372.74274338]\n",
        " [-3128.51736952]\n",
        " [ 2031.39667374]\n",
        " [ 1980.82692325]\n",
        " [ 3331.49452957]\n",
        " [ 1790.6260069 ]\n",
        " [ 1307.72403608]\n",
        " [ 1531.15129759]\n",
        " [ 2790.67985455]\n",
        " [-3347.3201145 ]\n",
        " [ 3482.52468636]\n",
        " [ 1525.71751667]\n",
        " [ 1151.15246149]\n",
        " [-3151.33988098]\n",
        " [ 3021.91907413]\n",
        " [-3097.85243966]\n",
        " [  971.84993366]\n",
        " [-2984.00734753]\n",
        " [-3406.33209556]\n",
        " [ 2499.28939517]\n",
        " [ 3438.62787261]\n",
        " [-3156.94865965]\n",
        " [-1994.86572831]\n",
        " [ 2579.70771016]\n",
        " [ 1689.92161675]\n",
        " [ 2137.75070029]\n",
        " [ 1290.82941601]\n",
        " [-3131.55663358]\n",
        " [-3613.29613392]\n",
        " [ 2133.98502258]\n",
        " [ 2453.58684119]\n",
        " [-2515.53574686]\n",
        " [ 2755.62589504]\n",
        " [ 1858.53746975]\n",
        " [ 3442.39291653]\n",
        " [-2756.36476677]\n",
        " [  742.59328463]\n",
        " [-3262.41369204]\n",
        " [-2943.21069309]\n",
        " [  971.14107135]\n",
        " [  971.51695186]\n",
        " [-3108.32132958]\n",
        " [ 3331.96199587]\n",
        " [-3229.18505592]\n",
        " [ 3255.16701158]\n",
        " [ 1813.45256758]\n",
        " [-3347.44048496]\n",
        " [ 2502.94228141]\n",
        " [-3252.13346471]\n",
        " [-2559.7052463 ]\n",
        " [ 3940.33071749]\n",
        " [ 3628.33179081]\n",
        " [ 1431.43904252]\n",
        " [ 1174.79633789]\n",
        " [ 2390.94687378]\n",
        " [  409.81773222]\n",
        " [-3489.08548769]\n",
        " [ 1612.15352036]\n",
        " [ 2690.37678887]\n",
        " [ 3208.84747058]\n",
        " [  771.53789573]\n",
        " [-3203.48775211]\n",
        " [ 1494.43083821]\n",
        " [-3240.32719424]\n",
        " [-3163.02827366]\n",
        " [-3474.42406593]\n",
        " [ 1854.94908114]\n",
        " [ 3044.00138221]\n",
        " [-3288.31831632]\n",
        " [  463.39900962]\n",
        " [-3209.88454575]\n",
        " [ 2494.42977188]\n",
        " [-3392.49948378]\n",
        " [-3015.63998512]\n",
        " [-2933.29159304]\n",
        " [ 3626.88720189]\n",
        " [-3538.982493  ]\n",
        " [ 1616.28767365]\n",
        " [ 2843.94729383]\n",
        " [  892.05606881]\n",
        " [ 1529.77577534]\n",
        " [ 1037.95097212]\n",
        " [  243.42163067]\n",
        " [  227.83728249]\n",
        " [ 3042.56222776]\n",
        " [-3258.95624457]\n",
        " [-3385.32680734]\n",
        " [ 1226.7763667 ]\n",
        " [  730.42947332]\n",
        " [ 1953.58606963]\n",
        " [-3475.25209004]\n",
        " [-2978.81925855]\n",
        " [-3044.97169992]\n",
        " [ 1136.19793632]\n",
        " [ 1234.28199084]\n",
        " [  994.60437499]\n",
        " [  118.60665943]\n",
        " [ 2830.11604271]\n",
        " [-3070.17958677]\n",
        " [  792.88870866]\n",
        " [ 1444.48562313]\n",
        " [-3259.61935908]\n",
        " [-3210.07430227]\n",
        " [ 2375.39398394]\n",
        " [-2804.06781334]\n",
        " [-3544.62570516]\n",
        " [ 1532.86159774]\n",
        " [ 1054.41921027]\n",
        " [ 1206.03645662]\n",
        " [ 1425.75521627]\n",
        " [-3424.74956514]\n",
        " [-3351.0534574 ]\n",
        " [  815.38458638]\n",
        " [-3441.04313021]\n",
        " [ 3931.16509783]\n",
        " [-2724.0966795 ]\n",
        " [ 1111.915879  ]\n",
        " [-2794.80001893]\n",
        " [-3372.35103878]\n",
        " [-3358.13262207]\n",
        " [ 2810.70876536]\n",
        " [ 2182.52805835]\n",
        " [ 3370.12845681]\n",
        " [ 2417.4739459 ]\n",
        " [ 3207.55731637]\n",
        " [-2653.38790014]\n",
        " [ 1051.62656572]\n",
        " [-1194.95463737]\n",
        " [-3257.77975384]\n",
        " [-3394.57076148]\n",
        " [-2920.26836815]\n",
        " [  577.59033874]\n",
        " [ 3257.39649921]\n",
        " [-2605.77684236]\n",
        " [-2927.49829267]\n",
        " [ 2593.06834783]\n",
        " [  522.72781626]\n",
        " [-3419.76870157]\n",
        " [-3389.77954354]\n",
        " [ 1074.02665288]\n",
        " [-3305.60488876]\n",
        " [-3426.00694785]\n",
        " [-3270.74929221]\n",
        " [-3383.10897797]\n",
        " [-3080.08053466]\n",
        " [-3100.5501965 ]\n",
        " [  584.75802566]\n",
        " [  545.58547163]\n",
        " [ 1099.56620597]\n",
        " [  669.16377797]\n",
        " [-3464.88913796]\n",
        " [ 2204.37628201]\n",
        " [ 2665.87627351]\n",
        " [ 3103.95162472]\n",
        " [  912.4212791 ]\n",
        " [ 3082.72996734]\n",
        " [-3104.57212844]\n",
        " [-3432.35740214]\n",
        " [-3079.09631244]\n",
        " [ 2995.11830648]\n",
        " [ 2927.5780597 ]\n",
        " [ 1013.9959901 ]\n",
        " [ 1198.59189724]\n",
        " [-3263.33515684]\n",
        " [ 1255.32215663]\n",
        " [ 2888.46712189]\n",
        " [  871.41591629]\n",
        " [ 1069.79509947]\n",
        " [ 3606.29120013]\n",
        " [  702.73215224]\n",
        " [ 1549.18448937]\n",
        " [ 1117.51273205]\n",
        " [ 1198.16961941]\n",
        " [ 1263.1986669 ]\n",
        " [ 2810.33987918]\n",
        " [-2416.29072311]\n",
        " [ 3496.31056435]\n",
        " [ 3280.03902884]\n",
        " [ 3230.63977186]\n",
        " [-2512.99181163]\n",
        " [ 3378.67491692]]\n"
       ]
      },
      {
       "metadata": {},
       "output_type": "display_data",
       "png": "[encoded data removed]",
       "text": [
        "<matplotlib.figure.Figure at 0x7f750f982950>"
       ]
      }
     ],
     "prompt_number": 8
    },
    {
     "cell_type": "code",
     "collapsed": true,
     "input": [
      "l,u = k_eigen_finder(cov_x, 10, 3, i_guess)\n",
      "base_3 = np.dot(X,u)\n",
      "#print base_3\n",
      "explained_cov = np.divide(np.sum(l), cov_x.sum())\n",
      "axes3d.scatter(base_3[:,0], base_3[:,1], base_3[:,2], 'ro')\n",
      "plt.show()"
     ],
     "language": "python",
     "metadata": {},
     "outputs": [
      {
       "ename": "TypeError",
       "evalue": "unbound method scatter() must be called with Axes3D instance as first argument (got ndarray instance instead)",
       "output_type": "pyerr",
       "traceback": [
        "\u001b[1;31m---------------------------------------------------------------------------\u001b[0m\n\u001b[1;31mTypeError\u001b[0m                                 Traceback (most recent call last)",
        "\u001b[1;32m<ipython-input-21-debc0e7da080>\u001b[0m in \u001b[0;36m<module>\u001b[1;34m()\u001b[0m\n\u001b[0;32m      3\u001b[0m \u001b[1;31m#print base_3\u001b[0m\u001b[1;33m\u001b[0m\u001b[1;33m\u001b[0m\u001b[0m\n\u001b[0;32m      4\u001b[0m \u001b[0mexplained_cov\u001b[0m \u001b[1;33m=\u001b[0m \u001b[0mnp\u001b[0m\u001b[1;33m.\u001b[0m\u001b[0mdivide\u001b[0m\u001b[1;33m(\u001b[0m\u001b[0mnp\u001b[0m\u001b[1;33m.\u001b[0m\u001b[0msum\u001b[0m\u001b[1;33m(\u001b[0m\u001b[0ml\u001b[0m\u001b[1;33m)\u001b[0m\u001b[1;33m,\u001b[0m \u001b[0mcov_x\u001b[0m\u001b[1;33m.\u001b[0m\u001b[0msum\u001b[0m\u001b[1;33m(\u001b[0m\u001b[1;33m)\u001b[0m\u001b[1;33m)\u001b[0m\u001b[1;33m\u001b[0m\u001b[0m\n\u001b[1;32m----> 5\u001b[1;33m \u001b[0maxes3d\u001b[0m\u001b[1;33m.\u001b[0m\u001b[0mscatter\u001b[0m\u001b[1;33m(\u001b[0m\u001b[0mbase_3\u001b[0m\u001b[1;33m[\u001b[0m\u001b[1;33m:\u001b[0m\u001b[1;33m,\u001b[0m\u001b[1;36m0\u001b[0m\u001b[1;33m]\u001b[0m\u001b[1;33m,\u001b[0m \u001b[0mbase_3\u001b[0m\u001b[1;33m[\u001b[0m\u001b[1;33m:\u001b[0m\u001b[1;33m,\u001b[0m\u001b[1;36m1\u001b[0m\u001b[1;33m]\u001b[0m\u001b[1;33m,\u001b[0m \u001b[0mbase_3\u001b[0m\u001b[1;33m[\u001b[0m\u001b[1;33m:\u001b[0m\u001b[1;33m,\u001b[0m\u001b[1;36m2\u001b[0m\u001b[1;33m]\u001b[0m\u001b[1;33m,\u001b[0m \u001b[1;34m'ro'\u001b[0m\u001b[1;33m)\u001b[0m\u001b[1;33m\u001b[0m\u001b[0m\n\u001b[0m\u001b[0;32m      6\u001b[0m \u001b[0mplt\u001b[0m\u001b[1;33m.\u001b[0m\u001b[0mshow\u001b[0m\u001b[1;33m(\u001b[0m\u001b[1;33m)\u001b[0m\u001b[1;33m\u001b[0m\u001b[0m\n",
        "\u001b[1;31mTypeError\u001b[0m: unbound method scatter() must be called with Axes3D instance as first argument (got ndarray instance instead)"
       ]
      }
     ],
     "prompt_number": 21
    },
    {
     "cell_type": "heading",
     "level": 1,
     "metadata": {},
     "source": [
      "Conclusiones"
     ]
    },
    {
     "cell_type": "heading",
     "level": 1,
     "metadata": {},
     "source": [
      "Referencias"
     ]
    }
   ],
   "metadata": {}
  }
 ]
}