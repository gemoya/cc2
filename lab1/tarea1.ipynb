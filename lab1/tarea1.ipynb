{
 "cells": [
  {
   "cell_type": "markdown",
   "metadata": {},
   "source": [
    "# <center> Laboratorio 1 </center>\n",
    "## <center> Computación científica II </center>\n",
    "## <center> Ariel Sanhueza Román - asanhuez@alumnos.inf.utfsm.cl - 201173005-4 </center>\n",
    "## <center> Gonzalo Moya Rodríguez - gemoya@alumnos.inf.utfsm.cl - 201173016-k </center>"
   ]
  },
  {
   "cell_type": "markdown",
   "metadata": {},
   "source": [
    "# Introducción\n",
    "bla bla"
   ]
  },
  {
   "cell_type": "markdown",
   "metadata": {},
   "source": [
    "# Previo\n",
    "Primero, importaremos las bibliotecas previas:"
   ]
  },
  {
   "cell_type": "code",
   "execution_count": 37,
   "metadata": {
    "collapsed": false
   },
   "outputs": [
    {
     "name": "stdout",
     "output_type": "stream",
     "text": [
      "The memory_profiler extension is already loaded. To reload it, use:\n",
      "  %reload_ext memory_profiler\n"
     ]
    }
   ],
   "source": [
    "import numpy as np\n",
    "from scipy import linalg\n",
    "%matplotlib inline\n",
    "from matplotlib import pyplot as plt\n",
    "from numpy.linalg import norm, solve\n",
    "%load_ext memory_profiler"
   ]
  },
  {
   "cell_type": "markdown",
   "metadata": {},
   "source": [
    "Ahora, cargaremos los datos entregados y generamos el vector inicial:"
   ]
  },
  {
   "cell_type": "code",
   "execution_count": 38,
   "metadata": {
    "collapsed": false
   },
   "outputs": [],
   "source": [
    "cov_x = np.load('arcene.npy')\n",
    "cov_x -= cov_x.mean(axis=0)\n",
    "cov_x = np.dot(np.transpose(cov_x),cov_x)\n",
    "n = cov_x.shape[1]\n",
    "cov_x = np.divide(cov_x,n-1)\n",
    "i_guess  = np.ones(cov_x.shape[0])"
   ]
  },
  {
   "cell_type": "markdown",
   "metadata": {
    "collapsed": true
   },
   "source": [
    "# Desarrollo\n",
    "\n",
    "## Pregunta 1\n",
    "Primero, implementaremos los algoritmos de $\\textbf{Power Iteration}$ y $\\textbf{Rayleigh Quotient Iteration}$"
   ]
  },
  {
   "cell_type": "markdown",
   "metadata": {},
   "source": [
    "### Power Iteration"
   ]
  },
  {
   "cell_type": "code",
   "execution_count": 39,
   "metadata": {
    "collapsed": false
   },
   "outputs": [],
   "source": [
    "# Adaptación del algoritmo publicado en el ipython de clases\n",
    "def powerit(A, x, k):\n",
    "  \"\"\"\n",
    "  Program 12.1 Power iteration\n",
    "  Computes dominant eigenvector of square matrix\n",
    "  Input: matrix A, initial (nonzero) vector x, number of steps k\n",
    "  Output: dominant eigenvalue lam, eigenvector u\n",
    "  \"\"\"\n",
    "  for j in range(k):\n",
    "    u = np.divide(x, linalg.norm(x))\n",
    "    x = np.dot(A, u)\n",
    "    lam = float(np.dot(u.T, x))\n",
    "  u = np.divide(x, linalg.norm(x))\n",
    "  return lam, u"
   ]
  },
  {
   "cell_type": "markdown",
   "metadata": {},
   "source": [
    "Dentro de todo el algoritmo, las líneas más costosas son (con sus respectivas complejidades):\n",
    "* np.dot(A,U) $\\rightarrow O(n^2)$, pues es un producto matriz vector.\n",
    "* np.dot(u.T, x) $\\rightarrow O(n)$, pues es un producto vector vector.\n",
    "* El loop for, que depende de k.\n",
    "\n",
    "Por lo que la complejidad de este algoritmo es de orden $O(kn^2)$"
   ]
  },
  {
   "cell_type": "markdown",
   "metadata": {},
   "source": [
    "### Rayleigh Quotient Iteration"
   ]
  },
  {
   "cell_type": "code",
   "execution_count": 40,
   "metadata": {
    "collapsed": false
   },
   "outputs": [],
   "source": [
    "# Adaptación del algoritmo publicando en el ipython de clases\n",
    "def rqi(A, x, k):\n",
    "  \"\"\"\n",
    "  Program 12.3 Rayleigh Quotient Iteration\n",
    "  Input: matrix A, initial (nonzero) vector x, number of steps k\n",
    "  Output: eigenvalue lam, eigenvector of inv(A-sI)\n",
    "  \"\"\"\n",
    "  for j in range(k):\n",
    "    u = np.divide(x, linalg.norm(x))\n",
    "    lam = float(np.dot(u.T, np.dot(A, u)))\n",
    "    x = np.linalg.solve(A -lam*np.eye(*A.shape), u)\n",
    "  u = np.divide(x, linalg.norm(x))\n",
    "  lam = float(np.dot(u.T, np.dot(A, u)))\n",
    "  return lam, u"
   ]
  },
  {
   "cell_type": "markdown",
   "metadata": {},
   "source": [
    "Dentro de todo el algoritmo, las líneas más costosas son (con sus respectivas complejidades):\n",
    "* np.dot(u.T, np.dot(A, u)) $\\rightarrow O(n^2)$, pues está compuesto por dos productos puntos, por lo que la línea completa son aproximadamente $n^2 + n$ operaciones, lo que asintóticamente es $O(n^2)$\n",
    "* El loop for, que depende de k\n",
    "Por lo que la complejidad de este algoritmo es de orden $O(kn^2)$"
   ]
  },
  {
   "cell_type": "markdown",
   "metadata": {},
   "source": [
    "## Pregunta 2\n",
    "\n",
    "### Parte a)\n",
    "Primero, como $A$ es simétrica, tenemos que sus valores propios son reales y sus vectores propios son ortogonales entre sí.\n",
    "\n",
    "Tomemos $B = A - \\lambda_iv_iv^T_i$. Entonces:\n",
    "\n",
    "\\begin{align*}\n",
    "    Bv_k &= \\lambda_kv_k \\\\\n",
    "    (A - \\lambda_iv_iv^T_i)v_k &= \\lambda_kv_k \\\\\n",
    "    Av_k - \\lambda_iv_iv^T_iv_k &= \\lambda_kv_k,\\texttt{ pero }v^T_iv_k = 0 \\\\\n",
    "    Av_k &= \\lambda_kv_k\n",
    "\\end{align*}\n",
    "\n",
    "Entonces vemos que los vectores y valores propios son los mismos en A y en B.\n",
    "\n",
    "Ahora supongamos que $v_1$ es el vector propio dominante y $\\lambda_1$ es el valor propio dominante de A (encontrado en la primera iteración, pues el valor y vector propio inicial son cero). \n",
    "\n",
    "\\begin{align*}\n",
    "    Bv_i &= \\lambda_iv_i \\\\\n",
    "    (A - \\lambda_1v_1v^T_1)v_i &= \\lambda_iv_i \\\\\n",
    "    Av_i - \\lambda_1v_1v^T_1v_i &= \\lambda_iv_i, \\texttt{ pero para } i \\neq 1 \\rightarrow v^T_1v_i = 0 \\\\\n",
    "    Av_i &= \\lambda_iv_i\n",
    "\\end{align*}\n",
    "\n",
    "Entonces, se tienen que si aplicamos power iteration en B, encontraremos su valor/vector propio dominante. Pero como los vectores son los mismos en A y en B y $v_1$ y $\\lambda_1$ no son dominantes en B, entonces los dominantes en B son los segundos más grandes en A. Si aplicamos esto $k$ veces, obtenemos los $k$ vectores y valores propios dominantes de A\n",
    "\n",
    "### Parte b)\n",
    "La complejidad de Power iteration vimos que era $O(pn^2)$ (en el caso del algoritmo propuesto, en power iteration $k = p$). Como el power iteration es ejecutado $k$ veces, entonces la complejidad total es $O(kpn^2)$.\n",
    "\n",
    "### Parte c)"
   ]
  },
  {
   "cell_type": "code",
   "execution_count": 41,
   "metadata": {
    "collapsed": false
   },
   "outputs": [],
   "source": [
    "def k_eigen_finder(A, p, k, v_0):\n",
    "    v = v_0\n",
    "    l = 0\n",
    "    lambdas = []\n",
    "    vectors = []\n",
    "    for i in range(k):\n",
    "        A = A - l*np.dot(v, np.transpose(v))\n",
    "        l, v = powerit(A, np.ones((A.shape[0],1)), p)\n",
    "        lambdas.append(l)\n",
    "        vectors.append(v)\n",
    "    return lambdas, vectors"
   ]
  },
  {
   "cell_type": "markdown",
   "metadata": {},
   "source": [
    "## Pregunta 3\n",
    "### Parte a)\n",
    "\n",
    "### Parte b) \n",
    "\n",
    "Tomando en cuenta que calcular la potencia p de una matriz es equivalente a computar el producto matriz,matriz p veces, esto nos entrega una complejidad de $O(2pn^3)$, con $2n$ para el prodcuto y $n^2$ para la matriz.\n",
    "Luego dentro del algoritmo detectamos instrucciones relevantes como el producto matriz vector de complejidad de $2n^2$ y posteriormente el producto matriz vector con $2n^2$ más el producto vector vector de complejidad $2n$.Estas instrucciones se realiza $k$ veces por lo que para obtener la complejidad general se construye dependiendo del numero de ciclos, es decir si $k<8np$ entonces la complejidad será $O(2pn^3)$, de lo contrario es $O(4kn^2)$. \n",
    "\n",
    "### Parte c)"
   ]
  },
  {
   "cell_type": "code",
   "execution_count": 101,
   "metadata": {
    "collapsed": false
   },
   "outputs": [],
   "source": [
    "def k_eigen_finder_plus(A, p, k, v_0):\n",
    "    #A = np.dot(A.T,A)\n",
    "    A_p = np.linalg.matrix_power(A, 2*p)\n",
    "    #A_p = A**p\n",
    "    l = 0\n",
    "    v = np.zeros((A.shape[0], 1))\n",
    "    x = v_0\n",
    "    lambdas = []\n",
    "    vectors = []\n",
    "    for i in range(k):\n",
    "        A_p = A_p - (l**p)*np.dot(v, np.transpose(v))\n",
    "        v = np.dot(A_p,x)\n",
    "        v = np.divide(v, np.linalg.norm(v))\n",
    "        l = np.dot(v.T, np.dot(A, v))\n",
    "        lambdas.append(l)\n",
    "        vectors.append(v)\n",
    "    return lambdas, vectors\n"
   ]
  },
  {
   "cell_type": "markdown",
   "metadata": {},
   "source": [
    "## Pregunta 4\n",
    "### Parte a)\n",
    "Las modificaciones son pocas y simples:\n",
    "* Si nuestra mariz es de dimensiones $nxn$, nuestro Q_0 inicial es cualquier matriz de dimensiones $nxk$, donde $k$ es la cantidad de eigen values que queremos encontrar.\n",
    "* Al realizar la descomposición QR, usaremos su versión reducida.\n",
    "\n",
    "### Parte b)\n",
    "La complejidad de este nuevo algoritmo está determinada por:\n",
    "* La factorización QR, que es de complejidad $O(n^3)$.\n",
    "* La cantidad de iteraciones realizadas por el Unshifted QR (llamémoslo $m$).\n",
    "Por lo tanto, la complejidad total es de $O(mn^3)$.\n",
    "\n",
    "### Parte c)\n",
    "La implementación es la siguiente forma:"
   ]
  },
  {
   "cell_type": "code",
   "execution_count": 43,
   "metadata": {
    "collapsed": false
   },
   "outputs": [],
   "source": [
    "def unshifted_qr_k(A, m, k):\n",
    "    # The intial value of Q\n",
    "    Q = np.dot(A, np.ones((A.shape[0], k)))\n",
    "    for i in range(m):\n",
    "        Q,_ = np.linalg.qr(np.dot(A,Q), mode='reduced')\n",
    "    return np.diagonal(np.dot(np.dot(Q.T, A), Q))"
   ]
  },
  {
   "cell_type": "markdown",
   "metadata": {},
   "source": [
    "## Pregunta 5"
   ]
  },
  {
   "cell_type": "code",
   "execution_count": 44,
   "metadata": {
    "collapsed": false
   },
   "outputs": [
    {
     "name": "stdout",
     "output_type": "stream",
     "text": [
      "1838214.89054\n",
      "[  7.92615633e-03  -1.03486901e-04  -1.64245597e-04 ...,   1.10023573e-02\n",
      "  -2.38882889e-02   4.63108496e-05]\n"
     ]
    }
   ],
   "source": [
    "lam, u = powerit(cov_x, i_guess, 27)\n",
    "print lam\n",
    "print u"
   ]
  },
  {
   "cell_type": "code",
   "execution_count": 45,
   "metadata": {
    "collapsed": false
   },
   "outputs": [
    {
     "name": "stdout",
     "output_type": "stream",
     "text": [
      "68521.5351152\n",
      "[-0.02358317 -0.00066283 -0.0007175  ...,  0.03846556 -0.05225003\n",
      " -0.00013062]\n"
     ]
    }
   ],
   "source": [
    "lam, u = rqi(cov_x, i_guess, 3)\n",
    "print lam\n",
    "print u"
   ]
  },
  {
   "cell_type": "code",
   "execution_count": 46,
   "metadata": {
    "collapsed": false
   },
   "outputs": [
    {
     "name": "stdout",
     "output_type": "stream",
     "text": [
      "1 loops, best of 3: 227 ms per loop\n"
     ]
    }
   ],
   "source": [
    "timeit powerit(cov_x, i_guess, 27)"
   ]
  },
  {
   "cell_type": "code",
   "execution_count": 47,
   "metadata": {
    "collapsed": false
   },
   "outputs": [
    {
     "name": "stdout",
     "output_type": "stream",
     "text": [
      "1 loops, best of 3: 4.52 s per loop\n"
     ]
    }
   ],
   "source": [
    "timeit rqi(cov_x, i_guess, 3)"
   ]
  },
  {
   "cell_type": "code",
   "execution_count": 48,
   "metadata": {
    "collapsed": false
   },
   "outputs": [
    {
     "name": "stdout",
     "output_type": "stream",
     "text": [
      "peak memory: 138.20 MiB, increment: 0.00 MiB\n"
     ]
    }
   ],
   "source": [
    "memit powerit(cov_x, i_guess, 27)"
   ]
  },
  {
   "cell_type": "code",
   "execution_count": 49,
   "metadata": {
    "collapsed": false
   },
   "outputs": [
    {
     "name": "stdout",
     "output_type": "stream",
     "text": [
      "peak memory: 233.61 MiB, increment: 95.39 MiB\n"
     ]
    }
   ],
   "source": [
    "memit rqi(cov_x, i_guess, 3)"
   ]
  },
  {
   "cell_type": "markdown",
   "metadata": {},
   "source": [
    "Con los resultados anteriores podemos concluir que ..."
   ]
  },
  {
   "cell_type": "markdown",
   "metadata": {},
   "source": [
    "## Pregunta 6"
   ]
  },
  {
   "cell_type": "code",
   "execution_count": 50,
   "metadata": {
    "collapsed": false
   },
   "outputs": [
    {
     "name": "stdout",
     "output_type": "stream",
     "text": [
      "[1838050.995732637, 1195903.0584144755, 213920.88258184306, 154187.9455181963, 102028.30433202887, 68374.27226384028, 53875.61950935819, 42465.99574260609, 46424.82150974384, 43154.7019382914]\n"
     ]
    }
   ],
   "source": [
    "l,u = k_eigen_finder(cov_x, 10, 10, i_guess)\n",
    "print l"
   ]
  },
  {
   "cell_type": "code",
   "execution_count": 100,
   "metadata": {
    "collapsed": false
   },
   "outputs": [
    {
     "name": "stdout",
     "output_type": "stream",
     "text": [
      "[172989.63264310587, 73382.582780293116, 73382.582780291894, 73382.582780291967, 73382.58278029284, 73382.582780292054, 73382.582780292869, 73382.582780291821, 73382.582780292243, 73382.582780293407] [array([  4.25958082e-10,   1.56880730e-20,   9.07458474e-10, ...,\n",
      "         6.74155890e-11,   2.72139805e-08,   3.96982327e-34]), array([-0.02, -0.02, -0.02, ..., -0.02, -0.02, -0.02]), array([-0.02, -0.02, -0.02, ..., -0.02, -0.02, -0.02]), array([-0.02, -0.02, -0.02, ..., -0.02, -0.02, -0.02]), array([-0.02, -0.02, -0.02, ..., -0.02, -0.02, -0.02]), array([-0.02, -0.02, -0.02, ..., -0.02, -0.02, -0.02]), array([-0.02, -0.02, -0.02, ..., -0.02, -0.02, -0.02]), array([-0.02, -0.02, -0.02, ..., -0.02, -0.02, -0.02]), array([-0.02, -0.02, -0.02, ..., -0.02, -0.02, -0.02]), array([-0.02, -0.02, -0.02, ..., -0.02, -0.02, -0.02])]\n"
     ]
    }
   ],
   "source": [
    "l,u = k_eigen_finder_plus(cov_x, 10, 10, i_guess)\n",
    "print l,u"
   ]
  },
  {
   "cell_type": "code",
   "execution_count": 52,
   "metadata": {
    "collapsed": false
   },
   "outputs": [
    {
     "data": {
      "text/plain": [
       "array([ 1838214.89061456,  1195796.43014677,   214003.16585597,\n",
       "         154145.5921766 ,   102040.01804763,    68731.92840622,\n",
       "          53790.19770729,    49679.85760233,    49428.86792734,\n",
       "          39916.3129266 ])"
      ]
     },
     "execution_count": 52,
     "metadata": {},
     "output_type": "execute_result"
    }
   ],
   "source": [
    "unshifted_qr_k(cov_x, 100, 10)"
   ]
  },
  {
   "cell_type": "markdown",
   "metadata": {},
   "source": [
    "Como podemos ver, una prueba con los algoritmos para encontrar los 10 primeros valores propios, nos retornan valores similares."
   ]
  },
  {
   "cell_type": "code",
   "execution_count": 53,
   "metadata": {
    "collapsed": false
   },
   "outputs": [
    {
     "name": "stdout",
     "output_type": "stream",
     "text": [
      "1 loops, best of 3: 2.81 s per loop\n"
     ]
    }
   ],
   "source": [
    "timeit k_eigen_finder(cov_x,10,10,i_guess)"
   ]
  },
  {
   "cell_type": "code",
   "execution_count": 54,
   "metadata": {
    "collapsed": false
   },
   "outputs": [
    {
     "name": "stdout",
     "output_type": "stream",
     "text": [
      "1 loops, best of 3: 23.1 s per loop\n"
     ]
    }
   ],
   "source": [
    "timeit k_eigen_finder(cov_x,10,100,i_guess)"
   ]
  },
  {
   "cell_type": "code",
   "execution_count": 55,
   "metadata": {
    "collapsed": false
   },
   "outputs": [
    {
     "name": "stdout",
     "output_type": "stream",
     "text": [
      "1 loops, best of 3: 3min 44s per loop\n"
     ]
    }
   ],
   "source": [
    "timeit k_eigen_finder(cov_x,10,1000,i_guess)"
   ]
  },
  {
   "cell_type": "code",
   "execution_count": 57,
   "metadata": {
    "collapsed": false
   },
   "outputs": [
    {
     "name": "stdout",
     "output_type": "stream",
     "text": [
      "1 loops, best of 3: 17.6 s per loop\n"
     ]
    }
   ],
   "source": [
    "timeit k_eigen_finder_plus(cov_x, 10, 10, i_guess)"
   ]
  },
  {
   "cell_type": "code",
   "execution_count": 68,
   "metadata": {
    "collapsed": false
   },
   "outputs": [
    {
     "name": "stdout",
     "output_type": "stream",
     "text": [
      "1 loops, best of 3: 23.5 s per loop\n"
     ]
    }
   ],
   "source": [
    "timeit k_eigen_finder_plus(cov_x, 10, 100, i_guess)"
   ]
  },
  {
   "cell_type": "code",
   "execution_count": 69,
   "metadata": {
    "collapsed": false
   },
   "outputs": [
    {
     "name": "stdout",
     "output_type": "stream",
     "text": [
      "1 loops, best of 3: 1min 14s per loop\n"
     ]
    }
   ],
   "source": [
    "timeit k_eigen_finder_plus(cov_x, 10, 1000, i_guess)"
   ]
  },
  {
   "cell_type": "code",
   "execution_count": 58,
   "metadata": {
    "collapsed": false
   },
   "outputs": [
    {
     "name": "stdout",
     "output_type": "stream",
     "text": [
      "1 loops, best of 3: 2.99 s per loop\n"
     ]
    }
   ],
   "source": [
    "timeit unshifted_qr_k(cov_x, 100, 10)"
   ]
  },
  {
   "cell_type": "code",
   "execution_count": 59,
   "metadata": {
    "collapsed": false
   },
   "outputs": [
    {
     "name": "stdout",
     "output_type": "stream",
     "text": [
      "1 loops, best of 3: 17.6 s per loop\n"
     ]
    }
   ],
   "source": [
    "timeit unshifted_qr_k(cov_x, 100, 100)"
   ]
  },
  {
   "cell_type": "code",
   "execution_count": 60,
   "metadata": {
    "collapsed": false
   },
   "outputs": [
    {
     "name": "stdout",
     "output_type": "stream",
     "text": [
      "1 loops, best of 3: 4min 23s per loop\n"
     ]
    }
   ],
   "source": [
    "timeit unshifted_qr_k(cov_x, 100, 1000)"
   ]
  },
  {
   "cell_type": "code",
   "execution_count": 61,
   "metadata": {
    "collapsed": false
   },
   "outputs": [
    {
     "name": "stdout",
     "output_type": "stream",
     "text": [
      "peak memory: 298.99 MiB, increment: 134.25 MiB\n"
     ]
    }
   ],
   "source": [
    "memit k_eigen_finder(cov_x,10,10,i_guess)"
   ]
  },
  {
   "cell_type": "code",
   "execution_count": 62,
   "metadata": {
    "collapsed": false
   },
   "outputs": [
    {
     "name": "stdout",
     "output_type": "stream",
     "text": [
      "peak memory: 307.96 MiB, increment: 143.16 MiB\n"
     ]
    }
   ],
   "source": [
    "memit k_eigen_finder(cov_x,10,100,i_guess)"
   ]
  },
  {
   "cell_type": "code",
   "execution_count": 70,
   "metadata": {
    "collapsed": false
   },
   "outputs": [
    {
     "name": "stdout",
     "output_type": "stream",
     "text": [
      "peak memory: 325.50 MiB, increment: 141.91 MiB\n"
     ]
    }
   ],
   "source": [
    "memit k_eigen_finder(cov_x,10,1000,i_guess)"
   ]
  },
  {
   "cell_type": "code",
   "execution_count": 63,
   "metadata": {
    "collapsed": false
   },
   "outputs": [
    {
     "name": "stdout",
     "output_type": "stream",
     "text": [
      "peak memory: 316.90 MiB, increment: 150.44 MiB\n"
     ]
    }
   ],
   "source": [
    "memit k_eigen_finder_plus(cov_x, 10, 10, i_guess)"
   ]
  },
  {
   "cell_type": "code",
   "execution_count": 66,
   "metadata": {
    "collapsed": false
   },
   "outputs": [
    {
     "name": "stdout",
     "output_type": "stream",
     "text": [
      "peak memory: 318.90 MiB, increment: 142.81 MiB\n"
     ]
    }
   ],
   "source": [
    "memit k_eigen_finder_plus(cov_x, 10, 100, i_guess)"
   ]
  },
  {
   "cell_type": "code",
   "execution_count": 71,
   "metadata": {
    "collapsed": false
   },
   "outputs": [
    {
     "name": "stdout",
     "output_type": "stream",
     "text": [
      "peak memory: 321.10 MiB, increment: 142.64 MiB\n"
     ]
    }
   ],
   "source": [
    "memit k_eigen_finder_plus(cov_x, 10, 1000, i_guess)"
   ]
  },
  {
   "cell_type": "code",
   "execution_count": 64,
   "metadata": {
    "collapsed": false
   },
   "outputs": [
    {
     "name": "stdout",
     "output_type": "stream",
     "text": [
      "peak memory: 173.94 MiB, increment: 0.00 MiB\n"
     ]
    }
   ],
   "source": [
    "memit unshifted_qr_k(cov_x, 100, 10)"
   ]
  },
  {
   "cell_type": "code",
   "execution_count": 65,
   "metadata": {
    "collapsed": false
   },
   "outputs": [
    {
     "name": "stdout",
     "output_type": "stream",
     "text": [
      "peak memory: 176.01 MiB, increment: 2.07 MiB\n"
     ]
    }
   ],
   "source": [
    "memit unshifted_qr_k(cov_x, 100, 100)"
   ]
  },
  {
   "cell_type": "code",
   "execution_count": 67,
   "metadata": {
    "collapsed": false
   },
   "outputs": [
    {
     "name": "stdout",
     "output_type": "stream",
     "text": [
      "peak memory: 279.46 MiB, increment: 103.38 MiB\n"
     ]
    }
   ],
   "source": [
    "memit unshifted_qr_k(cov_x, 100, 1000)"
   ]
  },
  {
   "cell_type": "markdown",
   "metadata": {},
   "source": [
    "Con los resultados anteriores podemos concluir que ..."
   ]
  },
  {
   "cell_type": "markdown",
   "metadata": {},
   "source": [
    "## Pregunta 7\n",
    "\n",
    "### Parte a)\n",
    "\n",
    "Para encontrar la proyección de las componentes principales basta encontrar una matriz formada por los dos primeros vectores propios asociados a los valores propios mas dominantes de la matriz de covarianza. Para luego multiplicar la matriz de covarianza por esta matriz formada descrita anteriormente."
   ]
  },
  {
   "cell_type": "code",
   "execution_count": 132,
   "metadata": {
    "collapsed": false
   },
   "outputs": [
    {
     "name": "stdout",
     "output_type": "stream",
     "text": [
      "[[ 14321.38034079]\n",
      " [  -190.33689334]\n",
      " [  -654.45507894]\n",
      " ..., \n",
      " [ 20451.93375757]\n",
      " [-43781.86855055]\n",
      " [    84.39162103]]\n"
     ]
    },
    {
     "data": {
      "image/png": "[encoded data removed]",
      "text/plain": [
       "<matplotlib.figure.Figure at 0x7fae4350d110>"
      ]
     },
     "metadata": {},
     "output_type": "display_data"
    }
   ],
   "source": [
    "l,u = k_eigen_finder(cov_x, 10, 2, i_guess)\n",
    "base_2 = np.dot(cov_x,u)\n",
    "#print base_2\n",
    "explained_cov = np.divide(np.sum(l), cov_x.sum())\n",
    "#print explained_cov\n",
    "print base_2[:,0]\n",
    "plt.plot(base_2[:,0], base_2[:,1], 'ro')\n",
    "plt.show()"
   ]
  },
  {
   "cell_type": "code",
   "execution_count": null,
   "metadata": {
    "collapsed": true
   },
   "outputs": [],
   "source": [
    "l,u = k_eigen_finder(cov_x, 10, 3, i_guess)\n",
    "base_3 = np.dot(cov_x,u)\n",
    "print base_3\n",
    "explained_cov = np.divide(np.sum(l), cov_x.sum())"
   ]
  },
  {
   "cell_type": "markdown",
   "metadata": {},
   "source": [
    "# Conclusiones"
   ]
  },
  {
   "cell_type": "markdown",
   "metadata": {},
   "source": [
    "# Referencias"
   ]
  }
 ],
 "metadata": {
  "kernelspec": {
   "display_name": "Python 2",
   "language": "python",
   "name": "python2"
  },
  "language_info": {
   "codemirror_mode": {
    "name": "ipython",
    "version": 2
   },
   "file_extension": ".py",
   "mimetype": "text/x-python",
   "name": "python",
   "nbconvert_exporter": "python",
   "pygments_lexer": "ipython2",
   "version": "2.7.10"
  }
 },
 "nbformat": 4,
 "nbformat_minor": 0
}
