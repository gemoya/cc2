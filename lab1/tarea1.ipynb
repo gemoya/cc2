{
 "cells": [
  {
   "cell_type": "markdown",
   "metadata": {},
   "source": [
    "# <center> Laboratorio 1 </center>\n",
    "## <center> Computación científica II </center>\n",
    "## <center> Ariel Sanhueza Román - asanhuez@alumnos.inf.utfsm.cl - 201173005-4 </center>\n",
    "## <center> Gonzalo Moya Rodríguez - gemoya@alumnos.inf.utfsm.cl - 201173016-k </center>"
   ]
  },
  {
   "cell_type": "markdown",
   "metadata": {},
   "source": [
    "# Introducción\n",
    "\n",
    "El laboratorio consiste en varias partes, que tiene distintos ejes:\n",
    "* La primera consiste en la construcción de distintos algoritmos (Power Iteration, Rayleigh Quotient Iteration y dos algoritmos propuestos). Además, se pide calcular su complejidad y además, para los algoritmos propuestos, corroborar su correctitud.\n",
    "* La segunda parte consiste en probar los algoritmos y estudiar como se desempeñan (tanto en memoria como en tiempo).\n",
    "* La tercera parte es realizar un análisis de unos datos y recoger información de ellos por medio de los algoritmos implementados."
   ]
  },
  {
   "cell_type": "markdown",
   "metadata": {},
   "source": [
    "# Previo\n",
    "Primero, importaremos las bibliotecas previas:"
   ]
  },
  {
   "cell_type": "code",
   "execution_count": 1,
   "metadata": {
    "collapsed": false
   },
   "outputs": [],
   "source": [
    "import numpy as np\n",
    "from scipy import linalg\n",
    "%matplotlib inline\n",
    "from matplotlib import pyplot as plt\n",
    "from mpl_toolkits.mplot3d import Axes3D\n",
    "from numpy.linalg import norm, solve\n",
    "%load_ext memory_profiler"
   ]
  },
  {
   "cell_type": "markdown",
   "metadata": {},
   "source": [
    "Ahora, cargaremos los datos entregados y generamos el vector inicial:"
   ]
  },
  {
   "cell_type": "code",
   "execution_count": 2,
   "metadata": {
    "collapsed": false
   },
   "outputs": [],
   "source": [
    "X = np.load('arcene.npy')\n",
    "cov_x = X\n",
    "cov_x -= cov_x.mean(axis=0)\n",
    "cov_x = np.dot(np.transpose(cov_x),cov_x)\n",
    "n = cov_x.shape[1]\n",
    "cov_x = np.divide(cov_x,n-1)\n",
    "i_guess  = np.ones(cov_x.shape[0])"
   ]
  },
  {
   "cell_type": "markdown",
   "metadata": {
    "collapsed": true
   },
   "source": [
    "# Desarrollo\n",
    "\n",
    "## Pregunta 1\n",
    "Primero, implementaremos los algoritmos de $\\textbf{Power Iteration}$ y $\\textbf{Rayleigh Quotient Iteration}$"
   ]
  },
  {
   "cell_type": "markdown",
   "metadata": {},
   "source": [
    "### Power Iteration"
   ]
  },
  {
   "cell_type": "code",
   "execution_count": 3,
   "metadata": {
    "collapsed": false
   },
   "outputs": [],
   "source": [
    "# Adaptación del algoritmo publicado en el ipython de clases\n",
    "def powerit(A, x, k):\n",
    "  \"\"\"\n",
    "  Program 12.1 Power iteration\n",
    "  Computes dominant eigenvector of square matrix\n",
    "  Input: matrix A, initial (nonzero) vector x, number of steps k\n",
    "  Output: dominant eigenvalue lam, eigenvector u\n",
    "  \"\"\"\n",
    "  for j in range(k):\n",
    "    u = np.divide(x, linalg.norm(x))\n",
    "    x = np.dot(A, u)\n",
    "    lam = float(np.dot(u.T, x))\n",
    "  u = np.divide(x, linalg.norm(x))\n",
    "  return lam, u"
   ]
  },
  {
   "cell_type": "markdown",
   "metadata": {},
   "source": [
    "Dentro de todo el algoritmo, las líneas más costosas son (con sus respectivas complejidades):\n",
    "* np.dot(A,U) $\\rightarrow O(n^2)$, pues es un producto matriz vector.\n",
    "* np.dot(u.T, x) $\\rightarrow O(n)$, pues es un producto vector vector.\n",
    "* El loop for, que depende de k.\n",
    "\n",
    "Por lo que la complejidad de este algoritmo es de orden $O(kn^2)$"
   ]
  },
  {
   "cell_type": "markdown",
   "metadata": {},
   "source": [
    "### Rayleigh Quotient Iteration"
   ]
  },
  {
   "cell_type": "code",
   "execution_count": 4,
   "metadata": {
    "collapsed": false
   },
   "outputs": [],
   "source": [
    "# Adaptación del algoritmo publicando en el ipython de clases\n",
    "def rqi(A, x, k):\n",
    "  \"\"\"\n",
    "  Program 12.3 Rayleigh Quotient Iteration\n",
    "  Input: matrix A, initial (nonzero) vector x, number of steps k\n",
    "  Output: eigenvalue lam, eigenvector of inv(A-sI)\n",
    "  \"\"\"\n",
    "  aux,x = powerit(A, x, 2)\n",
    "  for j in range(k):\n",
    "    u = np.divide(x, linalg.norm(x))\n",
    "    lam = float(np.dot(u.T, np.dot(A, u)))\n",
    "    x = np.linalg.solve(A -lam*np.eye(*A.shape), u)\n",
    "  u = np.divide(x, linalg.norm(x))\n",
    "  lam = float(np.dot(u.T, np.dot(A, u)))\n",
    "  return lam, u\n"
   ]
  },
  {
   "cell_type": "markdown",
   "metadata": {},
   "source": [
    "Dentro de todo el algoritmo, las líneas más costosas son (con sus respectivas complejidades):\n",
    "* np.dot(u.T, np.dot(A, u)) $\\rightarrow O(n^2)$, pues está compuesto por dos productos puntos, por lo que la línea completa son aproximadamente $n^2 + n$ operaciones, lo que asintóticamente es $O(n^2)$\n",
    "* El loop for, que depende de k\n",
    "Por lo que la complejidad de este algoritmo es de orden $O(kn^2)$"
   ]
  },
  {
   "cell_type": "markdown",
   "metadata": {},
   "source": [
    "## Pregunta 2\n",
    "\n",
    "### Parte a)\n",
    "Primero, como $A$ es simétrica, tenemos que sus valores propios son reales y sus vectores propios son ortogonales entre sí.\n",
    "\n",
    "Tomemos $B = A - \\lambda_iv_iv^T_i$. Entonces:\n",
    "\n",
    "\\begin{align*}\n",
    "    Bv_k &= \\lambda_kv_k \\\\\n",
    "    (A - \\lambda_iv_iv^T_i)v_k &= \\lambda_kv_k \\\\\n",
    "    Av_k - \\lambda_iv_iv^T_iv_k &= \\lambda_kv_k,\\texttt{ pero }v^T_iv_k = 0 \\\\\n",
    "    Av_k &= \\lambda_kv_k\n",
    "\\end{align*}\n",
    "\n",
    "Entonces vemos que los vectores y valores propios son los mismos en A y en B.\n",
    "\n",
    "Ahora supongamos que $v_1$ es el vector propio dominante y $\\lambda_1$ es el valor propio dominante de A (encontrado en la primera iteración, pues el valor y vector propio inicial son cero). \n",
    "\n",
    "\\begin{align*}\n",
    "    Bv_i &= \\lambda_iv_i \\\\\n",
    "    (A - \\lambda_1v_1v^T_1)v_i &= \\lambda_iv_i \\\\\n",
    "    Av_i - \\lambda_1v_1v^T_1v_i &= \\lambda_iv_i, \\texttt{ pero para } i \\neq 1 \\rightarrow v^T_1v_i = 0 \\\\\n",
    "    Av_i &= \\lambda_iv_i\n",
    "\\end{align*}\n",
    "\n",
    "Entonces, se tienen que si aplicamos power iteration en B, encontraremos su valor/vector propio dominante. Pero como los vectores son los mismos en A y en B y $v_1$ y $\\lambda_1$ no son dominantes en B, entonces los dominantes en B son los segundos más grandes en A. Si aplicamos esto $k$ veces, obtenemos los $k$ vectores y valores propios dominantes de A\n",
    "\n",
    "### Parte b)\n",
    "La complejidad de Power iteration vimos que era $O(pn^2)$ (en el caso del algoritmo propuesto, en power iteration $k = p$). Como el power iteration es ejecutado $k$ veces, entonces la complejidad total es $O(kpn^2)$.\n",
    "\n",
    "### Parte c)"
   ]
  },
  {
   "cell_type": "code",
   "execution_count": 5,
   "metadata": {
    "collapsed": false
   },
   "outputs": [],
   "source": [
    "def k_eigen_finder(A, p, k, v_0):\n",
    "    v = v_0\n",
    "    l = 0\n",
    "    lambdas = []\n",
    "    vectors = []\n",
    "    for i in range(k):\n",
    "        A = A - l*np.dot(v, np.transpose(v))\n",
    "        l, v = powerit(A, np.ones((A.shape[0],1)), p)\n",
    "        lambdas.append(l)\n",
    "        vectors.append(v)\n",
    "    return lambdas, vectors"
   ]
  },
  {
   "cell_type": "markdown",
   "metadata": {},
   "source": [
    "## Pregunta 3\n",
    "### Parte a)\n",
    "Primero tenemos que ver si los valores y vectores propios son los mismos en ambos casos. Sea $B = (A - \\lambda_i v_i v_i^T)^p$ y $v_j$ vector propio de $A$, tenemos que:\n",
    "\n",
    "\\begin{align*}\n",
    "Bv_j &= (A - \\lambda_i v_i v_i^T)^pv_j \\\\\n",
    "     &= (A - \\lambda_i v_i v_i^T)^{p-1} (A - \\lambda_i v_i v_i^T)v_j \\\\\n",
    "     &= (A - \\lambda_i v_i v_i^T)^{p-1} (Av_j - \\lambda_i v_i v_i^T v_j)\n",
    "\\end{align*}\n",
    "\n",
    "Si $i = j$, entonces vemos que $Av_j - \\lambda_i v_i v_i^T v_j = 0$, por lo que $v_i$ no es vector propio dominante en $B$. Por el contrario, si $j \\neq i$, tenemos que:\n",
    "\\begin{align*}\n",
    "Bv_j &= (A - \\lambda_i v_i v_i^T)^{p-1} Av_j \\\\\n",
    "\\vdots &= \\vdots \\\\\n",
    "Bv_j &= A^pv_j = \\lambda_j^pv_j\n",
    "\\end{align*}\n",
    "\n",
    "Por lo tanto, los vectores propios son los mismos en $B$, en $A^p$ y en $A$, y si los valores propios en $A$ son $\\lambda_j$, en $B$ y en $A^p$ son $\\lambda_j^p$. Por lo que el algoritmo es correcto, pero requiere de unos pequeños cambios.\n",
    "\n",
    "### Parte b) \n",
    "\n",
    "Tomando en cuenta que calcular la potencia p de una matriz es equivalente a computar el producto matriz,matriz p veces, esto nos entrega una complejidad de $O(2pn^3)$, con $2n$ para el prodcuto y $n^2$ para la matriz.\n",
    "Luego dentro del algoritmo detectamos instrucciones relevantes como el producto matriz vector de complejidad de $2n^2$ y posteriormente el producto matriz vector con $2n^2$ más el producto vector vector de complejidad $2n$.Estas instrucciones se realiza $k$ veces por lo que para obtener la complejidad general se construye dependiendo del numero de ciclos, es decir si $k<8np$ entonces la complejidad será $O(2pn^3)$, de lo contrario es $O(4kn^2)$. \n",
    "\n",
    "### Parte c)"
   ]
  },
  {
   "cell_type": "code",
   "execution_count": 6,
   "metadata": {
    "collapsed": false
   },
   "outputs": [],
   "source": [
    "def k_eigen_finder_plus(A, p, k, x):\n",
    "    X = A\n",
    "    l = 0\n",
    "    v = np.zeros((A.shape[0], 1))\n",
    "    lambdas = []\n",
    "    vectors = []\n",
    "    for i in range(k):\n",
    "        X = X - l*np.dot(v, v.T)\n",
    "        A_p = np.linalg.matrix_power(X, p)\n",
    "        v = np.dot(A_p,x)\n",
    "        v /= np.linalg.norm(v)\n",
    "        l = np.dot(v.T, np.dot(A, v))\n",
    "        lambdas.append(l)\n",
    "        vectors.append(v)\n",
    "    return lambdas, vectors"
   ]
  },
  {
   "cell_type": "markdown",
   "metadata": {},
   "source": [
    "El cambio es que, en el algoritmo sale $A^p \\leftarrow A^p - \\lambda^p v_i v_i^T$ y fué reemplazado por $(A - \\lambda_i v_i v_i^T)^p$, lo cual es lo usado en la demostración de la parte b. Dado que el error se produce al elevar la matriz muchas veces, se realiza una especie de mezcla con el algoritmo de la pregunta 2, al ir elevando a la potencia de p la matriz $X = X - \\lambda_i v_i v_i^T$, así la matriz no crece demasiado, se realiza el shift que permite anular el valor propio dominante de la matriz anterior y se sigue utilizando la propiedad de la potencia."
   ]
  },
  {
   "cell_type": "markdown",
   "metadata": {},
   "source": [
    "## Pregunta 4\n",
    "### Parte a)\n",
    "Las modificaciones son pocas y simples:\n",
    "* Si nuestra mariz es de dimensiones $nxn$, nuestro Q_0 inicial es cualquier matriz de dimensiones $nxk$, donde $k$ es la cantidad de eigen values que queremos encontrar.\n",
    "* Al realizar la descomposición QR, usaremos su versión reducida.\n",
    "\n",
    "### Parte b)\n",
    "La complejidad de este nuevo algoritmo está determinada por:\n",
    "* La factorización QR, que es de complejidad $O(n^3)$.\n",
    "* La cantidad de iteraciones realizadas por el Unshifted QR (llamémoslo $m$).\n",
    "Por lo tanto, la complejidad total es de $O(mn^3)$.\n",
    "\n",
    "### Parte c)\n",
    "La implementación es la siguiente forma:"
   ]
  },
  {
   "cell_type": "code",
   "execution_count": 7,
   "metadata": {
    "collapsed": false
   },
   "outputs": [],
   "source": [
    "def unshifted_qr_k(A, m, k):\n",
    "    # The intial value of Q\n",
    "    Q = np.dot(A, np.ones((A.shape[0], k)))\n",
    "    for i in range(m):\n",
    "        Q,_ = np.linalg.qr(np.dot(A,Q), mode='reduced')\n",
    "    return np.diagonal(np.dot(np.dot(Q.T, A), Q))"
   ]
  },
  {
   "cell_type": "markdown",
   "metadata": {},
   "source": [
    "## Pregunta 5"
   ]
  },
  {
   "cell_type": "code",
   "execution_count": 8,
   "metadata": {
    "collapsed": false
   },
   "outputs": [
    {
     "name": "stdout",
     "output_type": "stream",
     "text": [
      "1838214.89054\n",
      "[  7.92615633e-03  -1.03486901e-04  -1.64245597e-04 ...,   1.10023573e-02\n",
      "  -2.38882889e-02   4.63108496e-05]\n"
     ]
    }
   ],
   "source": [
    "lam, u = powerit(cov_x, i_guess, 27)\n",
    "print lam\n",
    "print u"
   ]
  },
  {
   "cell_type": "code",
   "execution_count": 9,
   "metadata": {
    "collapsed": false
   },
   "outputs": [
    {
     "name": "stdout",
     "output_type": "stream",
     "text": [
      "1838214.89061\n",
      "[  7.92629513e-03  -1.03486836e-04  -1.64048140e-04 ...,   1.10022295e-02\n",
      "  -2.38883604e-02   4.63112602e-05]\n"
     ]
    }
   ],
   "source": [
    "lam, u = rqi(cov_x, i_guess, 3)\n",
    "print lam\n",
    "print u"
   ]
  },
  {
   "cell_type": "code",
   "execution_count": 10,
   "metadata": {
    "collapsed": false
   },
   "outputs": [
    {
     "name": "stdout",
     "output_type": "stream",
     "text": [
      "1 loops, best of 3: 221 ms per loop\n"
     ]
    }
   ],
   "source": [
    "timeit powerit(cov_x, i_guess, 27)"
   ]
  },
  {
   "cell_type": "code",
   "execution_count": 11,
   "metadata": {
    "collapsed": false
   },
   "outputs": [
    {
     "name": "stdout",
     "output_type": "stream",
     "text": [
      "1 loops, best of 3: 4.32 s per loop\n"
     ]
    }
   ],
   "source": [
    "timeit rqi(cov_x, i_guess, 3)"
   ]
  },
  {
   "cell_type": "code",
   "execution_count": 12,
   "metadata": {
    "collapsed": false
   },
   "outputs": [
    {
     "name": "stdout",
     "output_type": "stream",
     "text": [
      "peak memory: 132.22 MiB, increment: 0.02 MiB\n"
     ]
    }
   ],
   "source": [
    "memit powerit(cov_x, i_guess, 27)"
   ]
  },
  {
   "cell_type": "code",
   "execution_count": 13,
   "metadata": {
    "collapsed": false
   },
   "outputs": [
    {
     "name": "stdout",
     "output_type": "stream",
     "text": [
      "peak memory: 227.62 MiB, increment: 95.39 MiB\n"
     ]
    }
   ],
   "source": [
    "memit rqi(cov_x, i_guess, 3)"
   ]
  },
  {
   "cell_type": "markdown",
   "metadata": {},
   "source": [
    "Con los resultados anteriores podemos concluir que, para estos casos, power iteration demoró menos tiempo pero llegó a un resultado en más iteraciones mientras que RQI se demoró mucho más, pero con muy pocas iteraciones. Además, RQI requería más memoria que PI."
   ]
  },
  {
   "cell_type": "markdown",
   "metadata": {},
   "source": [
    "## Pregunta 6"
   ]
  },
  {
   "cell_type": "code",
   "execution_count": 14,
   "metadata": {
    "collapsed": false
   },
   "outputs": [
    {
     "name": "stdout",
     "output_type": "stream",
     "text": [
      "[1838050.995732637, 1195903.0584144755, 213920.88258184306, 154187.9455181963, 102028.30433202887, 68374.27226384028, 53875.61950935819, 42465.99574260609, 46424.82150974384, 43154.7019382914]\n"
     ]
    }
   ],
   "source": [
    "l,u = k_eigen_finder(cov_x, 10, 10, i_guess)\n",
    "print l"
   ]
  },
  {
   "cell_type": "code",
   "execution_count": 15,
   "metadata": {
    "collapsed": false
   },
   "outputs": [
    {
     "name": "stdout",
     "output_type": "stream",
     "text": [
      "[1838145.5238796514, 73357.897930400184, 73358.844822236308, 73359.721764519913, 73360.536231458042, 73361.29466911497, 73362.002666313449, 73362.665092543219, 73363.286210079372, 73363.869765762705] [array([  7.71841822e-03,  -1.03578356e-04,  -4.59169459e-04, ...,\n",
      "         1.11927747e-02,  -2.37802795e-02,   4.56950843e-05]), array([ 0.02000034,  0.0200003 ,  0.02000064, ...,  0.01999904,\n",
      "        0.0200008 ,  0.02000032]), array([ 0.02000032,  0.02000029,  0.02000062, ...,  0.01999908,\n",
      "        0.02000077,  0.02000031]), array([ 0.02000031,  0.02000028,  0.02000059, ...,  0.01999911,\n",
      "        0.02000074,  0.0200003 ]), array([ 0.0200003 ,  0.02000027,  0.02000057, ...,  0.01999914,\n",
      "        0.02000071,  0.02000029]), array([ 0.02000029,  0.02000026,  0.02000055, ...,  0.01999917,\n",
      "        0.02000069,  0.02000028]), array([ 0.02000028,  0.02000025,  0.02000053, ...,  0.0199992 ,\n",
      "        0.02000067,  0.02000027]), array([ 0.02000027,  0.02000024,  0.02000052, ...,  0.01999922,\n",
      "        0.02000064,  0.02000026]), array([ 0.02000026,  0.02000023,  0.0200005 , ...,  0.01999925,\n",
      "        0.02000062,  0.02000025]), array([ 0.02000025,  0.02000023,  0.02000049, ...,  0.01999927,\n",
      "        0.02000061,  0.02000025])]\n"
     ]
    }
   ],
   "source": [
    "l,u = k_eigen_finder_plus(cov_x, 10, 10, i_guess)\n",
    "print l,u"
   ]
  },
  {
   "cell_type": "code",
   "execution_count": 16,
   "metadata": {
    "collapsed": false
   },
   "outputs": [
    {
     "data": {
      "text/plain": [
       "array([ 1838214.89061456,  1195796.43014677,   214003.16585597,\n",
       "         154145.5921766 ,   102040.01804763,    68731.92840622,\n",
       "          53790.19770729,    49679.85760233,    49428.86792734,\n",
       "          39916.3129266 ])"
      ]
     },
     "execution_count": 16,
     "metadata": {},
     "output_type": "execute_result"
    }
   ],
   "source": [
    "unshifted_qr_k(cov_x, 100, 10)"
   ]
  },
  {
   "cell_type": "markdown",
   "metadata": {},
   "source": [
    "Como podemos ver, una prueba con los algoritmos para encontrar los 10 primeros valores propios, \"K eigen finder\" y Unshifted QR retornan valores muy similares. La versión modificada de \"K eigen values\"."
   ]
  },
  {
   "cell_type": "code",
   "execution_count": 17,
   "metadata": {
    "collapsed": false
   },
   "outputs": [
    {
     "name": "stdout",
     "output_type": "stream",
     "text": [
      "1 loops, best of 3: 2.79 s per loop\n"
     ]
    }
   ],
   "source": [
    "timeit k_eigen_finder(cov_x,10,10,i_guess)"
   ]
  },
  {
   "cell_type": "code",
   "execution_count": 18,
   "metadata": {
    "collapsed": false
   },
   "outputs": [
    {
     "name": "stdout",
     "output_type": "stream",
     "text": [
      "1 loops, best of 3: 29.2 s per loop\n"
     ]
    }
   ],
   "source": [
    "timeit k_eigen_finder(cov_x,10,100,i_guess)"
   ]
  },
  {
   "cell_type": "code",
   "execution_count": 19,
   "metadata": {
    "collapsed": false
   },
   "outputs": [
    {
     "name": "stdout",
     "output_type": "stream",
     "text": [
      "1 loops, best of 3: 4min 37s per loop\n"
     ]
    }
   ],
   "source": [
    "timeit k_eigen_finder(cov_x,10,1000,i_guess)"
   ]
  },
  {
   "cell_type": "code",
   "execution_count": 20,
   "metadata": {
    "collapsed": false
   },
   "outputs": [
    {
     "name": "stdout",
     "output_type": "stream",
     "text": [
      "1 loops, best of 3: 2min 9s per loop\n"
     ]
    }
   ],
   "source": [
    "timeit k_eigen_finder_plus(cov_x, 10, 10, i_guess)"
   ]
  },
  {
   "cell_type": "code",
   "execution_count": 21,
   "metadata": {
    "collapsed": false
   },
   "outputs": [
    {
     "name": "stdout",
     "output_type": "stream",
     "text": [
      "1 loops, best of 3: 21min 39s per loop\n"
     ]
    }
   ],
   "source": [
    "timeit k_eigen_finder_plus(cov_x, 10, 100, i_guess)"
   ]
  },
  {
   "cell_type": "code",
   "execution_count": 22,
   "metadata": {
    "collapsed": false
   },
   "outputs": [
    {
     "ename": "KeyboardInterrupt",
     "evalue": "",
     "output_type": "error",
     "traceback": [
      "\u001b[1;31m---------------------------------------------------------------------------\u001b[0m",
      "\u001b[1;31mKeyboardInterrupt\u001b[0m                         Traceback (most recent call last)",
      "\u001b[1;32m<ipython-input-22-e33f2f4ec6a6>\u001b[0m in \u001b[0;36m<module>\u001b[1;34m()\u001b[0m\n\u001b[1;32m----> 1\u001b[1;33m \u001b[0mget_ipython\u001b[0m\u001b[1;33m(\u001b[0m\u001b[1;33m)\u001b[0m\u001b[1;33m.\u001b[0m\u001b[0mmagic\u001b[0m\u001b[1;33m(\u001b[0m\u001b[1;34mu'timeit k_eigen_finder_plus(cov_x, 10, 1000, i_guess)'\u001b[0m\u001b[1;33m)\u001b[0m\u001b[1;33m\u001b[0m\u001b[0m\n\u001b[0m",
      "\u001b[1;32m/home/gonzalo/anaconda/lib/python2.7/site-packages/IPython/core/interactiveshell.pyc\u001b[0m in \u001b[0;36mmagic\u001b[1;34m(self, arg_s)\u001b[0m\n\u001b[0;32m   2334\u001b[0m         \u001b[0mmagic_name\u001b[0m\u001b[1;33m,\u001b[0m \u001b[0m_\u001b[0m\u001b[1;33m,\u001b[0m \u001b[0mmagic_arg_s\u001b[0m \u001b[1;33m=\u001b[0m \u001b[0marg_s\u001b[0m\u001b[1;33m.\u001b[0m\u001b[0mpartition\u001b[0m\u001b[1;33m(\u001b[0m\u001b[1;34m' '\u001b[0m\u001b[1;33m)\u001b[0m\u001b[1;33m\u001b[0m\u001b[0m\n\u001b[0;32m   2335\u001b[0m         \u001b[0mmagic_name\u001b[0m \u001b[1;33m=\u001b[0m \u001b[0mmagic_name\u001b[0m\u001b[1;33m.\u001b[0m\u001b[0mlstrip\u001b[0m\u001b[1;33m(\u001b[0m\u001b[0mprefilter\u001b[0m\u001b[1;33m.\u001b[0m\u001b[0mESC_MAGIC\u001b[0m\u001b[1;33m)\u001b[0m\u001b[1;33m\u001b[0m\u001b[0m\n\u001b[1;32m-> 2336\u001b[1;33m         \u001b[1;32mreturn\u001b[0m \u001b[0mself\u001b[0m\u001b[1;33m.\u001b[0m\u001b[0mrun_line_magic\u001b[0m\u001b[1;33m(\u001b[0m\u001b[0mmagic_name\u001b[0m\u001b[1;33m,\u001b[0m \u001b[0mmagic_arg_s\u001b[0m\u001b[1;33m)\u001b[0m\u001b[1;33m\u001b[0m\u001b[0m\n\u001b[0m\u001b[0;32m   2337\u001b[0m \u001b[1;33m\u001b[0m\u001b[0m\n\u001b[0;32m   2338\u001b[0m     \u001b[1;31m#-------------------------------------------------------------------------\u001b[0m\u001b[1;33m\u001b[0m\u001b[1;33m\u001b[0m\u001b[0m\n",
      "\u001b[1;32m/home/gonzalo/anaconda/lib/python2.7/site-packages/IPython/core/interactiveshell.pyc\u001b[0m in \u001b[0;36mrun_line_magic\u001b[1;34m(self, magic_name, line)\u001b[0m\n\u001b[0;32m   2255\u001b[0m                 \u001b[0mkwargs\u001b[0m\u001b[1;33m[\u001b[0m\u001b[1;34m'local_ns'\u001b[0m\u001b[1;33m]\u001b[0m \u001b[1;33m=\u001b[0m \u001b[0msys\u001b[0m\u001b[1;33m.\u001b[0m\u001b[0m_getframe\u001b[0m\u001b[1;33m(\u001b[0m\u001b[0mstack_depth\u001b[0m\u001b[1;33m)\u001b[0m\u001b[1;33m.\u001b[0m\u001b[0mf_locals\u001b[0m\u001b[1;33m\u001b[0m\u001b[0m\n\u001b[0;32m   2256\u001b[0m             \u001b[1;32mwith\u001b[0m \u001b[0mself\u001b[0m\u001b[1;33m.\u001b[0m\u001b[0mbuiltin_trap\u001b[0m\u001b[1;33m:\u001b[0m\u001b[1;33m\u001b[0m\u001b[0m\n\u001b[1;32m-> 2257\u001b[1;33m                 \u001b[0mresult\u001b[0m \u001b[1;33m=\u001b[0m \u001b[0mfn\u001b[0m\u001b[1;33m(\u001b[0m\u001b[1;33m*\u001b[0m\u001b[0margs\u001b[0m\u001b[1;33m,\u001b[0m\u001b[1;33m**\u001b[0m\u001b[0mkwargs\u001b[0m\u001b[1;33m)\u001b[0m\u001b[1;33m\u001b[0m\u001b[0m\n\u001b[0m\u001b[0;32m   2258\u001b[0m             \u001b[1;32mreturn\u001b[0m \u001b[0mresult\u001b[0m\u001b[1;33m\u001b[0m\u001b[0m\n\u001b[0;32m   2259\u001b[0m \u001b[1;33m\u001b[0m\u001b[0m\n",
      "\u001b[1;32m/home/gonzalo/anaconda/lib/python2.7/site-packages/IPython/core/magics/execution.pyc\u001b[0m in \u001b[0;36mtimeit\u001b[1;34m(self, line, cell)\u001b[0m\n",
      "\u001b[1;32m/home/gonzalo/anaconda/lib/python2.7/site-packages/IPython/core/magic.pyc\u001b[0m in \u001b[0;36m<lambda>\u001b[1;34m(f, *a, **k)\u001b[0m\n\u001b[0;32m    191\u001b[0m     \u001b[1;31m# but it's overkill for just that one bit of state.\u001b[0m\u001b[1;33m\u001b[0m\u001b[1;33m\u001b[0m\u001b[0m\n\u001b[0;32m    192\u001b[0m     \u001b[1;32mdef\u001b[0m \u001b[0mmagic_deco\u001b[0m\u001b[1;33m(\u001b[0m\u001b[0marg\u001b[0m\u001b[1;33m)\u001b[0m\u001b[1;33m:\u001b[0m\u001b[1;33m\u001b[0m\u001b[0m\n\u001b[1;32m--> 193\u001b[1;33m         \u001b[0mcall\u001b[0m \u001b[1;33m=\u001b[0m \u001b[1;32mlambda\u001b[0m \u001b[0mf\u001b[0m\u001b[1;33m,\u001b[0m \u001b[1;33m*\u001b[0m\u001b[0ma\u001b[0m\u001b[1;33m,\u001b[0m \u001b[1;33m**\u001b[0m\u001b[0mk\u001b[0m\u001b[1;33m:\u001b[0m \u001b[0mf\u001b[0m\u001b[1;33m(\u001b[0m\u001b[1;33m*\u001b[0m\u001b[0ma\u001b[0m\u001b[1;33m,\u001b[0m \u001b[1;33m**\u001b[0m\u001b[0mk\u001b[0m\u001b[1;33m)\u001b[0m\u001b[1;33m\u001b[0m\u001b[0m\n\u001b[0m\u001b[0;32m    194\u001b[0m \u001b[1;33m\u001b[0m\u001b[0m\n\u001b[0;32m    195\u001b[0m         \u001b[1;32mif\u001b[0m \u001b[0mcallable\u001b[0m\u001b[1;33m(\u001b[0m\u001b[0marg\u001b[0m\u001b[1;33m)\u001b[0m\u001b[1;33m:\u001b[0m\u001b[1;33m\u001b[0m\u001b[0m\n",
      "\u001b[1;32m/home/gonzalo/anaconda/lib/python2.7/site-packages/IPython/core/magics/execution.pyc\u001b[0m in \u001b[0;36mtimeit\u001b[1;34m(self, line, cell)\u001b[0m\n\u001b[0;32m   1040\u001b[0m                     \u001b[1;32mbreak\u001b[0m\u001b[1;33m\u001b[0m\u001b[0m\n\u001b[0;32m   1041\u001b[0m                 \u001b[0mnumber\u001b[0m \u001b[1;33m*=\u001b[0m \u001b[1;36m10\u001b[0m\u001b[1;33m\u001b[0m\u001b[0m\n\u001b[1;32m-> 1042\u001b[1;33m         \u001b[0mall_runs\u001b[0m \u001b[1;33m=\u001b[0m \u001b[0mtimer\u001b[0m\u001b[1;33m.\u001b[0m\u001b[0mrepeat\u001b[0m\u001b[1;33m(\u001b[0m\u001b[0mrepeat\u001b[0m\u001b[1;33m,\u001b[0m \u001b[0mnumber\u001b[0m\u001b[1;33m)\u001b[0m\u001b[1;33m\u001b[0m\u001b[0m\n\u001b[0m\u001b[0;32m   1043\u001b[0m         \u001b[0mbest\u001b[0m \u001b[1;33m=\u001b[0m \u001b[0mmin\u001b[0m\u001b[1;33m(\u001b[0m\u001b[0mall_runs\u001b[0m\u001b[1;33m)\u001b[0m \u001b[1;33m/\u001b[0m \u001b[0mnumber\u001b[0m\u001b[1;33m\u001b[0m\u001b[0m\n\u001b[0;32m   1044\u001b[0m         \u001b[1;32mif\u001b[0m \u001b[1;32mnot\u001b[0m \u001b[0mquiet\u001b[0m \u001b[1;33m:\u001b[0m\u001b[1;33m\u001b[0m\u001b[0m\n",
      "\u001b[1;32m/home/gonzalo/anaconda/lib/python2.7/timeit.pyc\u001b[0m in \u001b[0;36mrepeat\u001b[1;34m(self, repeat, number)\u001b[0m\n\u001b[0;32m    227\u001b[0m         \u001b[0mr\u001b[0m \u001b[1;33m=\u001b[0m \u001b[1;33m[\u001b[0m\u001b[1;33m]\u001b[0m\u001b[1;33m\u001b[0m\u001b[0m\n\u001b[0;32m    228\u001b[0m         \u001b[1;32mfor\u001b[0m \u001b[0mi\u001b[0m \u001b[1;32min\u001b[0m \u001b[0mrange\u001b[0m\u001b[1;33m(\u001b[0m\u001b[0mrepeat\u001b[0m\u001b[1;33m)\u001b[0m\u001b[1;33m:\u001b[0m\u001b[1;33m\u001b[0m\u001b[0m\n\u001b[1;32m--> 229\u001b[1;33m             \u001b[0mt\u001b[0m \u001b[1;33m=\u001b[0m \u001b[0mself\u001b[0m\u001b[1;33m.\u001b[0m\u001b[0mtimeit\u001b[0m\u001b[1;33m(\u001b[0m\u001b[0mnumber\u001b[0m\u001b[1;33m)\u001b[0m\u001b[1;33m\u001b[0m\u001b[0m\n\u001b[0m\u001b[0;32m    230\u001b[0m             \u001b[0mr\u001b[0m\u001b[1;33m.\u001b[0m\u001b[0mappend\u001b[0m\u001b[1;33m(\u001b[0m\u001b[0mt\u001b[0m\u001b[1;33m)\u001b[0m\u001b[1;33m\u001b[0m\u001b[0m\n\u001b[0;32m    231\u001b[0m         \u001b[1;32mreturn\u001b[0m \u001b[0mr\u001b[0m\u001b[1;33m\u001b[0m\u001b[0m\n",
      "\u001b[1;32m/home/gonzalo/anaconda/lib/python2.7/site-packages/IPython/core/magics/execution.pyc\u001b[0m in \u001b[0;36mtimeit\u001b[1;34m(self, number)\u001b[0m\n\u001b[0;32m    131\u001b[0m         \u001b[0mgc\u001b[0m\u001b[1;33m.\u001b[0m\u001b[0mdisable\u001b[0m\u001b[1;33m(\u001b[0m\u001b[1;33m)\u001b[0m\u001b[1;33m\u001b[0m\u001b[0m\n\u001b[0;32m    132\u001b[0m         \u001b[1;32mtry\u001b[0m\u001b[1;33m:\u001b[0m\u001b[1;33m\u001b[0m\u001b[0m\n\u001b[1;32m--> 133\u001b[1;33m             \u001b[0mtiming\u001b[0m \u001b[1;33m=\u001b[0m \u001b[0mself\u001b[0m\u001b[1;33m.\u001b[0m\u001b[0minner\u001b[0m\u001b[1;33m(\u001b[0m\u001b[0mit\u001b[0m\u001b[1;33m,\u001b[0m \u001b[0mself\u001b[0m\u001b[1;33m.\u001b[0m\u001b[0mtimer\u001b[0m\u001b[1;33m)\u001b[0m\u001b[1;33m\u001b[0m\u001b[0m\n\u001b[0m\u001b[0;32m    134\u001b[0m         \u001b[1;32mfinally\u001b[0m\u001b[1;33m:\u001b[0m\u001b[1;33m\u001b[0m\u001b[0m\n\u001b[0;32m    135\u001b[0m             \u001b[1;32mif\u001b[0m \u001b[0mgcold\u001b[0m\u001b[1;33m:\u001b[0m\u001b[1;33m\u001b[0m\u001b[0m\n",
      "\u001b[1;32m<magic-timeit>\u001b[0m in \u001b[0;36minner\u001b[1;34m(_it, _timer)\u001b[0m\n",
      "\u001b[1;32m<ipython-input-6-9240d6b965e7>\u001b[0m in \u001b[0;36mk_eigen_finder_plus\u001b[1;34m(A, p, k, x)\u001b[0m\n\u001b[0;32m      7\u001b[0m     \u001b[1;32mfor\u001b[0m \u001b[0mi\u001b[0m \u001b[1;32min\u001b[0m \u001b[0mrange\u001b[0m\u001b[1;33m(\u001b[0m\u001b[0mk\u001b[0m\u001b[1;33m)\u001b[0m\u001b[1;33m:\u001b[0m\u001b[1;33m\u001b[0m\u001b[0m\n\u001b[0;32m      8\u001b[0m         \u001b[0mX\u001b[0m \u001b[1;33m=\u001b[0m \u001b[0mX\u001b[0m \u001b[1;33m-\u001b[0m \u001b[0ml\u001b[0m\u001b[1;33m*\u001b[0m\u001b[0mnp\u001b[0m\u001b[1;33m.\u001b[0m\u001b[0mdot\u001b[0m\u001b[1;33m(\u001b[0m\u001b[0mv\u001b[0m\u001b[1;33m,\u001b[0m \u001b[0mv\u001b[0m\u001b[1;33m.\u001b[0m\u001b[0mT\u001b[0m\u001b[1;33m)\u001b[0m\u001b[1;33m\u001b[0m\u001b[0m\n\u001b[1;32m----> 9\u001b[1;33m         \u001b[0mA_p\u001b[0m \u001b[1;33m=\u001b[0m \u001b[0mnp\u001b[0m\u001b[1;33m.\u001b[0m\u001b[0mlinalg\u001b[0m\u001b[1;33m.\u001b[0m\u001b[0mmatrix_power\u001b[0m\u001b[1;33m(\u001b[0m\u001b[0mX\u001b[0m\u001b[1;33m,\u001b[0m \u001b[0mp\u001b[0m\u001b[1;33m)\u001b[0m\u001b[1;33m\u001b[0m\u001b[0m\n\u001b[0m\u001b[0;32m     10\u001b[0m         \u001b[0mv\u001b[0m \u001b[1;33m=\u001b[0m \u001b[0mnp\u001b[0m\u001b[1;33m.\u001b[0m\u001b[0mdot\u001b[0m\u001b[1;33m(\u001b[0m\u001b[0mA_p\u001b[0m\u001b[1;33m,\u001b[0m\u001b[0mx\u001b[0m\u001b[1;33m)\u001b[0m\u001b[1;33m\u001b[0m\u001b[0m\n\u001b[0;32m     11\u001b[0m         \u001b[0mv\u001b[0m \u001b[1;33m/=\u001b[0m \u001b[0mnp\u001b[0m\u001b[1;33m.\u001b[0m\u001b[0mlinalg\u001b[0m\u001b[1;33m.\u001b[0m\u001b[0mnorm\u001b[0m\u001b[1;33m(\u001b[0m\u001b[0mv\u001b[0m\u001b[1;33m)\u001b[0m\u001b[1;33m\u001b[0m\u001b[0m\n",
      "\u001b[1;32m/home/gonzalo/anaconda/lib/python2.7/site-packages/numpy/matrixlib/defmatrix.pyc\u001b[0m in \u001b[0;36mmatrix_power\u001b[1;34m(M, n)\u001b[0m\n\u001b[0;32m    200\u001b[0m         \u001b[0mZ\u001b[0m \u001b[1;33m=\u001b[0m \u001b[0mN\u001b[0m\u001b[1;33m.\u001b[0m\u001b[0mdot\u001b[0m\u001b[1;33m(\u001b[0m\u001b[0mZ\u001b[0m\u001b[1;33m,\u001b[0m \u001b[0mZ\u001b[0m\u001b[1;33m)\u001b[0m\u001b[1;33m\u001b[0m\u001b[0m\n\u001b[0;32m    201\u001b[0m         \u001b[1;32mif\u001b[0m \u001b[0mbeta\u001b[0m\u001b[1;33m[\u001b[0m\u001b[0mt\u001b[0m\u001b[1;33m-\u001b[0m\u001b[0mk\u001b[0m\u001b[1;33m-\u001b[0m\u001b[1;36m1\u001b[0m\u001b[1;33m]\u001b[0m \u001b[1;33m==\u001b[0m \u001b[1;34m'1'\u001b[0m\u001b[1;33m:\u001b[0m\u001b[1;33m\u001b[0m\u001b[0m\n\u001b[1;32m--> 202\u001b[1;33m             \u001b[0mresult\u001b[0m \u001b[1;33m=\u001b[0m \u001b[0mN\u001b[0m\u001b[1;33m.\u001b[0m\u001b[0mdot\u001b[0m\u001b[1;33m(\u001b[0m\u001b[0mresult\u001b[0m\u001b[1;33m,\u001b[0m \u001b[0mZ\u001b[0m\u001b[1;33m)\u001b[0m\u001b[1;33m\u001b[0m\u001b[0m\n\u001b[0m\u001b[0;32m    203\u001b[0m     \u001b[1;32mreturn\u001b[0m \u001b[0mresult\u001b[0m\u001b[1;33m\u001b[0m\u001b[0m\n\u001b[0;32m    204\u001b[0m \u001b[1;33m\u001b[0m\u001b[0m\n",
      "\u001b[1;31mKeyboardInterrupt\u001b[0m: "
     ]
    }
   ],
   "source": [
    "timeit k_eigen_finder_plus(cov_x, 10, 1000, i_guess)"
   ]
  },
  {
   "cell_type": "code",
   "execution_count": null,
   "metadata": {
    "collapsed": false
   },
   "outputs": [],
   "source": [
    "timeit unshifted_qr_k(cov_x, 100, 10)"
   ]
  },
  {
   "cell_type": "code",
   "execution_count": null,
   "metadata": {
    "collapsed": false
   },
   "outputs": [],
   "source": [
    "timeit unshifted_qr_k(cov_x, 100, 100)"
   ]
  },
  {
   "cell_type": "code",
   "execution_count": null,
   "metadata": {
    "collapsed": false
   },
   "outputs": [],
   "source": [
    "timeit unshifted_qr_k(cov_x, 100, 1000)"
   ]
  },
  {
   "cell_type": "code",
   "execution_count": null,
   "metadata": {
    "collapsed": false
   },
   "outputs": [],
   "source": [
    "memit k_eigen_finder(cov_x,10,10,i_guess)"
   ]
  },
  {
   "cell_type": "code",
   "execution_count": null,
   "metadata": {
    "collapsed": false
   },
   "outputs": [],
   "source": [
    "memit k_eigen_finder(cov_x,10,100,i_guess)"
   ]
  },
  {
   "cell_type": "code",
   "execution_count": null,
   "metadata": {
    "collapsed": false
   },
   "outputs": [],
   "source": [
    "memit k_eigen_finder(cov_x,10,1000,i_guess)"
   ]
  },
  {
   "cell_type": "code",
   "execution_count": null,
   "metadata": {
    "collapsed": false
   },
   "outputs": [],
   "source": [
    "memit k_eigen_finder_plus(cov_x, 10, 10, i_guess)"
   ]
  },
  {
   "cell_type": "code",
   "execution_count": null,
   "metadata": {
    "collapsed": false
   },
   "outputs": [],
   "source": [
    "memit k_eigen_finder_plus(cov_x, 10, 100, i_guess)"
   ]
  },
  {
   "cell_type": "code",
   "execution_count": null,
   "metadata": {
    "collapsed": false
   },
   "outputs": [],
   "source": [
    "memit k_eigen_finder_plus(cov_x, 10, 1000, i_guess)"
   ]
  },
  {
   "cell_type": "code",
   "execution_count": null,
   "metadata": {
    "collapsed": false
   },
   "outputs": [],
   "source": [
    "memit unshifted_qr_k(cov_x, 100, 10)"
   ]
  },
  {
   "cell_type": "code",
   "execution_count": null,
   "metadata": {
    "collapsed": false
   },
   "outputs": [],
   "source": [
    "memit unshifted_qr_k(cov_x, 100, 100)"
   ]
  },
  {
   "cell_type": "code",
   "execution_count": null,
   "metadata": {
    "collapsed": false
   },
   "outputs": [],
   "source": [
    "memit unshifted_qr_k(cov_x, 100, 1000)"
   ]
  },
  {
   "cell_type": "markdown",
   "metadata": {},
   "source": [
    "Con los resultados anteriores podemos concluir que, por lo menos en estos casos, K eigen finder es más rápido que Unshifted QR. En cuanto a la memoria utilizada, se ve claramente que Unshifted QR usa menos memoria (se ve notoriamente para los casos con poacs itearciones)."
   ]
  },
  {
   "cell_type": "markdown",
   "metadata": {},
   "source": [
    "## Pregunta 7\n",
    "\n",
    "### Parte a)\n",
    "\n",
    "Para encontrar la proyección de las componentes principales basta encontrar una matriz formada por los dos primeros vectores propios asociados a los valores propios mas dominantes de la matriz de covarianza. Para luego multiplicar la matriz de covarianza por esta matriz formada descrita anteriormente. Utilizaremos K eigen finder pues se obtuvo mejor rendimiento en los casos de prueba anteriores."
   ]
  },
  {
   "cell_type": "code",
   "execution_count": null,
   "metadata": {
    "collapsed": false
   },
   "outputs": [],
   "source": [
    "l,u = k_eigen_finder(cov_x, 10, 2, i_guess)\n",
    "u = np.column_stack((u[0],u[1]))\n",
    "#new_base_2 = np.array(u[0],u[1])\n",
    "#print new_base_2.shape\n",
    "base_2 = np.dot(X,u)\n",
    "#base_2 = np.dot(X,np.array(u))\n",
    "#print base_2[2]\n",
    "plt.plot(base_2[:,0], base_2[:,1], 'ro')\n",
    "plt.show()\n",
    "\n",
    "#print base_2.shape\n",
    "cov_2 = base_2\n",
    "cov_2 -= cov_2.mean(axis=0)\n",
    "cov_2 = np.dot(np.transpose(cov_2),cov_2)\n",
    "m = cov_2.shape[1]\n",
    "cov_2 = np.divide(cov_2,m-1)\n",
    "l_2,u_2 = k_eigen_finder(cov_2, 10, 2, i_guess)\n",
    "explained_cov_2 = np.divide(np.sum(l_2),cov_2.sum())\n",
    "print explained_cov_2"
   ]
  },
  {
   "cell_type": "markdown",
   "metadata": {},
   "source": [
    "### Parte b)"
   ]
  },
  {
   "cell_type": "code",
   "execution_count": null,
   "metadata": {
    "collapsed": false
   },
   "outputs": [],
   "source": [
    "l,u = k_eigen_finder(cov_x, 10, 3, i_guess)\n",
    "\n",
    "u = np.column_stack((u[0],u[1],u[2]))\n",
    "base_3 = np.dot(X,u)\n",
    "\n",
    "fig = plt.figure()\n",
    "ax = fig.add_subplot(111, projection='3d')\n",
    "\n",
    "ax.scatter(base_3[:,0], base_3[:,1], base_3[:,2], c='r', marker='o')\n",
    "\n",
    "ax.set_xlabel('X Label')\n",
    "ax.set_ylabel('Y Label')\n",
    "ax.set_zlabel('Z Label')\n",
    "\n",
    "plt.show()\n",
    "\n",
    "cov_3 = base_3\n",
    "cov_3 -= cov_3.mean(axis=0)\n",
    "cov_3 = np.dot(np.transpose(cov_3),cov_3)\n",
    "m = cov_3.shape[1]\n",
    "cov_3 = np.divide(cov_3,m-1)\n",
    "l_3,u_3 = k_eigen_finder(cov_3, 10, 3, i_guess)\n",
    "explained_cov_3 = np.divide(np.sum(l_3),cov_3.sum())\n",
    "print explained_cov_3\n",
    "\n",
    "\n"
   ]
  },
  {
   "cell_type": "markdown",
   "metadata": {},
   "source": [
    "### Parte c)\n"
   ]
  },
  {
   "cell_type": "markdown",
   "metadata": {},
   "source": [
    "# Conclusiones"
   ]
  },
  {
   "cell_type": "markdown",
   "metadata": {},
   "source": [
    "# Referencias\n",
    "* http://www.numpy.org\n",
    "* "
   ]
  }
 ],
 "metadata": {
  "kernelspec": {
   "display_name": "Python 2",
   "language": "python",
   "name": "python2"
  },
  "language_info": {
   "codemirror_mode": {
    "name": "ipython",
    "version": 2
   },
   "file_extension": ".py",
   "mimetype": "text/x-python",
   "name": "python",
   "nbconvert_exporter": "python",
   "pygments_lexer": "ipython2",
   "version": "2.7.10"
  }
 },
 "nbformat": 4,
 "nbformat_minor": 0
}
