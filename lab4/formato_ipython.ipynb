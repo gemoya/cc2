{
 "cells": [
  {
   "cell_type": "markdown",
   "metadata": {},
   "source": [
    "# Tarea N°4 - Computación Científica II - ILI286"
   ]
  },
  {
   "cell_type": "markdown",
   "metadata": {},
   "source": [
    "**Autores**:\n",
    "+ Gonzalo Moya - 201173016-k \n",
    "+ Armando Frambuesa     - 201173005-4"
   ]
  },
  {
   "cell_type": "markdown",
   "metadata": {},
   "source": [
    "## Introducción"
   ]
  },
  {
   "cell_type": "markdown",
   "metadata": {},
   "source": [
    "Lorem ipsum dolor sit amet, consectetur adipiscing elit. Morbi venenatis dui felis. Donec ante libero, vestibulum nec faucibus sit amet, congue vel erat. Aliquam aliquet dolor mauris. Quisque egestas tincidunt aliquet. Integer tempor tellus quis commodo porttitor. Donec accumsan tellus sed leo sodales, ac malesuada lacus dignissim. Aliquam erat volutpat. Nunc laoreet vitae felis nec varius. Maecenas sed sem non quam faucibus tristique. Nullam scelerisque ante arcu, id faucibus orci tincidunt nec. Aliquam eu leo vehicula leo maximus vulputate. Donec eget nibh dolor. Aliquam eget ullamcorper erat. Nulla sodales, metus finibus venenatis tristique, elit neque pretium mi, eu maximus nibh turpis vulputate lectus. Phasellus vitae pharetra nisi. "
   ]
  },
  {
   "cell_type": "markdown",
   "metadata": {},
   "source": [
    "## Desarrollo"
   ]
  },
  {
   "cell_type": "markdown",
   "metadata": {},
   "source": [
    "### Parte 1:  Análisis contextualizado"
   ]
  },
  {
   "cell_type": "markdown",
   "metadata": {},
   "source": [
    "### 1)  Ley de Ampere\n",
    "\n",
    "\\begin{align*}\n",
    "    \\vec{\\nabla} \\times \\vec{B} = \\mu_0 \\vec{J} + \\mu_0 \\varepsilon_0 \\frac{\\partial \\vec{E}}{\\partial t} \\\\\n",
    "    \\nabla \\times ( \\nabla \\times \\vec{B} ) = \\mu_0 \\nabla \\times \\vec{J} + \\mu_0 \\varepsilon_0 \\frac{\\partial \\nabla \\times \\vec{E}}{\\partial t}\\\\\n",
    "        \\nabla \\cdot ( \\nabla \\cdot \\vec{B} ) - {\\nabla}^2 \\vec{B} = \\mu_0 \\nabla \\times \\vec{J} + \\mu_0 \\varepsilon_0 \\frac{\\partial \\nabla \\times \\vec{E}}{\\partial t} \\\\\n",
    "\\end{align*}\n",
    "donde por ley de gauss, se sabe que la diveregencia del campo magnético es cero, en otras palabras: $\\nabla \\cdot \\vec{B} = 0.$ Ademas como no existe corriente eléctrica en el vacío, entonces su densidad de corriente eléctrica tambien es 0, es decir $\\vec{J} = 0.$. Por lo tanto los términos se reducen a:\n",
    "\\begin{align*}\n",
    "         - {\\nabla}^2 \\vec{B} = \\mu_0 \\varepsilon_0 \\frac{\\partial \\nabla \\times \\vec{E}}{\\partial t} \\\\\n",
    "\\end{align*}\n",
    "Aquí se hace uso de una de las ecuaciones de Maxwell que nos habla de la inducción de campo eléctrico por medio de campos magnéticos, es decir la forma diferencial de la ley de faraday: $\\nabla \\times \\vec{E} = -\\frac{\\partial \\vec{B}} {\\partial t}$ y se reemplaza en la ecuación anterior de la demostración.\n",
    "\\begin{align*}\n",
    "         - {\\nabla}^2 \\vec{B} = \\mu_0 \\varepsilon_0 \\frac{\\partial }{\\partial t}(-\\frac{\\partial \\vec{B}} {\\partial t})\\\\\n",
    "         - {\\nabla}^2 \\vec{B} = - \\mu_0 \\varepsilon_0 \\frac{\\partial^2 \\vec{B} }{{\\partial t}^2} \\\\\n",
    "         {\\nabla}^2 \\vec{B} - \\mu_0 \\varepsilon_0 \\frac{\\partial^2 \\vec{B} }{{\\partial t}^2}  = 0 \\\\\n",
    "         {\\nabla}^2 \\vec{B} - \\frac{1}{c^2} \\frac{\\partial^2 \\vec{B} }{{\\partial t}^2}  = 0 \\\\\n",
    "\\end{align*}"
   ]
  },
  {
   "cell_type": "code",
   "execution_count": 20,
   "metadata": {
    "collapsed": false
   },
   "outputs": [],
   "source": [
    "#some parameters to try\n",
    "alphas2 = np.linspace(4.5e-8, 4.5e-7, 5, endpoint=True)"
   ]
  },
  {
   "cell_type": "code",
   "execution_count": 22,
   "metadata": {
    "collapsed": false
   },
   "outputs": [
    {
     "name": "stdout",
     "output_type": "stream",
     "text": [
      "##############################################################\n",
      "Dataset: 0\n",
      "Best alpha: 0.0006\n"
     ]
    },
    {
     "data": {
      "image/png": "[encoded data removed]",
      "text/plain": [
       "<matplotlib.figure.Figure at 0x7fcaf8624c50>"
      ]
     },
     "metadata": {},
     "output_type": "display_data"
    },
    {
     "name": "stdout",
     "output_type": "stream",
     "text": [
      "Training error: 13.0062050605\n",
      "Testing error: 65.2571301369\n",
      "N° iterations: 7718\n",
      "Last beta: [ 39.12819425 -21.12211183  18.39155828 -16.19472306 -15.69925885\n",
      "  40.12054606  16.08049095 -16.64772494  -5.87286996 -13.08148087\n",
      "   5.18930831   9.8497999   23.09701364]\n",
      "##############################################################\n",
      "\n",
      "\n",
      "##############################################################\n",
      "Dataset: 14\n",
      "Best alpha: 0.0004\n"
     ]
    },
    {
     "data": {
      "image/png": "[encoded data removed]",
      "text/plain": [
       "<matplotlib.figure.Figure at 0x7fcaf86d5dd0>"
      ]
     },
     "metadata": {},
     "output_type": "display_data"
    },
    {
     "name": "stdout",
     "output_type": "stream",
     "text": [
      "Training error: 16.0666898014\n",
      "Testing error: 117.196223122\n",
      "N° iterations: 7069\n",
      "Last beta: [ 34.73242323 -22.10504461  19.13642107 -17.57468323 -12.91483417\n",
      "  24.70000691  16.79789533 -12.87150976  -0.28195429  -9.29053417\n",
      "   4.82209831   7.73622924  21.85011054]\n",
      "##############################################################\n",
      "\n",
      "\n"
     ]
    },
    {
     "data": {
      "image/png": "[encoded data removed]",
      "text/plain": [
       "<matplotlib.figure.Figure at 0x7fcaf9085490>"
      ]
     },
     "metadata": {},
     "output_type": "display_data"
    }
   ],
   "source": [
    "solve_regression(gd_batch, 'linear', params=alphas2, data_func=rescale, show=[0,14])"
   ]
  },
  {
   "cell_type": "markdown",
   "metadata": {},
   "source": [
    "**Análisis :**\n",
    "+ Vestibulum venenatis nisl eu facilisis malesuada. Quisque non vulputate augue. Maecenas in commodo nibh, pharetra gravida tellus.\n",
    "+ Donec in diam elementum, condimentum ligula eu, suscipit quam. Donec fringilla bibendum nisi eu dapibus. \n",
    "+ Proin sit amet tristique metus. Curabitur elementum, diam condimentum varius fringilla, tellus ex vulputate ante, vel feugiat risus orci eget eros. Aenean eget feugiat leo, id vestibulum diam. Etiam tempor mi ac finibus blandit. In sed nisl quam. \n",
    "\n",
    "$$ \\beta^{p+1} = \\beta^{p} - H^{-1}\\nabla_{\\beta}f = \\beta^p - (X^T X)^{-1}(X^T(X \\beta^p - Y)) = (X^T X)^{-1} X^T Y$$"
   ]
  },
  {
   "cell_type": "markdown",
   "metadata": {},
   "source": [
    "### 2) Fusce volutpat tortor sit amet nisl aliquet"
   ]
  },
  {
   "cell_type": "markdown",
   "metadata": {},
   "source": [
    "Nunc lacinia id ante gravida scelerisque. Fusce dui ex, malesuada vel faucibus id, feugiat vitae libero. Nulla facilisi. Praesent condimentum feugiat bibendum. Pellentesque id leo malesuada, scelerisque lorem et, pretium tellus. Ut finibus nisl sit amet sapien lobortis, a varius tellus vehicula. Donec tincidunt sapien ligula, ut vestibulum orci tempus nec. Proin ac luctus leo. "
   ]
  },
  {
   "cell_type": "markdown",
   "metadata": {},
   "source": [
    "<img src='img01.jpg' style=\"width: 200px;\">"
   ]
  },
  {
   "cell_type": "markdown",
   "metadata": {},
   "source": [
    "### Parte 2: Lorem ipsum dolor sit amet"
   ]
  },
  {
   "cell_type": "markdown",
   "metadata": {},
   "source": [
    "### 1) Aliquam malesuada malesuada pharetra."
   ]
  },
  {
   "cell_type": "markdown",
   "metadata": {},
   "source": [
    "Nam dictum pellentesque venenatis. Etiam neque enim, faucibus non velit nec, sodales consequat mauris. Proin mollis placerat elementum. Duis condimentum risus sed diam imperdiet, eget viverra tellus pretium. \n",
    "\n",
    "+ Aliquam non enim porttitor, aliquam purus in, pulvinar augue. Nunc velit tortor, elementum sed risus in, posuere scelerisque mauris. Donec pharetra posuere tellus. Duis luctus hendrerit consectetur.\n",
    "+ Phasellus euismod ultrices libero, eu posuere libero sagittis ut. \n",
    "+ <font color='red'>Praesent eget scelerisque dui, sed efficitur justo. Maecenas eu sapien libero. Proin porttitor turpis maximus arcu viverra varius. Praesent id placerat ligula, sit amet pharetra metus. Fusce vel vehicula massa. </font>\n",
    "\n",
    "<img src='img02.jpg' style=\"width: 500px;\">"
   ]
  },
  {
   "cell_type": "markdown",
   "metadata": {},
   "source": [
    "### 2)  Suspendisse vehicula id nulla sit amet hendrerit."
   ]
  },
  {
   "cell_type": "markdown",
   "metadata": {},
   "source": [
    "Curabitur eget faucibus eros. Sed feugiat augue id ex condimentum, eu maximus orci venenatis. Suspendisse hendrerit, dolor et sodales pretium, elit massa accumsan sem, in vulputate nulla nisi at lorem. Nunc molestie, dui et tempus blandit, neque nulla facilisis libero."
   ]
  },
  {
   "cell_type": "code",
   "execution_count": null,
   "metadata": {
    "collapsed": true
   },
   "outputs": [],
   "source": [
    "%timeit gd_online(X, y, alpha, eps=1e-5, max_iter=100000)"
   ]
  },
  {
   "cell_type": "markdown",
   "metadata": {},
   "source": [
    "Etiam quam est, tempor quis accumsan sed, rhoncus pellentesque metus. Vestibulum massa lacus, varius et placerat a, tristique vitae augue. Pellentesque varius commodo maximus. Nam ut libero at quam vulputate cursus malesuada vitae risus. Phasellus aliquet libero justo, quis ultricies risus vestibulum eget."
   ]
  },
  {
   "cell_type": "code",
   "execution_count": null,
   "metadata": {
    "collapsed": true
   },
   "outputs": [],
   "source": [
    "%memit nr_linear(X, y, eps=1e-5, max_iter=100000)"
   ]
  },
  {
   "cell_type": "markdown",
   "metadata": {},
   "source": [
    "Mauris rutrum in turpis a cursus. Sed arcu justo, tristique nec diam at, pretium facilisis nisi. Maecenas a laoreet erat. Nunc porta convallis leo, ac convallis lectus suscipit a. Morbi fermentum ipsum ut turpis efficitur aliquet. Integer ullamcorper risus ipsum, ac laoreet nunc porttitor id. "
   ]
  },
  {
   "cell_type": "markdown",
   "metadata": {},
   "source": [
    "## Conclusiones"
   ]
  },
  {
   "cell_type": "markdown",
   "metadata": {},
   "source": [
    "+ Nullam tincidunt commodo arcu et consectetur. Duis iaculis, risus vel scelerisque interdum, ante nunc varius urna, nec accumsan ex purus vitae turpis. Etiam ut egestas ligula, id lacinia nunc. \n",
    "+ Praesent sodales ligula eu lorem placerat convallis. Maecenas elementum venenatis maximus. Class aptent taciti sociosqu ad litora torquent per conubia nostra, per inceptos himenaeos. Proin vitae finibus nulla, vel auctor orci. Ut et sodales lectus, nec sodales nunc. \n",
    "+ Quisque laoreet feugiat diam, a lacinia felis pharetra eu. Donec feugiat elit sapien, a cursus diam hendrerit in.\n",
    "+ Etiam porta ipsum a aliquet hendrerit. Pellentesque fringilla dolor pulvinar lorem ullamcorper, non vestibulum nulla volutpat. Sed ac diam fringilla tortor iaculis tincidunt. \n",
    "+ Integer sapien augue, accumsan nec sagittis at, sagittis quis quam. Maecenas consectetur metus non tellus laoreet, nec efficitur lacus venenatis. Nullam ac dolor quis orci pretium commodo. \n",
    "+ Maecenas eget ex in lectus tincidunt lobortis. Donec non gravida nisl. Fusce sagittis sagittis neque consectetur cursus. Duis commodo mauris ligula, eu aliquam purus porta quis. \n",
    "+ Suspendisse euismod mi lorem, in ultricies neque interdum sit amet. Vivamus ut ullamcorper tortor, vel faucibus risus. Curabitur malesuada lorem diam. Nam ornare nisi id sapien viverra, semper commodo dolor eleifend. "
   ]
  },
  {
   "cell_type": "markdown",
   "metadata": {},
   "source": [
    "## Anexos"
   ]
  },
  {
   "cell_type": "markdown",
   "metadata": {},
   "source": [
    "En la siguiente sección se encuentra todo el código necesario para reproducir cada uno de los resultados mostrados anteriormente. Para poder ejecutar el código en el informe, se debe en primer lugar ejecutar las celdas de código presentes en este anexo."
   ]
  },
  {
   "cell_type": "markdown",
   "metadata": {},
   "source": [
    "### Configuración del notebook"
   ]
  },
  {
   "cell_type": "code",
   "execution_count": 3,
   "metadata": {
    "collapsed": false
   },
   "outputs": [],
   "source": [
    "#notebook settings\n",
    "%matplotlib inline\n",
    "\n",
    "#import some useful libraries and utilities\n",
    "import numpy as np\n",
    "import matplotlib.pyplot as plt\n",
    "from sklearn.cross_validation import KFold\n",
    "from sklearn.cross_validation import KFold\n",
    "\n",
    "#setting some paths\n",
    "path1 = './cereales/'\n",
    "#data directory\n",
    "path2 = './credit/'"
   ]
  },
  {
   "cell_type": "markdown",
   "metadata": {},
   "source": [
    "### Métricas de error para regresión lineal"
   ]
  },
  {
   "cell_type": "code",
   "execution_count": 4,
   "metadata": {
    "collapsed": true
   },
   "outputs": [],
   "source": [
    "#overall cost function for linear regresion\n",
    "def J(X, y, beta):\n",
    "    f = np.dot(X,beta)\n",
    "    diff = f-y\n",
    "    return 0.5*np.dot(diff,diff)\n",
    "\n",
    "#mean squared error for linear regression \n",
    "def mse(X, y, beta):\n",
    "    M,_ = X.shape\n",
    "    f = np.dot(X,beta)\n",
    "    diff = f-y\n",
    "    return (1./(M-1))*np.dot(diff,diff)"
   ]
  },
  {
   "cell_type": "markdown",
   "metadata": {},
   "source": [
    "### Implementación de algoritmos de regresión lineal"
   ]
  },
  {
   "cell_type": "code",
   "execution_count": 5,
   "metadata": {
    "collapsed": true
   },
   "outputs": [],
   "source": [
    "#batch gradient descent for linear regression\n",
    "def gd_batch(X, y, alpha, eps=1e-5, max_iter=100000):\n",
    "    M,N = X.shape\n",
    "    #startin guess for beta\n",
    "    beta = np.zeros(N)\n",
    "    J1 = J(X,y,beta)\n",
    "    for i in xrange(max_iter):\n",
    "        J0 = J1\n",
    "        #funtion evaluation\n",
    "        f = np.dot(X,beta)\n",
    "        #gradient of J\n",
    "        dJ = np.dot(X.T,f-y)\n",
    "        #update beta\n",
    "        beta -= alpha*dJ             \n",
    "        J1 = J(X,y,beta)\n",
    "        #stopping criterion\n",
    "        if np.abs(J1-J0)/J0 < eps:   \n",
    "            break\n",
    "    return (beta,i+1)\n",
    "\n",
    "#online gradient descent for linear regression\n",
    "def gd_online(X, y, alpha, eps=1e-5, max_iter=100000):\n",
    "    M,N = X.shape\n",
    "    #starting guess for beta\n",
    "    beta = np.zeros(N)\n",
    "    J1 = J(X,y,beta)\n",
    "    for i in xrange(max_iter):\n",
    "        J0 = J1\n",
    "        #iterating through each sample \n",
    "        for m in xrange(M):\n",
    "            #update beta\n",
    "            beta -= alpha*(np.dot(X[m],beta)-y[m])*X[m]\n",
    "        J1 = J(X,y,beta)\n",
    "        #stopping criterion\n",
    "        if np.abs(J1-J0)/J0 < eps: break\n",
    "    return (beta,i+1)\n",
    "\n",
    "#Newton-Raphson method for linear regression\n",
    "def nr_linear(X, y, eps=1e-5, max_iter=100000):\n",
    "    M,N = X.shape\n",
    "    #starting guest for beta\n",
    "    beta = np.zeros(N)\n",
    "    J1 = J(X,y,beta)\n",
    "    #Hessian matrix must be computed just the first time\n",
    "    Hess = np.dot(X.T,X)\n",
    "    for i in xrange(max_iter):\n",
    "        J0 = J1\n",
    "        #funtion evaluation\n",
    "        f = np.dot(X,beta)\n",
    "        #gradient of J\n",
    "        dJ = np.dot(X.T,f-y)\n",
    "        #update beta\n",
    "        beta -= np.linalg.solve(Hess, dJ)\n",
    "        J1 = J(X,y,beta)\n",
    "        #stopping criterion\n",
    "        if np.abs(J1-J0)/J0 < eps: break\n",
    "    return (beta,i+1)"
   ]
  },
  {
   "cell_type": "markdown",
   "metadata": {},
   "source": [
    "**Comentarios de implementación:**\n",
    "* Para todos los algoritmos existen básicamente dos criterios de salida. El primero es\n",
    "    cuando el error relativo es menor a _eps_, vale decir, cuando la función de error esta\n",
    "    cambiando muy poco de iteración en iteración. El segundo es el número máximo de iteraciones, más\n",
    "    que nada para detener algoritmos que no pueden cumplir con el criterio del error (learning rates muy\n",
    "    altos por ejemplo).\n",
    "* La tolerancia ocupada por defecto (<i>eps</i>) es de 1e-5, en todos los algoritmos. No se ocupó una tolerancia más baja pues <i>gd_online</i> demora demasiado tiempo. Para tolerancias muy bajas excede el máximo de 100.000 itearciones.\n",
    "* Todos los _starting guest_ son el vector zeros. Esto para reproducir y comparar resultados\n",
    "    de manera adecuada.\n",
    "* En vez de invertir la matriz Hessiana en Newton-Raphson, se opta por resolver el sistema lineal\n",
    "    asociado, por razones de estabilidad numérica."
   ]
  },
  {
   "cell_type": "markdown",
   "metadata": {},
   "source": [
    "### Métricas de error para regresión logística"
   ]
  },
  {
   "cell_type": "code",
   "execution_count": 7,
   "metadata": {
    "collapsed": true
   },
   "outputs": [],
   "source": [
    "#log likelihood function for logistic regression\n",
    "\"\"\"\n",
    "Computing l this way, make it more stable numerically (no overflows in exp)\n",
    "\"\"\"\n",
    "def l(X, y, beta):\n",
    "    y1_mask = y.astype(bool)\n",
    "    y0_mask = np.logical_not(y1_mask)\n",
    "    f = sigmoid(np.dot(X,beta))\n",
    "    return (np.log(f[y1_mask])).sum() + (np.log(1-f[y0_mask])).sum()\n",
    "    \n",
    "\n",
    "#error rate for logistic regression\n",
    "def error_rate(X, y, beta):\n",
    "    #function evaluation and rounding to make predictions\n",
    "    h = np.round(sigmoid(np.dot(X,beta)))\n",
    "    h = h.astype(int)\n",
    "    y = y.astype(int)\n",
    "    m, = h.shape\n",
    "    #number of good predictions/number of predictions\n",
    "    return np.logical_xor(h,y).sum()/np.float(m)"
   ]
  },
  {
   "cell_type": "markdown",
   "metadata": {},
   "source": [
    "<b>Comentario de implementación :</b> la función de log-verosimilitud fue computada según:\n",
    "\n",
    "$$ l(\\beta) = \\sum_{m=1}^M y_m \\log(f_{\\beta}(x_m)) + (1-y_m)\\log(1-f_{\\beta}(x_m)) $$\n",
    "\n",
    "tomando en cuenta sólo el término multiplicado por 1 ($y_m$ ó $1-y_m$), por medio de máscaras booleanas. Se evita de este modo ciertos problemas númericos al evaluar $l(\\beta)$ cuando se esta cerca del óptimo. "
   ]
  },
  {
   "cell_type": "markdown",
   "metadata": {},
   "source": [
    "### Implementación de algoritmo de regresión logística"
   ]
  },
  {
   "cell_type": "code",
   "execution_count": 8,
   "metadata": {
    "collapsed": true
   },
   "outputs": [],
   "source": [
    "#sigmoid function\n",
    "def sigmoid(z):\n",
    "    return 1./(1.+np.exp(-z))\n",
    "\n",
    "#stochastic gradient ascent for logistic regression\n",
    "def gd_stochastic(X, y, alpha, eps=1e-3, max_iter=100000):\n",
    "    M,N = X.shape\n",
    "    #starting guess for beta\n",
    "    beta = np.zeros(N)\n",
    "    l1 = l(X, y, beta)+1.\n",
    "    for i in xrange(max_iter):\n",
    "        l0 = l1\n",
    "        #iterating throug each sample\n",
    "        for m in xrange(M):\n",
    "            #update beta\n",
    "            beta += alpha*(y[m]-sigmoid(np.dot(X[m],beta)))*X[m]\n",
    "        #see comments below\n",
    "        l1 = l(X,y,beta)+1.\n",
    "        #stopping criterion\n",
    "        if np.abs(l1-l0)/np.abs(l0) < eps: break\n",
    "    return (beta,i+1)\n",
    "\n",
    "#Newton-Raphson method for logistic regression\n",
    "def nr_logistic(X, y, eps=1e-3, max_iter=100000):\n",
    "    M,N = X.shape\n",
    "    beta = np.zeros(N)\n",
    "    l1 = l(X, y, beta)+1.\n",
    "    for i in xrange(max_iter):\n",
    "        l0 = l1\n",
    "        #function evaluation\n",
    "        f = sigmoid(np.dot(X,beta))\n",
    "        #W matrix with second derivatives on diag\n",
    "        W = np.diag(f*(1-f))\n",
    "        #Hessian matrix (must be done each iteration)\n",
    "        Hess = -1*np.dot(X.T, np.dot(W, X))\n",
    "        #gradient of l\n",
    "        Dl = np.dot(X.T, y-f)\n",
    "        #when it converges, Hess became singular\n",
    "        try:\n",
    "            beta -= np.linalg.solve(Hess, Dl)\n",
    "        except np.linalg.LinAlgError:\n",
    "            #another stopping criterion\n",
    "            break\n",
    "        l1 = l(X, y, beta)+1.\n",
    "        #stopping criterion\n",
    "        if np.abs(l1-l0)/np.abs(l0) < eps: break\n",
    "    return (beta,i+1)"
   ]
  },
  {
   "cell_type": "markdown",
   "metadata": {},
   "source": [
    "**Comentarios de implementación:**\n",
    "In dapibus dignissim urna. Nunc eu risus in mi rhoncus tincidunt. Suspendisse ut purus posuere, molestie felis a, iaculis lectus. Nulla feugiat dui mauris, eget luctus purus sagittis ut. Fusce pellentesque dui mauris. Mauris non ante in nibh pretium imperdiet. Nulla imperdiet congue nisi, non rhoncus magna. Maecenas non cursus metus. Quisque accumsan nisi et ex ultrices, vitae fermentum magna luctus. Morbi sed consequat turpis. \n"
   ]
  },
  {
   "cell_type": "markdown",
   "metadata": {},
   "source": [
    "### Funciones para manejo de la data"
   ]
  },
  {
   "cell_type": "code",
   "execution_count": 9,
   "metadata": {
    "collapsed": true
   },
   "outputs": [],
   "source": [
    "#Rescale features of M to [a,b] range\n",
    "def rescale(M, a=0., b=1.):\n",
    "    #max and min vectors\n",
    "    maxv = np.max(M, axis=0)\n",
    "    minv = np.min(M, axis=0)\n",
    "    return (b-a)*M/(maxv-minv) + (a*maxv-b*minv)/(maxv-minv)\n",
    "\n",
    "#Normalize features of M\n",
    "def normalize(M):\n",
    "    #mean and standard deviation vectors\n",
    "    meanv = np.mean(M, axis=0)\n",
    "    stdv = np.std(M, axis=0)\n",
    "    return (M-meanv)/stdv"
   ]
  },
  {
   "cell_type": "markdown",
   "metadata": {},
   "source": [
    "### Funciones para Cross-Validation"
   ]
  },
  {
   "cell_type": "code",
   "execution_count": 10,
   "metadata": {
    "collapsed": true
   },
   "outputs": [],
   "source": [
    "\"\"\" find the best learning parameter for algorithm, between \n",
    "parameters in params using 5-fold cross validation \"\"\"\n",
    "def cross_alpha(X, y, algorithm, error_func, params):\n",
    "    #creating kfold\n",
    "    m,n = X.shape\n",
    "    kf = KFold(m, n_folds=5)\n",
    "    cv_err = np.empty((5,5))\n",
    "    i = 0 #index of fold\n",
    "    \n",
    "    #iterate through folds\n",
    "    for tr_index,ts_index in kf:\n",
    "        j = 0 #index of parameter\n",
    "        X_tr, X_ts = X[tr_index], X[ts_index]\n",
    "        y_tr, y_ts = y[tr_index], y[ts_index]\n",
    "        #iterate through parameter to try\n",
    "        for param in params:\n",
    "            beta,_ = algorithm(X_tr, y_tr, alpha=param)\n",
    "            cv_err[i,j] = error_func(X_ts, y_ts, beta)\n",
    "            j += 1\n",
    "        i += 1\n",
    "        \n",
    "    #arrays with mean cv-error for each alpha\n",
    "    cv_mean = np.mean(cv_err, axis=0)\n",
    "    return params[np.argmin(cv_mean)], cv_err"
   ]
  },
  {
   "cell_type": "markdown",
   "metadata": {},
   "source": [
    "### Funciones complementarias (Helpers) para obtener resultados"
   ]
  },
  {
   "cell_type": "code",
   "execution_count": 11,
   "metadata": {
    "collapsed": true
   },
   "outputs": [],
   "source": [
    "\"\"\"\n",
    "Function to generate histogram of winners\n",
    "\"\"\"\n",
    "def make_hist(winners,params):\n",
    "    winners = np.array(winners)\n",
    "    freqs = np.zeros(5)\n",
    "    for i in xrange(5):\n",
    "        freqs[i] = np.sum(params[i]==winners)\n",
    "\n",
    "    labels = map(str,params)\n",
    "    pos = np.arange(len(labels))\n",
    "    width = 1.0\n",
    "    fig = plt.figure()\n",
    "    fig.set_figheight(5)\n",
    "    fig.set_figwidth(5)\n",
    "    ax = plt.axes()\n",
    "    ax.set_xticks(pos + (width / 2))\n",
    "    ax.set_xticklabels(labels)\n",
    "    plt.ylabel('Frequency')\n",
    "    plt.title('Histogram of winner parameters')\n",
    "    plt.bar(pos, freqs, width, color='0.5')\n",
    "    plt.show()\n",
    "\n",
    "\"\"\"\n",
    "Generate solutions for regression problems \n",
    "(linear and logistic)\n",
    "\"\"\"\n",
    "def solve_regression(algorithm, kind, params=None, data_func=None, show=None):\n",
    "    if params is not None:\n",
    "        winners = list()\n",
    "    \n",
    "    if kind=='linear':\n",
    "        path = path1+'cereales'\n",
    "        error_func = mse\n",
    "    elif kind=='logistic':\n",
    "        path = path2+'credit'\n",
    "        error_func = error_rate\n",
    "    else:\n",
    "        print \"Unknown kind!\"\n",
    "        return -1\n",
    "\n",
    "    for i in xrange(20):\n",
    "        #Loading dataset\n",
    "        tr_file = path+'-tr-{0}.npy'.format(i)\n",
    "        ts_file = path+'-ts-{0}.npy'.format(i)\n",
    "        tr_data = np.load(tr_file)\n",
    "        ts_data = np.load(ts_file)\n",
    "        \n",
    "        if data_func is not None:\n",
    "            X_tr = data_func(tr_data[:,:-1])\n",
    "        else: \n",
    "            X_tr = tr_data[:,:-1]\n",
    "        y_tr = np.ascontiguousarray(tr_data[:,-1])\n",
    "        #Adding column of 1's\n",
    "        m,n = X_tr.shape\n",
    "        X_tr = np.concatenate((np.ones((m,1)),X_tr),axis=1)\n",
    "\n",
    "        if data_func is not None:\n",
    "            X_ts = data_func(ts_data[:,:-1])\n",
    "        else: \n",
    "            X_ts = ts_data[:,:-1]\n",
    "        y_ts = np.ascontiguousarray(ts_data[:,-1])\n",
    "        #Adding column of 1's\n",
    "        m,n = X_ts.shape\n",
    "        X_ts = np.concatenate((np.ones((m,1)),X_ts),axis=1)\n",
    "\n",
    "        if params is not None:\n",
    "            alpha,cv_err = cross_alpha(X_tr, y_tr, algorithm, error_func, params)\n",
    "            winners.append(alpha)\n",
    "            beta,it = algorithm(X_tr, y_tr, alpha)\n",
    "        else:\n",
    "            beta,it = algorithm(X_tr, y_tr)\n",
    "        \n",
    "        if (show is not None) and (i not in show): continue\n",
    "        print \"##############################################################\"\n",
    "        print \"Dataset: {0}\".format(i)\n",
    "        if params is not None:\n",
    "            print 'Best alpha: {0}'.format(alpha)\n",
    "            fig = plt.figure()\n",
    "            fig.set_figheight(5)\n",
    "            fig.set_figwidth(10)\n",
    "            plt.xlabel('Parameters')\n",
    "            plt.ylabel('Cross-Validation Errors')\n",
    "            plt.boxplot(cv_err, showmeans=True, meanline=True)\n",
    "            plt.xticks([1, 2, 3, 4, 5], map(str,params))\n",
    "            plt.show()\n",
    "        print 'Training error: {0}'.format(error_func(X_tr,y_tr,beta))\n",
    "        print 'Testing error: {0}'.format(error_func(X_ts,y_ts,beta))\n",
    "        print 'N° iterations: {0}'.format(it)\n",
    "        print 'Last beta: {0}'.format(beta)\n",
    "        print \"##############################################################\"\n",
    "        print '\\n'\n",
    "    \n",
    "    if params is not None:\n",
    "        make_hist(winners,params)"
   ]
  }
 ],
 "metadata": {
  "kernelspec": {
   "display_name": "Python 2",
   "language": "python",
   "name": "python2"
  },
  "language_info": {
   "codemirror_mode": {
    "name": "ipython",
    "version": 2
   },
   "file_extension": ".py",
   "mimetype": "text/x-python",
   "name": "python",
   "nbconvert_exporter": "python",
   "pygments_lexer": "ipython2",
   "version": "2.7.11"
  }
 },
 "nbformat": 4,
 "nbformat_minor": 0
}
