{
 "cells": [
  {
   "cell_type": "markdown",
   "metadata": {},
   "source": [
    "### Módulos y funciones necesarias"
   ]
  },
  {
   "cell_type": "code",
   "execution_count": 1,
   "metadata": {
    "collapsed": false
   },
   "outputs": [],
   "source": [
    "import numpy as np\n",
    "from scipy import integrate\n",
    "from matplotlib import pyplot as plt\n",
    "from mpl_toolkits.mplot3d import Axes3D\n",
    "from matplotlib.colors import cnames\n",
    "from matplotlib import animation"
   ]
  },
  {
   "cell_type": "markdown",
   "metadata": {},
   "source": [
    "### Funciones a Implementar"
   ]
  },
  {
   "cell_type": "code",
   "execution_count": 2,
   "metadata": {
    "collapsed": true
   },
   "outputs": [],
   "source": [
    "def euler_int(func, y0, t, h):\n",
    "    sol = np.zeros((len(t), len(y0)))\n",
    "    sol[0,:] = y0\n",
    "    for i in xrange(1,len(t)):\n",
    "        sol[i,:] = sol[i-1,:] + h*func(sol[i-1,:], t[i])\n",
    "    return sol\n",
    "\n",
    "def mp_int(func, y0, t, h):\n",
    "    pass\n",
    "\n",
    "def RK4_int(func, y0, t, h):\n",
    "    pass"
   ]
  },
  {
   "cell_type": "code",
   "execution_count": 3,
   "metadata": {
    "collapsed": true
   },
   "outputs": [],
   "source": [
    "def parallel_euler_int(func, y0, t, h):\n",
    "    pass\n",
    "\n",
    "def parallel_mp_int(func, y0, t, h):\n",
    "    pass\n",
    "\n",
    "def parallel_RK4_int(func, y0, t, h):\n",
    "    pass"
   ]
  },
  {
   "cell_type": "markdown",
   "metadata": {},
   "source": [
    "### Función para visualizar resultados"
   ]
  },
  {
   "cell_type": "code",
   "execution_count": 4,
   "metadata": {
    "collapsed": true
   },
   "outputs": [],
   "source": [
    "\"\"\"\n",
    "-> x_t\n",
    "   arreglo con las posiciones (x,y,z) de las trayectorias. Este puede ser\n",
    "   de dos dimensiones (len(t), 3) para una sola trayectoria, o puede ser \n",
    "   de tres dimensiones (len(t), 3, N_trajectories) para mas de una trayectoria\n",
    "-> N_trajectories\n",
    "   numero de trayectorias a visualizar\n",
    "-> xlim,ylim,zlim\n",
    "   limites en los ejes x,y,z de la animacion\n",
    "-> rotate\n",
    "   rotar mientras anima para mejores perspectivas\n",
    "\"\"\"\n",
    "def animate_lorenz(x_t, N_trajectories, xlim=(-20,70), ylim=(-35,35), zlim=(-35,35), rotate=False):\n",
    "    #setting it to correct format\n",
    "    if x_t.ndim==2:\n",
    "        x_t = np.array([x_t])\n",
    "    elif x_t.ndim==3: \n",
    "        x_t = np.rot90(x_t).T\n",
    "    else:\n",
    "        return -1\n",
    "    #setting the number of frames\n",
    "    frames = max(x_t.shape)\n",
    "    frames /= 2\n",
    "    #set up figure & 3D axis for animation\n",
    "    fig = plt.figure()\n",
    "    ax = fig.add_axes([0, 0, 1, 1], projection='3d')\n",
    "    #ax.axis('off')\n",
    "\n",
    "    #choose a different color for each trajectory\n",
    "    colors = plt.cm.jet(np.linspace(0, 1, N_trajectories))\n",
    "\n",
    "    #set up lines and points\n",
    "    lines = sum([ax.plot([], [], [], '-', c=c)\n",
    "                 for c in colors], [])\n",
    "    pts = sum([ax.plot([], [], [], 'o', c=c)\n",
    "               for c in colors], [])\n",
    "\n",
    "    #prepare the axes limits\n",
    "    ax.set_xlim(xlim)\n",
    "    ax.set_ylim(ylim)\n",
    "    ax.set_zlim(zlim)\n",
    "\n",
    "    #set point-of-view: specified by (altitude degrees, azimuth degrees)\n",
    "    ax.view_init(30, 0)\n",
    "\n",
    "    #initialization function: plot the background of each frame\n",
    "    def init():\n",
    "        for line, pt in zip(lines, pts):\n",
    "            line.set_data([], [])\n",
    "            line.set_3d_properties([])\n",
    "\n",
    "            pt.set_data([], [])\n",
    "            pt.set_3d_properties([])\n",
    "        return lines + pts\n",
    "\n",
    "    #animation function.  This will be called sequentially with the frame number\n",
    "    def animate(i):\n",
    "        # we'll step two time-steps per frame.  This leads to nice results.\n",
    "        i = (2 * i) % x_t.shape[1]\n",
    "\n",
    "        for line, pt, xi in zip(lines, pts, x_t):\n",
    "            x, y, z = xi[:i].T\n",
    "            line.set_data(x, y)\n",
    "            line.set_3d_properties(z)\n",
    "\n",
    "            pt.set_data(x[-1:], y[-1:])\n",
    "            pt.set_3d_properties(z[-1:])\n",
    "\n",
    "        if rotate: ax.view_init(30, 0.3 * i)\n",
    "        fig.canvas.draw()\n",
    "        return lines + pts\n",
    "\n",
    "    #instantiate the animator.\n",
    "    anim = animation.FuncAnimation(fig, animate, init_func=init,\n",
    "                                   frames=frames, interval=30, blit=False, repeat=False)\n",
    "    #show it\n",
    "    ax.set_title('Lorenz Simulation')\n",
    "    ax.set_xlabel('x(t)')\n",
    "    ax.set_ylabel('y(t)')\n",
    "    ax.set_zlabel('z(t)')\n",
    "    plt.show()"
   ]
  },
  {
   "cell_type": "code",
   "execution_count": 6,
   "metadata": {
    "collapsed": false,
    "scrolled": false
   },
   "outputs": [],
   "source": [
    "sigma = 10.\n",
    "rho = 28.\n",
    "beta = 8./3\n",
    "\n",
    "def f(v,t):\n",
    "    der = np.ones(3)\n",
    "    der[0] = sigma*(v[1] - v[0])\n",
    "    der[1] = v[0]*(rho - v[2]) - v[1]\n",
    "    der[2] = v[0]*v[1] - beta*v[2]\n",
    "    return der\n",
    "\n",
    "y0 = np.array([0,0,0])\n",
    "t = np.linspace(0,100,100+1)\n",
    "h = 0.2\n",
    "\n",
    "sol = euler_int(f,y0,t,h)\n",
    "\n",
    "animate_lorenz(sol,1)"
   ]
  },
  {
   "cell_type": "code",
   "execution_count": null,
   "metadata": {
    "collapsed": true
   },
   "outputs": [],
   "source": []
  },
  {
   "cell_type": "code",
   "execution_count": null,
   "metadata": {
    "collapsed": true
   },
   "outputs": [],
   "source": []
  }
 ],
 "metadata": {
  "kernelspec": {
   "display_name": "Python 2",
   "language": "python",
   "name": "python2"
  },
  "language_info": {
   "codemirror_mode": {
    "name": "ipython",
    "version": 2
   },
   "file_extension": ".py",
   "mimetype": "text/x-python",
   "name": "python",
   "nbconvert_exporter": "python",
   "pygments_lexer": "ipython2",
   "version": "2.7.11"
  }
 },
 "nbformat": 4,
 "nbformat_minor": 0
}
