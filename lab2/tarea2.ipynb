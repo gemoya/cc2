{
 "cells": [
  {
   "cell_type": "markdown",
   "metadata": {
    "collapsed": true
   },
   "source": [
    "# Laboratorio N°2 - Computación Científica II - ILI286\n",
    "\n",
    "\n",
    "**Autores**:\n",
    "+ Ariel Sanhueza Román - asanhuez@alumnos.inf.utfsm.cl - 201173005-4 \n",
    "+ Gonzalo Moya Rodríguez - gemoya@alumnos.inf.utfsm.cl - 201173016-k"
   ]
  },
  {
   "cell_type": "markdown",
   "metadata": {},
   "source": [
    "# Introducción"
   ]
  },
  {
   "cell_type": "markdown",
   "metadata": {},
   "source": [
    "# Previo\n",
    "Primero, importaremos las bibliotecas previas:"
   ]
  },
  {
   "cell_type": "code",
   "execution_count": 166,
   "metadata": {
    "collapsed": false
   },
   "outputs": [],
   "source": [
    "import numpy as np\n",
    "from scipy import linalg\n",
    "%matplotlib inline\n",
    "from matplotlib import pyplot as plt\n",
    "from mpl_toolkits.mplot3d import Axes3D\n",
    "from numpy.linalg import norm, solve\n",
    "#%load_ext memory_profiler\n",
    "from scipy.special import gamma\n",
    "from sympy import *\n",
    "import time\n",
    "#from sympy.mpmath import diff"
   ]
  },
  {
   "cell_type": "markdown",
   "metadata": {},
   "source": [
    "# Desarrollo\n",
    "\n",
    "## Integración impropia\n",
    "\n",
    "### Pregunta 1\n",
    "Primero, separaremos la integral en dos partes:\n",
    "\\begin{align*}\n",
    "    \\int_{-\\infty}^x \\frac{1}{\\sqrt{2\\pi}} e^{\\frac{-t^2}{2}}dt \n",
    "    &= \\int_{-\\infty}^0 \\frac{1}{\\sqrt{2\\pi}} e^{\\frac{-t^2}{2}}dt + \\int_{0}^x \\frac{1}{\\sqrt{2\\pi}} e^{\\frac{-t^2}{2}}dt\n",
    "\\end{align*}\n",
    "\n",
    "La segunda integral no genera problemas de indefinición. Para la primera, por temas de orden, realizaremos dos cambios de variables. Sea $u = \\frac{1}{t+1} \\rightarrow dt = \\frac{-1}{u^2}du$, entonces tenemos:\n",
    "\\begin{align*}\n",
    "    \\int_{-\\infty}^0 \\frac{1}{\\sqrt{2\\pi}} e^{\\frac{-t^2}{2}}dt &= \\int_0^1 \\frac{-1}{\\sqrt{2\\pi}} e^{\\frac{-(1-u)^2}{2u^2}}\\frac{1}{u^2}du\n",
    "\\end{align*}\n",
    "\n",
    "Ahora, para dejar el intervalo en $[a,b]$, realizaremos el cambio $w = a + (b-a)u \\rightarrow dw = (b-a)du$, quedando finalmente:\n",
    "\n",
    "\\begin{align*}\n",
    "    \\int_0^1 \\frac{-1}{\\sqrt{2\\pi}} e^{\\frac{-(1-u)^2}{2u^2}}\\frac{1}{u^2}du &= \\int_a^b \\frac{1}{\\sqrt{2\\pi}} e^{\\frac{-(b-w)^2}{2(w-a)^2}} \\frac{(b-a)}{(w-a)^2} dw\n",
    "\\end{align*}\n",
    "\n",
    "Ahora, la segunda integral no tiene problemas de indefinición, pero sí problemas numéricos de aproximación y error, por lo que se le aplicará también el primer cambio para resolverlos. Así, finalmente queda:\n",
    "\n",
    "\\begin{align*}\n",
    "    \\int_{-\\infty}^x \\frac{1}{\\sqrt{2\\pi}} e^{\\frac{-t^2}{2}}dt \n",
    "    &= \\int_a^b \\frac{1}{\\sqrt{2\\pi}} e^{\\frac{-(b-w)^2}{2(w-a)^2}} \\frac{(b-a)}{(w-a)^2} dw + \\int_{1}^{\\frac{1}{x+1}} \\frac{-1}{\\sqrt{2\\pi}} e^{-\\frac{(1-u)^2}{2u^2}} \\frac{1}{u^2}dt\n",
    "\\end{align*}"
   ]
  },
  {
   "cell_type": "markdown",
   "metadata": {},
   "source": [
    "### Pregunta 2\n",
    "\n",
    "Para la implementación, utilizaremos los algoritmos implementados en clases.\n"
   ]
  },
  {
   "cell_type": "code",
   "execution_count": 40,
   "metadata": {
    "collapsed": true
   },
   "outputs": [],
   "source": [
    "def midpoint(myfun, N, a, b):\n",
    "    f = np.vectorize(myfun) # So we can apply it to arrays without trouble\n",
    "    x = np.linspace(a, b, N+1) # We want N bins, so N+1 points  \n",
    "    dx = x[1]-x[0]\n",
    "    midpoints = x[:-1] + .5*dx\n",
    "    midpoint_values = f(midpoints)\n",
    "    int_val = sum(midpoint_values*dx)\n",
    "    return int_val"
   ]
  },
  {
   "cell_type": "markdown",
   "metadata": {},
   "source": [
    "Para \"midpoint rule\" tenemos que el costo computacional, en función de $N$, es de $O(N)$ (evaluación en $N+1$ puntos)."
   ]
  },
  {
   "cell_type": "code",
   "execution_count": 75,
   "metadata": {
    "collapsed": true
   },
   "outputs": [],
   "source": [
    "def trapezoid(myfun, N, a, b):\n",
    "    f = np.vectorize(myfun) # So we can apply it to arrays without trouble\n",
    "    x = np.linspace(a, b, N+1) # We want N bins, so N+1 points  \n",
    "    h = x[1]-x[0]\n",
    "    xmiddle = x[1:-1]\n",
    "    int_val = 0.5*h*sum(f(x[0])+2*f(xmiddle)+f(x[-1]))\n",
    "    return int_val"
   ]
  },
  {
   "cell_type": "markdown",
   "metadata": {},
   "source": [
    "Para \"trapezoid rule\", la complejidad es $O(N)$, pues también se ejecutan $N+1$ evaluaciones."
   ]
  },
  {
   "cell_type": "code",
   "execution_count": 76,
   "metadata": {
    "collapsed": true
   },
   "outputs": [],
   "source": [
    "def simpsons(myfun, N, a, b):\n",
    "    f = np.vectorize(myfun) # So we can apply it to arrays without trouble\n",
    "    x = np.linspace(a, b, N+1) # We want N bins, so N+1 points\n",
    "    if N%2==1:\n",
    "        print(\"Simpsons rule only applicable to even number of segments\")\n",
    "        return\n",
    "    dx = x[1]-x[0]\n",
    "    xleft   = x[:-2:2]\n",
    "    xmiddle = x[1::2]\n",
    "    xright  = x[2::2]\n",
    "    int_val = sum((f(xleft)+4*f(xmiddle)+f(xright))*dx/3)\n",
    "    return int_val"
   ]
  },
  {
   "cell_type": "markdown",
   "metadata": {},
   "source": [
    "Para \"Simpsons rule\", también se tiene $O(N)$, pues se evalúan $N-1$ puntos (entre los extremos)."
   ]
  },
  {
   "cell_type": "code",
   "execution_count": 77,
   "metadata": {
    "collapsed": true
   },
   "outputs": [],
   "source": [
    "def gaussianquad(myfun, N, a, b):\n",
    "    f = np.vectorize(myfun) # So we can apply it to arrays without trouble\n",
    "    x, w = gaussian_nodes_and_weights(N, a, b)\n",
    "    int_val = sum( w * f(x) )\n",
    "    return int_val\n",
    "\n",
    "def gaussian_nodes_and_weights(N, a, b):\n",
    "    if N==1: return np.array([1]), np.array([2])\n",
    "    beta = .5 / np.sqrt(1.-(2.*np.arange(1.,N))**(-2))\n",
    "    T = np.diag(beta,1) + np.diag(beta,-1)\n",
    "    D, V = np.linalg.eigh(T)\n",
    "    x = D\n",
    "    x = .5 * ( (b-a)*x + b + a) # Rescaling\n",
    "    w = 2*V[0,:]**2\n",
    "    w = .5*(b-a)*w\n",
    "    return x, w"
   ]
  },
  {
   "cell_type": "markdown",
   "metadata": {
    "collapsed": true
   },
   "source": [
    "Para \"Gaussian Quadrature\", tenemos La evaluación de los $N$ puntos, pero tenemos también que encontrar los $x_i$ (que en el algoritmo usado, representan los valores propios de $T$) que es de complejidad $O(m^3)$ con $m$ tamaño de la matriz cuadrada, entonces la complejidad es $O(N + m^3) = O(m^3) = O(N^3)$."
   ]
  },
  {
   "cell_type": "markdown",
   "metadata": {},
   "source": [
    "### Pregunta 3\n",
    "Primero, definimos nuestra función y parámetros. Es importante mencionar que, dado que $\\frac{1}{\\sqrt{2\\pi}}$ es constante y aparece en todos los cálculos, se sacó de la integral para ahorrar cómputos. También es importante destacar que:\n",
    "* $f_1$ es la expresión con cambio de variables.\n",
    "* $f_2$ es la expresión que va desde 0 a $x$."
   ]
  },
  {
   "cell_type": "code",
   "execution_count": 180,
   "metadata": {
    "collapsed": false
   },
   "outputs": [],
   "source": [
    "# Intervalos\n",
    "a = 0.\n",
    "b = 1.\n",
    "\n",
    "# Función y constantes\n",
    "cons = 1./np.sqrt(2.*np.pi)\n",
    "f1 = lambda w: np.exp(-0.5*((b-w)/(w-a))**2) * (b-a)/(w-a)**2\n",
    "f2 = lambda t: np.exp(-0.5*t**2)\n",
    "f3 = lambda u: -np.exp(-0.5*((1-u)/u)**2)/u**2\n",
    "repeat = 100\n",
    "\n",
    "# Puntos\n",
    "points = np.logspace(0,49)\n",
    "\n",
    "def get_data(f1, points, f2 = None, method = 'mp', type = ''):\n",
    "    data = []\n",
    "    if method == 'mp':\n",
    "        func = midpoint\n",
    "    elif method == 'trap':\n",
    "        func = trapezoid\n",
    "    elif method == 'simp':\n",
    "        func = simpsons\n",
    "    else:\n",
    "        func = gaussianquad\n",
    "    \n",
    "    if type == '':\n",
    "        for i in range(len(points)):\n",
    "            data.append(cons*func(f1,N,a,b) + cons*func(f2,N,1,1/(points[i]+1)))\n",
    "    else:\n",
    "        for i in range(len(points)):\n",
    "            T = 0\n",
    "            for j in range(repeat):\n",
    "                start = time.time()\n",
    "                cons*func(f1,N,a,b) + cons*func(f2,N,1,1/(points[i]+1))\n",
    "                end = time.time()\n",
    "                T += (end-start)*1000\n",
    "            data.append(T/repeat)\n",
    "    return data"
   ]
  },
  {
   "cell_type": "markdown",
   "metadata": {
    "collapsed": true
   },
   "source": [
    "Debido al cambio usado, el método de Simpsons y del Trapezoide no funcionan debido a que la transformación se indefine en el parámetro $a$ y estos dos métodos evalúan las funciones en sus extremos por lo que mostraremos los gráficos asociados a los métodos que sí funcionan.\n",
    "\n",
    "Primero, los gráficos asociados al cálculo de la integral para distintos N"
   ]
  },
  {
   "cell_type": "code",
   "execution_count": 161,
   "metadata": {
    "collapsed": false
   },
   "outputs": [
    {
     "data": {
      "image/png": "[encoded data removed]",
      "text/plain": [
       "<matplotlib.figure.Figure at 0x109ed6f90>"
      ]
     },
     "metadata": {},
     "output_type": "display_data"
    },
    {
     "data": {
      "image/png": "[encoded data removed]",
      "text/plain": [
       "<matplotlib.figure.Figure at 0x109f6e210>"
      ]
     },
     "metadata": {},
     "output_type": "display_data"
    }
   ],
   "source": [
    "# Midpoint rule\n",
    "N = 2\n",
    "plt.loglog(points, get_data(f1, points, f3, 'mp'), 'or')\n",
    "plt.xlabel(\"x\")\n",
    "plt.ylabel(\"valor integral\")\n",
    "plt.title(\"Midpoint rule. N = 2\")\n",
    "plt.ylim([0.5, 1.5])\n",
    "plt.show()\n",
    "\n",
    "# trapezoid: Error\n",
    "\n",
    "# Simpsons: Error\n",
    "\n",
    "# Gaussian Quadrature\n",
    "plt.loglog(points, get_data(f1, points, f3, ''), 'or')\n",
    "plt.xlabel(\"x\")\n",
    "plt.ylabel(\"valor integral\")\n",
    "plt.title(\"Gaussian Quadrature. N = 2\")\n",
    "plt.ylim([0.5, 1.5])\n",
    "plt.show()"
   ]
  },
  {
   "cell_type": "code",
   "execution_count": 164,
   "metadata": {
    "collapsed": false,
    "scrolled": false
   },
   "outputs": [
    {
     "data": {
      "image/png": "[encoded data removed]",
      "text/plain": [
       "<matplotlib.figure.Figure at 0x109bccd10>"
      ]
     },
     "metadata": {},
     "output_type": "display_data"
    },
    {
     "data": {
      "image/png": "[encoded data removed]",
      "text/plain": [
       "<matplotlib.figure.Figure at 0x1092524d0>"
      ]
     },
     "metadata": {},
     "output_type": "display_data"
    }
   ],
   "source": [
    "# Midpoint rule\n",
    "N = 10\n",
    "plt.loglog(points, get_data(f1, points, f3, 'mp'), 'or')\n",
    "plt.xlabel(\"x\")\n",
    "plt.ylabel(\"valor integral\")\n",
    "plt.title(\"Midpoint rule. N = 10\")\n",
    "plt.ylim([0.5, 1.5])\n",
    "plt.show()\n",
    "\n",
    "# trapezoid: Error\n",
    "\n",
    "# Simpsons: Error\n",
    "\n",
    "# Gaussian Quadrature\n",
    "plt.loglog(points, get_data(f1, points, f3, ''), 'or')\n",
    "plt.xlabel(\"x\")\n",
    "plt.ylabel(\"valor integral\")\n",
    "plt.title(\"Gaussian Quadrature. N = 10\")\n",
    "plt.ylim([0.5, 1.5])\n",
    "plt.show()"
   ]
  },
  {
   "cell_type": "code",
   "execution_count": 165,
   "metadata": {
    "collapsed": false
   },
   "outputs": [
    {
     "data": {
      "image/png": "[encoded data removed]",
      "text/plain": [
       "<matplotlib.figure.Figure at 0x109649cd0>"
      ]
     },
     "metadata": {},
     "output_type": "display_data"
    },
    {
     "data": {
      "image/png": "[encoded data removed]",
      "text/plain": [
       "<matplotlib.figure.Figure at 0x109f890d0>"
      ]
     },
     "metadata": {},
     "output_type": "display_data"
    }
   ],
   "source": [
    "# Midpoint rule\n",
    "N = 100\n",
    "plt.loglog(points, get_data(f1, points, f3, 'mp'), 'or')\n",
    "plt.xlabel(\"x\")\n",
    "plt.ylabel(\"valor integral\")\n",
    "plt.title(\"Midpoint rule. N = 100\")\n",
    "plt.ylim([0.5, 1.5])\n",
    "plt.show()\n",
    "\n",
    "# trapezoid: Error\n",
    "\n",
    "# Simpsons: Error\n",
    "\n",
    "# Gaussian Quadrature\n",
    "plt.loglog(points, get_data(f1, points, f3, ''), 'or')\n",
    "plt.xlabel(\"x\")\n",
    "plt.ylabel(\"valor integral\")\n",
    "plt.title(\"Gaussian Quadrature. N = 100\")\n",
    "plt.ylim([0.5, 1.5])\n",
    "plt.show()"
   ]
  },
  {
   "cell_type": "markdown",
   "metadata": {},
   "source": [
    "Ahora, los gráficos de los tiempos de cómputo:"
   ]
  },
  {
   "cell_type": "code",
   "execution_count": 181,
   "metadata": {
    "collapsed": false
   },
   "outputs": [
    {
     "data": {
      "image/png": "[encoded data removed]",
      "text/plain": [
       "<matplotlib.figure.Figure at 0x109cd10d0>"
      ]
     },
     "metadata": {},
     "output_type": "display_data"
    },
    {
     "data": {
      "image/png": "[encoded data removed]",
      "text/plain": [
       "<matplotlib.figure.Figure at 0x109508850>"
      ]
     },
     "metadata": {},
     "output_type": "display_data"
    }
   ],
   "source": [
    "# Midpoint rule\n",
    "N = 2\n",
    "plt.loglog(points, get_data(f1, points, f3, 'mp', 't'), 'or')\n",
    "plt.xlabel(\"x\")\n",
    "plt.ylabel(\"[ms]\")\n",
    "plt.title(\"Midpoint rule. N = 2\")\n",
    "plt.show()\n",
    "\n",
    "# trapezoid: Error\n",
    "\n",
    "# Simpsons: Error\n",
    "\n",
    "# Gaussian Quadrature\n",
    "plt.loglog(points, get_data(f1, points, f3, '', 't'), 'or')\n",
    "\n",
    "plt.xlabel(\"x\")\n",
    "plt.ylabel(\"[ms]\")\n",
    "plt.title(\"Gaussian Quadrature. N = 2\")\n",
    "plt.show()"
   ]
  },
  {
   "cell_type": "code",
   "execution_count": 182,
   "metadata": {
    "collapsed": false
   },
   "outputs": [
    {
     "data": {
      "image/png": "[encoded data removed]",
      "text/plain": [
       "<matplotlib.figure.Figure at 0x109743ad0>"
      ]
     },
     "metadata": {},
     "output_type": "display_data"
    },
    {
     "data": {
      "image/png": "[encoded data removed]",
      "text/plain": [
       "<matplotlib.figure.Figure at 0x108367f90>"
      ]
     },
     "metadata": {},
     "output_type": "display_data"
    }
   ],
   "source": [
    "# Midpoint rule\n",
    "N = 10\n",
    "plt.loglog(points, get_data(f1, points, f3, 'mp', 't'), 'or')\n",
    "plt.xlabel(\"x\")\n",
    "plt.ylabel(\"[ms]\")\n",
    "plt.title(\"Midpoint rule. N = 10\")\n",
    "plt.show()\n",
    "\n",
    "# trapezoid: Error\n",
    "\n",
    "# Simpsons: Error\n",
    "\n",
    "# Gaussian Quadrature\n",
    "plt.loglog(points, get_data(f1, points, f3, '', 't'), 'or')\n",
    "\n",
    "plt.xlabel(\"x\")\n",
    "plt.ylabel(\"[ms]\")\n",
    "plt.title(\"Gaussian Quadrature. N = 10\")\n",
    "plt.show()"
   ]
  },
  {
   "cell_type": "code",
   "execution_count": 184,
   "metadata": {
    "collapsed": false
   },
   "outputs": [
    {
     "data": {
      "image/png": "[encoded data removed]",
      "text/plain": [
       "<matplotlib.figure.Figure at 0x109ab6d90>"
      ]
     },
     "metadata": {},
     "output_type": "display_data"
    },
    {
     "data": {
      "image/png": "[encoded data removed]",
      "text/plain": [
       "<matplotlib.figure.Figure at 0x109232e10>"
      ]
     },
     "metadata": {},
     "output_type": "display_data"
    }
   ],
   "source": [
    "# Midpoint rule\n",
    "N = 100\n",
    "plt.loglog(points, get_data(f1, points, f3, 'mp', 't'), 'or')\n",
    "plt.xlabel(\"x\")\n",
    "plt.ylabel(\"[ms]\")\n",
    "plt.title(\"Midpoint rule. N = 100\")\n",
    "plt.show()\n",
    "\n",
    "# trapezoid: Error\n",
    "\n",
    "# Simpsons: Error\n",
    "\n",
    "# Gaussian Quadrature\n",
    "plt.loglog(points, get_data(f1, points, f3, '', 't'), 'or')\n",
    "\n",
    "plt.xlabel(\"x\")\n",
    "plt.ylabel(\"[ms]\")\n",
    "plt.title(\"Gaussian Quadrature. N = 100\")\n",
    "plt.show()"
   ]
  },
  {
   "cell_type": "markdown",
   "metadata": {},
   "source": [
    "### Pregunta 4\n",
    "Para $x = 0$ no ocurre nada, pues el cero no indetermna la función (se podría aplicar sin cambio de variables). Esto se ve en el siguiente cálculo."
   ]
  },
  {
   "cell_type": "code",
   "execution_count": 187,
   "metadata": {
    "collapsed": false
   },
   "outputs": [
    {
     "name": "stdout",
     "output_type": "stream",
     "text": [
      "El resultado es:  0.500000033245\n",
      "Valor de la primera integral:  0.500000033245\n",
      "Valor de la segunda integral:  0.0\n"
     ]
    }
   ],
   "source": [
    "# Definimos x = 0, N = 1000 y calculamos la suma de las integrales (la segunda integral quedaría en 0, pues va de 0 a 0)\n",
    "x = 0\n",
    "N = 1000\n",
    "\n",
    "int1 = cons*midpoint(f1,N,a,b)\n",
    "int2 = cons*midpoint(f2,N,1,1/(x+1))\n",
    "print \"El resultado es: \", int1 + int2\n",
    "print \"Valor de la primera integral: \", int1\n",
    "print \"Valor de la segunda integral: \", int2"
   ]
  },
  {
   "cell_type": "markdown",
   "metadata": {},
   "source": [
    "## The Caputo's Fractional Derivative\n",
    "\n",
    "### Pregunta 1\n",
    "\n",
    "Se realiza un cambio de variable considerando una recta que pasa por los puntos $(a,-1)$ y $(t,1)$, es decir, sea la ecuación de la recta la siguiente:\n",
    "\\begin{align*}\n",
    "\\frac{y-y_1}{\\tau-\\tau_1} = \\frac{y_2-y_1}{\\tau_2 - \\tau_1}\n",
    "\\end{align*}\n",
    "Haciendo los reemplazos correspondientes:\n",
    "\\begin{align*}\n",
    "\\frac{y+1}{\\tau-a} = \\frac{2}{t - a}\n",
    "\\end{align*}\n",
    "\n",
    "\\begin{align*}\n",
    "(y+1)(t-a) = 2(\\tau - a)\n",
    "\\end{align*}\n",
    "\n",
    "\\begin{align*}\n",
    "\\tau = \\frac{(y+1)(t-a)}{2} + a \n",
    "\\end{align*}\n",
    "Luego el diferencial de $\\tau$, $d\\tau$ es:\n",
    "\\begin{align*}\n",
    "d\\tau = \\frac{(t-a)}{2}dy\n",
    "\\end{align*}\n",
    "\n",
    "Finalmente la integral queda como\n",
    "\\begin{align*}\n",
    "\\frac{1}{\\Gamma{(1-\\alpha})}\\frac{(t-a)}{2}\\int_{-1}^1 \\frac{f'(\\frac{(y+1)(t-a)}{2} + a )}{(t - \\frac{(y+1)(t-a)}{2} -a)^{\\alpha}}dy\n",
    "\\end{align*}\n",
    "\n",
    "Pero operando sobre el denominador del argumento de la  integral se puede dejar como\n",
    "\\begin{align*}\n",
    "\\frac{1}{\\Gamma{(1-\\alpha})}{(\\frac{(t-a)}{2})}^{1-\\alpha}\\int_{-1}^1 \\frac{f'(\\frac{(y+1)(t-a)}{2} + a )}{(1-y)^{\\alpha}}dy\n",
    "\\end{align*}"
   ]
  },
  {
   "cell_type": "code",
   "execution_count": 12,
   "metadata": {
    "collapsed": false
   },
   "outputs": [
    {
     "data": {
      "image/png": "[encoded data removed]",
      "text/latex": [
       "$$\\frac{1484.13159102577 e^{5.0 x}}{\\left(- x + 1\\right)^{0.5}}$$"
      ],
      "text/plain": [
       "                         -0.5  5.0⋅x\n",
       "1484.13159102577⋅(-x + 1)    ⋅ℯ     "
      ]
     },
     "execution_count": 12,
     "metadata": {},
     "output_type": "execute_result"
    }
   ],
   "source": [
    "def diff_alpha(f,t,alpha,a=0):\n",
    "    x=Symbol('x')\n",
    "    k=Symbol('k')\n",
    "    \n",
    "\n",
    "    \n",
    "    if alpha <1:\n",
    "        f_prima = diff(f,x)\n",
    "        denom = 1/((k-x)**alpha)\n",
    "        g = f_prima*denom\n",
    "        resultado = (1/gamma(1-alpha))*integrate(g,(x,0,k))\n",
    "\n",
    "        resultado2 = resultado.subs(k,t).evalf()\n",
    "        \n",
    "        return resultado2\n",
    "        \n",
    "    else:\n",
    "        alpha_int = int(alpha)\n",
    "        alpha_float = alpha - alpha_int\n",
    "        \n",
    "        f_prima = diff(f,x)\n",
    "        denom = 1/((k-x)**alpha_float)\n",
    "        g = f_prima*denom\n",
    "        resultado = (1/gamma(1-alpha_float))*integrate(g,(x,0,k))\n",
    "        \n",
    "        resultado = diff(resultado,k, alpha_int)\n",
    "        resultado2 = resultado.subs(k,t).evalf()\n",
    "        \n",
    "        return resultado2\n",
    "    \n",
    "#print t\n",
    "#print \"implementacion : \", diff_alpha(lambda x: exp(x),t,0.5,a=0)\n",
    "x = Symbol('x')\n",
    "res = diff_alpha(sympify('log(x)'), pi, 0.6, a=0)\n"
   ]
  },
  {
   "cell_type": "code",
   "execution_count": null,
   "metadata": {
    "collapsed": true
   },
   "outputs": [],
   "source": [
    "res1 = diff_alpha(sympify(20), 1, 0.2, a=0)\n",
    "for i in np.arange(0,1,0.1):\n",
    "    print diff_alpha(sympify(20), 1, i, a=0)"
   ]
  },
  {
   "cell_type": "code",
   "execution_count": null,
   "metadata": {
    "collapsed": true
   },
   "outputs": [],
   "source": [
    "res2 = diff_alpha(sin(x), pi, 1, a=0)\n",
    "for i in np.arange(1,2,0.1):\n",
    "    print diff_alpha(sin(x), pi/4, i, a=0)"
   ]
  },
  {
   "cell_type": "code",
   "execution_count": null,
   "metadata": {
    "collapsed": true
   },
   "outputs": [],
   "source": [
    "res3 = diff_alpha(exp(x), 1, 46.4, a=0)\n",
    "for i in np.arange(46,47,0.1):\n",
    "    print diff_alpha(exp(x), 10, i, a=0)"
   ]
  },
  {
   "cell_type": "code",
   "execution_count": null,
   "metadata": {
    "collapsed": true
   },
   "outputs": [],
   "source": [
    "res4 = diff_alpha((x), 1, 0.7, a=0)\n",
    "for i in np.arange(0,1,0.1):\n",
    "    diff_alpha((x), 1, i, a=0)"
   ]
  },
  {
   "cell_type": "code",
   "execution_count": null,
   "metadata": {
    "collapsed": true
   },
   "outputs": [],
   "source": [
    "x = Symbol('x')\n",
    "for i in np.arange(0.2,1,0.1):\n",
    "    print diff_alpha(log(x), 2, i, a=0)"
   ]
  },
  {
   "cell_type": "code",
   "execution_count": null,
   "metadata": {
    "collapsed": true
   },
   "outputs": [],
   "source": [
    "res6 = diff_alpha(x**2, 100, 0.5, a=0)"
   ]
  },
  {
   "cell_type": "code",
   "execution_count": null,
   "metadata": {
    "collapsed": true
   },
   "outputs": [],
   "source": []
  },
  {
   "cell_type": "code",
   "execution_count": 130,
   "metadata": {
    "collapsed": false
   },
   "outputs": [],
   "source": [
    "x=Symbol('x')\n",
    "k=Symbol('k')\n",
    "\n",
    "f = exp(x)\n",
    "f_prima = diff(f,x)\n",
    "denom = 1/((k - x)**0.5)\n",
    "g = f_prima*denom \n",
    "\n",
    "i = integrate(g,(x,k,0))"
   ]
  },
  {
   "cell_type": "code",
   "execution_count": 136,
   "metadata": {
    "collapsed": false
   },
   "outputs": [
    {
     "name": "stdout",
     "output_type": "stream",
     "text": [
      "zoo*exp(k) + Integral(-0.5*(k - x)**(-1.5)*exp(x), (x, k, 0))\n"
     ]
    }
   ],
   "source": [
    "ip = diff(i, k)\n",
    "print ip.subs(k)"
   ]
  },
  {
   "cell_type": "code",
   "execution_count": null,
   "metadata": {
    "collapsed": true
   },
   "outputs": [],
   "source": [
    "x,y,z=symbols('x y z')\n",
    "init_printing(use_unicode=True)\n",
    "t=10\n",
    "a=0\n",
    "alpha=0.5\n",
    "#y=(2*x-t-a)/(t-a)\n",
    "\n",
    "y_y=((x+1)*(t-a))/2.0 + a\n",
    "j = ((t-a)/2.0)**(1-alpha)\n",
    "#denom = 1/(1-x)**(alpha)\n",
    "denom = 1/(t - ((x+1)*(t-a)/2.0) - a)**alpha\n",
    "\n",
    "funcion=diff(exp(y_y),x)*denom\n",
    "f_1 = lambda t: funcion.evalf(subs={x: t})\n",
    "# la derivada esta bien e incluye lo que bota la regla de la cadena\n",
    "# es decir dy=algo*dx\n",
    "\n",
    "#print diff(exp(y_y),x)\n",
    "#print f_1(0.)\n",
    "#print funcion.evalf(subs={x:0.0})\n",
    "print f_1\n",
    "#print lambda x: funcion.doit()\n",
    "print (1/gamma(1-alpha))*gaussianquad(f_1, 1000, -1, 1)\n",
    "#print np.vectorize(funcion)\n",
    "#print funcion\n",
    "\n",
    "#f = np.vectorize(lambda l: funcion) # So we can apply it to arrays without trouble\n",
    "#print f\n",
    "#lala, w = gaussian_nodes_and_weights(10, -1, 1)\n",
    "#int_val = sum( w * f(lala))\n",
    "#print int_val"
   ]
  }
 ],
 "metadata": {
  "kernelspec": {
   "display_name": "Python 2",
   "language": "python",
   "name": "python2"
  },
  "language_info": {
   "codemirror_mode": {
    "name": "ipython",
    "version": 2
   },
   "file_extension": ".py",
   "mimetype": "text/x-python",
   "name": "python",
   "nbconvert_exporter": "python",
   "pygments_lexer": "ipython2",
   "version": "2.7.10"
  }
 },
 "nbformat": 4,
 "nbformat_minor": 0
}
