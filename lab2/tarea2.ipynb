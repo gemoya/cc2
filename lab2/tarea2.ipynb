{
 "cells": [
  {
   "cell_type": "markdown",
   "metadata": {
    "collapsed": true
   },
   "source": [
    "# Laboratorio N°2 - Computación Científica II - ILI286\n",
    "\n",
    "\n",
    "**Autores**:\n",
    "+ Ariel Sanhueza Román - asanhuez@alumnos.inf.utfsm.cl - 201173005-4 \n",
    "+ Gonzalo Moya Rodríguez - gemoya@alumnos.inf.utfsm.cl - 201173016-k"
   ]
  },
  {
   "cell_type": "markdown",
   "metadata": {},
   "source": [
    "# Introducción"
   ]
  },
  {
   "cell_type": "markdown",
   "metadata": {},
   "source": [
    "# Previo\n",
    "Primero, importaremos las bibliotecas previas:"
   ]
  },
  {
   "cell_type": "code",
   "execution_count": 40,
   "metadata": {
    "collapsed": false
   },
   "outputs": [],
   "source": [
    "import numpy as np\n",
    "from scipy import linalg\n",
    "%matplotlib inline\n",
    "from matplotlib import pyplot as plt\n",
    "from mpl_toolkits.mplot3d import Axes3D\n",
    "from numpy.linalg import norm, solve\n",
    "from scipy.special import gamma\n",
    "from sympy import *\n",
    "import time\n",
    "import math"
   ]
  },
  {
   "cell_type": "markdown",
   "metadata": {},
   "source": [
    "# Desarrollo\n",
    "\n",
    "## Integración impropia\n",
    "\n",
    "### Pregunta 1\n",
    "Primero, separaremos la integral en dos partes:\n",
    "\\begin{align*}\n",
    "    \\int_{-\\infty}^x \\frac{1}{\\sqrt{2\\pi}} e^{\\frac{-t^2}{2}}dt \n",
    "    &= \\int_{-\\infty}^0 \\frac{1}{\\sqrt{2\\pi}} e^{\\frac{-t^2}{2}}dt + \\int_{0}^x \\frac{1}{\\sqrt{2\\pi}} e^{\\frac{-t^2}{2}}dt\n",
    "\\end{align*}\n",
    "\n",
    "La segunda integral no genera problemas de indefinición. Para la primera, por temas de orden, realizaremos dos cambios de variables. Sea $u = \\frac{1}{1-t} \\rightarrow dt = \\frac{1}{u^2}du$, entonces tenemos:\n",
    "\\begin{align*}\n",
    "    \\int_{-\\infty}^0 \\frac{1}{\\sqrt{2\\pi}} e^{\\frac{-t^2}{2}}dt &= \\int_0^1 \\frac{1}{\\sqrt{2\\pi}} e^{\\frac{-(u-1)^2}{2u^2}}\\frac{1}{u^2}du\n",
    "\\end{align*}\n",
    "\n",
    "Ahora, para dejar el intervalo en $[a,b]$, realizaremos el cambio $w = a + (b-a)u \\rightarrow dw = (b-a)du$, quedando finalmente:\n",
    "\n",
    "\\begin{align*}\n",
    "    \\int_0^1 \\frac{-1}{\\sqrt{2\\pi}} e^{\\frac{-(1-u)^2}{2u^2}}\\frac{1}{u^2}du &= \\int_a^b \\frac{1}{\\sqrt{2\\pi}} e^{\\frac{-(w-b)^2}{2(w-a)^2}} \\frac{(b-a)}{(w-a)^2} dw\n",
    "\\end{align*}\n",
    "\n",
    "Ahora, la segunda integral no tiene problemas de indefinición, pero sí problemas numéricos de aproximación y error, por lo que se le aplicará el siguiente cambio de variables $u = \\frac{1}{t+1}$. Así, finalmente queda:\n",
    "\n",
    "\\begin{align*}\n",
    "    \\int_{-\\infty}^x \\frac{1}{\\sqrt{2\\pi}} e^{\\frac{-t^2}{2}}dt \n",
    "    &= \\int_a^b \\frac{1}{\\sqrt{2\\pi}} e^{\\frac{-(b-w)^2}{2(w-a)^2}} \\frac{(b-a)}{(w-a)^2} dw + \\int_{1}^{\\frac{1}{x+1}} \\frac{-1}{\\sqrt{2\\pi}} e^{-\\frac{(1-u)^2}{2u^2}} \\frac{1}{u^2}dt\n",
    "\\end{align*}"
   ]
  },
  {
   "cell_type": "markdown",
   "metadata": {},
   "source": [
    "### Pregunta 2\n",
    "\n",
    "Para la implementación, utilizaremos los algoritmos implementados en clases.\n"
   ]
  },
  {
   "cell_type": "code",
   "execution_count": 5,
   "metadata": {
    "collapsed": true
   },
   "outputs": [],
   "source": [
    "def midpoint(myfun, N, a, b):\n",
    "    f = np.vectorize(myfun) # So we can apply it to arrays without trouble\n",
    "    x = np.linspace(a, b, N+1) # We want N bins, so N+1 points  \n",
    "    dx = x[1]-x[0]\n",
    "    midpoints = x[:-1] + .5*dx\n",
    "    midpoint_values = f(midpoints)\n",
    "    int_val = sum(midpoint_values*dx)\n",
    "    return int_val"
   ]
  },
  {
   "cell_type": "markdown",
   "metadata": {},
   "source": [
    "Para \"midpoint rule\" tenemos que el costo computacional, en función de $N$, es de $O(N)$ (evaluación en $N+1$ puntos)."
   ]
  },
  {
   "cell_type": "code",
   "execution_count": 75,
   "metadata": {
    "collapsed": true
   },
   "outputs": [],
   "source": [
    "def trapezoid(myfun, N, a, b):\n",
    "    f = np.vectorize(myfun) # So we can apply it to arrays without trouble\n",
    "    x = np.linspace(a, b, N+1) # We want N bins, so N+1 points  \n",
    "    h = x[1]-x[0]\n",
    "    xmiddle = x[1:-1]\n",
    "    int_val = 0.5*h*sum(f(x[0])+2*f(xmiddle)+f(x[-1]))\n",
    "    return int_val"
   ]
  },
  {
   "cell_type": "markdown",
   "metadata": {},
   "source": [
    "Para \"trapezoid rule\", la complejidad es $O(N)$, pues también se ejecutan $N+1$ evaluaciones."
   ]
  },
  {
   "cell_type": "code",
   "execution_count": 76,
   "metadata": {
    "collapsed": true
   },
   "outputs": [],
   "source": [
    "def simpsons(myfun, N, a, b):\n",
    "    f = np.vectorize(myfun) # So we can apply it to arrays without trouble\n",
    "    x = np.linspace(a, b, N+1) # We want N bins, so N+1 points\n",
    "    if N%2==1:\n",
    "        print(\"Simpsons rule only applicable to even number of segments\")\n",
    "        return\n",
    "    dx = x[1]-x[0]\n",
    "    xleft   = x[:-2:2]\n",
    "    xmiddle = x[1::2]\n",
    "    xright  = x[2::2]\n",
    "    int_val = sum((f(xleft)+4*f(xmiddle)+f(xright))*dx/3)\n",
    "    return int_val"
   ]
  },
  {
   "cell_type": "markdown",
   "metadata": {},
   "source": [
    "Para \"Simpsons rule\", también se tiene $O(N)$, pues se evalúan $N-1$ puntos (entre los extremos)."
   ]
  },
  {
   "cell_type": "code",
   "execution_count": 14,
   "metadata": {
    "collapsed": true
   },
   "outputs": [],
   "source": [
    "def gaussianquad(myfun, N, a, b):\n",
    "    f = np.vectorize(myfun) # So we can apply it to arrays without trouble\n",
    "    x, w = gaussian_nodes_and_weights(N, a, b)\n",
    "    int_val = sum( w * f(x) )\n",
    "    return int_val\n",
    "\n",
    "def gaussian_nodes_and_weights(N, a, b):\n",
    "    if N==1: return np.array([1]), np.array([2])\n",
    "    beta = .5 / np.sqrt(1.-(2.*np.arange(1.,N))**(-2))\n",
    "    T = np.diag(beta,1) + np.diag(beta,-1)\n",
    "    D, V = np.linalg.eigh(T)\n",
    "    x = D\n",
    "    x = .5 * ( (b-a)*x + b + a) # Rescaling\n",
    "    w = 2*V[0,:]**2\n",
    "    w = .5*(b-a)*w\n",
    "    return x, w"
   ]
  },
  {
   "cell_type": "markdown",
   "metadata": {
    "collapsed": true
   },
   "source": [
    "Para \"Gaussian Quadrature\", tenemos La evaluación de los $N$ puntos, pero tenemos también que encontrar los $x_i$ (que en el algoritmo usado, representan los valores propios de $T$) que es de complejidad $O(m^3)$ con $m$ tamaño de la matriz cuadrada, entonces la complejidad es $O(N + m^3) = O(m^3) = O(N^3)$."
   ]
  },
  {
   "cell_type": "markdown",
   "metadata": {},
   "source": [
    "### Pregunta 3\n",
    "Primero, definimos nuestra función y parámetros. Es importante mencionar que, dado que $\\frac{1}{\\sqrt{2\\pi}}$ es constante y aparece en todos los cálculos, se sacó de la integral para ahorrar cómputos. También es importante destacar que:\n",
    "* $f_1$ es la expresión con cambio de variables.\n",
    "* $f_2$ es la expresión que va desde 0 a $x$."
   ]
  },
  {
   "cell_type": "code",
   "execution_count": 30,
   "metadata": {
    "collapsed": false
   },
   "outputs": [],
   "source": [
    "# Intervalos\n",
    "a = 0.\n",
    "b = 1.\n",
    "\n",
    "# Función y constantes\n",
    "# Constante\n",
    "cons = 1./np.sqrt(2.*np.pi)\n",
    "# Función de la primera integral\n",
    "f1 = lambda w: np.exp(-0.5*((w-b)/(w-a))**2) * (b-a)/(w-a)**2\n",
    "# Función sin cambio de variables\n",
    "f2 = lambda t: np.exp(-0.5*t**2)\n",
    "# Función de la segunda integral con cambio de variables\n",
    "f3 = lambda u: -np.exp(-0.5*((1-u)/u)**2)/u**2\n",
    "repeat = 50.\n",
    "\n",
    "# Puntos\n",
    "points = np.logspace(0,49)\n",
    "\n",
    "def get_data(f1, points, f2 = None, method = 'mp', type = ''):\n",
    "    data = []\n",
    "    if method == 'mp':\n",
    "        func = midpoint\n",
    "    elif method == 'trap':\n",
    "        func = trapezoid\n",
    "    elif method == 'simp':\n",
    "        func = simpsons\n",
    "    else:\n",
    "        func = gaussianquad\n",
    "    \n",
    "    if type == '':\n",
    "        for i in range(len(points)):\n",
    "            data.append(cons*func(f1,N,a,b) + cons*func(f2,N,1,1/(points[i]+1)))\n",
    "    else:\n",
    "        for i in range(len(points)):\n",
    "            T = 0\n",
    "            for j in range(int(repeat)):\n",
    "                start = time.time()\n",
    "                cons*func(f1,N,a,b) + cons*func(f2,N,1,1/(points[i]+1))\n",
    "                end = time.time()\n",
    "                T += (end-start)*1000\n",
    "            data.append(T/float(repeat))\n",
    "    return data"
   ]
  },
  {
   "cell_type": "markdown",
   "metadata": {
    "collapsed": true
   },
   "source": [
    "Debido al cambio usado, el método de Simpsons y del Trapezoide no funcionan debido a que la transformación se indefine en el parámetro $a$ y estos dos métodos evalúan las funciones en sus extremos por lo que mostraremos los gráficos asociados a los métodos que sí funcionan.\n",
    "\n",
    "Primero, los gráficos asociados al cálculo de la integral para distintos N"
   ]
  },
  {
   "cell_type": "code",
   "execution_count": 20,
   "metadata": {
    "collapsed": false
   },
   "outputs": [
    {
     "data": {
      "image/png": "[encoded data removed]",
      "text/plain": [
       "<matplotlib.figure.Figure at 0x10ec73a90>"
      ]
     },
     "metadata": {},
     "output_type": "display_data"
    },
    {
     "data": {
      "image/png": "[encoded data removed]",
      "text/plain": [
       "<matplotlib.figure.Figure at 0x10eda3c50>"
      ]
     },
     "metadata": {},
     "output_type": "display_data"
    }
   ],
   "source": [
    "# Midpoint rule\n",
    "N = 2\n",
    "plt.loglog(points, get_data(f1, points, f3, 'mp'), 'or')\n",
    "plt.xlabel(\"x\")\n",
    "plt.ylabel(\"valor integral\")\n",
    "plt.title(\"Midpoint rule. N = 2\")\n",
    "plt.ylim([0.5, 1.5])\n",
    "plt.show()\n",
    "\n",
    "# trapezoid: Error\n",
    "\n",
    "# Simpsons: Error\n",
    "\n",
    "# Gaussian Quadrature\n",
    "plt.loglog(points, get_data(f1, points, f3, ''), 'or')\n",
    "plt.xlabel(\"x\")\n",
    "plt.ylabel(\"valor integral\")\n",
    "plt.title(\"Gaussian Quadrature. N = 2\")\n",
    "plt.ylim([0.5, 1.5])\n",
    "plt.show()"
   ]
  },
  {
   "cell_type": "code",
   "execution_count": 21,
   "metadata": {
    "collapsed": false,
    "scrolled": false
   },
   "outputs": [
    {
     "data": {
      "image/png": "[encoded data removed]",
      "text/plain": [
       "<matplotlib.figure.Figure at 0x10e9fda50>"
      ]
     },
     "metadata": {},
     "output_type": "display_data"
    },
    {
     "data": {
      "image/png": "[encoded data removed]",
      "text/plain": [
       "<matplotlib.figure.Figure at 0x10ee63090>"
      ]
     },
     "metadata": {},
     "output_type": "display_data"
    }
   ],
   "source": [
    "# Midpoint rule\n",
    "N = 10\n",
    "plt.loglog(points, get_data(f1, points, f3, 'mp'), 'or')\n",
    "plt.xlabel(\"x\")\n",
    "plt.ylabel(\"valor integral\")\n",
    "plt.title(\"Midpoint rule. N = 10\")\n",
    "plt.ylim([0.5, 1.5])\n",
    "plt.show()\n",
    "\n",
    "# trapezoid: Error\n",
    "\n",
    "# Simpsons: Error\n",
    "\n",
    "# Gaussian Quadrature\n",
    "plt.loglog(points, get_data(f1, points, f3, ''), 'or')\n",
    "plt.xlabel(\"x\")\n",
    "plt.ylabel(\"valor integral\")\n",
    "plt.title(\"Gaussian Quadrature. N = 10\")\n",
    "plt.ylim([0.5, 1.5])\n",
    "plt.show()"
   ]
  },
  {
   "cell_type": "code",
   "execution_count": 22,
   "metadata": {
    "collapsed": false
   },
   "outputs": [
    {
     "data": {
      "image/png": "[encoded data removed]",
      "text/plain": [
       "<matplotlib.figure.Figure at 0x10ec3a450>"
      ]
     },
     "metadata": {},
     "output_type": "display_data"
    },
    {
     "data": {
      "image/png": "[encoded data removed]",
      "text/plain": [
       "<matplotlib.figure.Figure at 0x10db3bdd0>"
      ]
     },
     "metadata": {},
     "output_type": "display_data"
    }
   ],
   "source": [
    "# Midpoint rule\n",
    "N = 100\n",
    "plt.loglog(points, get_data(f1, points, f3, 'mp'), 'or')\n",
    "plt.xlabel(\"x\")\n",
    "plt.ylabel(\"valor integral\")\n",
    "plt.title(\"Midpoint rule. N = 100\")\n",
    "plt.ylim([0.5, 1.5])\n",
    "plt.show()\n",
    "\n",
    "# trapezoid: Error\n",
    "\n",
    "# Simpsons: Error\n",
    "\n",
    "# Gaussian Quadrature\n",
    "plt.loglog(points, get_data(f1, points, f3, ''), 'or')\n",
    "plt.xlabel(\"x\")\n",
    "plt.ylabel(\"valor integral\")\n",
    "plt.title(\"Gaussian Quadrature. N = 100\")\n",
    "plt.ylim([0.5, 1.5])\n",
    "plt.show()"
   ]
  },
  {
   "cell_type": "markdown",
   "metadata": {},
   "source": [
    "Ahora, los gráficos de los tiempos de cómputo:"
   ]
  },
  {
   "cell_type": "code",
   "execution_count": 23,
   "metadata": {
    "collapsed": false
   },
   "outputs": [
    {
     "data": {
      "image/png": "[encoded data removed]",
      "text/plain": [
       "<matplotlib.figure.Figure at 0x10ee9f710>"
      ]
     },
     "metadata": {},
     "output_type": "display_data"
    },
    {
     "data": {
      "image/png": "[encoded data removed]",
      "text/plain": [
       "<matplotlib.figure.Figure at 0x10c640450>"
      ]
     },
     "metadata": {},
     "output_type": "display_data"
    }
   ],
   "source": [
    "# Midpoint rule\n",
    "N = 2\n",
    "plt.loglog(points, get_data(f1, points, f3, 'mp', 't'), 'or')\n",
    "plt.xlabel(\"x\")\n",
    "plt.ylabel(\"[ms]\")\n",
    "plt.title(\"Midpoint rule. N = 2\")\n",
    "plt.show()\n",
    "\n",
    "# trapezoid: Error\n",
    "\n",
    "# Simpsons: Error\n",
    "\n",
    "# Gaussian Quadrature\n",
    "plt.loglog(points, get_data(f1, points, f3, '', 't'), 'or')\n",
    "\n",
    "plt.xlabel(\"x\")\n",
    "plt.ylabel(\"[ms]\")\n",
    "plt.title(\"Gaussian Quadrature. N = 2\")\n",
    "plt.show()"
   ]
  },
  {
   "cell_type": "code",
   "execution_count": 24,
   "metadata": {
    "collapsed": false
   },
   "outputs": [
    {
     "data": {
      "image/png": "[encoded data removed]",
      "text/plain": [
       "<matplotlib.figure.Figure at 0x10eeda750>"
      ]
     },
     "metadata": {},
     "output_type": "display_data"
    },
    {
     "data": {
      "image/png": "[encoded data removed]",
      "text/plain": [
       "<matplotlib.figure.Figure at 0x10ed87c50>"
      ]
     },
     "metadata": {},
     "output_type": "display_data"
    }
   ],
   "source": [
    "# Midpoint rule\n",
    "N = 10\n",
    "plt.loglog(points, get_data(f1, points, f3, 'mp', 't'), 'or')\n",
    "plt.xlabel(\"x\")\n",
    "plt.ylabel(\"[ms]\")\n",
    "plt.title(\"Midpoint rule. N = 10\")\n",
    "plt.show()\n",
    "\n",
    "# trapezoid: Error\n",
    "\n",
    "# Simpsons: Error\n",
    "\n",
    "# Gaussian Quadrature\n",
    "plt.loglog(points, get_data(f1, points, f3, '', 't'), 'or')\n",
    "\n",
    "plt.xlabel(\"x\")\n",
    "plt.ylabel(\"[ms]\")\n",
    "plt.title(\"Gaussian Quadrature. N = 10\")\n",
    "plt.show()"
   ]
  },
  {
   "cell_type": "code",
   "execution_count": 31,
   "metadata": {
    "collapsed": false,
    "scrolled": false
   },
   "outputs": [
    {
     "data": {
      "image/png": "[encoded data removed]",
      "text/plain": [
       "<matplotlib.figure.Figure at 0x10ec7de50>"
      ]
     },
     "metadata": {},
     "output_type": "display_data"
    },
    {
     "data": {
      "image/png": "[encoded data removed]",
      "text/plain": [
       "<matplotlib.figure.Figure at 0x10ef02d50>"
      ]
     },
     "metadata": {},
     "output_type": "display_data"
    }
   ],
   "source": [
    "# Midpoint rule\n",
    "N = 100\n",
    "plt.loglog(points, get_data(f1, points, f3, 'mp', 't'), 'or')\n",
    "plt.xlabel(\"x\")\n",
    "plt.ylabel(\"[ms]\")\n",
    "plt.title(\"Midpoint rule. N = 100\")\n",
    "plt.show()\n",
    "\n",
    "# trapezoid: Error\n",
    "\n",
    "# Simpsons: Error\n",
    "\n",
    "# Gaussian Quadrature\n",
    "plt.loglog(points, get_data(f1, points, f3, '', 't'), 'or')\n",
    "\n",
    "plt.xlabel(\"x\")\n",
    "plt.ylabel(\"[ms]\")\n",
    "plt.title(\"Gaussian Quadrature. N = 100\")\n",
    "plt.show()"
   ]
  },
  {
   "cell_type": "markdown",
   "metadata": {},
   "source": [
    "### Pregunta 4\n",
    "Para $x = 0$ no ocurre nada en nuestro cambio de variables. Esto se ve en el siguiente cálculo (realizado con cuadratura Gaussiana para mayor precisión):"
   ]
  },
  {
   "cell_type": "code",
   "execution_count": 38,
   "metadata": {
    "collapsed": false
   },
   "outputs": [
    {
     "name": "stdout",
     "output_type": "stream",
     "text": [
      "El resultado es:  0.5\n",
      "Valor de la primera integral:  0.5\n",
      "Valor de la segunda integral:  0.0\n"
     ]
    }
   ],
   "source": [
    "# Definimos x = 0, N = 1000 y calculamos la suma de las integrales (la segunda integral quedaría en 0, pues va de 0 a 0)\n",
    "x = 0\n",
    "N = 100\n",
    "\n",
    "int1 = cons*gaussianquad(f1,N,a,b)\n",
    "int2 = cons*gaussianquad(f3,N,1,1/(x+1))\n",
    "print \"El resultado es: \", int1 + int2\n",
    "print \"Valor de la primera integral: \", int1\n",
    "print \"Valor de la segunda integral: \", int2"
   ]
  },
  {
   "cell_type": "markdown",
   "metadata": {},
   "source": [
    "### Pregunta 5\n",
    "Como se vio en la pregunta 3, para $\\alpha$ grande (y por lo tanto, $x$ es grande) la integral no cambia (converge a 1, como debería) por lo que ese resultado es válido como aproximación cuando la función tiende a $\\infty$ como límite superior. De todas formas, podemos separar las integrales y obtener:\n",
    "\\begin{align*}\n",
    "    \\int_{-\\infty}^\\infty \\frac{1}{\\sqrt{2\\pi}} e^{\\frac{-t^2}{2}}dt \n",
    "    &= \\int_{-\\infty}^0 \\frac{1}{\\sqrt{2\\pi}} e^{\\frac{-t^2}{2}}dt + \\int_{0}^\\infty \\frac{1}{\\sqrt{2\\pi}} e^{\\frac{-t^2}{2}}dt\n",
    "\\end{align*}\n",
    "\n",
    "Para la primera integral, el cambio realizado en la pregunta uno sirve, y para la segunda integral podemos realizar el mismo cambio que se realizó en la parte uno para mejorar la presición de la integración, solo que los límites ahora serían desde $1$ a $0$ o el negativo de la misma integral con los límites cambiados. Entonces, las nuevas integrales quedarían como:\n",
    "\\begin{align*}\n",
    "    \\int_{-\\infty}^\\infty \\frac{1}{\\sqrt{2\\pi}} e^{\\frac{-t^2}{2}}dt \n",
    "    &= \\int_0^1 \\frac{1}{\\sqrt{2\\pi}} e^{\\frac{-(u-1)^2}{2u^2}}\\frac{1}{u^2}du + \\int_{0}^{1} \\frac{1}{\\sqrt{2\\pi}} e^{-\\frac{(1-u)^2}{2u^2}} \\frac{1}{u^2}dt\n",
    "\\end{align*}\n",
    "\n",
    "Dado que $(u-1)^2 = (1-u)^2$, el resultado final es dos veces una de las dos integrales, utilizaremos la segunda integral ya que esa ya está definida para el cálculo numérico. Entonces, finalmente nos queda:\n",
    "\n",
    "\\begin{align*}\n",
    "    \\int_{-\\infty}^\\infty \\frac{1}{\\sqrt{2\\pi}} e^{\\frac{-t^2}{2}}dt &= 2\\int_0^1 \\frac{1}{\\sqrt{2\\pi}} e^{\\frac{-(1-u)^2}{2u^2}}\\frac{1}{u^2}du\n",
    "\\end{align*}\n"
   ]
  },
  {
   "cell_type": "code",
   "execution_count": 37,
   "metadata": {
    "collapsed": false
   },
   "outputs": [
    {
     "name": "stdout",
     "output_type": "stream",
     "text": [
      "Resultado de la integral desde -infinito a +infinito es:  1.0\n"
     ]
    }
   ],
   "source": [
    "N = 100\n",
    "# Como f3 posee un menos al comienzo, y dimos vuelta los límites de integración, anteponemos un menos al 2\n",
    "print \"Resultado de la integral desde -infinito a +infinito es: \", -2*cons*gaussianquad(f3, N,0,1)"
   ]
  },
  {
   "cell_type": "markdown",
   "metadata": {},
   "source": [
    "## The Caputo's Fractional Derivative\n",
    "\n",
    "### Pregunta 1\n",
    "\n",
    "Se realiza un cambio de variable considerando una recta que pasa por los puntos $(a,-1)$ y $(t,1)$, es decir, sea la ecuación de la recta la siguiente:\n",
    "\\begin{align*}\n",
    "\\frac{y-y_1}{\\tau-\\tau_1} = \\frac{y_2-y_1}{\\tau_2 - \\tau_1}\n",
    "\\end{align*}\n",
    "Haciendo los reemplazos correspondientes:\n",
    "\\begin{align*}\n",
    "\\frac{y+1}{\\tau-a} = \\frac{2}{t - a}\n",
    "\\end{align*}\n",
    "\n",
    "\\begin{align*}\n",
    "(y+1)(t-a) = 2(\\tau - a)\n",
    "\\end{align*}\n",
    "\n",
    "\\begin{align*}\n",
    "\\tau = \\frac{(y+1)(t-a)}{2} + a \n",
    "\\end{align*}\n",
    "Luego el diferencial de $\\tau$, $d\\tau$ es:\n",
    "\\begin{align*}\n",
    "d\\tau = \\frac{(t-a)}{2}dy\n",
    "\\end{align*}\n",
    "\n",
    "Finalmente la integral queda como\n",
    "\\begin{align*}\n",
    "\\frac{1}{\\Gamma{(1-\\alpha})}\\frac{(t-a)}{2}\\int_{-1}^1 \\frac{f'(\\frac{(y+1)(t-a)}{2} + a )}{(t - \\frac{(y+1)(t-a)}{2} -a)^{\\alpha}}dy\n",
    "\\end{align*}\n",
    "\n",
    "Pero operando sobre el denominador del argumento de la  integral se puede dejar como\n",
    "\\begin{align*}\n",
    "\\frac{1}{\\Gamma{(1-\\alpha})}{(\\frac{(t-a)}{2})}^{1-\\alpha}\\int_{-1}^1 \\frac{f'(\\frac{(y+1)(t-a)}{2} + a )}{(1-y)^{\\alpha}}dy\n",
    "\\end{align*}"
   ]
  },
  {
   "cell_type": "markdown",
   "metadata": {},
   "source": [
    "### Pregunta 2\n",
    "Implementaremos la función pedida agregándole 2 parámetros opcionales: un parámetro t, el cual es la variable en la cual está la función entregada (de tipo Sympy) y el valor de $a$ (de la integral). "
   ]
  },
  {
   "cell_type": "code",
   "execution_count": 143,
   "metadata": {
    "collapsed": false
   },
   "outputs": [],
   "source": [
    "def fraction_diff(f, t0, alpha, t = Symbol('t'), inf_limit = 0):\n",
    "    pentero = int(alpha)\n",
    "    pfloat = alpha - pentero\n",
    "    \n",
    "    if pfloat == 0:\n",
    "        # Derivada normal\n",
    "        return diff(f,t,pentero).subs(t, t0).evalf()\n",
    "    else:\n",
    "        # El tau\n",
    "        a = Symbol('a')\n",
    "        # Gamma\n",
    "        gam = 1./gamma(1-pfloat)\n",
    "        # Derivada fraccional\n",
    "        #f_der = diff(f,t).subs(t, a)\n",
    "        f_der = f.subs(t, a)\n",
    "        denom = 1./(t - a)**pfloat\n",
    "        \n",
    "        # Función a integrar\n",
    "        g = f_der * denom\n",
    "        # Función para cuadratura gaussiana\n",
    "        g_quad = lambda z: g.subs(a, z)\n",
    "        \n",
    "        # Integramos\n",
    "        der = gaussianquad(g_quad, 150, inf_limit, t)\n",
    "        # Derivamos\n",
    "        if pentero >= 0:\n",
    "            der = diff(der, t, pentero+1)\n",
    "        return gam * (der.subs(t, t0).evalf())"
   ]
  },
  {
   "cell_type": "markdown",
   "metadata": {},
   "source": [
    "### Pregunta 3\n",
    "Ahora analizaremos las funciones"
   ]
  },
  {
   "cell_type": "code",
   "execution_count": 150,
   "metadata": {
    "collapsed": false
   },
   "outputs": [
    {
     "name": "stdout",
     "output_type": "stream",
     "text": [
      "Valor para alpha=0 y t=1.57079632679 = 20.0000000000000\n",
      "Valor para alpha=0.2 y t=1.57079632679 = 15.6944556697404\n",
      "Valor para alpha=1 y t=1.57079632679 = 0\n"
     ]
    }
   ],
   "source": [
    "# función constante: 20\n",
    "f = sympify(20)\n",
    "alpha = 0.2\n",
    "t = np.pi/2\n",
    "print \"Valor para alpha={0} y t={1} = {2}\".format(int(alpha),t,fraction_diff(f,t,int(alpha)))\n",
    "print \"Valor para alpha={0} y t={1} = {2}\".format(alpha,t,fraction_diff(f,t,alpha))\n",
    "print \"Valor para alpha={0} y t={1} = {2}\".format(int(alpha)+1,t,fraction_diff(f,t,int(alpha)+1))"
   ]
  },
  {
   "cell_type": "code",
   "execution_count": 152,
   "metadata": {
    "collapsed": false
   },
   "outputs": [
    {
     "name": "stdout",
     "output_type": "stream",
     "text": [
      "Valor para alpha=1 y t=1.57079632679 = 6.12323399573677E-17\n",
      "Valor para alpha=1.5 y t=1.57079632679 = -0.648272273472548\n",
      "Valor para alpha=2 y t=1.57079632679 = -1.00000000000000\n"
     ]
    }
   ],
   "source": [
    "# función: sin(t)\n",
    "f = sin(Symbol('t'))\n",
    "alpha = 1.5\n",
    "t = np.pi/2\n",
    "print \"Valor para alpha={0} y t={1} = {2}\".format(int(alpha),t,fraction_diff(f,t,int(alpha)))\n",
    "print \"Valor para alpha={0} y t={1} = {2}\".format(alpha,t,fraction_diff(f,t,alpha))\n",
    "print \"Valor para alpha={0} y t={1} = {2}\".format(int(alpha)+1,t,fraction_diff(f,t,int(alpha)+1))"
   ]
  },
  {
   "cell_type": "code",
   "execution_count": 153,
   "metadata": {
    "collapsed": false
   },
   "outputs": [
    {
     "name": "stdout",
     "output_type": "stream",
     "text": [
      "Valor para alpha=46 y t=1.57079632679 = 4.81047738096535\n"
     ]
    },
    {
     "ename": "KeyboardInterrupt",
     "evalue": "",
     "output_type": "error",
     "traceback": [
      "\u001b[0;31m---------------------------------------------------------------------------\u001b[0m",
      "\u001b[0;31mKeyboardInterrupt\u001b[0m                         Traceback (most recent call last)",
      "\u001b[0;32m<ipython-input-153-fe32110fe5cf>\u001b[0m in \u001b[0;36m<module>\u001b[0;34m()\u001b[0m\n\u001b[1;32m      4\u001b[0m \u001b[0mt\u001b[0m \u001b[0;34m=\u001b[0m \u001b[0mnp\u001b[0m\u001b[0;34m.\u001b[0m\u001b[0mpi\u001b[0m\u001b[0;34m/\u001b[0m\u001b[0;36m2\u001b[0m\u001b[0;34m\u001b[0m\u001b[0m\n\u001b[1;32m      5\u001b[0m \u001b[0;32mprint\u001b[0m \u001b[0;34m\"Valor para alpha={0} y t={1} = {2}\"\u001b[0m\u001b[0;34m.\u001b[0m\u001b[0mformat\u001b[0m\u001b[0;34m(\u001b[0m\u001b[0mint\u001b[0m\u001b[0;34m(\u001b[0m\u001b[0malpha\u001b[0m\u001b[0;34m)\u001b[0m\u001b[0;34m,\u001b[0m\u001b[0mt\u001b[0m\u001b[0;34m,\u001b[0m\u001b[0mfraction_diff\u001b[0m\u001b[0;34m(\u001b[0m\u001b[0mf\u001b[0m\u001b[0;34m,\u001b[0m\u001b[0mt\u001b[0m\u001b[0;34m,\u001b[0m\u001b[0mint\u001b[0m\u001b[0;34m(\u001b[0m\u001b[0malpha\u001b[0m\u001b[0;34m)\u001b[0m\u001b[0;34m)\u001b[0m\u001b[0;34m)\u001b[0m\u001b[0;34m\u001b[0m\u001b[0m\n\u001b[0;32m----> 6\u001b[0;31m \u001b[0;32mprint\u001b[0m \u001b[0;34m\"Valor para alpha={0} y t={1} = {2}\"\u001b[0m\u001b[0;34m.\u001b[0m\u001b[0mformat\u001b[0m\u001b[0;34m(\u001b[0m\u001b[0malpha\u001b[0m\u001b[0;34m,\u001b[0m\u001b[0mt\u001b[0m\u001b[0;34m,\u001b[0m\u001b[0mfraction_diff\u001b[0m\u001b[0;34m(\u001b[0m\u001b[0mf\u001b[0m\u001b[0;34m,\u001b[0m\u001b[0mt\u001b[0m\u001b[0;34m,\u001b[0m\u001b[0malpha\u001b[0m\u001b[0;34m)\u001b[0m\u001b[0;34m)\u001b[0m\u001b[0;34m\u001b[0m\u001b[0m\n\u001b[0m\u001b[1;32m      7\u001b[0m \u001b[0;32mprint\u001b[0m \u001b[0;34m\"Valor para alpha={0} y t={1} = {2}\"\u001b[0m\u001b[0;34m.\u001b[0m\u001b[0mformat\u001b[0m\u001b[0;34m(\u001b[0m\u001b[0mint\u001b[0m\u001b[0;34m(\u001b[0m\u001b[0malpha\u001b[0m\u001b[0;34m)\u001b[0m\u001b[0;34m+\u001b[0m\u001b[0;36m1\u001b[0m\u001b[0;34m,\u001b[0m\u001b[0mt\u001b[0m\u001b[0;34m,\u001b[0m\u001b[0mfraction_diff\u001b[0m\u001b[0;34m(\u001b[0m\u001b[0mf\u001b[0m\u001b[0;34m,\u001b[0m\u001b[0mt\u001b[0m\u001b[0;34m,\u001b[0m\u001b[0mint\u001b[0m\u001b[0;34m(\u001b[0m\u001b[0malpha\u001b[0m\u001b[0;34m)\u001b[0m\u001b[0;34m+\u001b[0m\u001b[0;36m1\u001b[0m\u001b[0;34m)\u001b[0m\u001b[0;34m)\u001b[0m\u001b[0;34m\u001b[0m\u001b[0m\n",
      "\u001b[0;32m<ipython-input-143-18763015914c>\u001b[0m in \u001b[0;36mfraction_diff\u001b[0;34m(f, t0, alpha, t, inf_limit)\u001b[0m\n\u001b[1;32m     25\u001b[0m         \u001b[0;31m# Derivamos\u001b[0m\u001b[0;34m\u001b[0m\u001b[0;34m\u001b[0m\u001b[0m\n\u001b[1;32m     26\u001b[0m         \u001b[0;32mif\u001b[0m \u001b[0mpentero\u001b[0m \u001b[0;34m>=\u001b[0m \u001b[0;36m0\u001b[0m\u001b[0;34m:\u001b[0m\u001b[0;34m\u001b[0m\u001b[0m\n\u001b[0;32m---> 27\u001b[0;31m             \u001b[0mder\u001b[0m \u001b[0;34m=\u001b[0m \u001b[0mdiff\u001b[0m\u001b[0;34m(\u001b[0m\u001b[0mder\u001b[0m\u001b[0;34m,\u001b[0m \u001b[0mt\u001b[0m\u001b[0;34m,\u001b[0m \u001b[0mpentero\u001b[0m\u001b[0;34m+\u001b[0m\u001b[0;36m1\u001b[0m\u001b[0;34m)\u001b[0m\u001b[0;34m\u001b[0m\u001b[0m\n\u001b[0m\u001b[1;32m     28\u001b[0m         \u001b[0;32mreturn\u001b[0m \u001b[0mgam\u001b[0m \u001b[0;34m*\u001b[0m \u001b[0;34m(\u001b[0m\u001b[0mder\u001b[0m\u001b[0;34m.\u001b[0m\u001b[0msubs\u001b[0m\u001b[0;34m(\u001b[0m\u001b[0mt\u001b[0m\u001b[0;34m,\u001b[0m \u001b[0mt0\u001b[0m\u001b[0;34m)\u001b[0m\u001b[0;34m.\u001b[0m\u001b[0mevalf\u001b[0m\u001b[0;34m(\u001b[0m\u001b[0;34m)\u001b[0m\u001b[0;34m)\u001b[0m\u001b[0;34m\u001b[0m\u001b[0m\n",
      "\u001b[0;32m/Library/Python/2.7/site-packages/sympy/core/function.pyc\u001b[0m in \u001b[0;36mdiff\u001b[0;34m(f, *symbols, **kwargs)\u001b[0m\n\u001b[1;32m   1636\u001b[0m     \u001b[0;32mexcept\u001b[0m \u001b[0mAttributeError\u001b[0m\u001b[0;34m:\u001b[0m\u001b[0;34m\u001b[0m\u001b[0m\n\u001b[1;32m   1637\u001b[0m         \u001b[0;32mpass\u001b[0m\u001b[0;34m\u001b[0m\u001b[0m\n\u001b[0;32m-> 1638\u001b[0;31m     \u001b[0;32mreturn\u001b[0m \u001b[0mDerivative\u001b[0m\u001b[0;34m(\u001b[0m\u001b[0mf\u001b[0m\u001b[0;34m,\u001b[0m \u001b[0;34m*\u001b[0m\u001b[0msymbols\u001b[0m\u001b[0;34m,\u001b[0m \u001b[0;34m**\u001b[0m\u001b[0mkwargs\u001b[0m\u001b[0;34m)\u001b[0m\u001b[0;34m\u001b[0m\u001b[0m\n\u001b[0m\u001b[1;32m   1639\u001b[0m \u001b[0;34m\u001b[0m\u001b[0m\n\u001b[1;32m   1640\u001b[0m \u001b[0;34m\u001b[0m\u001b[0m\n",
      "\u001b[0;32m/Library/Python/2.7/site-packages/sympy/core/function.pyc\u001b[0m in \u001b[0;36m__new__\u001b[0;34m(cls, expr, *variables, **assumptions)\u001b[0m\n\u001b[1;32m   1089\u001b[0m                     \u001b[0mold_v\u001b[0m \u001b[0;34m=\u001b[0m \u001b[0mv\u001b[0m\u001b[0;34m\u001b[0m\u001b[0m\n\u001b[1;32m   1090\u001b[0m                     \u001b[0mv\u001b[0m \u001b[0;34m=\u001b[0m \u001b[0mnew_v\u001b[0m\u001b[0;34m\u001b[0m\u001b[0m\n\u001b[0;32m-> 1091\u001b[0;31m                 \u001b[0mobj\u001b[0m \u001b[0;34m=\u001b[0m \u001b[0mexpr\u001b[0m\u001b[0;34m.\u001b[0m\u001b[0m_eval_derivative\u001b[0m\u001b[0;34m(\u001b[0m\u001b[0mv\u001b[0m\u001b[0;34m)\u001b[0m\u001b[0;34m\u001b[0m\u001b[0m\n\u001b[0m\u001b[1;32m   1092\u001b[0m                 \u001b[0mnderivs\u001b[0m \u001b[0;34m+=\u001b[0m \u001b[0;36m1\u001b[0m\u001b[0;34m\u001b[0m\u001b[0m\n\u001b[1;32m   1093\u001b[0m                 \u001b[0;32mif\u001b[0m \u001b[0;32mnot\u001b[0m \u001b[0mis_symbol\u001b[0m\u001b[0;34m:\u001b[0m\u001b[0;34m\u001b[0m\u001b[0m\n",
      "\u001b[0;32m/Library/Python/2.7/site-packages/sympy/core/cache.pyc\u001b[0m in \u001b[0;36mwrapper\u001b[0;34m(*args, **kwargs)\u001b[0m\n\u001b[1;32m     91\u001b[0m             \u001b[0;32mdef\u001b[0m \u001b[0mwrapper\u001b[0m\u001b[0;34m(\u001b[0m\u001b[0;34m*\u001b[0m\u001b[0margs\u001b[0m\u001b[0;34m,\u001b[0m \u001b[0;34m**\u001b[0m\u001b[0mkwargs\u001b[0m\u001b[0;34m)\u001b[0m\u001b[0;34m:\u001b[0m\u001b[0;34m\u001b[0m\u001b[0m\n\u001b[1;32m     92\u001b[0m                 \u001b[0;32mtry\u001b[0m\u001b[0;34m:\u001b[0m\u001b[0;34m\u001b[0m\u001b[0m\n\u001b[0;32m---> 93\u001b[0;31m                     \u001b[0mretval\u001b[0m \u001b[0;34m=\u001b[0m \u001b[0mcfunc\u001b[0m\u001b[0;34m(\u001b[0m\u001b[0;34m*\u001b[0m\u001b[0margs\u001b[0m\u001b[0;34m,\u001b[0m \u001b[0;34m**\u001b[0m\u001b[0mkwargs\u001b[0m\u001b[0;34m)\u001b[0m\u001b[0;34m\u001b[0m\u001b[0m\n\u001b[0m\u001b[1;32m     94\u001b[0m                 \u001b[0;32mexcept\u001b[0m \u001b[0mTypeError\u001b[0m\u001b[0;34m:\u001b[0m\u001b[0;34m\u001b[0m\u001b[0m\n\u001b[1;32m     95\u001b[0m                     \u001b[0mretval\u001b[0m \u001b[0;34m=\u001b[0m \u001b[0mfunc\u001b[0m\u001b[0;34m(\u001b[0m\u001b[0;34m*\u001b[0m\u001b[0margs\u001b[0m\u001b[0;34m,\u001b[0m \u001b[0;34m**\u001b[0m\u001b[0mkwargs\u001b[0m\u001b[0;34m)\u001b[0m\u001b[0;34m\u001b[0m\u001b[0m\n",
      "\u001b[0;32m/Library/Python/2.7/site-packages/sympy/core/compatibility.pyc\u001b[0m in \u001b[0;36mwrapper\u001b[0;34m(*args, **kwds)\u001b[0m\n\u001b[1;32m    870\u001b[0m                         \u001b[0mstats\u001b[0m\u001b[0;34m[\u001b[0m\u001b[0mHITS\u001b[0m\u001b[0;34m]\u001b[0m \u001b[0;34m+=\u001b[0m \u001b[0;36m1\u001b[0m\u001b[0;34m\u001b[0m\u001b[0m\n\u001b[1;32m    871\u001b[0m                         \u001b[0;32mreturn\u001b[0m \u001b[0mresult\u001b[0m\u001b[0;34m\u001b[0m\u001b[0m\n\u001b[0;32m--> 872\u001b[0;31m                 \u001b[0mresult\u001b[0m \u001b[0;34m=\u001b[0m \u001b[0muser_function\u001b[0m\u001b[0;34m(\u001b[0m\u001b[0;34m*\u001b[0m\u001b[0margs\u001b[0m\u001b[0;34m,\u001b[0m \u001b[0;34m**\u001b[0m\u001b[0mkwds\u001b[0m\u001b[0;34m)\u001b[0m\u001b[0;34m\u001b[0m\u001b[0m\n\u001b[0m\u001b[1;32m    873\u001b[0m                 \u001b[0;32mwith\u001b[0m \u001b[0mlock\u001b[0m\u001b[0;34m:\u001b[0m\u001b[0;34m\u001b[0m\u001b[0m\n\u001b[1;32m    874\u001b[0m                     \u001b[0mroot\u001b[0m\u001b[0;34m,\u001b[0m \u001b[0;34m=\u001b[0m \u001b[0mnonlocal_root\u001b[0m\u001b[0;34m\u001b[0m\u001b[0m\n",
      "\u001b[0;32m/Library/Python/2.7/site-packages/sympy/core/add.pyc\u001b[0m in \u001b[0;36m_eval_derivative\u001b[0;34m(self, s)\u001b[0m\n\u001b[1;32m    350\u001b[0m     \u001b[0;34m@\u001b[0m\u001b[0mcacheit\u001b[0m\u001b[0;34m\u001b[0m\u001b[0m\n\u001b[1;32m    351\u001b[0m     \u001b[0;32mdef\u001b[0m \u001b[0m_eval_derivative\u001b[0m\u001b[0;34m(\u001b[0m\u001b[0mself\u001b[0m\u001b[0;34m,\u001b[0m \u001b[0ms\u001b[0m\u001b[0;34m)\u001b[0m\u001b[0;34m:\u001b[0m\u001b[0;34m\u001b[0m\u001b[0m\n\u001b[0;32m--> 352\u001b[0;31m         \u001b[0;32mreturn\u001b[0m \u001b[0mself\u001b[0m\u001b[0;34m.\u001b[0m\u001b[0mfunc\u001b[0m\u001b[0;34m(\u001b[0m\u001b[0;34m*\u001b[0m\u001b[0;34m[\u001b[0m\u001b[0ma\u001b[0m\u001b[0;34m.\u001b[0m\u001b[0mdiff\u001b[0m\u001b[0;34m(\u001b[0m\u001b[0ms\u001b[0m\u001b[0;34m)\u001b[0m \u001b[0;32mfor\u001b[0m \u001b[0ma\u001b[0m \u001b[0;32min\u001b[0m \u001b[0mself\u001b[0m\u001b[0;34m.\u001b[0m\u001b[0margs\u001b[0m\u001b[0;34m]\u001b[0m\u001b[0;34m)\u001b[0m\u001b[0;34m\u001b[0m\u001b[0m\n\u001b[0m\u001b[1;32m    353\u001b[0m \u001b[0;34m\u001b[0m\u001b[0m\n\u001b[1;32m    354\u001b[0m     \u001b[0;32mdef\u001b[0m \u001b[0m_eval_nseries\u001b[0m\u001b[0;34m(\u001b[0m\u001b[0mself\u001b[0m\u001b[0;34m,\u001b[0m \u001b[0mx\u001b[0m\u001b[0;34m,\u001b[0m \u001b[0mn\u001b[0m\u001b[0;34m,\u001b[0m \u001b[0mlogx\u001b[0m\u001b[0;34m)\u001b[0m\u001b[0;34m:\u001b[0m\u001b[0;34m\u001b[0m\u001b[0m\n",
      "\u001b[0;32m/Library/Python/2.7/site-packages/sympy/core/expr.pyc\u001b[0m in \u001b[0;36mdiff\u001b[0;34m(self, *symbols, **assumptions)\u001b[0m\n\u001b[1;32m   2773\u001b[0m         \u001b[0mnew_symbols\u001b[0m \u001b[0;34m=\u001b[0m \u001b[0mlist\u001b[0m\u001b[0;34m(\u001b[0m\u001b[0mmap\u001b[0m\u001b[0;34m(\u001b[0m\u001b[0msympify\u001b[0m\u001b[0;34m,\u001b[0m \u001b[0msymbols\u001b[0m\u001b[0;34m)\u001b[0m\u001b[0;34m)\u001b[0m  \u001b[0;31m# e.g. x, 2, y, z\u001b[0m\u001b[0;34m\u001b[0m\u001b[0m\n\u001b[1;32m   2774\u001b[0m         \u001b[0massumptions\u001b[0m\u001b[0;34m.\u001b[0m\u001b[0msetdefault\u001b[0m\u001b[0;34m(\u001b[0m\u001b[0;34m\"evaluate\"\u001b[0m\u001b[0;34m,\u001b[0m \u001b[0mTrue\u001b[0m\u001b[0;34m)\u001b[0m\u001b[0;34m\u001b[0m\u001b[0m\n\u001b[0;32m-> 2775\u001b[0;31m         \u001b[0;32mreturn\u001b[0m \u001b[0mDerivative\u001b[0m\u001b[0;34m(\u001b[0m\u001b[0mself\u001b[0m\u001b[0;34m,\u001b[0m \u001b[0;34m*\u001b[0m\u001b[0mnew_symbols\u001b[0m\u001b[0;34m,\u001b[0m \u001b[0;34m**\u001b[0m\u001b[0massumptions\u001b[0m\u001b[0;34m)\u001b[0m\u001b[0;34m\u001b[0m\u001b[0m\n\u001b[0m\u001b[1;32m   2776\u001b[0m \u001b[0;34m\u001b[0m\u001b[0m\n\u001b[1;32m   2777\u001b[0m     \u001b[0;31m###########################################################################\u001b[0m\u001b[0;34m\u001b[0m\u001b[0;34m\u001b[0m\u001b[0m\n",
      "\u001b[0;32m/Library/Python/2.7/site-packages/sympy/core/function.pyc\u001b[0m in \u001b[0;36m__new__\u001b[0;34m(cls, expr, *variables, **assumptions)\u001b[0m\n\u001b[1;32m   1089\u001b[0m                     \u001b[0mold_v\u001b[0m \u001b[0;34m=\u001b[0m \u001b[0mv\u001b[0m\u001b[0;34m\u001b[0m\u001b[0m\n\u001b[1;32m   1090\u001b[0m                     \u001b[0mv\u001b[0m \u001b[0;34m=\u001b[0m \u001b[0mnew_v\u001b[0m\u001b[0;34m\u001b[0m\u001b[0m\n\u001b[0;32m-> 1091\u001b[0;31m                 \u001b[0mobj\u001b[0m \u001b[0;34m=\u001b[0m \u001b[0mexpr\u001b[0m\u001b[0;34m.\u001b[0m\u001b[0m_eval_derivative\u001b[0m\u001b[0;34m(\u001b[0m\u001b[0mv\u001b[0m\u001b[0;34m)\u001b[0m\u001b[0;34m\u001b[0m\u001b[0m\n\u001b[0m\u001b[1;32m   1092\u001b[0m                 \u001b[0mnderivs\u001b[0m \u001b[0;34m+=\u001b[0m \u001b[0;36m1\u001b[0m\u001b[0;34m\u001b[0m\u001b[0m\n\u001b[1;32m   1093\u001b[0m                 \u001b[0;32mif\u001b[0m \u001b[0;32mnot\u001b[0m \u001b[0mis_symbol\u001b[0m\u001b[0;34m:\u001b[0m\u001b[0;34m\u001b[0m\u001b[0m\n",
      "\u001b[0;32m/Library/Python/2.7/site-packages/sympy/core/cache.pyc\u001b[0m in \u001b[0;36mwrapper\u001b[0;34m(*args, **kwargs)\u001b[0m\n\u001b[1;32m     91\u001b[0m             \u001b[0;32mdef\u001b[0m \u001b[0mwrapper\u001b[0m\u001b[0;34m(\u001b[0m\u001b[0;34m*\u001b[0m\u001b[0margs\u001b[0m\u001b[0;34m,\u001b[0m \u001b[0;34m**\u001b[0m\u001b[0mkwargs\u001b[0m\u001b[0;34m)\u001b[0m\u001b[0;34m:\u001b[0m\u001b[0;34m\u001b[0m\u001b[0m\n\u001b[1;32m     92\u001b[0m                 \u001b[0;32mtry\u001b[0m\u001b[0;34m:\u001b[0m\u001b[0;34m\u001b[0m\u001b[0m\n\u001b[0;32m---> 93\u001b[0;31m                     \u001b[0mretval\u001b[0m \u001b[0;34m=\u001b[0m \u001b[0mcfunc\u001b[0m\u001b[0;34m(\u001b[0m\u001b[0;34m*\u001b[0m\u001b[0margs\u001b[0m\u001b[0;34m,\u001b[0m \u001b[0;34m**\u001b[0m\u001b[0mkwargs\u001b[0m\u001b[0;34m)\u001b[0m\u001b[0;34m\u001b[0m\u001b[0m\n\u001b[0m\u001b[1;32m     94\u001b[0m                 \u001b[0;32mexcept\u001b[0m \u001b[0mTypeError\u001b[0m\u001b[0;34m:\u001b[0m\u001b[0;34m\u001b[0m\u001b[0m\n\u001b[1;32m     95\u001b[0m                     \u001b[0mretval\u001b[0m \u001b[0;34m=\u001b[0m \u001b[0mfunc\u001b[0m\u001b[0;34m(\u001b[0m\u001b[0;34m*\u001b[0m\u001b[0margs\u001b[0m\u001b[0;34m,\u001b[0m \u001b[0;34m**\u001b[0m\u001b[0mkwargs\u001b[0m\u001b[0;34m)\u001b[0m\u001b[0;34m\u001b[0m\u001b[0m\n",
      "\u001b[0;32m/Library/Python/2.7/site-packages/sympy/core/compatibility.pyc\u001b[0m in \u001b[0;36mwrapper\u001b[0;34m(*args, **kwds)\u001b[0m\n\u001b[1;32m    870\u001b[0m                         \u001b[0mstats\u001b[0m\u001b[0;34m[\u001b[0m\u001b[0mHITS\u001b[0m\u001b[0;34m]\u001b[0m \u001b[0;34m+=\u001b[0m \u001b[0;36m1\u001b[0m\u001b[0;34m\u001b[0m\u001b[0m\n\u001b[1;32m    871\u001b[0m                         \u001b[0;32mreturn\u001b[0m \u001b[0mresult\u001b[0m\u001b[0;34m\u001b[0m\u001b[0m\n\u001b[0;32m--> 872\u001b[0;31m                 \u001b[0mresult\u001b[0m \u001b[0;34m=\u001b[0m \u001b[0muser_function\u001b[0m\u001b[0;34m(\u001b[0m\u001b[0;34m*\u001b[0m\u001b[0margs\u001b[0m\u001b[0;34m,\u001b[0m \u001b[0;34m**\u001b[0m\u001b[0mkwds\u001b[0m\u001b[0;34m)\u001b[0m\u001b[0;34m\u001b[0m\u001b[0m\n\u001b[0m\u001b[1;32m    873\u001b[0m                 \u001b[0;32mwith\u001b[0m \u001b[0mlock\u001b[0m\u001b[0;34m:\u001b[0m\u001b[0;34m\u001b[0m\u001b[0m\n\u001b[1;32m    874\u001b[0m                     \u001b[0mroot\u001b[0m\u001b[0;34m,\u001b[0m \u001b[0;34m=\u001b[0m \u001b[0mnonlocal_root\u001b[0m\u001b[0;34m\u001b[0m\u001b[0m\n",
      "\u001b[0;32m/Library/Python/2.7/site-packages/sympy/core/mul.pyc\u001b[0m in \u001b[0;36m_eval_derivative\u001b[0;34m(self, s)\u001b[0m\n\u001b[1;32m    795\u001b[0m             \u001b[0;32mif\u001b[0m \u001b[0md\u001b[0m\u001b[0;34m:\u001b[0m\u001b[0;34m\u001b[0m\u001b[0m\n\u001b[1;32m    796\u001b[0m                 \u001b[0mterms\u001b[0m\u001b[0;34m.\u001b[0m\u001b[0mappend\u001b[0m\u001b[0;34m(\u001b[0m\u001b[0mself\u001b[0m\u001b[0;34m.\u001b[0m\u001b[0mfunc\u001b[0m\u001b[0;34m(\u001b[0m\u001b[0;34m*\u001b[0m\u001b[0;34m(\u001b[0m\u001b[0margs\u001b[0m\u001b[0;34m[\u001b[0m\u001b[0;34m:\u001b[0m\u001b[0mi\u001b[0m\u001b[0;34m]\u001b[0m \u001b[0;34m+\u001b[0m \u001b[0;34m[\u001b[0m\u001b[0md\u001b[0m\u001b[0;34m]\u001b[0m \u001b[0;34m+\u001b[0m \u001b[0margs\u001b[0m\u001b[0;34m[\u001b[0m\u001b[0mi\u001b[0m \u001b[0;34m+\u001b[0m \u001b[0;36m1\u001b[0m\u001b[0;34m:\u001b[0m\u001b[0;34m]\u001b[0m\u001b[0;34m)\u001b[0m\u001b[0;34m)\u001b[0m\u001b[0;34m)\u001b[0m\u001b[0;34m\u001b[0m\u001b[0m\n\u001b[0;32m--> 797\u001b[0;31m         \u001b[0;32mreturn\u001b[0m \u001b[0mAdd\u001b[0m\u001b[0;34m(\u001b[0m\u001b[0;34m*\u001b[0m\u001b[0mterms\u001b[0m\u001b[0;34m)\u001b[0m\u001b[0;34m\u001b[0m\u001b[0m\n\u001b[0m\u001b[1;32m    798\u001b[0m \u001b[0;34m\u001b[0m\u001b[0m\n\u001b[1;32m    799\u001b[0m     \u001b[0;32mdef\u001b[0m \u001b[0m_matches_simple\u001b[0m\u001b[0;34m(\u001b[0m\u001b[0mself\u001b[0m\u001b[0;34m,\u001b[0m \u001b[0mexpr\u001b[0m\u001b[0;34m,\u001b[0m \u001b[0mrepl_dict\u001b[0m\u001b[0;34m)\u001b[0m\u001b[0;34m:\u001b[0m\u001b[0;34m\u001b[0m\u001b[0m\n",
      "\u001b[0;32m/Library/Python/2.7/site-packages/sympy/core/cache.pyc\u001b[0m in \u001b[0;36mwrapper\u001b[0;34m(*args, **kwargs)\u001b[0m\n\u001b[1;32m     91\u001b[0m             \u001b[0;32mdef\u001b[0m \u001b[0mwrapper\u001b[0m\u001b[0;34m(\u001b[0m\u001b[0;34m*\u001b[0m\u001b[0margs\u001b[0m\u001b[0;34m,\u001b[0m \u001b[0;34m**\u001b[0m\u001b[0mkwargs\u001b[0m\u001b[0;34m)\u001b[0m\u001b[0;34m:\u001b[0m\u001b[0;34m\u001b[0m\u001b[0m\n\u001b[1;32m     92\u001b[0m                 \u001b[0;32mtry\u001b[0m\u001b[0;34m:\u001b[0m\u001b[0;34m\u001b[0m\u001b[0m\n\u001b[0;32m---> 93\u001b[0;31m                     \u001b[0mretval\u001b[0m \u001b[0;34m=\u001b[0m \u001b[0mcfunc\u001b[0m\u001b[0;34m(\u001b[0m\u001b[0;34m*\u001b[0m\u001b[0margs\u001b[0m\u001b[0;34m,\u001b[0m \u001b[0;34m**\u001b[0m\u001b[0mkwargs\u001b[0m\u001b[0;34m)\u001b[0m\u001b[0;34m\u001b[0m\u001b[0m\n\u001b[0m\u001b[1;32m     94\u001b[0m                 \u001b[0;32mexcept\u001b[0m \u001b[0mTypeError\u001b[0m\u001b[0;34m:\u001b[0m\u001b[0;34m\u001b[0m\u001b[0m\n\u001b[1;32m     95\u001b[0m                     \u001b[0mretval\u001b[0m \u001b[0;34m=\u001b[0m \u001b[0mfunc\u001b[0m\u001b[0;34m(\u001b[0m\u001b[0;34m*\u001b[0m\u001b[0margs\u001b[0m\u001b[0;34m,\u001b[0m \u001b[0;34m**\u001b[0m\u001b[0mkwargs\u001b[0m\u001b[0;34m)\u001b[0m\u001b[0;34m\u001b[0m\u001b[0m\n",
      "\u001b[0;32m/Library/Python/2.7/site-packages/sympy/core/compatibility.pyc\u001b[0m in \u001b[0;36mwrapper\u001b[0;34m(*args, **kwds)\u001b[0m\n\u001b[1;32m    871\u001b[0m                         \u001b[0;32mreturn\u001b[0m \u001b[0mresult\u001b[0m\u001b[0;34m\u001b[0m\u001b[0m\n\u001b[1;32m    872\u001b[0m                 \u001b[0mresult\u001b[0m \u001b[0;34m=\u001b[0m \u001b[0muser_function\u001b[0m\u001b[0;34m(\u001b[0m\u001b[0;34m*\u001b[0m\u001b[0margs\u001b[0m\u001b[0;34m,\u001b[0m \u001b[0;34m**\u001b[0m\u001b[0mkwds\u001b[0m\u001b[0;34m)\u001b[0m\u001b[0;34m\u001b[0m\u001b[0m\n\u001b[0;32m--> 873\u001b[0;31m                 \u001b[0;32mwith\u001b[0m \u001b[0mlock\u001b[0m\u001b[0;34m:\u001b[0m\u001b[0;34m\u001b[0m\u001b[0m\n\u001b[0m\u001b[1;32m    874\u001b[0m                     \u001b[0mroot\u001b[0m\u001b[0;34m,\u001b[0m \u001b[0;34m=\u001b[0m \u001b[0mnonlocal_root\u001b[0m\u001b[0;34m\u001b[0m\u001b[0m\n\u001b[1;32m    875\u001b[0m                     \u001b[0;32mif\u001b[0m \u001b[0mkey\u001b[0m \u001b[0;32min\u001b[0m \u001b[0mcache\u001b[0m\u001b[0;34m:\u001b[0m\u001b[0;34m\u001b[0m\u001b[0m\n",
      "\u001b[0;32m/System/Library/Frameworks/Python.framework/Versions/2.7/lib/python2.7/threading.pyc\u001b[0m in \u001b[0;36macquire\u001b[0;34m(self, blocking)\u001b[0m\n\u001b[1;32m    145\u001b[0m                 self.__class__.__name__, owner, self.__count)\n\u001b[1;32m    146\u001b[0m \u001b[0;34m\u001b[0m\u001b[0m\n\u001b[0;32m--> 147\u001b[0;31m     \u001b[0;32mdef\u001b[0m \u001b[0macquire\u001b[0m\u001b[0;34m(\u001b[0m\u001b[0mself\u001b[0m\u001b[0;34m,\u001b[0m \u001b[0mblocking\u001b[0m\u001b[0;34m=\u001b[0m\u001b[0;36m1\u001b[0m\u001b[0;34m)\u001b[0m\u001b[0;34m:\u001b[0m\u001b[0;34m\u001b[0m\u001b[0m\n\u001b[0m\u001b[1;32m    148\u001b[0m         \"\"\"Acquire a lock, blocking or non-blocking.\n\u001b[1;32m    149\u001b[0m \u001b[0;34m\u001b[0m\u001b[0m\n",
      "\u001b[0;31mKeyboardInterrupt\u001b[0m: "
     ]
    }
   ],
   "source": [
    "# función e^t\n",
    "f = exp(Symbol('t'))\n",
    "alpha = 46.4\n",
    "t = np.pi/2\n",
    "print \"Valor para alpha={0} y t={1} = {2}\".format(int(alpha),t,fraction_diff(f,t,int(alpha)))\n",
    "print \"Valor para alpha={0} y t={1} = {2}\".format(alpha,t,fraction_diff(f,t,alpha))\n",
    "print \"Valor para alpha={0} y t={1} = {2}\".format(int(alpha)+1,t,fraction_diff(f,t,int(alpha)+1))"
   ]
  },
  {
   "cell_type": "code",
   "execution_count": 154,
   "metadata": {
    "collapsed": false
   },
   "outputs": [
    {
     "name": "stdout",
     "output_type": "stream",
     "text": [
      "Valor para alpha=0 y t=1.57079632679 = 1.57079632679490\n",
      "Valor para alpha=0.7 y t=1.57079632679 = 1.22227708423786\n",
      "Valor para alpha=1 y t=1.57079632679 = 1.00000000000000\n"
     ]
    }
   ],
   "source": [
    "# función t\n",
    "f = Symbol('t')\n",
    "alpha = 0.7\n",
    "t = np.pi/2\n",
    "print \"Valor para alpha={0} y t={1} = {2}\".format(int(alpha),t,fraction_diff(f,t,int(alpha)))\n",
    "print \"Valor para alpha={0} y t={1} = {2}\".format(alpha,t,fraction_diff(f,t,alpha))\n",
    "print \"Valor para alpha={0} y t={1} = {2}\".format(int(alpha)+1,t,fraction_diff(f,t,int(alpha)+1))"
   ]
  },
  {
   "cell_type": "code",
   "execution_count": 155,
   "metadata": {
    "collapsed": false
   },
   "outputs": [
    {
     "name": "stdout",
     "output_type": "stream",
     "text": [
      "Valor para alpha=0 y t=1.57079632679 = 0.451582705289455\n",
      "Valor para alpha=0.3 y t=1.57079632679 = 0.736026050015352\n",
      "Valor para alpha=1 y t=1.57079632679 = 0.636619772367581\n"
     ]
    }
   ],
   "source": [
    "# función log(t)\n",
    "f = log(Symbol('t'))\n",
    "alpha = 0.3\n",
    "t = np.pi/2\n",
    "print \"Valor para alpha={0} y t={1} = {2}\".format(int(alpha),t,fraction_diff(f,t,int(alpha)))\n",
    "print \"Valor para alpha={0} y t={1} = {2}\".format(alpha,t,fraction_diff(f,t,alpha))\n",
    "print \"Valor para alpha={0} y t={1} = {2}\".format(int(alpha)+1,t,fraction_diff(f,t,int(alpha)+1))"
   ]
  },
  {
   "cell_type": "code",
   "execution_count": 156,
   "metadata": {
    "collapsed": false
   },
   "outputs": [
    {
     "name": "stdout",
     "output_type": "stream",
     "text": [
      "Valor para alpha=0 y t=1.57079632679 = 2.46740110027234\n",
      "Valor para alpha=0.5 y t=1.57079632679 = 2.94585710118434\n",
      "Valor para alpha=1 y t=1.57079632679 = 3.14159265358979\n"
     ]
    }
   ],
   "source": [
    "# función t^2\n",
    "f = Symbol('t')**2\n",
    "alpha = 0.5\n",
    "t = np.pi/2\n",
    "print \"Valor para alpha={0} y t={1} = {2}\".format(int(alpha),t,fraction_diff(f,t,int(alpha)))\n",
    "print \"Valor para alpha={0} y t={1} = {2}\".format(alpha,t,fraction_diff(f,t,alpha))\n",
    "print \"Valor para alpha={0} y t={1} = {2}\".format(int(alpha)+1,t,fraction_diff(f,t,int(alpha)+1))"
   ]
  },
  {
   "cell_type": "code",
   "execution_count": 157,
   "metadata": {
    "collapsed": false
   },
   "outputs": [
    {
     "name": "stdout",
     "output_type": "stream",
     "text": [
      "Valor para alpha=0 y t=1.57079632679 = 0.917152335667274\n",
      "Valor para alpha=0.5 y t=1.57079632679 = 0.609080313475519\n",
      "Valor para alpha=1 y t=1.57079632679 = 0.158831593180063\n"
     ]
    }
   ],
   "source": [
    "# función tanh(t)\n",
    "f = tanh(Symbol('t'))\n",
    "alpha = 0.5\n",
    "t = np.pi/2\n",
    "print \"Valor para alpha={0} y t={1} = {2}\".format(int(alpha),t,fraction_diff(f,t,int(alpha)))\n",
    "print \"Valor para alpha={0} y t={1} = {2}\".format(alpha,t,fraction_diff(f,t,alpha))\n",
    "print \"Valor para alpha={0} y t={1} = {2}\".format(int(alpha)+1,t,fraction_diff(f,t,int(alpha)+1))"
   ]
  },
  {
   "cell_type": "code",
   "execution_count": 93,
   "metadata": {
    "collapsed": false
   },
   "outputs": [],
   "source": [
    "def diff_alpha(f,t,alpha,a=0):\n",
    "    x=Symbol('x')\n",
    "    k=Symbol('k')\n",
    "    \n",
    "\n",
    "    \n",
    "    if alpha <1:\n",
    "        f_prima = diff(f,x)\n",
    "        denom = 1/((k-x)**alpha)\n",
    "        g = f_prima*denom\n",
    "        resultado = (1/gamma(1-alpha))*integrate(g,(x,0,k))\n",
    "\n",
    "        resultado2 = resultado.subs(k,t).evalf()\n",
    "        \n",
    "        return resultado2\n",
    "        \n",
    "    else:\n",
    "        alpha_int = int(alpha)\n",
    "        alpha_float = alpha - alpha_int\n",
    "        \n",
    "        f_prima = diff(f,x)\n",
    "        denom = 1/((k-x)**alpha_float)\n",
    "        g = f_prima*denom\n",
    "        resultado = (1/gamma(1-alpha_float))*integrate(g,(x,0,k))\n",
    "        \n",
    "        resultado = diff(resultado,k, alpha_int)\n",
    "        resultado2 = resultado.subs(k,t).evalf()\n",
    "        \n",
    "        return resultado2\n",
    "    \n",
    "#print t\n",
    "#print \"implementacion : \", diff_alpha(lambda x: exp(x),t,0.5,a=0)\n",
    "x = Symbol('x')\n",
    "res = diff_alpha(sympify('exp(x)'), 1, 0.5, a=0)\n"
   ]
  },
  {
   "cell_type": "code",
   "execution_count": 94,
   "metadata": {
    "collapsed": false
   },
   "outputs": [
    {
     "name": "stdout",
     "output_type": "stream",
     "text": [
      "2.29069825230324\n"
     ]
    }
   ],
   "source": [
    "print res"
   ]
  },
  {
   "cell_type": "code",
   "execution_count": null,
   "metadata": {
    "collapsed": true
   },
   "outputs": [],
   "source": [
    "res1 = diff_alpha(sympify(20), 1, 0.2, a=0)\n",
    "for i in np.arange(0,1,0.1):\n",
    "    print diff_alpha(sympify(20), 1, i, a=0)"
   ]
  },
  {
   "cell_type": "code",
   "execution_count": null,
   "metadata": {
    "collapsed": true
   },
   "outputs": [],
   "source": [
    "res2 = diff_alpha(sin(x), pi, 1, a=0)\n",
    "for i in np.arange(1,2,0.1):\n",
    "    print diff_alpha(sin(x), pi/4, i, a=0)"
   ]
  },
  {
   "cell_type": "code",
   "execution_count": null,
   "metadata": {
    "collapsed": true
   },
   "outputs": [],
   "source": [
    "res3 = diff_alpha(exp(x), 1, 46.4, a=0)\n",
    "for i in np.arange(46,47,0.1):\n",
    "    print diff_alpha(exp(x), 10, i, a=0)"
   ]
  },
  {
   "cell_type": "code",
   "execution_count": null,
   "metadata": {
    "collapsed": true
   },
   "outputs": [],
   "source": [
    "res4 = diff_alpha((x), 1, 0.7, a=0)\n",
    "for i in np.arange(0,1,0.1):\n",
    "    diff_alpha((x), 1, i, a=0)"
   ]
  },
  {
   "cell_type": "code",
   "execution_count": null,
   "metadata": {
    "collapsed": true
   },
   "outputs": [],
   "source": [
    "x = Symbol('x')\n",
    "for i in np.arange(0.2,1,0.1):\n",
    "    print diff_alpha(log(x), 2, i, a=0)"
   ]
  },
  {
   "cell_type": "code",
   "execution_count": null,
   "metadata": {
    "collapsed": true
   },
   "outputs": [],
   "source": [
    "res6 = diff_alpha(x**2, 100, 0.5, a=0)"
   ]
  },
  {
   "cell_type": "code",
   "execution_count": null,
   "metadata": {
    "collapsed": true
   },
   "outputs": [],
   "source": []
  },
  {
   "cell_type": "code",
   "execution_count": 130,
   "metadata": {
    "collapsed": false
   },
   "outputs": [],
   "source": [
    "x=Symbol('x')\n",
    "k=Symbol('k')\n",
    "\n",
    "f = exp(x)\n",
    "f_prima = diff(f,x)\n",
    "denom = 1/((k - x)**0.5)\n",
    "g = f_prima*denom \n",
    "\n",
    "i = integrate(g,(x,k,0))"
   ]
  },
  {
   "cell_type": "code",
   "execution_count": 136,
   "metadata": {
    "collapsed": false
   },
   "outputs": [
    {
     "name": "stdout",
     "output_type": "stream",
     "text": [
      "zoo*exp(k) + Integral(-0.5*(k - x)**(-1.5)*exp(x), (x, k, 0))\n"
     ]
    }
   ],
   "source": [
    "ip = diff(i, k)\n",
    "print ip.subs(k)"
   ]
  },
  {
   "cell_type": "code",
   "execution_count": null,
   "metadata": {
    "collapsed": true
   },
   "outputs": [],
   "source": [
    "x,y,z=symbols('x y z')\n",
    "init_printing(use_unicode=True)\n",
    "t=10\n",
    "a=0\n",
    "alpha=0.5\n",
    "#y=(2*x-t-a)/(t-a)\n",
    "\n",
    "y_y=((x+1)*(t-a))/2.0 + a\n",
    "j = ((t-a)/2.0)**(1-alpha)\n",
    "#denom = 1/(1-x)**(alpha)\n",
    "denom = 1/(t - ((x+1)*(t-a)/2.0) - a)**alpha\n",
    "\n",
    "funcion=diff(exp(y_y),x)*denom\n",
    "f_1 = lambda t: funcion.evalf(subs={x: t})\n",
    "# la derivada esta bien e incluye lo que bota la regla de la cadena\n",
    "# es decir dy=algo*dx\n",
    "\n",
    "#print diff(exp(y_y),x)\n",
    "#print f_1(0.)\n",
    "#print funcion.evalf(subs={x:0.0})\n",
    "print f_1\n",
    "#print lambda x: funcion.doit()\n",
    "print (1/gamma(1-alpha))*gaussianquad(f_1, 1000, -1, 1)\n",
    "#print np.vectorize(funcion)\n",
    "#print funcion\n",
    "\n",
    "#f = np.vectorize(lambda l: funcion) # So we can apply it to arrays without trouble\n",
    "#print f\n",
    "#lala, w = gaussian_nodes_and_weights(10, -1, 1)\n",
    "#int_val = sum( w * f(lala))\n",
    "#print int_val"
   ]
  }
 ],
 "metadata": {
  "kernelspec": {
   "display_name": "Python 2",
   "language": "python",
   "name": "python2"
  },
  "language_info": {
   "codemirror_mode": {
    "name": "ipython",
    "version": 2
   },
   "file_extension": ".py",
   "mimetype": "text/x-python",
   "name": "python",
   "nbconvert_exporter": "python",
   "pygments_lexer": "ipython2",
   "version": "2.7.10"
  }
 },
 "nbformat": 4,
 "nbformat_minor": 0
}
