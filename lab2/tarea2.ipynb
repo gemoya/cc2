{
 "cells": [
  {
   "cell_type": "markdown",
   "metadata": {
    "collapsed": true
   },
   "source": [
    "# <center> Laboratorio 2 </center>\n",
    "## <center> Computación científica II </center>\n",
    "## <center> Ariel Sanhueza Román - asanhuez@alumnos.inf.utfsm.cl - 201173005-4 </center>\n",
    "## <center> Gonzalo Moya Rodríguez - gemoya@alumnos.inf.utfsm.cl - 201173016-k </center>"
   ]
  },
  {
   "cell_type": "markdown",
   "metadata": {},
   "source": [
    "# Introducción"
   ]
  },
  {
   "cell_type": "markdown",
   "metadata": {},
   "source": [
    "# Previo\n",
    "Primero, importaremos las bibliotecas previas:"
   ]
  },
  {
   "cell_type": "code",
   "execution_count": 3,
   "metadata": {
    "collapsed": true
   },
   "outputs": [],
   "source": [
    "import numpy as np\n",
    "from scipy import linalg\n",
    "%matplotlib inline\n",
    "from matplotlib import pyplot as plt\n",
    "from mpl_toolkits.mplot3d import Axes3D\n",
    "from numpy.linalg import norm, solve\n",
    "%load_ext memory_profiler"
   ]
  },
  {
   "cell_type": "markdown",
   "metadata": {},
   "source": [
    "# Desarrollo\n",
    "\n",
    "## Integración impropia\n",
    "\n",
    "### Pregunta 1\n",
    "Primero, separaremos la integral en dos partes:\n",
    "\\begin{align*}\n",
    "    \\int_{-\\infty}^x \\frac{1}{\\sqrt{2\\pi}} e^{\\frac{-t^2}{2}}dt \n",
    "    &= \\int_{-\\infty}^0 \\frac{1}{\\sqrt{2\\pi}} e^{\\frac{-t^2}{2}}dt + \\int_{0}^x \\frac{1}{\\sqrt{2\\pi}} e^{\\frac{-t^2}{2}}dt\n",
    "\\end{align*}\n",
    "\n",
    "La segunda integral no genera problemas. Para la primera, por temas de orden, realizaremos dos cambios de variables. Sea $u = \\frac{1}{t+1} \\rightarrow dt = \\frac{-1}{u^2}du$, entonces tenemos:\n",
    "\\begin{align*}\n",
    "    \\int_{-\\infty}^0 \\frac{1}{\\sqrt{2\\pi}} e^{\\frac{-t^2}{2}}dt &= \\int_0^1 \\frac{-1}{\\sqrt{2\\pi}} e^{\\frac{-(1-u)^2}{2u^2}}\\frac{1}{u^2}du\n",
    "\\end{align*}\n",
    "\n",
    "Ahora, para dejar el intervalo en $[a,b]$, realizaremos el cambio $w = a + (b-a)u \\rightarrow dw = (b-a)du$, quedando finalmente:\n",
    "\n",
    "\\begin{align*}\n",
    "    \\int_0^1 \\frac{-1}{\\sqrt{2\\pi}} e^{\\frac{-(1-u)^2}{2u^2}}\\frac{1}{u^2}du &= \\int_a^b \\frac{1}{\\sqrt{2\\pi}} e^{\\frac{-(b-w)^2}{2(w-a)^2}} \\frac{(b-a)}{(w-a)^2} dw\n",
    "\\end{align*}\n",
    "\n",
    "Por lo que finalmente queda:\n",
    "\n",
    "\\begin{align*}\n",
    "    \\int_{-\\infty}^x \\frac{1}{\\sqrt{2\\pi}} e^{\\frac{-t^2}{2}}dt \n",
    "    &= \\int_a^b \\frac{1}{\\sqrt{2\\pi}} e^{\\frac{-(b-w)^2}{2(w-a)^2}} \\frac{(b-a)}{(w-a)^2} dw + \\int_{0}^x \\frac{1}{\\sqrt{2\\pi}} e^{\\frac{-t^2}{2}}dt\n",
    "\\end{align*}"
   ]
  },
  {
   "cell_type": "markdown",
   "metadata": {},
   "source": [
    "### Pregunta 2\n",
    "\n",
    "Para la implementación, utilizaremos los algoritmos implementados en clases.\n"
   ]
  },
  {
   "cell_type": "code",
   "execution_count": 4,
   "metadata": {
    "collapsed": true
   },
   "outputs": [],
   "source": [
    "def midpoint(myfun, N, a, b):\n",
    "    f = np.vectorize(myfun) # So we can apply it to arrays without trouble\n",
    "    x = np.linspace(a, b, N+1) # We want N bins, so N+1 points  \n",
    "    dx = x[1]-x[0]\n",
    "    midpoints = x[:-1] + .5*dx\n",
    "    midpoint_values = f(midpoints)\n",
    "    int_val = sum(midpoint_values*dx)\n",
    "    return int_val"
   ]
  },
  {
   "cell_type": "markdown",
   "metadata": {},
   "source": [
    "Para \"midpoint rule\" tenemos que el costo computacional, en función de $N$, es de $O(N)$ (evaluación en $N+1$ puntos)."
   ]
  },
  {
   "cell_type": "code",
   "execution_count": 7,
   "metadata": {
    "collapsed": true
   },
   "outputs": [],
   "source": [
    "def trapezoid(myfun, N, a, b):\n",
    "    f = np.vectorize(myfun) # So we can apply it to arrays without trouble\n",
    "    x = np.linspace(a, b, N+1) # We want N bins, so N+1 points  \n",
    "    h = x[1]-x[0]\n",
    "    xmiddle = x[1:-1]\n",
    "    int_val = 0.5*h*sum(f(x[0])+2*f(xmiddle)+f(x[-1]))\n",
    "    return int_val"
   ]
  },
  {
   "cell_type": "markdown",
   "metadata": {},
   "source": [
    "Para \"trapezoid rule\", la complejidad es $O(N)$, pues también se ejecutan $N+1$ evaluaciones."
   ]
  },
  {
   "cell_type": "code",
   "execution_count": 8,
   "metadata": {
    "collapsed": true
   },
   "outputs": [],
   "source": [
    "def simpsons(myfun, N, a, b):\n",
    "    f = np.vectorize(myfun) # So we can apply it to arrays without trouble\n",
    "    x = np.linspace(a, b, N+1) # We want N bins, so N+1 points\n",
    "    if N%2==1:\n",
    "        print(\"Simpsons rule only applicable to even number of segments\")\n",
    "        return\n",
    "    dx = x[1]-x[0]\n",
    "    xleft   = x[:-2:2]\n",
    "    xmiddle = x[1::2]\n",
    "    xright  = x[2::2]\n",
    "    int_val = sum((f(xleft)+4*f(xmiddle)+f(xright))*dx/3)\n",
    "    return int_val"
   ]
  },
  {
   "cell_type": "markdown",
   "metadata": {},
   "source": [
    "Para \"Simpsons rule\", también se tiene $O(N)$, pues se evalúan $N-1$ puntos (entre los extremos)."
   ]
  },
  {
   "cell_type": "code",
   "execution_count": 60,
   "metadata": {
    "collapsed": true
   },
   "outputs": [],
   "source": [
    "def gaussianquad(myfun, N, a, b):\n",
    "    f = np.vectorize(myfun) # So we can apply it to arrays without trouble\n",
    "    x, w = gaussian_nodes_and_weights(N, a, b)\n",
    "    int_val = sum( w * f(x) )\n",
    "    return int_val\n",
    "\n",
    "def gaussian_nodes_and_weights(N, a, b):\n",
    "    if N==1: return np.array([1]), np.array([2])\n",
    "    beta = .5 / np.sqrt(1.-(2.*np.arange(1.,N))**(-2))\n",
    "    T = np.diag(beta,1) + np.diag(beta,-1)\n",
    "    D, V = np.linalg.eigh(T)\n",
    "    x = D\n",
    "    x = .5 * ( (b-a)*x + b + a) # Rescaling\n",
    "    w = 2*V[0,:]**2\n",
    "    w = .5*(b-a)*w\n",
    "    return x, w"
   ]
  },
  {
   "cell_type": "markdown",
   "metadata": {
    "collapsed": true
   },
   "source": [
    "Para \"Gaussian Quadrature\", tenemos La evaluación de los $N$ puntos, pero tenemos también que encontrar los $x_i$ (que en el algoritmo usado, representan los valores propios de $T$) que es de complejidad $O(m^3)$ con $m$ tamaño de la matriz cuadrada, entonces la complejidad es $O(N + m^3) = O(m^3) = O(N^3)$."
   ]
  },
  {
   "cell_type": "markdown",
   "metadata": {},
   "source": [
    "### Pregunta 3\n",
    "Primero, definimos nuestra función y parámetros. Es importante mencionar que, dado que $\\frac{1}{\\sqrt{2\\pi}}$ es constante y aparece en todos los cálculos, se sacó de la integral para ahorrar cómputos. También es importante destacar que:\n",
    "* $f_1$ es la expresión con cambio de variables.\n",
    "* $f_2$ es la expresión que va desde 0 a $x$."
   ]
  },
  {
   "cell_type": "code",
   "execution_count": 24,
   "metadata": {
    "collapsed": false
   },
   "outputs": [],
   "source": [
    "# Intervalos\n",
    "a = -1.\n",
    "b = 1.\n",
    "x = -2.\n",
    "N = 1000\n",
    "\n",
    "# Función y constantes\n",
    "cons = 1./np.sqrt(2.*np.pi)\n",
    "f1 = lambda w: np.exp(-0.5*(b-w)**2 / (w-a)**2) * (b-a)/(w-a)**2\n",
    "f2 = lambda t: np.exp(-0.5*t**2)"
   ]
  },
  {
   "cell_type": "code",
   "execution_count": null,
   "metadata": {
    "collapsed": true
   },
   "outputs": [],
   "source": []
  },
  {
   "cell_type": "markdown",
   "metadata": {},
   "source": [
    "## The Caputo's Fractional Derivative\n",
    "\n",
    "### Pregunta 1\n",
    "\n",
    "Se realiza un cambio de variable considerando una recta que pasa por los puntos $(a,-1)$ y $(t,1)$, es decir, sea la ecuación de la recta la siguiente:\n",
    "\\begin{align*}\n",
    "\\frac{y-y_1}{\\tau-\\tau_1} = \\frac{y_2-y_1}{\\tau_2 - \\tau_1}\n",
    "\\end{align*}\n",
    "Haciendo los reemplazos correspondientes:\n",
    "\\begin{align*}\n",
    "\\frac{y+1}{\\tau-a} = \\frac{2}{t - a}\n",
    "\\end{align*}\n",
    "\n",
    "\\begin{align*}\n",
    "(y+1)(t-a) = 2(\\tau - a)\n",
    "\\end{align*}\n",
    "\n",
    "\\begin{align*}\n",
    "\\tau = \\frac{(y+1)(t-a)}{2} + a \n",
    "\\end{align*}\n",
    "Luego el diferencial de $\\tau$, $d\\tau$ es:\n",
    "\\begin{align*}\n",
    "d\\tau = \\frac{(t-a)}{2}dy\n",
    "\\end{align*}\n",
    "\n",
    "Finalmente la integral queda como\n",
    "\\begin{align*}\n",
    "\\frac{1}{\\Gamma{(1-\\alpha})}\\frac{(t-a)}{2}\\int_{-1}^1 \\frac{f'(\\frac{(y+1)(t-a)}{2} + a )}{(t - \\frac{(y+1)(t-a)}{2} -a)^{\\alpha}}dy\n",
    "\\end{align*}\n",
    "\n",
    "Pero operando sobre el denominador del argumento de la  integral se puede dejar como\n",
    "\\begin{align*}\n",
    "\\frac{1}{\\Gamma{(1-\\alpha})}{(\\frac{(t-a)}{2})}^{1-\\alpha}\\int_{-1}^1 \\frac{f'(\\frac{(y+1)(t-a)}{2} + a )}{(1-y)^{\\alpha}}dy\n",
    "\\end{align*}"
   ]
  },
  {
   "cell_type": "code",
   "execution_count": null,
   "metadata": {
    "collapsed": true
   },
   "outputs": [],
   "source": []
  }
 ],
 "metadata": {
  "kernelspec": {
   "display_name": "Python 2",
   "language": "python",
   "name": "python2"
  },
  "language_info": {
   "codemirror_mode": {
    "name": "ipython",
    "version": 2
   },
   "file_extension": ".py",
   "mimetype": "text/x-python",
   "name": "python",
   "nbconvert_exporter": "python",
   "pygments_lexer": "ipython2",
   "version": "2.7.10"
  }
 },
 "nbformat": 4,
 "nbformat_minor": 0
}
