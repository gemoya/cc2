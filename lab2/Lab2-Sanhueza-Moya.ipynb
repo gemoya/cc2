{
 "cells": [
  {
   "cell_type": "markdown",
   "metadata": {
    "collapsed": true
   },
   "source": [
    "# Laboratorio N°2 - Computación Científica II - ILI286\n",
    "\n",
    "\n",
    "**Autores**:\n",
    "+ Ariel Sanhueza Román - asanhuez@alumnos.inf.utfsm.cl - 201173005-4 \n",
    "+ Gonzalo Moya Rodríguez - gemoya@alumnos.inf.utfsm.cl - 201173016-k"
   ]
  },
  {
   "cell_type": "markdown",
   "metadata": {},
   "source": [
    "# Introducción\n",
    "\n",
    "En este laboratorio se aplicarán los conocimientos aprendidos sobre integración numérica. El primer problema consiste en calcular la integral de la distribución normal y el segundo de calcular derivadas fraccionales, la cuales tienen integrales en su definición."
   ]
  },
  {
   "cell_type": "markdown",
   "metadata": {},
   "source": [
    "# Previo\n",
    "Primero, importaremos las bibliotecas previas:"
   ]
  },
  {
   "cell_type": "code",
   "execution_count": 2,
   "metadata": {
    "collapsed": false
   },
   "outputs": [],
   "source": [
    "import numpy as np\n",
    "from scipy import linalg\n",
    "%matplotlib inline\n",
    "from matplotlib import pyplot as plt\n",
    "from scipy.special import gamma\n",
    "from sympy import *\n",
    "import time\n",
    "import math"
   ]
  },
  {
   "cell_type": "markdown",
   "metadata": {},
   "source": [
    "# Desarrollo\n",
    "\n",
    "## Integración impropia\n",
    "\n",
    "### Pregunta 1\n",
    "Primero, separaremos la integral en dos partes:\n",
    "\\begin{align*}\n",
    "    \\int_{-\\infty}^x \\frac{1}{\\sqrt{2\\pi}} e^{\\frac{-t^2}{2}}dt \n",
    "    &= \\int_{-\\infty}^0 \\frac{1}{\\sqrt{2\\pi}} e^{\\frac{-t^2}{2}}dt + \\int_{0}^x \\frac{1}{\\sqrt{2\\pi}} e^{\\frac{-t^2}{2}}dt\n",
    "\\end{align*}\n",
    "\n",
    "La segunda integral no genera problemas de indefinición. Para la primera, por temas de orden, realizaremos dos cambios de variables. Sea $u = \\frac{1}{1-t} \\rightarrow dt = \\frac{1}{u^2}du$, entonces tenemos:\n",
    "\\begin{align*}\n",
    "    \\int_{-\\infty}^0 \\frac{1}{\\sqrt{2\\pi}} e^{\\frac{-t^2}{2}}dt &= \\int_0^1 \\frac{1}{\\sqrt{2\\pi}} e^{\\frac{-(u-1)^2}{2u^2}}\\frac{1}{u^2}du\n",
    "\\end{align*}\n",
    "\n",
    "Ahora, para dejar el intervalo en $[a,b]$, realizaremos el cambio $w = a + (b-a)u \\rightarrow dw = (b-a)du$, quedando finalmente:\n",
    "\n",
    "\\begin{align*}\n",
    "    \\int_0^1 \\frac{-1}{\\sqrt{2\\pi}} e^{\\frac{-(1-u)^2}{2u^2}}\\frac{1}{u^2}du &= \\int_a^b \\frac{1}{\\sqrt{2\\pi}} e^{\\frac{-(w-b)^2}{2(w-a)^2}} \\frac{(b-a)}{(w-a)^2} dw\n",
    "\\end{align*}\n",
    "\n",
    "Ahora, la segunda integral no tiene problemas de indefinición, pero sí problemas numéricos de aproximación y error, por lo que se le aplicará el siguiente cambio de variables $u = \\frac{1}{t+1}$. Así, finalmente queda:\n",
    "\n",
    "\\begin{align*}\n",
    "    \\int_{-\\infty}^x \\frac{1}{\\sqrt{2\\pi}} e^{\\frac{-t^2}{2}}dt \n",
    "    &= \\int_a^b \\frac{1}{\\sqrt{2\\pi}} e^{\\frac{-(b-w)^2}{2(w-a)^2}} \\frac{(b-a)}{(w-a)^2} dw + \\int_{1}^{\\frac{1}{x+1}} \\frac{-1}{\\sqrt{2\\pi}} e^{-\\frac{(1-u)^2}{2u^2}} \\frac{1}{u^2}dt\n",
    "\\end{align*}"
   ]
  },
  {
   "cell_type": "markdown",
   "metadata": {},
   "source": [
    "### Pregunta 2\n",
    "\n",
    "Para la implementación, utilizaremos los algoritmos implementados en clases.\n"
   ]
  },
  {
   "cell_type": "code",
   "execution_count": 11,
   "metadata": {
    "collapsed": true
   },
   "outputs": [],
   "source": [
    "def midpoint(myfun, N, a, b):\n",
    "    f = np.vectorize(myfun) # So we can apply it to arrays without trouble\n",
    "    x = np.linspace(a, b, N+1) # We want N bins, so N+1 points  \n",
    "    dx = x[1]-x[0]\n",
    "    midpoints = x[:-1] + .5*dx\n",
    "    midpoint_values = f(midpoints)\n",
    "    int_val = sum(midpoint_values*dx)\n",
    "    return int_val"
   ]
  },
  {
   "cell_type": "markdown",
   "metadata": {},
   "source": [
    "Para \"midpoint rule\" tenemos que el costo computacional, en función de $N$, es de $O(N)$ (evaluación en $N+1$ puntos)."
   ]
  },
  {
   "cell_type": "code",
   "execution_count": 75,
   "metadata": {
    "collapsed": true
   },
   "outputs": [],
   "source": [
    "def trapezoid(myfun, N, a, b):\n",
    "    f = np.vectorize(myfun) # So we can apply it to arrays without trouble\n",
    "    x = np.linspace(a, b, N+1) # We want N bins, so N+1 points  \n",
    "    h = x[1]-x[0]\n",
    "    xmiddle = x[1:-1]\n",
    "    int_val = 0.5*h*sum(f(x[0])+2*f(xmiddle)+f(x[-1]))\n",
    "    return int_val"
   ]
  },
  {
   "cell_type": "markdown",
   "metadata": {},
   "source": [
    "Para \"trapezoid rule\", la complejidad es $O(N)$, pues también se ejecutan $N+1$ evaluaciones."
   ]
  },
  {
   "cell_type": "code",
   "execution_count": 76,
   "metadata": {
    "collapsed": true
   },
   "outputs": [],
   "source": [
    "def simpsons(myfun, N, a, b):\n",
    "    f = np.vectorize(myfun) # So we can apply it to arrays without trouble\n",
    "    x = np.linspace(a, b, N+1) # We want N bins, so N+1 points\n",
    "    if N%2==1:\n",
    "        print(\"Simpsons rule only applicable to even number of segments\")\n",
    "        return\n",
    "    dx = x[1]-x[0]\n",
    "    xleft   = x[:-2:2]\n",
    "    xmiddle = x[1::2]\n",
    "    xright  = x[2::2]\n",
    "    int_val = sum((f(xleft)+4*f(xmiddle)+f(xright))*dx/3)\n",
    "    return int_val"
   ]
  },
  {
   "cell_type": "markdown",
   "metadata": {},
   "source": [
    "Para \"Simpsons rule\", también se tiene $O(N)$, pues se evalúan $N-1$ puntos (entre los extremos)."
   ]
  },
  {
   "cell_type": "code",
   "execution_count": 2,
   "metadata": {
    "collapsed": true
   },
   "outputs": [],
   "source": [
    "def gaussianquad(myfun, N, a, b):\n",
    "    f = np.vectorize(myfun) # So we can apply it to arrays without trouble\n",
    "    x, w = gaussian_nodes_and_weights(N, a, b)\n",
    "    int_val = sum( w * f(x) )\n",
    "    return int_val\n",
    "\n",
    "def gaussian_nodes_and_weights(N, a, b):\n",
    "    if N==1: return np.array([1]), np.array([2])\n",
    "    beta = .5 / np.sqrt(1.-(2.*np.arange(1.,N))**(-2))\n",
    "    T = np.diag(beta,1) + np.diag(beta,-1)\n",
    "    D, V = np.linalg.eigh(T)\n",
    "    x = D\n",
    "    x = .5 * ( (b-a)*x + b + a) # Rescaling\n",
    "    w = 2*V[0,:]**2\n",
    "    w = .5*(b-a)*w\n",
    "    return x, w"
   ]
  },
  {
   "cell_type": "markdown",
   "metadata": {
    "collapsed": true
   },
   "source": [
    "Para \"Gaussian Quadrature\", tenemos La evaluación de los $N$ puntos, pero tenemos también que encontrar los $x_i$ (que en el algoritmo usado, representan los valores propios de $T$) que es de complejidad $O(m^3)$ con $m$ tamaño de la matriz cuadrada, entonces la complejidad es $O(N + m^3) = O(m^3) = O(N^3)$."
   ]
  },
  {
   "cell_type": "markdown",
   "metadata": {},
   "source": [
    "### Pregunta 3\n",
    "Primero, definimos nuestra función y parámetros. Es importante mencionar que, dado que $\\frac{1}{\\sqrt{2\\pi}}$ es constante y aparece en todos los cálculos, se sacó de la integral para ahorrar cómputos. También es importante destacar que:\n",
    "* $f_1$ es la expresión con cambio de variables.\n",
    "* $f_2$ es la expresión que va desde 0 a $x$."
   ]
  },
  {
   "cell_type": "code",
   "execution_count": 9,
   "metadata": {
    "collapsed": false
   },
   "outputs": [],
   "source": [
    "# Intervalos\n",
    "a = 0.\n",
    "b = 1.\n",
    "\n",
    "# Función y constantes\n",
    "# Constante\n",
    "cons = 1./np.sqrt(2.*np.pi)\n",
    "# Función de la primera integral\n",
    "f1 = lambda w: np.exp(-0.5*((w-b)/(w-a))**2) * (b-a)/(w-a)**2\n",
    "# Función sin cambio de variables\n",
    "f2 = lambda t: np.exp(-0.5*t**2)\n",
    "# Función de la segunda integral con cambio de variables\n",
    "f3 = lambda u: -np.exp(-0.5*((1-u)/u)**2)/u**2\n",
    "repeat = 50.\n",
    "\n",
    "# Puntos\n",
    "points = np.logspace(0,49)\n",
    "\n",
    "def get_data(f1, points, f2 = None, method = 'mp', type = ''):\n",
    "    data = []\n",
    "    if method == 'mp':\n",
    "        func = midpoint\n",
    "    elif method == 'trap':\n",
    "        func = trapezoid\n",
    "    elif method == 'simp':\n",
    "        func = simpsons\n",
    "    else:\n",
    "        func = gaussianquad\n",
    "    \n",
    "    if type == '':\n",
    "        for i in range(len(points)):\n",
    "            data.append(cons*func(f1,N,a,b) + cons*func(f2,N,1,1/(points[i]+1)))\n",
    "    else:\n",
    "        for i in range(len(points)):\n",
    "            T = 0\n",
    "            for j in range(int(repeat)):\n",
    "                start = time.time()\n",
    "                cons*func(f1,N,a,b) + cons*func(f2,N,1,1/(points[i]+1))\n",
    "                end = time.time()\n",
    "                T += (end-start)*1000\n",
    "            data.append(T/float(repeat))\n",
    "    return data"
   ]
  },
  {
   "cell_type": "markdown",
   "metadata": {
    "collapsed": true
   },
   "source": [
    "Debido al cambio usado, el método de Simpsons y del Trapezoide no funcionan debido a que la transformación se indefine en el parámetro $a$ y estos dos métodos evalúan las funciones en sus extremos por lo que mostraremos los gráficos asociados a los métodos que sí funcionan.\n",
    "\n",
    "Primero, los gráficos asociados al cálculo de la integral para distintos N, los cuales son $10,100,200$."
   ]
  },
  {
   "cell_type": "code",
   "execution_count": 18,
   "metadata": {
    "collapsed": false
   },
   "outputs": [
    {
     "data": {
      "image/png": "[encoded data removed]",
      "text/plain": [
       "<matplotlib.figure.Figure at 0x4123e10>"
      ]
     },
     "metadata": {},
     "output_type": "display_data"
    },
    {
     "data": {
      "image/png": "[encoded data removed]",
      "text/plain": [
       "<matplotlib.figure.Figure at 0x1c70c10>"
      ]
     },
     "metadata": {},
     "output_type": "display_data"
    }
   ],
   "source": [
    "# Midpoint rule\n",
    "N = 10\n",
    "plt.loglog(points, get_data(f1, points, f3, 'mp'), 'or')\n",
    "plt.xlabel(\"x\")\n",
    "plt.ylabel(\"valor integral\")\n",
    "plt.title(\"Midpoint rule. N = 10\")\n",
    "plt.ylim([0.5, 1.5])\n",
    "plt.show()\n",
    "\n",
    "# trapezoid: Error\n",
    "\n",
    "# Simpsons: Error\n",
    "\n",
    "# Gaussian Quadrature\n",
    "plt.loglog(points, get_data(f1, points, f3, ''), 'or')\n",
    "plt.xlabel(\"x\")\n",
    "plt.ylabel(\"valor integral\")\n",
    "plt.title(\"Gaussian Quadrature. N = 10\")\n",
    "plt.ylim([0.5, 1.5])\n",
    "plt.show()"
   ]
  },
  {
   "cell_type": "code",
   "execution_count": 17,
   "metadata": {
    "collapsed": false,
    "scrolled": false
   },
   "outputs": [
    {
     "data": {
      "image/png": "[encoded data removed]",
      "text/plain": [
       "<matplotlib.figure.Figure at 0x48424d0>"
      ]
     },
     "metadata": {},
     "output_type": "display_data"
    },
    {
     "data": {
      "image/png": "[encoded data removed]",
      "text/plain": [
       "<matplotlib.figure.Figure at 0x1d09e10>"
      ]
     },
     "metadata": {},
     "output_type": "display_data"
    }
   ],
   "source": [
    "# Midpoint rule\n",
    "N = 100\n",
    "plt.loglog(points, get_data(f1, points, f3, 'mp'), 'or')\n",
    "plt.xlabel(\"x\")\n",
    "plt.ylabel(\"valor integral\")\n",
    "plt.title(\"Midpoint rule. N = 100\")\n",
    "plt.ylim([0.5, 1.5])\n",
    "plt.show()\n",
    "\n",
    "# trapezoid: Error\n",
    "\n",
    "# Simpsons: Error\n",
    "\n",
    "# Gaussian Quadrature\n",
    "plt.loglog(points, get_data(f1, points, f3, ''), 'or')\n",
    "plt.xlabel(\"x\")\n",
    "plt.ylabel(\"valor integral\")\n",
    "plt.title(\"Gaussian Quadrature. N = 100\")\n",
    "plt.ylim([0.5, 1.5])\n",
    "plt.show()"
   ]
  },
  {
   "cell_type": "code",
   "execution_count": 16,
   "metadata": {
    "collapsed": false
   },
   "outputs": [
    {
     "data": {
      "image/png": "[encoded data removed]",
      "text/plain": [
       "<matplotlib.figure.Figure at 0x4821250>"
      ]
     },
     "metadata": {},
     "output_type": "display_data"
    },
    {
     "data": {
      "image/png": "[encoded data removed]",
      "text/plain": [
       "<matplotlib.figure.Figure at 0x469bd50>"
      ]
     },
     "metadata": {},
     "output_type": "display_data"
    }
   ],
   "source": [
    "# Midpoint rule\n",
    "N = 200\n",
    "plt.loglog(points, get_data(f1, points, f3, 'mp'), 'or')\n",
    "plt.xlabel(\"x\")\n",
    "plt.ylabel(\"valor integral\")\n",
    "plt.title(\"Midpoint rule. N = 200\")\n",
    "plt.ylim([0.5, 1.5])\n",
    "plt.show()\n",
    "\n",
    "# trapezoid: Error\n",
    "\n",
    "# Simpsons: Error\n",
    "\n",
    "# Gaussian Quadrature\n",
    "plt.loglog(points, get_data(f1, points, f3, ''), 'or')\n",
    "plt.xlabel(\"x\")\n",
    "plt.ylabel(\"valor integral\")\n",
    "plt.title(\"Gaussian Quadrature. N = 200\")\n",
    "plt.ylim([0.5, 1.5])\n",
    "plt.show()"
   ]
  },
  {
   "cell_type": "markdown",
   "metadata": {},
   "source": [
    "Ahora, los gráficos de los tiempos de cómputo:"
   ]
  },
  {
   "cell_type": "code",
   "execution_count": 19,
   "metadata": {
    "collapsed": false
   },
   "outputs": [
    {
     "data": {
      "image/png": "[encoded data removed]",
      "text/plain": [
       "<matplotlib.figure.Figure at 0x481e4d0>"
      ]
     },
     "metadata": {},
     "output_type": "display_data"
    },
    {
     "data": {
      "image/png": "[encoded data removed]",
      "text/plain": [
       "<matplotlib.figure.Figure at 0x47f4790>"
      ]
     },
     "metadata": {},
     "output_type": "display_data"
    }
   ],
   "source": [
    "# Midpoint rule\n",
    "N = 10\n",
    "plt.loglog(points, get_data(f1, points, f3, 'mp', 't'), 'or')\n",
    "plt.xlabel(\"x\")\n",
    "plt.ylabel(\"[ms]\")\n",
    "plt.title(\"Midpoint rule. N = 10\")\n",
    "plt.show()\n",
    "\n",
    "# trapezoid: Error\n",
    "\n",
    "# Simpsons: Error\n",
    "\n",
    "# Gaussian Quadrature\n",
    "plt.loglog(points, get_data(f1, points, f3, '', 't'), 'or')\n",
    "\n",
    "plt.xlabel(\"x\")\n",
    "plt.ylabel(\"[ms]\")\n",
    "plt.title(\"Gaussian Quadrature. N = 10\")\n",
    "plt.show()"
   ]
  },
  {
   "cell_type": "code",
   "execution_count": 20,
   "metadata": {
    "collapsed": false
   },
   "outputs": [
    {
     "data": {
      "image/png": "[encoded data removed]",
      "text/plain": [
       "<matplotlib.figure.Figure at 0x47f7310>"
      ]
     },
     "metadata": {},
     "output_type": "display_data"
    },
    {
     "data": {
      "image/png": "[encoded data removed]",
      "text/plain": [
       "<matplotlib.figure.Figure at 0x464a810>"
      ]
     },
     "metadata": {},
     "output_type": "display_data"
    }
   ],
   "source": [
    "# Midpoint rule\n",
    "N = 100\n",
    "plt.loglog(points, get_data(f1, points, f3, 'mp', 't'), 'or')\n",
    "plt.xlabel(\"x\")\n",
    "plt.ylabel(\"[ms]\")\n",
    "plt.title(\"Midpoint rule. N = 100\")\n",
    "plt.show()\n",
    "\n",
    "# trapezoid: Error\n",
    "\n",
    "# Simpsons: Error\n",
    "\n",
    "# Gaussian Quadrature\n",
    "plt.loglog(points, get_data(f1, points, f3, '', 't'), 'or')\n",
    "\n",
    "plt.xlabel(\"x\")\n",
    "plt.ylabel(\"[ms]\")\n",
    "plt.title(\"Gaussian Quadrature. N = 100\")\n",
    "plt.show()"
   ]
  },
  {
   "cell_type": "code",
   "execution_count": 21,
   "metadata": {
    "collapsed": false,
    "scrolled": false
   },
   "outputs": [
    {
     "data": {
      "image/png": "[encoded data removed]",
      "text/plain": [
       "<matplotlib.figure.Figure at 0x4802310>"
      ]
     },
     "metadata": {},
     "output_type": "display_data"
    },
    {
     "data": {
      "image/png": "[encoded data removed]",
      "text/plain": [
       "<matplotlib.figure.Figure at 0x1c667d0>"
      ]
     },
     "metadata": {},
     "output_type": "display_data"
    }
   ],
   "source": [
    "# Midpoint rule\n",
    "N = 200\n",
    "plt.loglog(points, get_data(f1, points, f3, 'mp', 't'), 'or')\n",
    "plt.xlabel(\"x\")\n",
    "plt.ylabel(\"[ms]\")\n",
    "plt.title(\"Midpoint rule. N = 200\")\n",
    "plt.show()\n",
    "\n",
    "# trapezoid: Error\n",
    "\n",
    "# Simpsons: Error\n",
    "\n",
    "# Gaussian Quadrature\n",
    "plt.loglog(points, get_data(f1, points, f3, '', 't'), 'or')\n",
    "\n",
    "plt.xlabel(\"x\")\n",
    "plt.ylabel(\"[ms]\")\n",
    "plt.title(\"Gaussian Quadrature. N = 200\")\n",
    "plt.show()"
   ]
  },
  {
   "cell_type": "markdown",
   "metadata": {},
   "source": [
    "Se ve que cambiando el h (el $N$), no cambia mayormente el cálculo ya que la integral converge a su valor real rápidamente."
   ]
  },
  {
   "cell_type": "markdown",
   "metadata": {},
   "source": [
    "### Pregunta 4\n",
    "Para $x = 0$ no ocurre nada en nuestro cambio de variables. Esto se ve en el siguiente cálculo (realizado con cuadratura Gaussiana para mayor precisión):"
   ]
  },
  {
   "cell_type": "code",
   "execution_count": 22,
   "metadata": {
    "collapsed": false
   },
   "outputs": [
    {
     "name": "stdout",
     "output_type": "stream",
     "text": [
      "El resultado es:  0.5\n",
      "Valor de la primera integral:  0.5\n",
      "Valor de la segunda integral:  0.0\n"
     ]
    }
   ],
   "source": [
    "# Definimos x = 0, N = 1000 y calculamos la suma de las integrales (la segunda integral quedaría en 0, pues va de 0 a 0)\n",
    "x = 0\n",
    "N = 100\n",
    "\n",
    "int1 = cons*gaussianquad(f1,N,a,b)\n",
    "int2 = cons*gaussianquad(f3,N,1,1/(x+1))\n",
    "print \"El resultado es: \", int1 + int2\n",
    "print \"Valor de la primera integral: \", int1\n",
    "print \"Valor de la segunda integral: \", int2"
   ]
  },
  {
   "cell_type": "markdown",
   "metadata": {},
   "source": [
    "### Pregunta 5\n",
    "Como se vio en la pregunta 3, para $\\alpha$ grande (y por lo tanto, $x$ es grande) la integral no cambia (converge a 1, como debería) por lo que ese resultado es válido como aproximación cuando la función tiende a $\\infty$ como límite superior. De todas formas, podemos separar las integrales y obtener:\n",
    "\\begin{align*}\n",
    "    \\int_{-\\infty}^\\infty \\frac{1}{\\sqrt{2\\pi}} e^{\\frac{-t^2}{2}}dt \n",
    "    &= \\int_{-\\infty}^0 \\frac{1}{\\sqrt{2\\pi}} e^{\\frac{-t^2}{2}}dt + \\int_{0}^\\infty \\frac{1}{\\sqrt{2\\pi}} e^{\\frac{-t^2}{2}}dt\n",
    "\\end{align*}\n",
    "\n",
    "Para la primera integral, el cambio realizado en la pregunta uno sirve, y para la segunda integral podemos realizar el mismo cambio que se realizó en la parte uno para mejorar la presición de la integración, solo que los límites ahora serían desde $1$ a $0$ o el negativo de la misma integral con los límites cambiados. Entonces, las nuevas integrales quedarían como:\n",
    "\\begin{align*}\n",
    "    \\int_{-\\infty}^\\infty \\frac{1}{\\sqrt{2\\pi}} e^{\\frac{-t^2}{2}}dt \n",
    "    &= \\int_0^1 \\frac{1}{\\sqrt{2\\pi}} e^{\\frac{-(u-1)^2}{2u^2}}\\frac{1}{u^2}du + \\int_{0}^{1} \\frac{1}{\\sqrt{2\\pi}} e^{-\\frac{(1-u)^2}{2u^2}} \\frac{1}{u^2}dt\n",
    "\\end{align*}\n",
    "\n",
    "Dado que $(u-1)^2 = (1-u)^2$, el resultado final es dos veces una de las dos integrales, utilizaremos la segunda integral ya que esa ya está definida para el cálculo numérico. Entonces, finalmente nos queda:\n",
    "\n",
    "\\begin{align*}\n",
    "    \\int_{-\\infty}^\\infty \\frac{1}{\\sqrt{2\\pi}} e^{\\frac{-t^2}{2}}dt &= 2\\int_0^1 \\frac{1}{\\sqrt{2\\pi}} e^{\\frac{-(1-u)^2}{2u^2}}\\frac{1}{u^2}du\n",
    "\\end{align*}\n"
   ]
  },
  {
   "cell_type": "code",
   "execution_count": 23,
   "metadata": {
    "collapsed": false
   },
   "outputs": [
    {
     "name": "stdout",
     "output_type": "stream",
     "text": [
      "Resultado de la integral desde -infinito a +infinito es:  1.0\n"
     ]
    }
   ],
   "source": [
    "N = 100\n",
    "# Como f3 posee un menos al comienzo, y dimos vuelta los límites de integración, anteponemos un menos al 2\n",
    "print \"Resultado de la integral desde -infinito a +infinito es: \", -2*cons*gaussianquad(f3, N,0,1)"
   ]
  },
  {
   "cell_type": "markdown",
   "metadata": {},
   "source": [
    "## The Caputo's Fractional Derivative\n",
    "\n",
    "### Pregunta 1\n",
    "\n",
    "Se realiza un cambio de variable considerando una recta que pasa por los puntos $(a,-1)$ y $(t,1)$, es decir, sea la ecuación de la recta la siguiente:\n",
    "\\begin{align*}\n",
    "\\frac{y-y_1}{\\tau-\\tau_1} = \\frac{y_2-y_1}{\\tau_2 - \\tau_1}\n",
    "\\end{align*}\n",
    "Haciendo los reemplazos correspondientes:\n",
    "\\begin{align*}\n",
    "\\frac{y+1}{\\tau-a} = \\frac{2}{t - a}\n",
    "\\end{align*}\n",
    "\n",
    "\\begin{align*}\n",
    "(y+1)(t-a) = 2(\\tau - a)\n",
    "\\end{align*}\n",
    "\n",
    "\\begin{align*}\n",
    "\\tau = \\frac{(y+1)(t-a)}{2} + a \n",
    "\\end{align*}\n",
    "Luego el diferencial de $\\tau$, $d\\tau$ es:\n",
    "\\begin{align*}\n",
    "d\\tau = \\frac{(t-a)}{2}dy\n",
    "\\end{align*}\n",
    "\n",
    "Finalmente la integral queda como\n",
    "\\begin{align*}\n",
    "\\frac{1}{\\Gamma{(1-\\alpha})}\\frac{(t-a)}{2}\\int_{-1}^1 \\frac{f'(\\frac{(y+1)(t-a)}{2} + a )}{(t - \\frac{(y+1)(t-a)}{2} -a)^{\\alpha}}dy\n",
    "\\end{align*}\n",
    "\n",
    "Pero operando sobre el denominador del argumento de la  integral se puede dejar como\n",
    "\\begin{align*}\n",
    "\\frac{1}{\\Gamma{(1-\\alpha})}{(\\frac{(t-a)}{2})}^{1-\\alpha}\\int_{-1}^1 \\frac{f'(\\frac{(y+1)(t-a)}{2} + a )}{(1-y)^{\\alpha}}dy\n",
    "\\end{align*}"
   ]
  },
  {
   "cell_type": "markdown",
   "metadata": {},
   "source": [
    "### Pregunta 2\n",
    "Implementaremos la función pedida agregándole 2 parámetros opcionales: un parámetro t, el cual es la variable en la cual está la función entregada (de tipo Sympy) y el valor de $a$ (de la integral). Utilizaremos Cuadratura Gaussiana pues posee un error menor."
   ]
  },
  {
   "cell_type": "code",
   "execution_count": 5,
   "metadata": {
    "collapsed": false
   },
   "outputs": [],
   "source": [
    "# Esta es la definición de la derivada de Riemann-Liouville\n",
    "def fraction_diff(f, t0, alpha, t = Symbol('t'), inf_limit = 0):\n",
    "    pentero = int(alpha)\n",
    "    pfloat = alpha - pentero\n",
    "    \n",
    "    if pfloat == 0:\n",
    "        # Derivada normal\n",
    "        return diff(f,t,pentero).subs(t, t0).evalf()\n",
    "    else:\n",
    "        # El tau\n",
    "        a = Symbol('a')\n",
    "        # Gamma\n",
    "        gam = 1./gamma(1-pfloat)\n",
    "        # Derivada fraccional\n",
    "        f_der = f.subs(t, a)\n",
    "        denom = 1./(t - a)**pfloat\n",
    "        \n",
    "        # Función a integrar\n",
    "        g = f_der * denom\n",
    "        # Función para cuadratura gaussiana\n",
    "        g_quad = lambda z: g.subs(a, z)\n",
    "        \n",
    "        # Integramos\n",
    "        der = gaussianquad(g_quad, 100, inf_limit, t)\n",
    "        # Derivamos\n",
    "        if pentero >= 0:\n",
    "            der = diff(der, t, pentero+1)\n",
    "        return gam * (der.subs(t, t0).evalf())"
   ]
  },
  {
   "cell_type": "markdown",
   "metadata": {},
   "source": [
    "### Pregunta 3\n",
    "Ahora analizaremos las funciones respecto a sus derivadas direccionales. Evaluaremos en su derivada fraccionaria, en su techo y piso y veremos sus valores."
   ]
  },
  {
   "cell_type": "code",
   "execution_count": 6,
   "metadata": {
    "collapsed": false
   },
   "outputs": [
    {
     "name": "stdout",
     "output_type": "stream",
     "text": [
      "Valor para alpha=0 y t=1.57079632679 = 20.0000000000000\n",
      "Valor para alpha=0.2 y t=1.57079632679 = 15.6937637870279\n",
      "Valor para alpha=1 y t=1.57079632679 = 0\n"
     ]
    }
   ],
   "source": [
    "# función constante: 20\n",
    "f = sympify(20)\n",
    "alpha = 0.2\n",
    "t = np.pi/2\n",
    "print \"Valor para alpha={0} y t={1} = {2}\".format(int(alpha),t,fraction_diff(f,t,int(alpha)))\n",
    "print \"Valor para alpha={0} y t={1} = {2}\".format(alpha,t,fraction_diff(f,t,alpha))\n",
    "print \"Valor para alpha={0} y t={1} = {2}\".format(int(alpha)+1,t,fraction_diff(f,t,int(alpha)+1))"
   ]
  },
  {
   "cell_type": "code",
   "execution_count": 24,
   "metadata": {
    "collapsed": false
   },
   "outputs": [
    {
     "name": "stdout",
     "output_type": "stream",
     "text": [
      "Valor para alpha=1 y t=1.57079632679 = 6.12323399573677E-17\n",
      "Valor para alpha=1.5 y t=1.57079632679 = -0.646030658995103\n",
      "Valor para alpha=2 y t=1.57079632679 = -1.00000000000000\n"
     ]
    }
   ],
   "source": [
    "# función: sin(t)\n",
    "f = sin(Symbol('t'))\n",
    "alpha = 1.5\n",
    "t = np.pi/2\n",
    "print \"Valor para alpha={0} y t={1} = {2}\".format(int(alpha),t,fraction_diff(f,t,int(alpha)))\n",
    "print \"Valor para alpha={0} y t={1} = {2}\".format(alpha,t,fraction_diff(f,t,alpha))\n",
    "print \"Valor para alpha={0} y t={1} = {2}\".format(int(alpha)+1,t,fraction_diff(f,t,int(alpha)+1))"
   ]
  },
  {
   "cell_type": "code",
   "execution_count": 25,
   "metadata": {
    "collapsed": false,
    "scrolled": false
   },
   "outputs": [
    {
     "name": "stdout",
     "output_type": "stream",
     "text": [
      "Valor para alpha=46 y t=1.57079632679 = 4.81047738096535\n",
      "Valor para alpha=46.4 y t=1.57079632679 = 1.28101362435638E+47\n",
      "Valor para alpha=47 y t=1.57079632679 = 4.81047738096535\n"
     ]
    }
   ],
   "source": [
    "# función e^t\n",
    "f = exp(Symbol('t'))\n",
    "alpha = 46.4\n",
    "t = np.pi/2\n",
    "print \"Valor para alpha={0} y t={1} = {2}\".format(int(alpha),t,fraction_diff(f,t,int(alpha)))\n",
    "print \"Valor para alpha={0} y t={1} = {2}\".format(alpha,t,fraction_diff(f,t,alpha))\n",
    "print \"Valor para alpha={0} y t={1} = {2}\".format(int(alpha)+1,t,fraction_diff(f,t,int(alpha)+1))"
   ]
  },
  {
   "cell_type": "code",
   "execution_count": 26,
   "metadata": {
    "collapsed": false
   },
   "outputs": [
    {
     "name": "stdout",
     "output_type": "stream",
     "text": [
      "Valor para alpha=0 y t=1.57079632679 = 1.57079632679490\n",
      "Valor para alpha=0.7 y t=1.57079632679 = 1.20757670190743\n",
      "Valor para alpha=1 y t=1.57079632679 = 1.00000000000000\n"
     ]
    }
   ],
   "source": [
    "# función t\n",
    "f = Symbol('t')\n",
    "alpha = 0.7\n",
    "t = np.pi/2\n",
    "print \"Valor para alpha={0} y t={1} = {2}\".format(int(alpha),t,fraction_diff(f,t,int(alpha)))\n",
    "print \"Valor para alpha={0} y t={1} = {2}\".format(alpha,t,fraction_diff(f,t,alpha))\n",
    "print \"Valor para alpha={0} y t={1} = {2}\".format(int(alpha)+1,t,fraction_diff(f,t,int(alpha)+1))"
   ]
  },
  {
   "cell_type": "code",
   "execution_count": 27,
   "metadata": {
    "collapsed": false
   },
   "outputs": [
    {
     "name": "stdout",
     "output_type": "stream",
     "text": [
      "Valor para alpha=0 y t=1.57079632679 = 0.451582705289455\n",
      "Valor para alpha=0.3 y t=1.57079632679 = 0.735839140733477\n",
      "Valor para alpha=1 y t=1.57079632679 = 0.636619772367581\n"
     ]
    }
   ],
   "source": [
    "# función log(t)\n",
    "f = log(Symbol('t'))\n",
    "alpha = 0.3\n",
    "t = np.pi/2\n",
    "print \"Valor para alpha={0} y t={1} = {2}\".format(int(alpha),t,fraction_diff(f,t,int(alpha)))\n",
    "print \"Valor para alpha={0} y t={1} = {2}\".format(alpha,t,fraction_diff(f,t,alpha))\n",
    "print \"Valor para alpha={0} y t={1} = {2}\".format(int(alpha)+1,t,fraction_diff(f,t,int(alpha)+1))"
   ]
  },
  {
   "cell_type": "code",
   "execution_count": 28,
   "metadata": {
    "collapsed": false
   },
   "outputs": [
    {
     "name": "stdout",
     "output_type": "stream",
     "text": [
      "Valor para alpha=0 y t=1.57079632679 = 2.46740110027234\n",
      "Valor para alpha=0.5 y t=1.57079632679 = 2.93786429953898\n",
      "Valor para alpha=1 y t=1.57079632679 = 3.14159265358979\n"
     ]
    }
   ],
   "source": [
    "# función t^2\n",
    "f = Symbol('t')**2\n",
    "alpha = 0.5\n",
    "t = np.pi/2\n",
    "print \"Valor para alpha={0} y t={1} = {2}\".format(int(alpha),t,fraction_diff(f,t,int(alpha)))\n",
    "print \"Valor para alpha={0} y t={1} = {2}\".format(alpha,t,fraction_diff(f,t,alpha))\n",
    "print \"Valor para alpha={0} y t={1} = {2}\".format(int(alpha)+1,t,fraction_diff(f,t,int(alpha)+1))"
   ]
  },
  {
   "cell_type": "code",
   "execution_count": 29,
   "metadata": {
    "collapsed": false
   },
   "outputs": [
    {
     "name": "stdout",
     "output_type": "stream",
     "text": [
      "Valor para alpha=0 y t=1.57079632679 = 0.917152335667274\n",
      "Valor para alpha=0.5 y t=1.57079632679 = 0.608162894607801\n",
      "Valor para alpha=1 y t=1.57079632679 = 0.158831593180063\n"
     ]
    }
   ],
   "source": [
    "# función tanh(t)\n",
    "f = tanh(Symbol('t'))\n",
    "alpha = 0.5\n",
    "t = np.pi/2\n",
    "print \"Valor para alpha={0} y t={1} = {2}\".format(int(alpha),t,fraction_diff(f,t,int(alpha)))\n",
    "print \"Valor para alpha={0} y t={1} = {2}\".format(alpha,t,fraction_diff(f,t,alpha))\n",
    "print \"Valor para alpha={0} y t={1} = {2}\".format(int(alpha)+1,t,fraction_diff(f,t,int(alpha)+1))"
   ]
  },
  {
   "cell_type": "markdown",
   "metadata": {},
   "source": [
    "Para ver mejor como se comportan las funciones, graficaremos algunas de las funciones, su derivada fraccionaria y la del entero superior. Graficaremos $t^2, log(t)$ y $sin(t)$ entre $[0, \\pi]$."
   ]
  },
  {
   "cell_type": "code",
   "execution_count": 3,
   "metadata": {
    "collapsed": false
   },
   "outputs": [],
   "source": [
    "# Función para obtener puntos entre 0 y pi en la rerivada. Se usará cuadratura gaussiana.\n",
    "def get_points(f, n_der, npoints,max_range=np.pi):\n",
    "    x_pts = np.linspace(0,max_range, npoints+1)\n",
    "    y_pts = []\n",
    "    for i in x_pts:\n",
    "        y_pts.append(fraction_diff(f,i, n_der))\n",
    "    return (x_pts, y_pts)"
   ]
  },
  {
   "cell_type": "code",
   "execution_count": 6,
   "metadata": {
    "collapsed": false,
    "scrolled": false
   },
   "outputs": [
    {
     "data": {
      "image/png": "[encoded data removed]",
      "text/plain": [
       "<matplotlib.figure.Figure at 0x10dba9f50>"
      ]
     },
     "metadata": {},
     "output_type": "display_data"
    }
   ],
   "source": [
    "# Graficamos t^2\n",
    "f = Symbol('t')**2\n",
    "N = 30\n",
    "# Sin derivada, derivada 0.5 y primera derivada\n",
    "x1,y1 = get_points(f,0,N)\n",
    "x2,y2 = get_points(f,0.5,N)\n",
    "x3,y3 = get_points(f,1,N)\n",
    "\n",
    "plt.plot(x1,y1,color=\"blue\",label=\"Función f(t)\")\n",
    "plt.plot(x2,y2,color=\"red\", label=\"0.5 derivada\")\n",
    "plt.plot(x3,y3,color=\"green\", label=\"Primera derivada\")\n",
    "plt.show()"
   ]
  },
  {
   "cell_type": "code",
   "execution_count": 7,
   "metadata": {
    "collapsed": false
   },
   "outputs": [
    {
     "data": {
      "image/png": "[encoded data removed]",
      "text/plain": [
       "<matplotlib.figure.Figure at 0x10dd1b1d0>"
      ]
     },
     "metadata": {},
     "output_type": "display_data"
    }
   ],
   "source": [
    "# Graficamos t^2\n",
    "f = log(Symbol('t'))\n",
    "N = 30\n",
    "# Sin derivada, derivada 0.5 y primera derivada\n",
    "x1,y1 = get_points(f,0,N)\n",
    "x2,y2 = get_points(f,0.3,N)\n",
    "x3,y3 = get_points(f,1,N)\n",
    "\n",
    "plt.plot(x1,y1,color=\"blue\",label=\"Función f(t)\")\n",
    "plt.plot(x2,y2,color=\"red\", label=\"0.3 derivada\")\n",
    "plt.plot(x3,y3,color=\"green\", label=\"Primera derivada\")\n",
    "plt.show()"
   ]
  },
  {
   "cell_type": "code",
   "execution_count": 10,
   "metadata": {
    "collapsed": false
   },
   "outputs": [
    {
     "data": {
      "image/png": "[encoded data removed]",
      "text/plain": [
       "<matplotlib.figure.Figure at 0x10db482d0>"
      ]
     },
     "metadata": {},
     "output_type": "display_data"
    }
   ],
   "source": [
    "# Graficamos sin(t). Acá usaremos el rango [0,2pi] para ver mejor los efectos en la función.\n",
    "f = sin(Symbol('t'))\n",
    "N = 30\n",
    "# Sin derivada, primera derivada, derivada 1.5 y segunda derivada\n",
    "x0,y0 = get_points(f,0,N,2*np.pi)\n",
    "x1,y1 = get_points(f,1,N,2*np.pi)\n",
    "x2,y2 = get_points(f,1.5,N,2*np.pi)\n",
    "x3,y3 = get_points(f,2,N,2*np.pi)\n",
    "\n",
    "plt.plot(x0,y0,color=\"black\", label=\"Función f(t)\")\n",
    "plt.plot(x1,y1,color=\"blue\",label=\"Primera derivada\")\n",
    "plt.plot(x2,y2,color=\"red\", label=\"1.5 derivada\")\n",
    "plt.plot(x3,y3,color=\"green\", label=\"Segunda derivada\")\n",
    "plt.show()"
   ]
  },
  {
   "cell_type": "markdown",
   "metadata": {},
   "source": [
    "Por los gráficos anteriores, se pudo apreciar que la derivada fraccionaria $\\alpha$, con $m < \\alpha < n$ entrega una función entre la <i>n-ésima</i> derivada y la <i>m-ésima</i> derivada. Se ve entonces, que la definición de derivada fraccionaria, intuitivamente, es correcta."
   ]
  },
  {
   "cell_type": "markdown",
   "metadata": {},
   "source": [
    "# Conclusiones\n",
    "\n",
    "En este laboratiorio se logró aplicar la materia desde varios puntos:\n",
    "* Se logró calcular integrales impropias de manera éxitosa (sin errores considerables).\n",
    "* Se implementó integración simbólica usando los métodos numéricos aprendidos y la biblioteca \"Sympy\" de python, logrande errores pequeños respecto al valor \"real\" (estimado por la función <i>differint</i> de sympy)."
   ]
  },
  {
   "cell_type": "markdown",
   "metadata": {},
   "source": [
    "# Referencias\n",
    "* http://label2.ist.utl.pt/vilela/Cursos/Frac_calcul.pdf\n",
    "* http://www.hindawi.com/journals/ddns/2011/562494/\n",
    "* http://www.hindawi.com/journals/ddns/2011/562494/\n",
    "* http://mathworld.wolfram.com/FractionalIntegral.html\n",
    "* http://docs.sympy.org/dev/modules/mpmath/calculus/differentiation.html\n",
    "* https://en.wikipedia.org/wiki/Normal_distribution\n",
    "* http://mathworld.wolfram.com/NormalDistribution.html"
   ]
  }
 ],
 "metadata": {
  "kernelspec": {
   "display_name": "Python 2",
   "language": "python",
   "name": "python2"
  },
  "language_info": {
   "codemirror_mode": {
    "name": "ipython",
    "version": 2
   },
   "file_extension": ".py",
   "mimetype": "text/x-python",
   "name": "python",
   "nbconvert_exporter": "python",
   "pygments_lexer": "ipython2",
   "version": "2.7.10"
  }
 },
 "nbformat": 4,
 "nbformat_minor": 0
}
